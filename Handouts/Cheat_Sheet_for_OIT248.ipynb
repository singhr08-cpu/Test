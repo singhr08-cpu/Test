{
  "cells": [
    {
      "cell_type": "markdown",
      "metadata": {
        "id": "view-in-github",
        "colab_type": "text"
      },
      "source": [
        "<a href=\"https://colab.research.google.com/github/singhr08-cpu/Test/blob/main/Handouts/Cheat_Sheet_for_OIT248.ipynb\" target=\"_parent\"><img src=\"https://colab.research.google.com/assets/colab-badge.svg\" alt=\"Open In Colab\"/></a>"
      ]
    },
    {
      "cell_type": "markdown",
      "metadata": {
        "id": "caN7N4vBCaT2"
      },
      "source": [
        "# What is this about?\n",
        "This notebook serve as a useful “cheat-sheet” for all students attending OIT 248. You can navigate to the various sections using the `Table of contents` from the left.\n",
        "\n"
      ]
    },
    {
      "cell_type": "markdown",
      "metadata": {
        "id": "4e2QzVgcEdPq"
      },
      "source": [
        "# Comments\n",
        "Comments in Python start with a `#` like directly below"
      ]
    },
    {
      "cell_type": "code",
      "execution_count": null,
      "metadata": {
        "id": "dngXKf6QEctO",
        "colab": {
          "base_uri": "https://localhost:8080/"
        },
        "outputId": "aba42087-dd44-4368-8b16-c8d8526b2b58"
      },
      "outputs": [
        {
          "output_type": "stream",
          "name": "stdout",
          "text": [
            "Welcome to OIT 248! The number of minutes in a leap year is: 527040\n"
          ]
        }
      ],
      "source": [
        "# this line and the line below it are comments and Python will ignore them\n",
        "# print(\"Something interesting\")\n",
        "\n",
        "# instead, the line below this will print a welcome message\n",
        "print(\"Welcome to OIT 248! The number of minutes in a leap year is:\", 366*24*60)"
      ]
    },
    {
      "cell_type": "markdown",
      "metadata": {
        "id": "SFSimwR-FtwC"
      },
      "source": [
        "# Variables\n",
        "A **variable** in Python is a container for storing data. The variable is created the moment you first assign a value to it."
      ]
    },
    {
      "cell_type": "code",
      "execution_count": null,
      "metadata": {
        "id": "GsMo2bXSCMIR"
      },
      "outputs": [],
      "source": [
        "# create a variable named 'x' that stores the value 10\n",
        "x = 10\n",
        "\n",
        "# another variable named 'y' that stores the string \"Mary\"\n",
        "y = \"Mary\""
      ]
    },
    {
      "cell_type": "markdown",
      "metadata": {
        "id": "Olam8qV0Ij7J"
      },
      "source": [
        "Once the variable is created, you can use it in code. For instance, let's calculate $x^2$ <br>"
      ]
    },
    {
      "cell_type": "code",
      "execution_count": null,
      "metadata": {
        "id": "CcfzF8WEIrjB",
        "colab": {
          "base_uri": "https://localhost:8080/"
        },
        "outputId": "c6fc80f3-7a32-4f36-b35b-a6aa9d352892"
      },
      "outputs": [
        {
          "output_type": "execute_result",
          "data": {
            "text/plain": [
              "100"
            ]
          },
          "metadata": {},
          "execution_count": 105
        }
      ],
      "source": [
        "x**2"
      ]
    },
    {
      "cell_type": "markdown",
      "metadata": {
        "id": "UidJXGRrI1gd"
      },
      "source": [
        "Variable names are case-sensitive"
      ]
    },
    {
      "cell_type": "code",
      "execution_count": null,
      "metadata": {
        "id": "wXgyHAiIKCvK"
      },
      "outputs": [],
      "source": [
        "little_john = 10\n",
        "\n",
        "# the next line would create an error if you uncomment and run it!\n",
        "# Little_john"
      ]
    },
    {
      "cell_type": "markdown",
      "metadata": {
        "id": "qZ3CRTSjK5S2"
      },
      "source": [
        "# Data Types (int, float, bool, list, etc.)\n"
      ]
    },
    {
      "cell_type": "markdown",
      "metadata": {
        "id": "ZQ0GAOIFGP9g"
      },
      "source": [
        "Each variable stores a certain type of data. You can read more about data types <a href=\"https://www.w3schools.com/python/python_datatypes.asp\">here</a>. The data types that we'll encounter most often in OIT 248 are: integers, floats, strings, booleans, lists, tuples, dictionaries."
      ]
    },
    {
      "cell_type": "code",
      "execution_count": null,
      "metadata": {
        "id": "epVGfPhJG7Ck"
      },
      "outputs": [],
      "source": [
        "# integers (int)\n",
        "x = 10\n",
        "\n",
        "# floating point numbers (float)\n",
        "z = 4.5\n",
        "\n",
        "# strings (str) - can be created with either ` or \"\"\n",
        "one_string = \"Why does Arbuckle not have salmon today?\"\n",
        "another_string = 'I LOVE THE GSB!'\n",
        "\n",
        "# boolean (bool)\n",
        "is_OIT248_amazing = True\n",
        "\n",
        "# list - can be created in several ways:\n",
        "my_list = list((\"apples\",\"oranges\",\"bananas\"))   # using the `list` function - here, we create a list with strings\n",
        "another_list = [1,2,3,4]                         # using the [] operator - here, we create a list with integers\n",
        "\n",
        "# dictionary (dict)\n",
        "tennis_trophies = {}\n",
        "tennis_trophies[\"Federer\"] = 20\n",
        "tennis_trophies[\"Nadal\"] = 22          # at least as of 2023...\n",
        "tennis_trophies[\"Djokovic\"] = 24       # at least as of 2023..."
      ]
    },
    {
      "cell_type": "markdown",
      "metadata": {
        "id": "hMAiPPCEIgg7"
      },
      "source": [
        "This is not likely, but if you ever need to, you can find out the type of a variable with the command `type(.)`"
      ]
    },
    {
      "cell_type": "code",
      "execution_count": null,
      "metadata": {
        "id": "Aft5wmIvLL0c",
        "colab": {
          "base_uri": "https://localhost:8080/"
        },
        "outputId": "c80847fa-79d0-42fe-96f7-a734cedc96c1"
      },
      "outputs": [
        {
          "output_type": "execute_result",
          "data": {
            "text/plain": [
              "float"
            ]
          },
          "metadata": {},
          "execution_count": 108
        }
      ],
      "source": [
        "type(z)"
      ]
    },
    {
      "cell_type": "markdown",
      "metadata": {
        "id": "qIQKMyeHTC7P"
      },
      "source": [
        "Also likely not needed in OIT248, but you can convert a data type into another type by casting it as below"
      ]
    },
    {
      "cell_type": "code",
      "execution_count": null,
      "metadata": {
        "id": "JYYljxPySdKv",
        "colab": {
          "base_uri": "https://localhost:8080/"
        },
        "outputId": "cb81af86-8b71-4c5b-9038-62badeeffb02"
      },
      "outputs": [
        {
          "output_type": "execute_result",
          "data": {
            "text/plain": [
              "4"
            ]
          },
          "metadata": {},
          "execution_count": 109
        }
      ],
      "source": [
        "int(z)"
      ]
    },
    {
      "cell_type": "markdown",
      "metadata": {
        "id": "qRvUJ7zrSehw"
      },
      "source": [
        "We will cover the more complex data types (lists, dictionaries) separately.  <br>"
      ]
    },
    {
      "cell_type": "markdown",
      "metadata": {
        "id": "AjTVm_8WPFSr"
      },
      "source": [
        "# Operators\n",
        "We have already been using several operators above. The most common ones you will see in OIT 248 are:"
      ]
    },
    {
      "cell_type": "markdown",
      "metadata": {
        "id": "3g7mhPSFTXnC"
      },
      "source": [
        "## Arithmetic (+,-,*, etc.)"
      ]
    },
    {
      "cell_type": "code",
      "execution_count": null,
      "metadata": {
        "id": "g1wgWCnEPN_k",
        "colab": {
          "base_uri": "https://localhost:8080/"
        },
        "outputId": "5b567296-e312-42e1-957c-d204e1ad475d"
      },
      "outputs": [
        {
          "output_type": "stream",
          "name": "stdout",
          "text": [
            "4\n",
            "1\n",
            "12\n",
            "33.0\n",
            "2\n",
            "16\n",
            "3\n"
          ]
        }
      ],
      "source": [
        "print(2 + 2)       # addition\n",
        "print(3 - 2)       # subtraction\n",
        "print(2 * 6)       # multiplication\n",
        "print(66 / 2)      # division\n",
        "print(8 % 3)       # modulus\n",
        "print(2**4)        # exponentiation\n",
        "print(10 // 3)     # floor division"
      ]
    },
    {
      "cell_type": "markdown",
      "metadata": {
        "id": "E9kagT2cTaNi"
      },
      "source": [
        "## Assignment (=, +=, -+, etc.)\n"
      ]
    },
    {
      "cell_type": "code",
      "execution_count": null,
      "metadata": {
        "id": "lobmJN3cTeHm"
      },
      "outputs": [],
      "source": [
        "x = 5               # simple assignment\n",
        "x += 3              # this is the same as x = x + 3\n",
        "x -= 3              # this is the same as x = x - 3\n",
        "x *= 3              # this is the same as x = x * 3\n",
        "x /= 3              # this is the same as x = x / 3\n",
        "x **= 3             # this is the same as x = x**3"
      ]
    },
    {
      "cell_type": "markdown",
      "metadata": {
        "id": "REAspWUQT9nl"
      },
      "source": [
        "## Comparison (==, !=, >=, etc.)"
      ]
    },
    {
      "cell_type": "code",
      "execution_count": null,
      "metadata": {
        "id": "kZIs_d-nUAG5",
        "colab": {
          "base_uri": "https://localhost:8080/"
        },
        "outputId": "1555039f-b223-4ac3-e3f5-615f75ed6abb"
      },
      "outputs": [
        {
          "output_type": "stream",
          "name": "stdout",
          "text": [
            "False\n",
            "True\n",
            "False\n",
            "True\n",
            "True\n",
            "True\n"
          ]
        }
      ],
      "source": [
        "print(5 == 6)        #  a==b checks if a is equal to b\n",
        "print(5 != 6)        #  a!=b checks if a is different from b\n",
        "print(5 > 5)         #  a > b checks if a is strictly bigger than b\n",
        "print(5 < 9)         #  a < b checks if a is strictly less than b\n",
        "print(5 >= 5)        #  a >= b checks if a is at least as large as b\n",
        "print(5 <= 6)        #  a <= b checks if a is at least as large as b"
      ]
    },
    {
      "cell_type": "markdown",
      "metadata": {
        "id": "TYU2bJtwWFM0"
      },
      "source": [
        "## Logical (and, or, not)"
      ]
    },
    {
      "cell_type": "code",
      "execution_count": null,
      "metadata": {
        "id": "qbvwmNxSWHJ7",
        "colab": {
          "base_uri": "https://localhost:8080/"
        },
        "outputId": "0992e608-d6f3-4c98-e4ba-423e8dd59630"
      },
      "outputs": [
        {
          "output_type": "stream",
          "name": "stdout",
          "text": [
            "False\n",
            "True\n",
            "False\n"
          ]
        }
      ],
      "source": [
        "print((5 < 6) and (7 < 5))  #  'a and b' returns True is both 'a' and 'b' are true\n",
        "print((5 < 6) or (7 < 5))   #  'a or b' returns True is at least one of 'a','b' is true\n",
        "print(not (5 < 6))          #  'not a' reverses 'a'"
      ]
    },
    {
      "cell_type": "markdown",
      "metadata": {
        "id": "E2qtjD3UXT9t"
      },
      "source": [
        "## Membership"
      ]
    },
    {
      "cell_type": "code",
      "execution_count": null,
      "metadata": {
        "id": "OKrhUjdfXTIa",
        "colab": {
          "base_uri": "https://localhost:8080/"
        },
        "outputId": "6f131627-0d7b-42fd-99f5-1e4201c591f5"
      },
      "outputs": [
        {
          "output_type": "stream",
          "name": "stdout",
          "text": [
            "True\n",
            "False\n"
          ]
        }
      ],
      "source": [
        "print(5 in [3,4,5])        #  'a in b' returns True if 'a' is contained in 'b'\n",
        "print(5 not in [3,4,5])    #  'a not in b' returns True if 'a' is not contained in 'b'"
      ]
    },
    {
      "cell_type": "markdown",
      "metadata": {
        "id": "oNQKp0XoaeFG"
      },
      "source": [
        "# Ranges\n",
        "The `range` function in Python returns a sequence of numbers. It syntax is:\n",
        ">  `range(start,stop,step)`\n",
        "\n",
        "- `start` is optional and is an **integer** that specifies at which position to start. If you omit this, the default value is 0.\n",
        "- `stop` is required and is an **integer** that specifies at which position to end.  This value will not be included, so the range will actually end with the value `stop-1`.\n",
        "- `step` is an optional **integer** and specifies the increment. If you omit it, the default is 1.\n",
        "\n",
        "This function will be very useful, so please familiarize yourself with the examples below."
      ]
    },
    {
      "cell_type": "markdown",
      "metadata": {
        "id": "URwa6nI4skiv"
      },
      "source": [
        "Create a range with a single argument."
      ]
    },
    {
      "cell_type": "code",
      "execution_count": null,
      "metadata": {
        "id": "rbIko_OgYcJd",
        "colab": {
          "base_uri": "https://localhost:8080/"
        },
        "outputId": "5a466f39-653f-46f2-ad08-9ade540f05e1"
      },
      "outputs": [
        {
          "output_type": "execute_result",
          "data": {
            "text/plain": [
              "range(0, 5)"
            ]
          },
          "metadata": {},
          "execution_count": 115
        }
      ],
      "source": [
        "range(5)"
      ]
    },
    {
      "cell_type": "markdown",
      "metadata": {
        "id": "SuQ_t2PusvUv"
      },
      "source": [
        "By itself, this is not terribly useful. But we can loop through it using a `for` statement (if you're unfamiliar with `for` loops, check the later section)"
      ]
    },
    {
      "cell_type": "code",
      "execution_count": null,
      "metadata": {
        "id": "o0-lAa-HsuZD",
        "colab": {
          "base_uri": "https://localhost:8080/"
        },
        "outputId": "b46f333a-524f-49ca-c32f-bc60d669e8dd"
      },
      "outputs": [
        {
          "output_type": "stream",
          "name": "stdout",
          "text": [
            "0\n",
            "1\n",
            "2\n",
            "3\n",
            "4\n"
          ]
        }
      ],
      "source": [
        "for i in range(5):\n",
        "    print(i)"
      ]
    },
    {
      "cell_type": "markdown",
      "metadata": {
        "id": "kVMz6XGStNCt"
      },
      "source": [
        "Now to play with the other versions of `range`"
      ]
    },
    {
      "cell_type": "code",
      "execution_count": null,
      "metadata": {
        "id": "afbHALrctQ_6",
        "colab": {
          "base_uri": "https://localhost:8080/"
        },
        "outputId": "eec72f33-2585-4454-bd3f-3de8dc0b619c"
      },
      "outputs": [
        {
          "output_type": "stream",
          "name": "stdout",
          "text": [
            "Here are all the integers from 5 to 10, INCLUDING 10\n",
            "5\n",
            "6\n",
            "7\n",
            "8\n",
            "9\n",
            "10\n",
            "\n",
            "And here are all the even numbers less than 10\n",
            "0\n",
            "2\n",
            "4\n",
            "6\n",
            "8\n"
          ]
        }
      ],
      "source": [
        "print(\"Here are all the integers from 5 to 10, INCLUDING 10\")\n",
        "for i in range(5,11):\n",
        "     print(i)\n",
        "\n",
        "print(\"\\nAnd here are all the even numbers less than 10\")\n",
        "for i in range(0,10,2):\n",
        "     print(i)"
      ]
    },
    {
      "cell_type": "markdown",
      "metadata": {
        "id": "GyFY-Qk87Vq4"
      },
      "source": [
        "# If-Else Statements\n",
        "An \"if statement\" allows implementing a logical condition. Syntax:\n",
        "> if `logical_condition_1`:<br>\n",
        "> $ \\qquad$ instructions if logical_condition_1 is True<br>\n",
        "> elif `logical_condition_2`:<br>\n",
        "> $ \\qquad$ instructions if logical_condition_1 is False and logical_condition_2 is True <br>\n",
        "> ...<br>\n",
        "> else:<br>\n",
        "> $ \\qquad$ instructions if all logical conditions above are False"
      ]
    },
    {
      "cell_type": "code",
      "execution_count": null,
      "metadata": {
        "id": "XKgLbe1r7Vq5",
        "colab": {
          "base_uri": "https://localhost:8080/"
        },
        "outputId": "a4d1fb02-30f9-4e02-b319-012f7619dabd"
      },
      "outputs": [
        {
          "output_type": "stream",
          "name": "stdout",
          "text": [
            "a is smaller than b\n"
          ]
        }
      ],
      "source": [
        "a = 15\n",
        "b = 17\n",
        "if (a > b):\n",
        "    print(\"a is bigger than b\")\n",
        "elif (a == b):\n",
        "    print(\"a is equal to b\")\n",
        "else:\n",
        "    print(\"a is smaller than b\")"
      ]
    },
    {
      "cell_type": "markdown",
      "metadata": {
        "id": "IJHqBu-H8PYB"
      },
      "source": [
        "<font color=red>**As with \"for\" loops, the colon ':` and the indentation are critical.**</font><br>\n",
        "The following code would lead to errors if uncommented:"
      ]
    },
    {
      "cell_type": "code",
      "execution_count": null,
      "metadata": {
        "id": "j_IOOPiN-OGu"
      },
      "outputs": [],
      "source": [
        "# # forgetting the colon - this would create an error if uncommented!\n",
        "#if (a > b)\n",
        "#   print(\"a\")"
      ]
    },
    {
      "cell_type": "code",
      "execution_count": null,
      "metadata": {
        "id": "XQ21xoir-acC"
      },
      "outputs": [],
      "source": [
        "# # forgetting the indentation\n",
        "#if (a>b) :\n",
        "#print(\"a\")"
      ]
    },
    {
      "cell_type": "code",
      "execution_count": null,
      "metadata": {
        "id": "iiBSNB5B-gxX",
        "colab": {
          "base_uri": "https://localhost:8080/"
        },
        "outputId": "76f9a643-3b10-440c-891e-7a9b285a2bcb"
      },
      "outputs": [
        {
          "output_type": "stream",
          "name": "stdout",
          "text": [
            "b\n"
          ]
        }
      ],
      "source": [
        "# the parenthesis around the logical condition is not critical but it's highly recommended\n",
        "if a > b :\n",
        "    print(\"a\")\n",
        "else:\n",
        "    print(\"b\")"
      ]
    },
    {
      "cell_type": "markdown",
      "metadata": {
        "id": "tIMzHTcErHd7"
      },
      "source": [
        "# For Loops\n",
        "A `for` loop is used to iterate over a sequence (that could be a range, a list, a dictionary, etc.). Syntax:\n",
        "> for `variable` in `sequence`:<br>\n",
        "> $ \\qquad$ instructions line 1<br>\n",
        "> $ \\qquad$ instructions line 2"
      ]
    },
    {
      "cell_type": "code",
      "execution_count": null,
      "metadata": {
        "id": "FB3iWNr2rHd8",
        "colab": {
          "base_uri": "https://localhost:8080/"
        },
        "outputId": "f4bd0b0c-6125-4156-c977-5ff059a56491"
      },
      "outputs": [
        {
          "output_type": "stream",
          "name": "stdout",
          "text": [
            "0\n",
            "1\n",
            "2\n",
            "3\n",
            "4\n"
          ]
        }
      ],
      "source": [
        "# use a for loop to iterate through a numeric range\n",
        "for i in range(5):\n",
        "    print(i)"
      ]
    },
    {
      "cell_type": "markdown",
      "metadata": {
        "id": "iH3LMEgO8e1x"
      },
      "source": [
        "<font color=red>**Two elements are worth emphasizing in the syntax above:**</red>\n",
        "- the colon `:` is critical on the first line\n",
        "- the intendation is also critical, and must come on the second line (you can use as many spaces as you like!)\n",
        "\n",
        "For instance, the following code would generate errors if you uncomment and run it!"
      ]
    },
    {
      "cell_type": "code",
      "execution_count": null,
      "metadata": {
        "id": "25sKvJto8xHJ"
      },
      "outputs": [],
      "source": [
        "# # forgetting the colon :\n",
        "#for i in range(5)\n",
        "#    print(i)"
      ]
    },
    {
      "cell_type": "code",
      "execution_count": null,
      "metadata": {
        "id": "t4W6zCcG82LN"
      },
      "outputs": [],
      "source": [
        "# # forgetting the indentation :\n",
        "#for i in range(5):\n",
        "#print(i)"
      ]
    },
    {
      "cell_type": "code",
      "execution_count": null,
      "metadata": {
        "id": "OZJnMJe79R0K",
        "colab": {
          "base_uri": "https://localhost:8080/"
        },
        "outputId": "b1fdd609-7a77-4fc2-c104-f95164226d0c"
      },
      "outputs": [
        {
          "output_type": "stream",
          "name": "stdout",
          "text": [
            "0\n",
            "1\n",
            "2\n",
            "3\n",
            "4\n"
          ]
        }
      ],
      "source": [
        "# you can, however, put everything on one line! (this looks ugly and is NOT advised!)\n",
        "for i in range(5): print(i)"
      ]
    },
    {
      "cell_type": "markdown",
      "metadata": {
        "id": "BY4ZcTkW9jmB"
      },
      "source": [
        "Nested for loops are quite straightforward:"
      ]
    },
    {
      "cell_type": "code",
      "execution_count": null,
      "metadata": {
        "id": "sfZMdgbP9m-k",
        "colab": {
          "base_uri": "https://localhost:8080/"
        },
        "outputId": "fb36b668-0729-4074-c8b9-ec5f8cd085e0"
      },
      "outputs": [
        {
          "output_type": "stream",
          "name": "stdout",
          "text": [
            "1 99\n",
            "1 100\n",
            "1 101\n",
            "2 99\n",
            "2 100\n",
            "2 101\n"
          ]
        }
      ],
      "source": [
        "for i in range(1,3,1):\n",
        "    for j in range(99,102,1):\n",
        "        print(i,j)"
      ]
    },
    {
      "cell_type": "markdown",
      "metadata": {
        "id": "Y0f2vEzg3SvS"
      },
      "source": [
        "# Lists\n",
        "Lists are used to store multiple items in a single variable. Lists can be created using square brackets `[.]`."
      ]
    },
    {
      "cell_type": "markdown",
      "metadata": {
        "id": "S4hRkG2uOVVb"
      },
      "source": [
        "## Basics\n"
      ]
    },
    {
      "cell_type": "markdown",
      "metadata": {
        "id": "Iq10CrmFBoxh"
      },
      "source": [
        "Let's create some simple lists.\n"
      ]
    },
    {
      "cell_type": "code",
      "execution_count": null,
      "metadata": {
        "id": "T-UbUjpWNv-u"
      },
      "outputs": [],
      "source": [
        "# a list with integers, created with the brackets [ ]\n",
        "my_list = [1,2,3,4]"
      ]
    },
    {
      "cell_type": "markdown",
      "metadata": {
        "id": "cbpSdYMAYdiR"
      },
      "source": [
        "The data types contained in a list do not have to be the same and you can repeat the values several times"
      ]
    },
    {
      "cell_type": "code",
      "execution_count": null,
      "metadata": {
        "id": "Hi-2OhHoYnry",
        "colab": {
          "base_uri": "https://localhost:8080/"
        },
        "outputId": "6440c768-df66-40f1-eece-4f68ea5cfd6b"
      },
      "outputs": [
        {
          "output_type": "stream",
          "name": "stdout",
          "text": [
            "['a string', 4.75, [1, 2, 3, 4], 5, 5, 5]\n"
          ]
        }
      ],
      "source": [
        "# crazy list containing a string, a float, another list (!), and several 5s\n",
        "crazy_list = [\"a string\", 4.75, [1,2,3,4], 5, 5, 5]\n",
        "print(crazy_list)"
      ]
    },
    {
      "cell_type": "markdown",
      "metadata": {
        "id": "QDaCucC4Yyaq"
      },
      "source": [
        "The items in a list are ordered. You can access the first item using the index `[0]`, the second item using the index `[1]`, etc."
      ]
    },
    {
      "cell_type": "code",
      "execution_count": null,
      "metadata": {
        "id": "QGNSCW6wYxut",
        "colab": {
          "base_uri": "https://localhost:8080/"
        },
        "outputId": "715ac6cb-0ee4-408b-bbcd-3a09acccff95"
      },
      "outputs": [
        {
          "output_type": "execute_result",
          "data": {
            "text/plain": [
              "'a string'"
            ],
            "application/vnd.google.colaboratory.intrinsic+json": {
              "type": "string"
            }
          },
          "metadata": {},
          "execution_count": 129
        }
      ],
      "source": [
        "crazy_list[0]"
      ]
    },
    {
      "cell_type": "markdown",
      "metadata": {
        "id": "r7bpLcCyZlAw"
      },
      "source": [
        "You can also access several items in the list using a **range** of indices specified with `:`"
      ]
    },
    {
      "cell_type": "code",
      "execution_count": null,
      "metadata": {
        "id": "Gi_GiUrwZkZ0",
        "colab": {
          "base_uri": "https://localhost:8080/"
        },
        "outputId": "34c4c83a-db49-49b6-ee1e-e9c0d5da8461"
      },
      "outputs": [
        {
          "output_type": "execute_result",
          "data": {
            "text/plain": [
              "[4.75, [1, 2, 3, 4]]"
            ]
          },
          "metadata": {},
          "execution_count": 130
        }
      ],
      "source": [
        "#  using i:j returns the elements at index i,i+1,...,j-1  (j is NOT included!)\n",
        "crazy_list[1:3]"
      ]
    },
    {
      "cell_type": "markdown",
      "metadata": {
        "id": "37osu_-Iap3I"
      },
      "source": [
        "You can change the value at a certain location in a list using the correct index"
      ]
    },
    {
      "cell_type": "code",
      "execution_count": null,
      "metadata": {
        "id": "3k89YtvZauSY",
        "colab": {
          "base_uri": "https://localhost:8080/"
        },
        "outputId": "9b16f97b-a569-4d37-e654-5da55c004983"
      },
      "outputs": [
        {
          "output_type": "stream",
          "name": "stdout",
          "text": [
            "['a string', 4.75, 'take out the list from the list', 5, 5, 5]\n"
          ]
        }
      ],
      "source": [
        "crazy_list[2] = \"take out the list from the list\"\n",
        "print(crazy_list)"
      ]
    },
    {
      "cell_type": "markdown",
      "metadata": {
        "id": "wwi8L2rxa8tf"
      },
      "source": [
        "You can even change several items using the range again"
      ]
    },
    {
      "cell_type": "code",
      "execution_count": null,
      "metadata": {
        "id": "wHYmCGaUbBHe",
        "colab": {
          "base_uri": "https://localhost:8080/"
        },
        "outputId": "d4903e7b-e578-4e70-9308-cf033983fe8e"
      },
      "outputs": [
        {
          "output_type": "stream",
          "name": "stdout",
          "text": [
            "['Barcelona', 'Madrid', 'take out the list from the list', 5, 5, 5]\n"
          ]
        }
      ],
      "source": [
        "# note that the right-hand-side in this assignment is a list - elements will be matched location-wise\n",
        "crazy_list[0:2] = ['Barcelona','Madrid']\n",
        "print(crazy_list)"
      ]
    },
    {
      "cell_type": "markdown",
      "metadata": {
        "id": "rDQMbBdzczlA"
      },
      "source": [
        "If your range has fewer indices than the items you want to change, this will expand the list"
      ]
    },
    {
      "cell_type": "code",
      "execution_count": null,
      "metadata": {
        "id": "Ti3QZmELc5Ws",
        "colab": {
          "base_uri": "https://localhost:8080/"
        },
        "outputId": "a02a06ba-e2e7-46b4-fc79-978e67cd8688"
      },
      "outputs": [
        {
          "output_type": "stream",
          "name": "stdout",
          "text": [
            "[1, 2, 3, 'take out the list from the list', 5, 5, 5]\n"
          ]
        }
      ],
      "source": [
        "crazy_list[0:2] = [1,2,3]\n",
        "print(crazy_list)"
      ]
    },
    {
      "cell_type": "markdown",
      "metadata": {
        "id": "OOKOAWDRe7Br"
      },
      "source": [
        "Conversely, if the range has more indices that the items you are inserting, this will shrink the list"
      ]
    },
    {
      "cell_type": "code",
      "execution_count": null,
      "metadata": {
        "id": "C40U_38ZgMy2",
        "colab": {
          "base_uri": "https://localhost:8080/"
        },
        "outputId": "0d96b5aa-fc8f-420d-bd85-1985113feed2"
      },
      "outputs": [
        {
          "output_type": "stream",
          "name": "stdout",
          "text": [
            "['Hey', 3.3333, 5, 5]\n"
          ]
        }
      ],
      "source": [
        "crazy_list[0:5] = [\"Hey\", 3.3333]\n",
        "print(crazy_list)"
      ]
    },
    {
      "cell_type": "markdown",
      "metadata": {
        "id": "D3kDZqDHiYUV"
      },
      "source": [
        "You can concatenate two lists using the `+` operator (this is also an easy way to add more elements at the end of a given list)"
      ]
    },
    {
      "cell_type": "code",
      "execution_count": null,
      "metadata": {
        "id": "tj0oJYAjeboO",
        "colab": {
          "base_uri": "https://localhost:8080/"
        },
        "outputId": "6f87f921-99fe-40aa-c7be-1b126b5989e2"
      },
      "outputs": [
        {
          "output_type": "stream",
          "name": "stdout",
          "text": [
            "['Hey', 3.3333, 5, 5, 'mango', 'kiwi']\n"
          ]
        }
      ],
      "source": [
        "crazy_list_with_plus = crazy_list + [\"mango\", \"kiwi\"]\n",
        "print(crazy_list_with_plus)"
      ]
    },
    {
      "cell_type": "markdown",
      "metadata": {
        "id": "ZM6RLT2IeXFo"
      },
      "source": [
        "You can also duplicate a list many times using the `*` operator"
      ]
    },
    {
      "cell_type": "code",
      "execution_count": null,
      "metadata": {
        "id": "3q5ZdGgtedjh",
        "colab": {
          "base_uri": "https://localhost:8080/"
        },
        "outputId": "6c3748fa-3c58-4bc3-fe70-800fefe75d9e"
      },
      "outputs": [
        {
          "output_type": "stream",
          "name": "stdout",
          "text": [
            "['We love OIT248!', 'We love OIT248!', 'We love OIT248!', 'We love OIT248!', 'We love OIT248!']\n"
          ]
        }
      ],
      "source": [
        "# create a list with the string \"We love OIT 248!\" repeated 5 times\n",
        "my_list = [\"We love OIT248!\"] * 5\n",
        "\n",
        "print(my_list)"
      ]
    },
    {
      "cell_type": "markdown",
      "metadata": {
        "id": "6WIS2Dmwiuje"
      },
      "source": [
        "**You should be careful with the _assignment_ operator `=` for a list!**<br>\n",
        "The assignment operator will **NOT** create a copy of a list; rather, it will create a new/alternative name for the list"
      ]
    },
    {
      "cell_type": "code",
      "execution_count": null,
      "metadata": {
        "id": "L_JUkcrHitxs",
        "colab": {
          "base_uri": "https://localhost:8080/"
        },
        "outputId": "e7cba071-ec8e-4643-9a79-83d21b3957b8"
      },
      "outputs": [
        {
          "output_type": "stream",
          "name": "stdout",
          "text": [
            "Here are the two lists\n",
            "['Hey', 3.3333, 5, 5]\n",
            "['Hey', 3.3333, 5, 5]\n",
            "Here are the two lists after changing\n",
            "['I am changing the start', 3.3333, 5, 5]\n",
            "['I am changing the start', 3.3333, 5, 5]\n"
          ]
        }
      ],
      "source": [
        "# are we creating a copy of `crazy_list` stored in the new variable `a_new_list`?\n",
        "new_list = crazy_list\n",
        "\n",
        "# print both lists\n",
        "print(\"Here are the two lists\")\n",
        "print(crazy_list)\n",
        "print(new_list)\n",
        "\n",
        "# let's change the first element in this \"new\" list\n",
        "new_list[0] = \"I am changing the start\"\n",
        "\n",
        "# print both lists\n",
        "print(\"Here are the two lists after changing\")\n",
        "print(crazy_list)\n",
        "print(new_list)\n",
        "# Note how BOTH lists are changing (because the new list just points to the old one)"
      ]
    },
    {
      "cell_type": "markdown",
      "metadata": {
        "id": "CEZuRoxvjyBh"
      },
      "source": [
        "If you want to create a genuine **copy** of a list, you can use the `copy` method. Details under the list methods section."
      ]
    },
    {
      "cell_type": "markdown",
      "metadata": {
        "id": "bTT1TQvuuT97"
      },
      "source": [
        "## The length, min, max of a list\n",
        "To calculate the length of a list or the minimum or maximum values in the list, use the `len(.)`, `min(.)` and `max(.)` functions."
      ]
    },
    {
      "cell_type": "code",
      "execution_count": null,
      "metadata": {
        "id": "owgRtmb_gvun",
        "colab": {
          "base_uri": "https://localhost:8080/"
        },
        "outputId": "45292b45-396f-4de9-d371-581bb2bec7dd"
      },
      "outputs": [
        {
          "output_type": "stream",
          "name": "stdout",
          "text": [
            "8\n",
            "-5\n",
            "99\n"
          ]
        }
      ],
      "source": [
        "# create a list of numbers\n",
        "list_of_numbers = [3, 6, 9, 1, -5, 34, 23, 99]\n",
        "\n",
        "# print the length\n",
        "print(len(list_of_numbers))\n",
        "\n",
        "# print the smallest value\n",
        "print(min(list_of_numbers))\n",
        "\n",
        "# print the largest value\n",
        "print(max(list_of_numbers))"
      ]
    },
    {
      "cell_type": "markdown",
      "metadata": {
        "id": "eiNAtEd7kND7"
      },
      "source": [
        "## Fancy methods for a list\n",
        "The list data structure already has a couple of pre-defined useful `methods` that allow you to conduct specific manipulations."
      ]
    },
    {
      "cell_type": "markdown",
      "metadata": {
        "id": "2mzrDgPxulej"
      },
      "source": [
        "The full list of list (sic!) methods is:\n",
        "- `append()`\tAdds an element at the end of the list\n",
        "- `clear()`\tRemoves all the elements from the list\n",
        "- `copy()`\tReturns a copy of the list\n",
        "- `count()`\tReturns the number of elements with the specified value\n",
        "- `extend()`\tAdd the elements of a list (or any iterable), to the end of the current list\n",
        "- `index()`\tReturns the index of the first element with the specified value\n",
        "- `insert()`\tAdds an element at the specified position\n",
        "- `pop()`\tRemoves the element at the specified position\n",
        "- `remove()`\tRemoves the item with the specified value\n",
        "- `reverse()`\tReverses the order of the list\n",
        "- `sort()`\tSorts the list\n",
        "\n",
        "For our purposes, the most useful methods are `index` and `copy`, which we exemplify below.\n"
      ]
    },
    {
      "cell_type": "markdown",
      "metadata": {
        "id": "XE546gYJ4ro6"
      },
      "source": [
        "Index allows you to retrieve the location of a specific element. It returns the first location or `ValueError` if the element is not found."
      ]
    },
    {
      "cell_type": "code",
      "execution_count": null,
      "metadata": {
        "id": "LwAvdbPk41t9",
        "colab": {
          "base_uri": "https://localhost:8080/"
        },
        "outputId": "6b833eaf-1111-4ae7-c4f6-22c02f4f99e8"
      },
      "outputs": [
        {
          "output_type": "stream",
          "name": "stdout",
          "text": [
            "The index where the string `apples` appears: 0\n"
          ]
        }
      ],
      "source": [
        "# create another list to play with\n",
        "crazy_list = [\"apples\", \"oranges\", \"bananas\", \"OIT248\" ]\n",
        "\n",
        "# figure out the index where the element 'apples' appears\n",
        "index_for_apples = crazy_list.index(\"apples\")\n",
        "print(f\"The index where the string `apples` appears: {index_for_apples}\")\n",
        "\n",
        "#### The following code would generate an error because we try to find some element that doesn't exist; if you want to see it, remove the comment\n",
        "# index_for_smth_new = crazy_list.index(\"The Wire Show\")\n",
        "# print(index_for_smth_new)"
      ]
    },
    {
      "cell_type": "markdown",
      "metadata": {
        "id": "1wV5JbF85zXI"
      },
      "source": [
        "The `copy` method does what the name suggests..."
      ]
    },
    {
      "cell_type": "code",
      "execution_count": null,
      "metadata": {
        "id": "UDm1Y50DkNEN",
        "colab": {
          "base_uri": "https://localhost:8080/"
        },
        "outputId": "22c345cb-60c6-479b-ff11-ac3946e2030a"
      },
      "outputs": [
        {
          "output_type": "stream",
          "name": "stdout",
          "text": [
            "Here are the two lists\n",
            "['apples', 'oranges', 'bananas', 'OIT248']\n",
            "['apples', 'oranges', 'bananas', 'OIT248']\n",
            "Here are the lists after changing\n",
            "['apples', 'oranges', 'bananas', 'OIT248']\n",
            "['Michael Jackson', 'oranges', 'bananas', 'OIT248']\n"
          ]
        }
      ],
      "source": [
        "# let's create an actual copy of `crazy_list` stored in a new variable `new_list`\n",
        "new_list = crazy_list.copy()\n",
        "\n",
        "# print both lists\n",
        "print(\"Here are the two lists\")\n",
        "print(crazy_list)\n",
        "print(new_list)\n",
        "\n",
        "# To see that this is a copy, let's change the first element in the \"new\" list and print both\n",
        "new_list[0] = \"Michael Jackson\"\n",
        "\n",
        "print(\"Here are the lists after changing\")\n",
        "print(crazy_list)\n",
        "print(new_list)"
      ]
    },
    {
      "cell_type": "markdown",
      "metadata": {
        "id": "mWu1F0dHvQ-0"
      },
      "source": [
        "We likely won't use a lot of these methods in OIT 248, but they are useful to know about. For a detailed coverage, you can check <a href=\"https://www.w3schools.com/python/python_lists_methods.asp\">this link</a>."
      ]
    },
    {
      "cell_type": "markdown",
      "metadata": {
        "id": "0jMi85dmoQoc"
      },
      "source": [
        "## Looping through lists\n",
        "There are several ways to loop through lists"
      ]
    },
    {
      "cell_type": "markdown",
      "metadata": {
        "id": "DWIrojd7pVKa"
      },
      "source": [
        "**Option 1.**<br>\n",
        "If you just care about the elements in the list **but not** their indices/locations, the most elegant way is to use a `for` loop through the elements themselves"
      ]
    },
    {
      "cell_type": "code",
      "execution_count": null,
      "metadata": {
        "id": "mU-I0CsdoQot",
        "colab": {
          "base_uri": "https://localhost:8080/"
        },
        "outputId": "8d6a3145-f50f-4eb8-f55a-16e245a3201e"
      },
      "outputs": [
        {
          "output_type": "stream",
          "name": "stdout",
          "text": [
            "apples\n",
            "oranges\n",
            "bananas\n",
            "OIT248\n"
          ]
        }
      ],
      "source": [
        "# loop through the elements in `crazy_list` and store them in 'v'\n",
        "for v in crazy_list:\n",
        "    # 'v` now stores an element from the list; let's print 'v'\n",
        "    print(v)"
      ]
    },
    {
      "cell_type": "markdown",
      "metadata": {
        "id": "UkNuMDP2xiOO"
      },
      "source": [
        "**Option 2.**<br>\n",
        "An alternative, also useful when you just care about the elements, is to use a \"list comprehension\"."
      ]
    },
    {
      "cell_type": "code",
      "execution_count": null,
      "metadata": {
        "id": "5Pp-OVgBxiOk",
        "colab": {
          "base_uri": "https://localhost:8080/"
        },
        "outputId": "6374059e-b601-4551-e8a6-4f5e22b72588"
      },
      "outputs": [
        {
          "output_type": "stream",
          "name": "stdout",
          "text": [
            "apples\n",
            "oranges\n",
            "bananas\n",
            "OIT248\n"
          ]
        }
      ],
      "source": [
        "[print(v) for v in crazy_list];"
      ]
    },
    {
      "cell_type": "markdown",
      "metadata": {
        "id": "zXkChIuPzCtP"
      },
      "source": [
        "This is a very compact syntax, but it might confuse you a bit at first so don't worry if you don't fully get it on the first try!..."
      ]
    },
    {
      "cell_type": "markdown",
      "metadata": {
        "id": "r6jsyqZpp_U0"
      },
      "source": [
        "**Option 3.**<br>\n",
        "If you need the elements in the list **as well as** their indices, you can write classic\" for loop. Specifically, for a list, we actually know what the indices are: they are 0, 1, 2, ..., number of elements-1. So we can get these using the `range(.)` and `len(.)` functions:"
      ]
    },
    {
      "cell_type": "code",
      "execution_count": null,
      "metadata": {
        "id": "PFu_zvMxp_U1",
        "colab": {
          "base_uri": "https://localhost:8080/"
        },
        "outputId": "37769daa-d12c-4ff1-9785-860d2846d429"
      },
      "outputs": [
        {
          "output_type": "stream",
          "name": "stdout",
          "text": [
            "At location 0 we can find: apples\n",
            "At location 1 we can find: oranges\n",
            "At location 2 we can find: bananas\n",
            "At location 3 we can find: OIT248\n"
          ]
        }
      ],
      "source": [
        "# calculate the number of elements in the list\n",
        "num_elements_in_list = len(crazy_list)\n",
        "\n",
        "# produce the range 0 .. num_elements_in_list - 1\n",
        "indices = range(num_elements_in_list)\n",
        "\n",
        "# and now let's loop through the elements, printing them as well as their index\n",
        "for i in indices:\n",
        "    print(\"At location\", i, \"we can find:\", crazy_list[i])"
      ]
    },
    {
      "cell_type": "markdown",
      "metadata": {
        "id": "JnjAUZXhxNFp"
      },
      "source": [
        "Normally, you would not define all of those variables above and instead use this compact form:"
      ]
    },
    {
      "cell_type": "code",
      "execution_count": null,
      "metadata": {
        "id": "VYpxEUOWxUrF",
        "colab": {
          "base_uri": "https://localhost:8080/"
        },
        "outputId": "1266ac5c-75db-41e4-ede5-79a0dd15922a"
      },
      "outputs": [
        {
          "output_type": "stream",
          "name": "stdout",
          "text": [
            "At location 0 we can find: apples\n",
            "At location 1 we can find: oranges\n",
            "At location 2 we can find: bananas\n",
            "At location 3 we can find: OIT248\n"
          ]
        }
      ],
      "source": [
        "# let's loop through the elements, printing them as well as their index\n",
        "for i in range(len(crazy_list)):\n",
        "    print(\"At location\", i, \"we can find:\", crazy_list[i])"
      ]
    },
    {
      "cell_type": "markdown",
      "metadata": {
        "id": "ZIS9QCArFFeh"
      },
      "source": [
        "## List comprehensions\n",
        "List comprehensions offer a very simple way to create a new list based on some existing lists. The syntax is:\n",
        "\n",
        "> `newlist = [`_expression_ `for` _item_ `in` _iterable_ `if` _condition_ `== True]`\n",
        "\n",
        "_iterable_ can be another list or a range (more broadly, any iterable type). The return value is a new list, leaving the old list unchanged."
      ]
    },
    {
      "cell_type": "code",
      "execution_count": null,
      "metadata": {
        "id": "NBrsiK7eFFei",
        "colab": {
          "base_uri": "https://localhost:8080/"
        },
        "outputId": "79855114-6f8d-42d0-fcf0-793934ff0b3a"
      },
      "outputs": [
        {
          "output_type": "stream",
          "name": "stdout",
          "text": [
            "['banana', 'cherry', 'kiwi', 'mango']\n"
          ]
        }
      ],
      "source": [
        "# let's create a list with some fruits\n",
        "fruits = [\"apple\", \"banana\", \"cherry\", \"kiwi\", \"mango\"]\n",
        "\n",
        "# now suppose we want to create a list with all the fruit names *except apple*\n",
        "fruits_no_apple = [v for v in fruits if v!= \"apple\"]\n",
        "print(fruits_no_apple)"
      ]
    },
    {
      "cell_type": "markdown",
      "metadata": {
        "id": "LJzFVd4pGoyt"
      },
      "source": [
        "If you want to embed an `if-else` condition, you need to switch the order of the `if` and the `for` loop, as follows:"
      ]
    },
    {
      "cell_type": "code",
      "execution_count": null,
      "metadata": {
        "id": "7rKsDfgBHD8F",
        "colab": {
          "base_uri": "https://localhost:8080/"
        },
        "outputId": "8ab2055b-db2a-476b-809f-a5173ce465b3"
      },
      "outputs": [
        {
          "output_type": "stream",
          "name": "stdout",
          "text": [
            "['walnut', 'banana', 'cherry', 'kiwi', 'mango']\n"
          ]
        }
      ],
      "source": [
        "# a copy of the original list where every occurrence of *apple* is replaced with *walnut*\n",
        "fruits_apple_walnut = [v if v!= \"apple\" else \"walnut\" for v in fruits]\n",
        "print(fruits_apple_walnut)"
      ]
    },
    {
      "cell_type": "markdown",
      "metadata": {
        "id": "dvOlucWfcS7b"
      },
      "source": [
        "# Tuples\n",
        "Tuples allow storing several items in a single variable. They are defined using round brackets `(.)`."
      ]
    },
    {
      "cell_type": "code",
      "execution_count": null,
      "metadata": {
        "id": "SCi2rsqrcS7x",
        "colab": {
          "base_uri": "https://localhost:8080/"
        },
        "outputId": "bc8d98c5-2be3-4a80-fe44-beb5276b982a"
      },
      "outputs": [
        {
          "output_type": "stream",
          "name": "stdout",
          "text": [
            "('apples', 3.14, [1, 2, 3])\n"
          ]
        }
      ],
      "source": [
        "# define a tuple with a string, a float, and a list\n",
        "my_tuple = (\"apples\", 3.14, [1, 2, 3])\n",
        "\n",
        "print(my_tuple)"
      ]
    },
    {
      "cell_type": "markdown",
      "metadata": {
        "id": "IifIhw1Rcsel"
      },
      "source": [
        "You might think that the tuple is quite similar to a list, but the fundamental difference is that tuples and **unchangeable**: once you created a tuple, you cannot change its contents.<br>\n",
        "\n",
        "We won't be using tuples directly but many functions in Python return tuples, so you should not be surprised to see them!"
      ]
    },
    {
      "cell_type": "markdown",
      "metadata": {
        "id": "DHe9-SVArwA_"
      },
      "source": [
        "# Printing\n",
        "We have already been printing messages and variables above. The typical syntax of the `print` command that we'll use most often in OIT 248 is:\n",
        "> `print`(_object(s)_, sep=_separator_)\n",
        " - _object(s)_ : one or more objects to print; each object will be converted to a string before printing\n",
        " - _sep_ : optional, specifies what separator to use between the objects"
      ]
    },
    {
      "cell_type": "markdown",
      "metadata": {
        "id": "vIYlvJYmrwBJ"
      },
      "source": [
        "Let's see a few simple examples"
      ]
    },
    {
      "cell_type": "code",
      "execution_count": null,
      "metadata": {
        "id": "j5gC36a2rwBJ",
        "colab": {
          "base_uri": "https://localhost:8080/"
        },
        "outputId": "62d8370a-ef8c-476e-b354-546f1df1eee2"
      },
      "outputs": [
        {
          "output_type": "stream",
          "name": "stdout",
          "text": [
            "5\n",
            "The value of the integer is: 5\n"
          ]
        }
      ],
      "source": [
        "# print an integer variable\n",
        "x = 5\n",
        "print(x)\n",
        "\n",
        "# print some text and an integer\n",
        "print(\"The value of the integer is:\", x)"
      ]
    },
    {
      "cell_type": "markdown",
      "metadata": {
        "id": "S9FR3W0e9aJd"
      },
      "source": [
        " The most important thing when printing is how to convert the objects into a string that satisfies the criteria you want.<br>\n",
        "\n",
        " There are many ways to do this in Python and all will be roughly equally good for our purposes!"
      ]
    },
    {
      "cell_type": "markdown",
      "metadata": {
        "id": "q0gsX1JorwBJ"
      },
      "source": [
        "## \"Old-style\" Formatting with %\n",
        "This uses the `%` operator and will look familiar to those of you with C coding experience!"
      ]
    },
    {
      "cell_type": "code",
      "execution_count": null,
      "metadata": {
        "id": "47i3jVnlrwBJ",
        "colab": {
          "base_uri": "https://localhost:8080/"
        },
        "outputId": "e3db5c1a-eeb9-49bf-b9e5-922d493cd41a"
      },
      "outputs": [
        {
          "output_type": "stream",
          "name": "stdout",
          "text": [
            "The person named Linwei with age 32 has a GPA of 3.920000 and income of 2.458942e+05\n"
          ]
        }
      ],
      "source": [
        "# let's define a few different variables\n",
        "name = \"Linwei\"        # a string\n",
        "age = 32               # an integer\n",
        "gpa = 3.92             # a float\n",
        "income = 245894.242    # a large float\n",
        "\n",
        "print(\"The person named %s with age %d has a GPA of %f and income of %e\" \\\n",
        "      % (name, age, gpa, income))"
      ]
    },
    {
      "cell_type": "markdown",
      "metadata": {
        "id": "GHz_QRsorwBJ"
      },
      "source": [
        "The example above already shows the data types that we're most likely to print in OIT 248:\n",
        " - `'d'` for a signed integer (decimal, i.e., base 10)\n",
        " - `'f'` for a floating point (decimal)\n",
        " - `'e'` for a floating point in exponential format\n",
        " - `'s'` for a string\n",
        "\n",
        "In addition to these, you can also adjust the padding and how many digits of precision to print."
      ]
    },
    {
      "cell_type": "code",
      "execution_count": null,
      "metadata": {
        "id": "uBgZJRMVrwBK",
        "colab": {
          "base_uri": "https://localhost:8080/"
        },
        "outputId": "473d2e72-d888-40bf-908e-5edcf1890dc0"
      },
      "outputs": [
        {
          "output_type": "stream",
          "name": "stdout",
          "text": [
            "The person named               Linwei with age  32 has a GPA of 3.92.\n",
            "The person named           Jiawei Luo with age 104 has a GPA of 55242.43.\n"
          ]
        }
      ],
      "source": [
        "# allocate 20 characters to the name, 3 characters to the age, and print 2 digits of\n",
        "print(\"The person named %20s with age %3d has a GPA of %.2f.\" \\\n",
        "      % (name, age, gpa))\n",
        "\n",
        "# and print a more exotic example to see the difference\n",
        "print(\"The person named %20s with age %3d has a GPA of %.2f.\" \\\n",
        "      % (\"Jiawei Luo\", 104, 55242.435))"
      ]
    },
    {
      "cell_type": "markdown",
      "metadata": {
        "id": "9ror_RN5_Rti"
      },
      "source": [
        "Floating-point numbers use the format `%a.bf`. Here, `a` would be the minimum number of digits to be present in the string (padded with white space if the whole number does not have enough digits), and `b` represents how many digits to display after the decimal point.\n",
        "\n",
        "Unless you have very strong biases, **we encourage you to consider using one of the next two formatting options, which are more flexible and robust.**"
      ]
    },
    {
      "cell_type": "markdown",
      "metadata": {
        "id": "Oenoej-M_-LA"
      },
      "source": [
        "## The `format(.)` method\n",
        "The second option uses the string `format` method."
      ]
    },
    {
      "cell_type": "code",
      "execution_count": null,
      "metadata": {
        "id": "ORTfTWGn_-LB",
        "colab": {
          "base_uri": "https://localhost:8080/"
        },
        "outputId": "4bc15bd4-c13c-476b-b1ab-1fdd87f0a78b"
      },
      "outputs": [
        {
          "output_type": "stream",
          "name": "stdout",
          "text": [
            "Linwei has age 32 and a GPA of 3.92\n"
          ]
        }
      ],
      "source": [
        "# let's again define a few different variables\n",
        "name = \"Linwei\"        # a string\n",
        "age = 32               # an integer\n",
        "gpa = 3.92             # a float\n",
        "\n",
        "print(\"{} has age {} and a GPA of {}\".format(name, age, gpa))"
      ]
    },
    {
      "cell_type": "markdown",
      "metadata": {
        "id": "g1L8Fhhm_-LB"
      },
      "source": [
        "So you just need to put braces `{}` for any object inside the string and then use `.format()` at the end of the string to include all the objects. Just as with the `%` method, you can specify a format for the strings inside the `{...}`, with the only distinction that you should use a colon `:` instead of `%`. See below."
      ]
    },
    {
      "cell_type": "code",
      "execution_count": null,
      "metadata": {
        "id": "KYBMJvmN_-LC",
        "colab": {
          "base_uri": "https://localhost:8080/"
        },
        "outputId": "d17b01d3-e250-4302-c564-0936ffc1a60e"
      },
      "outputs": [
        {
          "output_type": "stream",
          "name": "stdout",
          "text": [
            "Linwei               has age  32 and GPA of 3.92.\n",
            "Jiawei Luo           has age 104 and GPA of 55,242.43.\n"
          ]
        }
      ],
      "source": [
        "# allocate 20 characters to the name, 3 characters to the age, and print 2 digits of\n",
        "print(\"{:20s} has age {:3d} and GPA of {:.2f}.\".format(name, age, gpa))\n",
        "\n",
        "# and print a more exotic example to see the difference\n",
        "print(\"{:20s} has age {:3d} and GPA of {:,.2f}.\".format(\"Jiawei Luo\", 104, 55242.435))"
      ]
    },
    {
      "cell_type": "markdown",
      "metadata": {
        "id": "PWRTd2mGESne"
      },
      "source": [
        "Note that the second statement uses the format `,.2f` to print the nice comma-delimiter `,` for thousands, which is useful when printing large numbers. For more examples of formatting, check out <a href=\"https://www.pythoncheatsheet.org/cheatsheet/string-formatting\">this reference</a>."
      ]
    },
    {
      "cell_type": "markdown",
      "metadata": {
        "id": "dFZr9R2oCKAf"
      },
      "source": [
        "## The `f-string` method\n",
        "The last option uses \"formatted\" strings, a.k.a. f-strings. This is the most modern and most compact approach, so if you're learning Python for the first time, you might want to use this!"
      ]
    },
    {
      "cell_type": "code",
      "execution_count": null,
      "metadata": {
        "id": "1BJsYDqtCKAh",
        "colab": {
          "base_uri": "https://localhost:8080/"
        },
        "outputId": "7f456f37-5d4e-4536-fe0b-381f748c2f2d"
      },
      "outputs": [
        {
          "output_type": "stream",
          "name": "stdout",
          "text": [
            "Linwei has age 32 and a GPA of 3.92\n"
          ]
        }
      ],
      "source": [
        "# let's again define a few different variables\n",
        "name = \"Linwei\"        # a string\n",
        "age = 32               # an integer\n",
        "gpa = 3.92             # a float\n",
        "\n",
        "print(f\"{name} has age {age} and a GPA of {gpa}\")"
      ]
    },
    {
      "cell_type": "markdown",
      "metadata": {
        "id": "D3OUUWasCKAi"
      },
      "source": [
        "Here, you just need to put the character `f` before the string, and then enclose in braces `{}` the actual object. Formatting is done inside the `{...} ` in a similar way to the `.format()` method, using the colon `:`"
      ]
    },
    {
      "cell_type": "code",
      "execution_count": null,
      "metadata": {
        "id": "9KxSwA22CKAi",
        "colab": {
          "base_uri": "https://localhost:8080/"
        },
        "outputId": "2128cc2c-316e-4590-b51f-e12bb9bf3790"
      },
      "outputs": [
        {
          "output_type": "stream",
          "name": "stdout",
          "text": [
            "Linwei               has age  32 and GPA of 3.92.\n",
            "Jiawei Luo           has age 104 and GPA of 55,242.43.\n"
          ]
        }
      ],
      "source": [
        "# allocate 20 characters to the name, 3 characters to the age, and print 2 digits of\n",
        "print(f\"{name:20s} has age {age:3d} and GPA of {gpa:.2f}.\")\n",
        "\n",
        "# and print a more exotic example to see the difference\n",
        "second_name = \"Jiawei Luo\"\n",
        "print(f\"{second_name:20s} has age {104:3d} and GPA of {55242.435:,.2f}.\")"
      ]
    },
    {
      "cell_type": "markdown",
      "metadata": {
        "id": "hO4pm0SC6OQx"
      },
      "source": [
        "# Dictionaries\n",
        "Dictionaries store data in pairs consisting of a lookup \"key\" and a corresponding \"value\". They are defined using curly brackets `{}`."
      ]
    },
    {
      "cell_type": "code",
      "execution_count": null,
      "metadata": {
        "id": "2zWfwndx6ORH",
        "colab": {
          "base_uri": "https://localhost:8080/"
        },
        "outputId": "8159ae60-3da0-42ad-db4d-15b9be24776b"
      },
      "outputs": [
        {
          "output_type": "stream",
          "name": "stdout",
          "text": [
            "{'Federer': 20, 'Nadal': 22, 'Djokovic': 24}\n"
          ]
        }
      ],
      "source": [
        "GS_trophies = {}               # define an empty dictionary\n",
        "GS_trophies[\"Federer\"] = 20    # add entry with key \"Federer\" and value 20\n",
        "GS_trophies[\"Nadal\"] = 22      # at least as of 2023...\n",
        "GS_trophies[\"Djokovic\"] = 24   # at least as of 2023...\n",
        "\n",
        "print(GS_trophies)"
      ]
    },
    {
      "cell_type": "markdown",
      "metadata": {
        "id": "A5-gTxZVZmBJ"
      },
      "source": [
        "You can retrieve or change a value from a dictionary using the key"
      ]
    },
    {
      "cell_type": "code",
      "execution_count": null,
      "metadata": {
        "id": "JKAqtZmdZlJw",
        "colab": {
          "base_uri": "https://localhost:8080/"
        },
        "outputId": "3b7c3e15-708b-4b55-a4d0-3082e307e421"
      },
      "outputs": [
        {
          "output_type": "stream",
          "name": "stdout",
          "text": [
            "Nadal has: 22 trophies\n",
            "{'Federer': 20, 'Nadal': 23, 'Djokovic': 24}\n"
          ]
        }
      ],
      "source": [
        "# how many trophies does Nadal have now?\n",
        "print(f\"Nadal has: {GS_trophies['Nadal']} trophies\")\n",
        "\n",
        "# increase Nadal's trophy count by 1\n",
        "GS_trophies[\"Nadal\"] += 1\n",
        "print(GS_trophies)"
      ]
    },
    {
      "cell_type": "markdown",
      "metadata": {
        "id": "zh8JHUd0Zz6c"
      },
      "source": [
        "The keys and values do not have to have the same data type (just as with lists!)"
      ]
    },
    {
      "cell_type": "code",
      "execution_count": null,
      "metadata": {
        "id": "cVtElGNdZhLG",
        "colab": {
          "base_uri": "https://localhost:8080/"
        },
        "outputId": "367b6688-12d0-45a6-8c68-8ac80d81980b"
      },
      "outputs": [
        {
          "output_type": "stream",
          "name": "stdout",
          "text": [
            "{'Federer': 20, 'Nadal': 23, 'Djokovic': 24, 3.14: 'Something'}\n"
          ]
        }
      ],
      "source": [
        "# add a new entry with a numeric key and a string value\n",
        "GS_trophies[3.14] = \"Something\"\n",
        "print(GS_trophies)"
      ]
    },
    {
      "cell_type": "markdown",
      "metadata": {
        "id": "Wa9Hws2cgkDX"
      },
      "source": [
        "The code above also shows how to add a new item in a dictionary. To remove an item based on its key, you can use the `pop(.)` method:"
      ]
    },
    {
      "cell_type": "code",
      "execution_count": null,
      "metadata": {
        "id": "wxFtfPz_hY3q",
        "colab": {
          "base_uri": "https://localhost:8080/"
        },
        "outputId": "bb7189c1-36d2-473c-a92b-d24c60cdc4db"
      },
      "outputs": [
        {
          "output_type": "stream",
          "name": "stdout",
          "text": [
            "{'Federer': 20, 'Nadal': 23, 'Djokovic': 24}\n"
          ]
        }
      ],
      "source": [
        "# remove the weird item that we added above, with key 3.14\n",
        "GS_trophies.pop(3.14)\n",
        "print(GS_trophies)"
      ]
    },
    {
      "cell_type": "markdown",
      "metadata": {
        "id": "iBevUn4oiCB2"
      },
      "source": [
        "Loop through all the keys in the dictionary, one by one, with a `for` loop:"
      ]
    },
    {
      "cell_type": "code",
      "execution_count": null,
      "metadata": {
        "id": "ts1-NFX4iOBn",
        "colab": {
          "base_uri": "https://localhost:8080/"
        },
        "outputId": "e4f29fec-534a-48ca-dade-3fdb28e25884"
      },
      "outputs": [
        {
          "output_type": "stream",
          "name": "stdout",
          "text": [
            "Federer\n",
            "Nadal\n",
            "Djokovic\n"
          ]
        }
      ],
      "source": [
        "for key in GS_trophies:\n",
        "    print(key)"
      ]
    },
    {
      "cell_type": "markdown",
      "metadata": {
        "id": "q02rympyiXgA"
      },
      "source": [
        "To loop through the values, you can loop through the keys and get the values:"
      ]
    },
    {
      "cell_type": "code",
      "execution_count": null,
      "metadata": {
        "id": "Op5BOX3SieLX",
        "colab": {
          "base_uri": "https://localhost:8080/"
        },
        "outputId": "b4fc7234-b470-4a9e-c15a-94c6449913fb"
      },
      "outputs": [
        {
          "output_type": "stream",
          "name": "stdout",
          "text": [
            "Federer has 20 Grand Slam trophies.\n",
            "Nadal has 23 Grand Slam trophies.\n",
            "Djokovic has 24 Grand Slam trophies.\n"
          ]
        }
      ],
      "source": [
        "for key in GS_trophies:\n",
        "    print(f\"{key} has {GS_trophies[key]} Grand Slam trophies.\")"
      ]
    },
    {
      "cell_type": "markdown",
      "metadata": {
        "id": "LRkpeD1Vb7-k"
      },
      "source": [
        "To copy a dictionary, you need to use the `copy(.)` method, just like for a list. (Using `=` will **not** return a copy of the dictionary but will simply give the dictionary a second name...)"
      ]
    },
    {
      "cell_type": "code",
      "execution_count": null,
      "metadata": {
        "id": "uwTQw9MiaJUX",
        "colab": {
          "base_uri": "https://localhost:8080/"
        },
        "outputId": "84d70b80-9c00-46af-daf4-f41d01556db5"
      },
      "outputs": [
        {
          "output_type": "execute_result",
          "data": {
            "text/plain": [
              "dict_keys(['Federer', 'Nadal', 'Djokovic'])"
            ]
          },
          "metadata": {},
          "execution_count": 161
        }
      ],
      "source": [
        "GS_trophies.keys()"
      ]
    },
    {
      "cell_type": "markdown",
      "metadata": {
        "id": "kmmhNgpAjOLN"
      },
      "source": [
        "For more details on dictionaries (including the methods available), check <a\n",
        "href=\"https://www.w3schools.com/python/python_dictionaries.asp\">this</a>."
      ]
    },
    {
      "cell_type": "markdown",
      "metadata": {
        "id": "gOLtAzIak-SQ"
      },
      "source": [
        "# Functions\n",
        "Functions allow organizing the code in blocks that can be called separately (and many times). A function can take several arguments and can return data as a result. In Python, functions are defined using the `def` keyword."
      ]
    },
    {
      "cell_type": "markdown",
      "metadata": {
        "id": "N0RLciM8lRWy"
      },
      "source": [
        "Define a function with no arguments that prints a message."
      ]
    },
    {
      "cell_type": "code",
      "execution_count": null,
      "metadata": {
        "id": "IVtALsAalQXd",
        "colab": {
          "base_uri": "https://localhost:8080/"
        },
        "outputId": "a2d27225-2400-425c-fd7e-418a658a57db"
      },
      "outputs": [
        {
          "output_type": "stream",
          "name": "stdout",
          "text": [
            "Hello again!\n",
            "7\n",
            "This is the smartest function.\n",
            "(7, -3)\n",
            "This is the smartest function.\n",
            "7 -3\n",
            "This is the smartest function.\n",
            "This is the smartest function.\n"
          ]
        },
        {
          "output_type": "execute_result",
          "data": {
            "text/plain": [
              "(11, -3)"
            ]
          },
          "metadata": {},
          "execution_count": 162
        }
      ],
      "source": [
        "# define a function without any arguments\n",
        "def hello():\n",
        "    print(\"Hello again!\")\n",
        "\n",
        "# now define another function that adds its two arguments\n",
        "def my_smart_addition(a,b):\n",
        "    return a+b\n",
        "\n",
        "# and an even smarter function that returns a+b and a-b as a list\n",
        "def my_smartest_function(a,b):\n",
        "    print(\"This is the smartest function.\")\n",
        "    a_plus_b = my_smart_addition(a,b)\n",
        "    a_minus_b = a-b\n",
        "    return a_plus_b, a_minus_b\n",
        "\n",
        "# let's test our functions\n",
        "hello()\n",
        "\n",
        "# this function returns something; let's store and print the result!\n",
        "result = my_smart_addition(2,5)\n",
        "print(result)\n",
        "\n",
        "#### the last function returns TWO things\n",
        "# we can store these in a single variable (which will be a tuple)\n",
        "result = my_smartest_function(2,5)\n",
        "print(result)\n",
        "\n",
        "# we can also store these in two variables (must be careful so the number of variables matches the number of return values!)\n",
        "result1, result2 = my_smartest_function(2,5)\n",
        "print(result1, result2)\n",
        "\n",
        "# you can use keyword arguments in the call\n",
        "my_smartest_function(a=4, b=7)\n",
        "\n",
        "# you can even mix keyword arguments with positional arguments, but positional arguments must go first\n",
        "my_smartest_function(4, b=7)"
      ]
    },
    {
      "cell_type": "markdown",
      "metadata": {
        "id": "7Hl_vmKflsFm"
      },
      "source": [
        "<font color=blue>A few important things to remember about defining functions:</font>\n",
        " - <font color=blue> The colon `:` is critical in the syntax (just like with `if` and `for`)</font>\n",
        " - <font color=blue> Functions can take arguments</font><br>\n",
        "   <font color=blue> _for instance, the second function takes as arguments two things a, b. These could be any data type._</font>\n",
        " - <font color=blue> The keyword `return` tells the function what value to return </font><br>\n",
        "   <font color=blue>_for instance, the second function returns the sum of its arguments, a + b_</font>\n",
        " - <font color=blue>You can return several values; you should be careful to have the correct number of variables to match these return values!</font><br>\n",
        " - <font color=blue>You can use keyword arguments when calling the function.</font>"
      ]
    },
    {
      "cell_type": "markdown",
      "metadata": {
        "id": "FLPRZLmFkw5U"
      },
      "source": [
        "# Importing modules\n",
        "A module is essentially a library with lots of functions. By \"importing\" a module with the function `import`, you can use all the functions inside it."
      ]
    },
    {
      "cell_type": "markdown",
      "metadata": {
        "id": "kRRWbTUFtJ-l"
      },
      "source": [
        "For instance, in this class we will use the `pandas` module a lot (for some reasons, see the separate section covering it!) To import it, you could do any of the following:\n",
        "\n",
        "> ``import pandas``\n",
        "\n",
        "This imports the \"pandas\" module, and allows us to use the functions it contains; to use the function `read_csv()`, we would have to use the syntax ``pandas.read_csv()``.\n",
        "\n",
        "Because this requires typing the word `pandas` all the time, we can assign it a 'short name' as follows:\n",
        "\n",
        "> ``import pandas as pd``\n",
        "\n",
        "This also imports the full \"pandas\" module, but now we could call the `fname` function using ``pd.read_csv()``. Saving a few characters could mean a lot if you're typing this thousands of times :-)\n",
        "\n",
        "Lastly, there is one more option that we could use:\n",
        "\n",
        "> ``from pandas import *``\n",
        "\n",
        "This imports everything in the pandas module and makes it so that we can just refer to the function using ``read_csv()``. This is useful if the functions are specific enough that you don't think the same name might be defined/used elsewhere, but it could be dangerous if you think there might be overlap."
      ]
    },
    {
      "cell_type": "markdown",
      "metadata": {
        "id": "hMQ4xKVnjfMf"
      },
      "source": [
        "# Pandas module\n",
        "Pandas is a Python library used for working with data sets. It has very useful functions for analyzing, cleaning, exploring, and manipulating data, and we will be using it a lot throughout our class. (And in case you're wondering, the name is **not** about an animal, for a change.... It's actually short for \"panel data\"!) Over coverage here will be very brief, but if you want more, see, e.g., <a href=\"https://www.w3schools.com/python/pandas/default.asp\">this resource.</a>"
      ]
    },
    {
      "cell_type": "code",
      "execution_count": null,
      "metadata": {
        "id": "96K3U_YezCUL"
      },
      "outputs": [],
      "source": [
        "# let's first import the module\n",
        "import pandas as pd"
      ]
    },
    {
      "cell_type": "markdown",
      "metadata": {
        "id": "fm9cFukfzPq3"
      },
      "source": [
        "## Series\n",
        "The most basic object in `pandas` is a `Series`, which can be created with the `Series(.)` function. You can think of it as a column in a table (think of a column in Excel!)"
      ]
    },
    {
      "cell_type": "code",
      "execution_count": null,
      "metadata": {
        "id": "R7vXKP0Rzfyh",
        "colab": {
          "base_uri": "https://localhost:8080/"
        },
        "outputId": "45148771-f1bb-4f6a-e44b-fa6ce2116ec7"
      },
      "outputs": [
        {
          "output_type": "stream",
          "name": "stdout",
          "text": [
            "0    24\n",
            "1    56\n",
            "2    99\n",
            "dtype: int64\n"
          ]
        }
      ],
      "source": [
        "my_list = [24, 56, 99]            # create a simple list\n",
        "my_series = pd.Series(my_list)    # now create a series from the list\n",
        "\n",
        "print(my_series)                  # print the series"
      ]
    },
    {
      "cell_type": "markdown",
      "metadata": {
        "id": "kvSkMHTDzRyR"
      },
      "source": [
        "Note that `pandas` assigns a label (called an **index**) to each element in the series. If you don't specify anything, these labels/indices will be the integers 0, 1, 2, ... You can also specify your own custom labels with the `index` argument, as below."
      ]
    },
    {
      "cell_type": "code",
      "execution_count": null,
      "metadata": {
        "id": "-XVQZh0nzPVi",
        "colab": {
          "base_uri": "https://localhost:8080/"
        },
        "outputId": "909bb6af-af0b-4a6d-d610-c57d471ea621"
      },
      "outputs": [
        {
          "output_type": "stream",
          "name": "stdout",
          "text": [
            "a    24\n",
            "b    56\n",
            "c    99\n",
            "dtype: int64\n"
          ]
        }
      ],
      "source": [
        "# create a series with a given index\n",
        "my_series = pd.Series(my_list, index = [\"a\", \"b\", \"c\"])\n",
        "print(my_series)                  # print the series"
      ]
    },
    {
      "cell_type": "markdown",
      "metadata": {
        "id": "vEat5DDIy_y1"
      },
      "source": [
        "By themselves, the Series are not terribly useful, but they form the basis of DataFrames, so it's good to understand them separately."
      ]
    },
    {
      "cell_type": "markdown",
      "metadata": {
        "id": "96o22Bao-biJ"
      },
      "source": [
        "## DataFrames\n",
        "DataFrames are the fundamental way in which data is organized in `pandas.` You can think of a DataFrame in close analogy with a table in Excel: it is a two-dimensional table that has Series as its columns."
      ]
    },
    {
      "cell_type": "markdown",
      "metadata": {
        "id": "oHeCtjNMBanP"
      },
      "source": [
        "### Basics"
      ]
    },
    {
      "cell_type": "markdown",
      "metadata": {
        "id": "p2rM0JsYC30r"
      },
      "source": [
        "Normally we read DataFrames from files, but here, we will show you two ways to create a DataFrame, either from a list of lists or from a dictionary. These might be useful in their own right.\n",
        "\n",
        "First, this is how to create a DataFrame from a dictionary. The keys correspond to the column names, and the values correspond to the values of the column (for every row)."
      ]
    },
    {
      "cell_type": "code",
      "execution_count": null,
      "metadata": {
        "id": "ywB2WTFj-bif",
        "colab": {
          "base_uri": "https://localhost:8080/"
        },
        "outputId": "be944038-b239-47c4-c0f1-f645e89bd7d4"
      },
      "outputs": [
        {
          "output_type": "display_data",
          "data": {
            "text/plain": [
              "      Name  Age     Id           City\n",
              "0    Alice   25  10001       New York\n",
              "1      Bob   30  10002  San Francisco\n",
              "2  Charlie   22  10003    Los Angeles\n",
              "3    David   28  10004        Chicago"
            ],
            "text/html": [
              "\n",
              "  <div id=\"df-4431ab42-8098-4d64-804f-46bd7a18fdf0\" class=\"colab-df-container\">\n",
              "    <div>\n",
              "<style scoped>\n",
              "    .dataframe tbody tr th:only-of-type {\n",
              "        vertical-align: middle;\n",
              "    }\n",
              "\n",
              "    .dataframe tbody tr th {\n",
              "        vertical-align: top;\n",
              "    }\n",
              "\n",
              "    .dataframe thead th {\n",
              "        text-align: right;\n",
              "    }\n",
              "</style>\n",
              "<table border=\"1\" class=\"dataframe\">\n",
              "  <thead>\n",
              "    <tr style=\"text-align: right;\">\n",
              "      <th></th>\n",
              "      <th>Name</th>\n",
              "      <th>Age</th>\n",
              "      <th>Id</th>\n",
              "      <th>City</th>\n",
              "    </tr>\n",
              "  </thead>\n",
              "  <tbody>\n",
              "    <tr>\n",
              "      <th>0</th>\n",
              "      <td>Alice</td>\n",
              "      <td>25</td>\n",
              "      <td>10001</td>\n",
              "      <td>New York</td>\n",
              "    </tr>\n",
              "    <tr>\n",
              "      <th>1</th>\n",
              "      <td>Bob</td>\n",
              "      <td>30</td>\n",
              "      <td>10002</td>\n",
              "      <td>San Francisco</td>\n",
              "    </tr>\n",
              "    <tr>\n",
              "      <th>2</th>\n",
              "      <td>Charlie</td>\n",
              "      <td>22</td>\n",
              "      <td>10003</td>\n",
              "      <td>Los Angeles</td>\n",
              "    </tr>\n",
              "    <tr>\n",
              "      <th>3</th>\n",
              "      <td>David</td>\n",
              "      <td>28</td>\n",
              "      <td>10004</td>\n",
              "      <td>Chicago</td>\n",
              "    </tr>\n",
              "  </tbody>\n",
              "</table>\n",
              "</div>\n",
              "    <div class=\"colab-df-buttons\">\n",
              "\n",
              "  <div class=\"colab-df-container\">\n",
              "    <button class=\"colab-df-convert\" onclick=\"convertToInteractive('df-4431ab42-8098-4d64-804f-46bd7a18fdf0')\"\n",
              "            title=\"Convert this dataframe to an interactive table.\"\n",
              "            style=\"display:none;\">\n",
              "\n",
              "  <svg xmlns=\"http://www.w3.org/2000/svg\" height=\"24px\" viewBox=\"0 -960 960 960\">\n",
              "    <path d=\"M120-120v-720h720v720H120Zm60-500h600v-160H180v160Zm220 220h160v-160H400v160Zm0 220h160v-160H400v160ZM180-400h160v-160H180v160Zm440 0h160v-160H620v160ZM180-180h160v-160H180v160Zm440 0h160v-160H620v160Z\"/>\n",
              "  </svg>\n",
              "    </button>\n",
              "\n",
              "  <style>\n",
              "    .colab-df-container {\n",
              "      display:flex;\n",
              "      gap: 12px;\n",
              "    }\n",
              "\n",
              "    .colab-df-convert {\n",
              "      background-color: #E8F0FE;\n",
              "      border: none;\n",
              "      border-radius: 50%;\n",
              "      cursor: pointer;\n",
              "      display: none;\n",
              "      fill: #1967D2;\n",
              "      height: 32px;\n",
              "      padding: 0 0 0 0;\n",
              "      width: 32px;\n",
              "    }\n",
              "\n",
              "    .colab-df-convert:hover {\n",
              "      background-color: #E2EBFA;\n",
              "      box-shadow: 0px 1px 2px rgba(60, 64, 67, 0.3), 0px 1px 3px 1px rgba(60, 64, 67, 0.15);\n",
              "      fill: #174EA6;\n",
              "    }\n",
              "\n",
              "    .colab-df-buttons div {\n",
              "      margin-bottom: 4px;\n",
              "    }\n",
              "\n",
              "    [theme=dark] .colab-df-convert {\n",
              "      background-color: #3B4455;\n",
              "      fill: #D2E3FC;\n",
              "    }\n",
              "\n",
              "    [theme=dark] .colab-df-convert:hover {\n",
              "      background-color: #434B5C;\n",
              "      box-shadow: 0px 1px 3px 1px rgba(0, 0, 0, 0.15);\n",
              "      filter: drop-shadow(0px 1px 2px rgba(0, 0, 0, 0.3));\n",
              "      fill: #FFFFFF;\n",
              "    }\n",
              "  </style>\n",
              "\n",
              "    <script>\n",
              "      const buttonEl =\n",
              "        document.querySelector('#df-4431ab42-8098-4d64-804f-46bd7a18fdf0 button.colab-df-convert');\n",
              "      buttonEl.style.display =\n",
              "        google.colab.kernel.accessAllowed ? 'block' : 'none';\n",
              "\n",
              "      async function convertToInteractive(key) {\n",
              "        const element = document.querySelector('#df-4431ab42-8098-4d64-804f-46bd7a18fdf0');\n",
              "        const dataTable =\n",
              "          await google.colab.kernel.invokeFunction('convertToInteractive',\n",
              "                                                    [key], {});\n",
              "        if (!dataTable) return;\n",
              "\n",
              "        const docLinkHtml = 'Like what you see? Visit the ' +\n",
              "          '<a target=\"_blank\" href=https://colab.research.google.com/notebooks/data_table.ipynb>data table notebook</a>'\n",
              "          + ' to learn more about interactive tables.';\n",
              "        element.innerHTML = '';\n",
              "        dataTable['output_type'] = 'display_data';\n",
              "        await google.colab.output.renderOutput(dataTable, element);\n",
              "        const docLink = document.createElement('div');\n",
              "        docLink.innerHTML = docLinkHtml;\n",
              "        element.appendChild(docLink);\n",
              "      }\n",
              "    </script>\n",
              "  </div>\n",
              "\n",
              "\n",
              "<div id=\"df-7c47e498-84c5-423b-815a-c2a2ecdfec4a\">\n",
              "  <button class=\"colab-df-quickchart\" onclick=\"quickchart('df-7c47e498-84c5-423b-815a-c2a2ecdfec4a')\"\n",
              "            title=\"Suggest charts\"\n",
              "            style=\"display:none;\">\n",
              "\n",
              "<svg xmlns=\"http://www.w3.org/2000/svg\" height=\"24px\"viewBox=\"0 0 24 24\"\n",
              "     width=\"24px\">\n",
              "    <g>\n",
              "        <path d=\"M19 3H5c-1.1 0-2 .9-2 2v14c0 1.1.9 2 2 2h14c1.1 0 2-.9 2-2V5c0-1.1-.9-2-2-2zM9 17H7v-7h2v7zm4 0h-2V7h2v10zm4 0h-2v-4h2v4z\"/>\n",
              "    </g>\n",
              "</svg>\n",
              "  </button>\n",
              "\n",
              "<style>\n",
              "  .colab-df-quickchart {\n",
              "      --bg-color: #E8F0FE;\n",
              "      --fill-color: #1967D2;\n",
              "      --hover-bg-color: #E2EBFA;\n",
              "      --hover-fill-color: #174EA6;\n",
              "      --disabled-fill-color: #AAA;\n",
              "      --disabled-bg-color: #DDD;\n",
              "  }\n",
              "\n",
              "  [theme=dark] .colab-df-quickchart {\n",
              "      --bg-color: #3B4455;\n",
              "      --fill-color: #D2E3FC;\n",
              "      --hover-bg-color: #434B5C;\n",
              "      --hover-fill-color: #FFFFFF;\n",
              "      --disabled-bg-color: #3B4455;\n",
              "      --disabled-fill-color: #666;\n",
              "  }\n",
              "\n",
              "  .colab-df-quickchart {\n",
              "    background-color: var(--bg-color);\n",
              "    border: none;\n",
              "    border-radius: 50%;\n",
              "    cursor: pointer;\n",
              "    display: none;\n",
              "    fill: var(--fill-color);\n",
              "    height: 32px;\n",
              "    padding: 0;\n",
              "    width: 32px;\n",
              "  }\n",
              "\n",
              "  .colab-df-quickchart:hover {\n",
              "    background-color: var(--hover-bg-color);\n",
              "    box-shadow: 0 1px 2px rgba(60, 64, 67, 0.3), 0 1px 3px 1px rgba(60, 64, 67, 0.15);\n",
              "    fill: var(--button-hover-fill-color);\n",
              "  }\n",
              "\n",
              "  .colab-df-quickchart-complete:disabled,\n",
              "  .colab-df-quickchart-complete:disabled:hover {\n",
              "    background-color: var(--disabled-bg-color);\n",
              "    fill: var(--disabled-fill-color);\n",
              "    box-shadow: none;\n",
              "  }\n",
              "\n",
              "  .colab-df-spinner {\n",
              "    border: 2px solid var(--fill-color);\n",
              "    border-color: transparent;\n",
              "    border-bottom-color: var(--fill-color);\n",
              "    animation:\n",
              "      spin 1s steps(1) infinite;\n",
              "  }\n",
              "\n",
              "  @keyframes spin {\n",
              "    0% {\n",
              "      border-color: transparent;\n",
              "      border-bottom-color: var(--fill-color);\n",
              "      border-left-color: var(--fill-color);\n",
              "    }\n",
              "    20% {\n",
              "      border-color: transparent;\n",
              "      border-left-color: var(--fill-color);\n",
              "      border-top-color: var(--fill-color);\n",
              "    }\n",
              "    30% {\n",
              "      border-color: transparent;\n",
              "      border-left-color: var(--fill-color);\n",
              "      border-top-color: var(--fill-color);\n",
              "      border-right-color: var(--fill-color);\n",
              "    }\n",
              "    40% {\n",
              "      border-color: transparent;\n",
              "      border-right-color: var(--fill-color);\n",
              "      border-top-color: var(--fill-color);\n",
              "    }\n",
              "    60% {\n",
              "      border-color: transparent;\n",
              "      border-right-color: var(--fill-color);\n",
              "    }\n",
              "    80% {\n",
              "      border-color: transparent;\n",
              "      border-right-color: var(--fill-color);\n",
              "      border-bottom-color: var(--fill-color);\n",
              "    }\n",
              "    90% {\n",
              "      border-color: transparent;\n",
              "      border-bottom-color: var(--fill-color);\n",
              "    }\n",
              "  }\n",
              "</style>\n",
              "\n",
              "  <script>\n",
              "    async function quickchart(key) {\n",
              "      const quickchartButtonEl =\n",
              "        document.querySelector('#' + key + ' button');\n",
              "      quickchartButtonEl.disabled = true;  // To prevent multiple clicks.\n",
              "      quickchartButtonEl.classList.add('colab-df-spinner');\n",
              "      try {\n",
              "        const charts = await google.colab.kernel.invokeFunction(\n",
              "            'suggestCharts', [key], {});\n",
              "      } catch (error) {\n",
              "        console.error('Error during call to suggestCharts:', error);\n",
              "      }\n",
              "      quickchartButtonEl.classList.remove('colab-df-spinner');\n",
              "      quickchartButtonEl.classList.add('colab-df-quickchart-complete');\n",
              "    }\n",
              "    (() => {\n",
              "      let quickchartButtonEl =\n",
              "        document.querySelector('#df-7c47e498-84c5-423b-815a-c2a2ecdfec4a button');\n",
              "      quickchartButtonEl.style.display =\n",
              "        google.colab.kernel.accessAllowed ? 'block' : 'none';\n",
              "    })();\n",
              "  </script>\n",
              "</div>\n",
              "\n",
              "  <div id=\"id_807f047d-73d8-4b1c-ae38-90cb6636c2cf\">\n",
              "    <style>\n",
              "      .colab-df-generate {\n",
              "        background-color: #E8F0FE;\n",
              "        border: none;\n",
              "        border-radius: 50%;\n",
              "        cursor: pointer;\n",
              "        display: none;\n",
              "        fill: #1967D2;\n",
              "        height: 32px;\n",
              "        padding: 0 0 0 0;\n",
              "        width: 32px;\n",
              "      }\n",
              "\n",
              "      .colab-df-generate:hover {\n",
              "        background-color: #E2EBFA;\n",
              "        box-shadow: 0px 1px 2px rgba(60, 64, 67, 0.3), 0px 1px 3px 1px rgba(60, 64, 67, 0.15);\n",
              "        fill: #174EA6;\n",
              "      }\n",
              "\n",
              "      [theme=dark] .colab-df-generate {\n",
              "        background-color: #3B4455;\n",
              "        fill: #D2E3FC;\n",
              "      }\n",
              "\n",
              "      [theme=dark] .colab-df-generate:hover {\n",
              "        background-color: #434B5C;\n",
              "        box-shadow: 0px 1px 3px 1px rgba(0, 0, 0, 0.15);\n",
              "        filter: drop-shadow(0px 1px 2px rgba(0, 0, 0, 0.3));\n",
              "        fill: #FFFFFF;\n",
              "      }\n",
              "    </style>\n",
              "    <button class=\"colab-df-generate\" onclick=\"generateWithVariable('df')\"\n",
              "            title=\"Generate code using this dataframe.\"\n",
              "            style=\"display:none;\">\n",
              "\n",
              "  <svg xmlns=\"http://www.w3.org/2000/svg\" height=\"24px\"viewBox=\"0 0 24 24\"\n",
              "       width=\"24px\">\n",
              "    <path d=\"M7,19H8.4L18.45,9,17,7.55,7,17.6ZM5,21V16.75L18.45,3.32a2,2,0,0,1,2.83,0l1.4,1.43a1.91,1.91,0,0,1,.58,1.4,1.91,1.91,0,0,1-.58,1.4L9.25,21ZM18.45,9,17,7.55Zm-12,3A5.31,5.31,0,0,0,4.9,8.1,5.31,5.31,0,0,0,1,6.5,5.31,5.31,0,0,0,4.9,4.9,5.31,5.31,0,0,0,6.5,1,5.31,5.31,0,0,0,8.1,4.9,5.31,5.31,0,0,0,12,6.5,5.46,5.46,0,0,0,6.5,12Z\"/>\n",
              "  </svg>\n",
              "    </button>\n",
              "    <script>\n",
              "      (() => {\n",
              "      const buttonEl =\n",
              "        document.querySelector('#id_807f047d-73d8-4b1c-ae38-90cb6636c2cf button.colab-df-generate');\n",
              "      buttonEl.style.display =\n",
              "        google.colab.kernel.accessAllowed ? 'block' : 'none';\n",
              "\n",
              "      buttonEl.onclick = () => {\n",
              "        google.colab.notebook.generateWithVariable('df');\n",
              "      }\n",
              "      })();\n",
              "    </script>\n",
              "  </div>\n",
              "\n",
              "    </div>\n",
              "  </div>\n"
            ],
            "application/vnd.google.colaboratory.intrinsic+json": {
              "type": "dataframe",
              "variable_name": "df",
              "summary": "{\n  \"name\": \"df\",\n  \"rows\": 4,\n  \"fields\": [\n    {\n      \"column\": \"Name\",\n      \"properties\": {\n        \"dtype\": \"string\",\n        \"num_unique_values\": 4,\n        \"samples\": [\n          \"Bob\",\n          \"David\",\n          \"Alice\"\n        ],\n        \"semantic_type\": \"\",\n        \"description\": \"\"\n      }\n    },\n    {\n      \"column\": \"Age\",\n      \"properties\": {\n        \"dtype\": \"number\",\n        \"std\": 3,\n        \"min\": 22,\n        \"max\": 30,\n        \"num_unique_values\": 4,\n        \"samples\": [\n          30,\n          28,\n          25\n        ],\n        \"semantic_type\": \"\",\n        \"description\": \"\"\n      }\n    },\n    {\n      \"column\": \"Id\",\n      \"properties\": {\n        \"dtype\": \"number\",\n        \"std\": 1,\n        \"min\": 10001,\n        \"max\": 10004,\n        \"num_unique_values\": 4,\n        \"samples\": [\n          10002,\n          10004,\n          10001\n        ],\n        \"semantic_type\": \"\",\n        \"description\": \"\"\n      }\n    },\n    {\n      \"column\": \"City\",\n      \"properties\": {\n        \"dtype\": \"string\",\n        \"num_unique_values\": 4,\n        \"samples\": [\n          \"San Francisco\",\n          \"Chicago\",\n          \"New York\"\n        ],\n        \"semantic_type\": \"\",\n        \"description\": \"\"\n      }\n    }\n  ]\n}"
            }
          },
          "metadata": {}
        }
      ],
      "source": [
        "# a dictionary that stores some data\n",
        "dictionary_with_data = {\n",
        "    'Name': ['Alice', 'Bob', 'Charlie', 'David'],\n",
        "    'Age': [25, 30, 22, 28],\n",
        "    'Id' : [10001, 10002, 10003, 10004],\n",
        "    'City': ['New York', 'San Francisco', 'Los Angeles', 'Chicago']\n",
        "}\n",
        "\n",
        "# create a DataFrame from the dictionary\n",
        "df = pd.DataFrame(dictionary_with_data)\n",
        "\n",
        "# display it\n",
        "display(df)"
      ]
    },
    {
      "cell_type": "markdown",
      "metadata": {
        "id": "NCl7wCTPCyjt"
      },
      "source": [
        "Next, you can create a DataFrame also from a list of lists. The outer list contains one element for each **row** of the dataframe; each element of the outer list is itself a list, that contains the values for each column (corresponding to a row). We use the same example as above for clarity."
      ]
    },
    {
      "cell_type": "code",
      "execution_count": null,
      "metadata": {
        "id": "9DNZ2v51DOho",
        "colab": {
          "base_uri": "https://localhost:8080/"
        },
        "outputId": "2f0c1920-5382-43a5-fb81-d24a374a3d3e"
      },
      "outputs": [
        {
          "output_type": "display_data",
          "data": {
            "text/plain": [
              "      Name  Age     Id           City\n",
              "0    Alice   25  10001       New York\n",
              "1      Bob   30  10002  San Francisco\n",
              "2  Charlie   22  10003    Los Angeles\n",
              "3    David   28  10004        Chicago"
            ],
            "text/html": [
              "\n",
              "  <div id=\"df-3f27d1e2-9b1e-4b44-bbdc-a6a53ee26943\" class=\"colab-df-container\">\n",
              "    <div>\n",
              "<style scoped>\n",
              "    .dataframe tbody tr th:only-of-type {\n",
              "        vertical-align: middle;\n",
              "    }\n",
              "\n",
              "    .dataframe tbody tr th {\n",
              "        vertical-align: top;\n",
              "    }\n",
              "\n",
              "    .dataframe thead th {\n",
              "        text-align: right;\n",
              "    }\n",
              "</style>\n",
              "<table border=\"1\" class=\"dataframe\">\n",
              "  <thead>\n",
              "    <tr style=\"text-align: right;\">\n",
              "      <th></th>\n",
              "      <th>Name</th>\n",
              "      <th>Age</th>\n",
              "      <th>Id</th>\n",
              "      <th>City</th>\n",
              "    </tr>\n",
              "  </thead>\n",
              "  <tbody>\n",
              "    <tr>\n",
              "      <th>0</th>\n",
              "      <td>Alice</td>\n",
              "      <td>25</td>\n",
              "      <td>10001</td>\n",
              "      <td>New York</td>\n",
              "    </tr>\n",
              "    <tr>\n",
              "      <th>1</th>\n",
              "      <td>Bob</td>\n",
              "      <td>30</td>\n",
              "      <td>10002</td>\n",
              "      <td>San Francisco</td>\n",
              "    </tr>\n",
              "    <tr>\n",
              "      <th>2</th>\n",
              "      <td>Charlie</td>\n",
              "      <td>22</td>\n",
              "      <td>10003</td>\n",
              "      <td>Los Angeles</td>\n",
              "    </tr>\n",
              "    <tr>\n",
              "      <th>3</th>\n",
              "      <td>David</td>\n",
              "      <td>28</td>\n",
              "      <td>10004</td>\n",
              "      <td>Chicago</td>\n",
              "    </tr>\n",
              "  </tbody>\n",
              "</table>\n",
              "</div>\n",
              "    <div class=\"colab-df-buttons\">\n",
              "\n",
              "  <div class=\"colab-df-container\">\n",
              "    <button class=\"colab-df-convert\" onclick=\"convertToInteractive('df-3f27d1e2-9b1e-4b44-bbdc-a6a53ee26943')\"\n",
              "            title=\"Convert this dataframe to an interactive table.\"\n",
              "            style=\"display:none;\">\n",
              "\n",
              "  <svg xmlns=\"http://www.w3.org/2000/svg\" height=\"24px\" viewBox=\"0 -960 960 960\">\n",
              "    <path d=\"M120-120v-720h720v720H120Zm60-500h600v-160H180v160Zm220 220h160v-160H400v160Zm0 220h160v-160H400v160ZM180-400h160v-160H180v160Zm440 0h160v-160H620v160ZM180-180h160v-160H180v160Zm440 0h160v-160H620v160Z\"/>\n",
              "  </svg>\n",
              "    </button>\n",
              "\n",
              "  <style>\n",
              "    .colab-df-container {\n",
              "      display:flex;\n",
              "      gap: 12px;\n",
              "    }\n",
              "\n",
              "    .colab-df-convert {\n",
              "      background-color: #E8F0FE;\n",
              "      border: none;\n",
              "      border-radius: 50%;\n",
              "      cursor: pointer;\n",
              "      display: none;\n",
              "      fill: #1967D2;\n",
              "      height: 32px;\n",
              "      padding: 0 0 0 0;\n",
              "      width: 32px;\n",
              "    }\n",
              "\n",
              "    .colab-df-convert:hover {\n",
              "      background-color: #E2EBFA;\n",
              "      box-shadow: 0px 1px 2px rgba(60, 64, 67, 0.3), 0px 1px 3px 1px rgba(60, 64, 67, 0.15);\n",
              "      fill: #174EA6;\n",
              "    }\n",
              "\n",
              "    .colab-df-buttons div {\n",
              "      margin-bottom: 4px;\n",
              "    }\n",
              "\n",
              "    [theme=dark] .colab-df-convert {\n",
              "      background-color: #3B4455;\n",
              "      fill: #D2E3FC;\n",
              "    }\n",
              "\n",
              "    [theme=dark] .colab-df-convert:hover {\n",
              "      background-color: #434B5C;\n",
              "      box-shadow: 0px 1px 3px 1px rgba(0, 0, 0, 0.15);\n",
              "      filter: drop-shadow(0px 1px 2px rgba(0, 0, 0, 0.3));\n",
              "      fill: #FFFFFF;\n",
              "    }\n",
              "  </style>\n",
              "\n",
              "    <script>\n",
              "      const buttonEl =\n",
              "        document.querySelector('#df-3f27d1e2-9b1e-4b44-bbdc-a6a53ee26943 button.colab-df-convert');\n",
              "      buttonEl.style.display =\n",
              "        google.colab.kernel.accessAllowed ? 'block' : 'none';\n",
              "\n",
              "      async function convertToInteractive(key) {\n",
              "        const element = document.querySelector('#df-3f27d1e2-9b1e-4b44-bbdc-a6a53ee26943');\n",
              "        const dataTable =\n",
              "          await google.colab.kernel.invokeFunction('convertToInteractive',\n",
              "                                                    [key], {});\n",
              "        if (!dataTable) return;\n",
              "\n",
              "        const docLinkHtml = 'Like what you see? Visit the ' +\n",
              "          '<a target=\"_blank\" href=https://colab.research.google.com/notebooks/data_table.ipynb>data table notebook</a>'\n",
              "          + ' to learn more about interactive tables.';\n",
              "        element.innerHTML = '';\n",
              "        dataTable['output_type'] = 'display_data';\n",
              "        await google.colab.output.renderOutput(dataTable, element);\n",
              "        const docLink = document.createElement('div');\n",
              "        docLink.innerHTML = docLinkHtml;\n",
              "        element.appendChild(docLink);\n",
              "      }\n",
              "    </script>\n",
              "  </div>\n",
              "\n",
              "\n",
              "<div id=\"df-3dd0c920-2e38-4a60-a979-502e2c59d478\">\n",
              "  <button class=\"colab-df-quickchart\" onclick=\"quickchart('df-3dd0c920-2e38-4a60-a979-502e2c59d478')\"\n",
              "            title=\"Suggest charts\"\n",
              "            style=\"display:none;\">\n",
              "\n",
              "<svg xmlns=\"http://www.w3.org/2000/svg\" height=\"24px\"viewBox=\"0 0 24 24\"\n",
              "     width=\"24px\">\n",
              "    <g>\n",
              "        <path d=\"M19 3H5c-1.1 0-2 .9-2 2v14c0 1.1.9 2 2 2h14c1.1 0 2-.9 2-2V5c0-1.1-.9-2-2-2zM9 17H7v-7h2v7zm4 0h-2V7h2v10zm4 0h-2v-4h2v4z\"/>\n",
              "    </g>\n",
              "</svg>\n",
              "  </button>\n",
              "\n",
              "<style>\n",
              "  .colab-df-quickchart {\n",
              "      --bg-color: #E8F0FE;\n",
              "      --fill-color: #1967D2;\n",
              "      --hover-bg-color: #E2EBFA;\n",
              "      --hover-fill-color: #174EA6;\n",
              "      --disabled-fill-color: #AAA;\n",
              "      --disabled-bg-color: #DDD;\n",
              "  }\n",
              "\n",
              "  [theme=dark] .colab-df-quickchart {\n",
              "      --bg-color: #3B4455;\n",
              "      --fill-color: #D2E3FC;\n",
              "      --hover-bg-color: #434B5C;\n",
              "      --hover-fill-color: #FFFFFF;\n",
              "      --disabled-bg-color: #3B4455;\n",
              "      --disabled-fill-color: #666;\n",
              "  }\n",
              "\n",
              "  .colab-df-quickchart {\n",
              "    background-color: var(--bg-color);\n",
              "    border: none;\n",
              "    border-radius: 50%;\n",
              "    cursor: pointer;\n",
              "    display: none;\n",
              "    fill: var(--fill-color);\n",
              "    height: 32px;\n",
              "    padding: 0;\n",
              "    width: 32px;\n",
              "  }\n",
              "\n",
              "  .colab-df-quickchart:hover {\n",
              "    background-color: var(--hover-bg-color);\n",
              "    box-shadow: 0 1px 2px rgba(60, 64, 67, 0.3), 0 1px 3px 1px rgba(60, 64, 67, 0.15);\n",
              "    fill: var(--button-hover-fill-color);\n",
              "  }\n",
              "\n",
              "  .colab-df-quickchart-complete:disabled,\n",
              "  .colab-df-quickchart-complete:disabled:hover {\n",
              "    background-color: var(--disabled-bg-color);\n",
              "    fill: var(--disabled-fill-color);\n",
              "    box-shadow: none;\n",
              "  }\n",
              "\n",
              "  .colab-df-spinner {\n",
              "    border: 2px solid var(--fill-color);\n",
              "    border-color: transparent;\n",
              "    border-bottom-color: var(--fill-color);\n",
              "    animation:\n",
              "      spin 1s steps(1) infinite;\n",
              "  }\n",
              "\n",
              "  @keyframes spin {\n",
              "    0% {\n",
              "      border-color: transparent;\n",
              "      border-bottom-color: var(--fill-color);\n",
              "      border-left-color: var(--fill-color);\n",
              "    }\n",
              "    20% {\n",
              "      border-color: transparent;\n",
              "      border-left-color: var(--fill-color);\n",
              "      border-top-color: var(--fill-color);\n",
              "    }\n",
              "    30% {\n",
              "      border-color: transparent;\n",
              "      border-left-color: var(--fill-color);\n",
              "      border-top-color: var(--fill-color);\n",
              "      border-right-color: var(--fill-color);\n",
              "    }\n",
              "    40% {\n",
              "      border-color: transparent;\n",
              "      border-right-color: var(--fill-color);\n",
              "      border-top-color: var(--fill-color);\n",
              "    }\n",
              "    60% {\n",
              "      border-color: transparent;\n",
              "      border-right-color: var(--fill-color);\n",
              "    }\n",
              "    80% {\n",
              "      border-color: transparent;\n",
              "      border-right-color: var(--fill-color);\n",
              "      border-bottom-color: var(--fill-color);\n",
              "    }\n",
              "    90% {\n",
              "      border-color: transparent;\n",
              "      border-bottom-color: var(--fill-color);\n",
              "    }\n",
              "  }\n",
              "</style>\n",
              "\n",
              "  <script>\n",
              "    async function quickchart(key) {\n",
              "      const quickchartButtonEl =\n",
              "        document.querySelector('#' + key + ' button');\n",
              "      quickchartButtonEl.disabled = true;  // To prevent multiple clicks.\n",
              "      quickchartButtonEl.classList.add('colab-df-spinner');\n",
              "      try {\n",
              "        const charts = await google.colab.kernel.invokeFunction(\n",
              "            'suggestCharts', [key], {});\n",
              "      } catch (error) {\n",
              "        console.error('Error during call to suggestCharts:', error);\n",
              "      }\n",
              "      quickchartButtonEl.classList.remove('colab-df-spinner');\n",
              "      quickchartButtonEl.classList.add('colab-df-quickchart-complete');\n",
              "    }\n",
              "    (() => {\n",
              "      let quickchartButtonEl =\n",
              "        document.querySelector('#df-3dd0c920-2e38-4a60-a979-502e2c59d478 button');\n",
              "      quickchartButtonEl.style.display =\n",
              "        google.colab.kernel.accessAllowed ? 'block' : 'none';\n",
              "    })();\n",
              "  </script>\n",
              "</div>\n",
              "\n",
              "  <div id=\"id_93ff111e-e0a9-4e12-8c40-1e6b80af7ff6\">\n",
              "    <style>\n",
              "      .colab-df-generate {\n",
              "        background-color: #E8F0FE;\n",
              "        border: none;\n",
              "        border-radius: 50%;\n",
              "        cursor: pointer;\n",
              "        display: none;\n",
              "        fill: #1967D2;\n",
              "        height: 32px;\n",
              "        padding: 0 0 0 0;\n",
              "        width: 32px;\n",
              "      }\n",
              "\n",
              "      .colab-df-generate:hover {\n",
              "        background-color: #E2EBFA;\n",
              "        box-shadow: 0px 1px 2px rgba(60, 64, 67, 0.3), 0px 1px 3px 1px rgba(60, 64, 67, 0.15);\n",
              "        fill: #174EA6;\n",
              "      }\n",
              "\n",
              "      [theme=dark] .colab-df-generate {\n",
              "        background-color: #3B4455;\n",
              "        fill: #D2E3FC;\n",
              "      }\n",
              "\n",
              "      [theme=dark] .colab-df-generate:hover {\n",
              "        background-color: #434B5C;\n",
              "        box-shadow: 0px 1px 3px 1px rgba(0, 0, 0, 0.15);\n",
              "        filter: drop-shadow(0px 1px 2px rgba(0, 0, 0, 0.3));\n",
              "        fill: #FFFFFF;\n",
              "      }\n",
              "    </style>\n",
              "    <button class=\"colab-df-generate\" onclick=\"generateWithVariable('df')\"\n",
              "            title=\"Generate code using this dataframe.\"\n",
              "            style=\"display:none;\">\n",
              "\n",
              "  <svg xmlns=\"http://www.w3.org/2000/svg\" height=\"24px\"viewBox=\"0 0 24 24\"\n",
              "       width=\"24px\">\n",
              "    <path d=\"M7,19H8.4L18.45,9,17,7.55,7,17.6ZM5,21V16.75L18.45,3.32a2,2,0,0,1,2.83,0l1.4,1.43a1.91,1.91,0,0,1,.58,1.4,1.91,1.91,0,0,1-.58,1.4L9.25,21ZM18.45,9,17,7.55Zm-12,3A5.31,5.31,0,0,0,4.9,8.1,5.31,5.31,0,0,0,1,6.5,5.31,5.31,0,0,0,4.9,4.9,5.31,5.31,0,0,0,6.5,1,5.31,5.31,0,0,0,8.1,4.9,5.31,5.31,0,0,0,12,6.5,5.46,5.46,0,0,0,6.5,12Z\"/>\n",
              "  </svg>\n",
              "    </button>\n",
              "    <script>\n",
              "      (() => {\n",
              "      const buttonEl =\n",
              "        document.querySelector('#id_93ff111e-e0a9-4e12-8c40-1e6b80af7ff6 button.colab-df-generate');\n",
              "      buttonEl.style.display =\n",
              "        google.colab.kernel.accessAllowed ? 'block' : 'none';\n",
              "\n",
              "      buttonEl.onclick = () => {\n",
              "        google.colab.notebook.generateWithVariable('df');\n",
              "      }\n",
              "      })();\n",
              "    </script>\n",
              "  </div>\n",
              "\n",
              "    </div>\n",
              "  </div>\n"
            ],
            "application/vnd.google.colaboratory.intrinsic+json": {
              "type": "dataframe",
              "variable_name": "df",
              "summary": "{\n  \"name\": \"df\",\n  \"rows\": 4,\n  \"fields\": [\n    {\n      \"column\": \"Name\",\n      \"properties\": {\n        \"dtype\": \"string\",\n        \"num_unique_values\": 4,\n        \"samples\": [\n          \"Bob\",\n          \"David\",\n          \"Alice\"\n        ],\n        \"semantic_type\": \"\",\n        \"description\": \"\"\n      }\n    },\n    {\n      \"column\": \"Age\",\n      \"properties\": {\n        \"dtype\": \"number\",\n        \"std\": 3,\n        \"min\": 22,\n        \"max\": 30,\n        \"num_unique_values\": 4,\n        \"samples\": [\n          30,\n          28,\n          25\n        ],\n        \"semantic_type\": \"\",\n        \"description\": \"\"\n      }\n    },\n    {\n      \"column\": \"Id\",\n      \"properties\": {\n        \"dtype\": \"number\",\n        \"std\": 1,\n        \"min\": 10001,\n        \"max\": 10004,\n        \"num_unique_values\": 4,\n        \"samples\": [\n          10002,\n          10004,\n          10001\n        ],\n        \"semantic_type\": \"\",\n        \"description\": \"\"\n      }\n    },\n    {\n      \"column\": \"City\",\n      \"properties\": {\n        \"dtype\": \"string\",\n        \"num_unique_values\": 4,\n        \"samples\": [\n          \"San Francisco\",\n          \"Chicago\",\n          \"New York\"\n        ],\n        \"semantic_type\": \"\",\n        \"description\": \"\"\n      }\n    }\n  ]\n}"
            }
          },
          "metadata": {}
        }
      ],
      "source": [
        "# a list of lists (!) to store the data\n",
        "list_of_lists_of_data = [ ['Alice', 25, 10001, 'New York'], \\\n",
        " ['Bob', 30, 10002, 'San Francisco'], \\\n",
        " ['Charlie', 22, 10003, 'Los Angeles'], \\\n",
        " ['David', 28, 10004, 'Chicago'] ]\n",
        "\n",
        "# create a DataFrame from the dictionary\n",
        "df = pd.DataFrame(list_of_lists_of_data, columns = [\"Name\", \"Age\", \"Id\", \"City\"])\n",
        "\n",
        "# display it\n",
        "display(df)"
      ]
    },
    {
      "cell_type": "markdown",
      "metadata": {
        "id": "O429TrsX-big"
      },
      "source": [
        "As you can see, the DataFrame is basically a table with rows and columns. The column labels/names here are \"Name\", \"Age\", \"Id\", and \"City\". The rows are labeled with 0, 1, 2, 3, which you can see displayed in the first column (to be clear, that column is not really part of our DataFrame, so the first actual column is \"Name\"). Just like for a `Series`, `pandas` assigned these labels automatically when we created the DataFrame, and it used 0, 1, 2, 3 because we didn't specify custom ones (with the `index` argument).<br>\n",
        "\n",
        "The function `display(.)`, which we already used above, is great for visualizing DataFrames. In a large DataFrame, you may want to only display a few rows, which you can do with the `head(.)` method:"
      ]
    },
    {
      "cell_type": "code",
      "execution_count": null,
      "metadata": {
        "id": "xTpSyhKwJcRA",
        "colab": {
          "base_uri": "https://localhost:8080/"
        },
        "outputId": "e33b30fd-c54a-4c04-c0f0-11aa02686e53"
      },
      "outputs": [
        {
          "output_type": "execute_result",
          "data": {
            "text/plain": [
              "    Name  Age     Id           City\n",
              "0  Alice   25  10001       New York\n",
              "1    Bob   30  10002  San Francisco"
            ],
            "text/html": [
              "\n",
              "  <div id=\"df-ca4955e1-a725-43da-bda4-63c78d959836\" class=\"colab-df-container\">\n",
              "    <div>\n",
              "<style scoped>\n",
              "    .dataframe tbody tr th:only-of-type {\n",
              "        vertical-align: middle;\n",
              "    }\n",
              "\n",
              "    .dataframe tbody tr th {\n",
              "        vertical-align: top;\n",
              "    }\n",
              "\n",
              "    .dataframe thead th {\n",
              "        text-align: right;\n",
              "    }\n",
              "</style>\n",
              "<table border=\"1\" class=\"dataframe\">\n",
              "  <thead>\n",
              "    <tr style=\"text-align: right;\">\n",
              "      <th></th>\n",
              "      <th>Name</th>\n",
              "      <th>Age</th>\n",
              "      <th>Id</th>\n",
              "      <th>City</th>\n",
              "    </tr>\n",
              "  </thead>\n",
              "  <tbody>\n",
              "    <tr>\n",
              "      <th>0</th>\n",
              "      <td>Alice</td>\n",
              "      <td>25</td>\n",
              "      <td>10001</td>\n",
              "      <td>New York</td>\n",
              "    </tr>\n",
              "    <tr>\n",
              "      <th>1</th>\n",
              "      <td>Bob</td>\n",
              "      <td>30</td>\n",
              "      <td>10002</td>\n",
              "      <td>San Francisco</td>\n",
              "    </tr>\n",
              "  </tbody>\n",
              "</table>\n",
              "</div>\n",
              "    <div class=\"colab-df-buttons\">\n",
              "\n",
              "  <div class=\"colab-df-container\">\n",
              "    <button class=\"colab-df-convert\" onclick=\"convertToInteractive('df-ca4955e1-a725-43da-bda4-63c78d959836')\"\n",
              "            title=\"Convert this dataframe to an interactive table.\"\n",
              "            style=\"display:none;\">\n",
              "\n",
              "  <svg xmlns=\"http://www.w3.org/2000/svg\" height=\"24px\" viewBox=\"0 -960 960 960\">\n",
              "    <path d=\"M120-120v-720h720v720H120Zm60-500h600v-160H180v160Zm220 220h160v-160H400v160Zm0 220h160v-160H400v160ZM180-400h160v-160H180v160Zm440 0h160v-160H620v160ZM180-180h160v-160H180v160Zm440 0h160v-160H620v160Z\"/>\n",
              "  </svg>\n",
              "    </button>\n",
              "\n",
              "  <style>\n",
              "    .colab-df-container {\n",
              "      display:flex;\n",
              "      gap: 12px;\n",
              "    }\n",
              "\n",
              "    .colab-df-convert {\n",
              "      background-color: #E8F0FE;\n",
              "      border: none;\n",
              "      border-radius: 50%;\n",
              "      cursor: pointer;\n",
              "      display: none;\n",
              "      fill: #1967D2;\n",
              "      height: 32px;\n",
              "      padding: 0 0 0 0;\n",
              "      width: 32px;\n",
              "    }\n",
              "\n",
              "    .colab-df-convert:hover {\n",
              "      background-color: #E2EBFA;\n",
              "      box-shadow: 0px 1px 2px rgba(60, 64, 67, 0.3), 0px 1px 3px 1px rgba(60, 64, 67, 0.15);\n",
              "      fill: #174EA6;\n",
              "    }\n",
              "\n",
              "    .colab-df-buttons div {\n",
              "      margin-bottom: 4px;\n",
              "    }\n",
              "\n",
              "    [theme=dark] .colab-df-convert {\n",
              "      background-color: #3B4455;\n",
              "      fill: #D2E3FC;\n",
              "    }\n",
              "\n",
              "    [theme=dark] .colab-df-convert:hover {\n",
              "      background-color: #434B5C;\n",
              "      box-shadow: 0px 1px 3px 1px rgba(0, 0, 0, 0.15);\n",
              "      filter: drop-shadow(0px 1px 2px rgba(0, 0, 0, 0.3));\n",
              "      fill: #FFFFFF;\n",
              "    }\n",
              "  </style>\n",
              "\n",
              "    <script>\n",
              "      const buttonEl =\n",
              "        document.querySelector('#df-ca4955e1-a725-43da-bda4-63c78d959836 button.colab-df-convert');\n",
              "      buttonEl.style.display =\n",
              "        google.colab.kernel.accessAllowed ? 'block' : 'none';\n",
              "\n",
              "      async function convertToInteractive(key) {\n",
              "        const element = document.querySelector('#df-ca4955e1-a725-43da-bda4-63c78d959836');\n",
              "        const dataTable =\n",
              "          await google.colab.kernel.invokeFunction('convertToInteractive',\n",
              "                                                    [key], {});\n",
              "        if (!dataTable) return;\n",
              "\n",
              "        const docLinkHtml = 'Like what you see? Visit the ' +\n",
              "          '<a target=\"_blank\" href=https://colab.research.google.com/notebooks/data_table.ipynb>data table notebook</a>'\n",
              "          + ' to learn more about interactive tables.';\n",
              "        element.innerHTML = '';\n",
              "        dataTable['output_type'] = 'display_data';\n",
              "        await google.colab.output.renderOutput(dataTable, element);\n",
              "        const docLink = document.createElement('div');\n",
              "        docLink.innerHTML = docLinkHtml;\n",
              "        element.appendChild(docLink);\n",
              "      }\n",
              "    </script>\n",
              "  </div>\n",
              "\n",
              "\n",
              "<div id=\"df-8a030ae9-9b8e-4e95-8c87-fdfe1e8dd79c\">\n",
              "  <button class=\"colab-df-quickchart\" onclick=\"quickchart('df-8a030ae9-9b8e-4e95-8c87-fdfe1e8dd79c')\"\n",
              "            title=\"Suggest charts\"\n",
              "            style=\"display:none;\">\n",
              "\n",
              "<svg xmlns=\"http://www.w3.org/2000/svg\" height=\"24px\"viewBox=\"0 0 24 24\"\n",
              "     width=\"24px\">\n",
              "    <g>\n",
              "        <path d=\"M19 3H5c-1.1 0-2 .9-2 2v14c0 1.1.9 2 2 2h14c1.1 0 2-.9 2-2V5c0-1.1-.9-2-2-2zM9 17H7v-7h2v7zm4 0h-2V7h2v10zm4 0h-2v-4h2v4z\"/>\n",
              "    </g>\n",
              "</svg>\n",
              "  </button>\n",
              "\n",
              "<style>\n",
              "  .colab-df-quickchart {\n",
              "      --bg-color: #E8F0FE;\n",
              "      --fill-color: #1967D2;\n",
              "      --hover-bg-color: #E2EBFA;\n",
              "      --hover-fill-color: #174EA6;\n",
              "      --disabled-fill-color: #AAA;\n",
              "      --disabled-bg-color: #DDD;\n",
              "  }\n",
              "\n",
              "  [theme=dark] .colab-df-quickchart {\n",
              "      --bg-color: #3B4455;\n",
              "      --fill-color: #D2E3FC;\n",
              "      --hover-bg-color: #434B5C;\n",
              "      --hover-fill-color: #FFFFFF;\n",
              "      --disabled-bg-color: #3B4455;\n",
              "      --disabled-fill-color: #666;\n",
              "  }\n",
              "\n",
              "  .colab-df-quickchart {\n",
              "    background-color: var(--bg-color);\n",
              "    border: none;\n",
              "    border-radius: 50%;\n",
              "    cursor: pointer;\n",
              "    display: none;\n",
              "    fill: var(--fill-color);\n",
              "    height: 32px;\n",
              "    padding: 0;\n",
              "    width: 32px;\n",
              "  }\n",
              "\n",
              "  .colab-df-quickchart:hover {\n",
              "    background-color: var(--hover-bg-color);\n",
              "    box-shadow: 0 1px 2px rgba(60, 64, 67, 0.3), 0 1px 3px 1px rgba(60, 64, 67, 0.15);\n",
              "    fill: var(--button-hover-fill-color);\n",
              "  }\n",
              "\n",
              "  .colab-df-quickchart-complete:disabled,\n",
              "  .colab-df-quickchart-complete:disabled:hover {\n",
              "    background-color: var(--disabled-bg-color);\n",
              "    fill: var(--disabled-fill-color);\n",
              "    box-shadow: none;\n",
              "  }\n",
              "\n",
              "  .colab-df-spinner {\n",
              "    border: 2px solid var(--fill-color);\n",
              "    border-color: transparent;\n",
              "    border-bottom-color: var(--fill-color);\n",
              "    animation:\n",
              "      spin 1s steps(1) infinite;\n",
              "  }\n",
              "\n",
              "  @keyframes spin {\n",
              "    0% {\n",
              "      border-color: transparent;\n",
              "      border-bottom-color: var(--fill-color);\n",
              "      border-left-color: var(--fill-color);\n",
              "    }\n",
              "    20% {\n",
              "      border-color: transparent;\n",
              "      border-left-color: var(--fill-color);\n",
              "      border-top-color: var(--fill-color);\n",
              "    }\n",
              "    30% {\n",
              "      border-color: transparent;\n",
              "      border-left-color: var(--fill-color);\n",
              "      border-top-color: var(--fill-color);\n",
              "      border-right-color: var(--fill-color);\n",
              "    }\n",
              "    40% {\n",
              "      border-color: transparent;\n",
              "      border-right-color: var(--fill-color);\n",
              "      border-top-color: var(--fill-color);\n",
              "    }\n",
              "    60% {\n",
              "      border-color: transparent;\n",
              "      border-right-color: var(--fill-color);\n",
              "    }\n",
              "    80% {\n",
              "      border-color: transparent;\n",
              "      border-right-color: var(--fill-color);\n",
              "      border-bottom-color: var(--fill-color);\n",
              "    }\n",
              "    90% {\n",
              "      border-color: transparent;\n",
              "      border-bottom-color: var(--fill-color);\n",
              "    }\n",
              "  }\n",
              "</style>\n",
              "\n",
              "  <script>\n",
              "    async function quickchart(key) {\n",
              "      const quickchartButtonEl =\n",
              "        document.querySelector('#' + key + ' button');\n",
              "      quickchartButtonEl.disabled = true;  // To prevent multiple clicks.\n",
              "      quickchartButtonEl.classList.add('colab-df-spinner');\n",
              "      try {\n",
              "        const charts = await google.colab.kernel.invokeFunction(\n",
              "            'suggestCharts', [key], {});\n",
              "      } catch (error) {\n",
              "        console.error('Error during call to suggestCharts:', error);\n",
              "      }\n",
              "      quickchartButtonEl.classList.remove('colab-df-spinner');\n",
              "      quickchartButtonEl.classList.add('colab-df-quickchart-complete');\n",
              "    }\n",
              "    (() => {\n",
              "      let quickchartButtonEl =\n",
              "        document.querySelector('#df-8a030ae9-9b8e-4e95-8c87-fdfe1e8dd79c button');\n",
              "      quickchartButtonEl.style.display =\n",
              "        google.colab.kernel.accessAllowed ? 'block' : 'none';\n",
              "    })();\n",
              "  </script>\n",
              "</div>\n",
              "\n",
              "    </div>\n",
              "  </div>\n"
            ],
            "application/vnd.google.colaboratory.intrinsic+json": {
              "type": "dataframe",
              "variable_name": "df",
              "summary": "{\n  \"name\": \"df\",\n  \"rows\": 4,\n  \"fields\": [\n    {\n      \"column\": \"Name\",\n      \"properties\": {\n        \"dtype\": \"string\",\n        \"num_unique_values\": 4,\n        \"samples\": [\n          \"Bob\",\n          \"David\",\n          \"Alice\"\n        ],\n        \"semantic_type\": \"\",\n        \"description\": \"\"\n      }\n    },\n    {\n      \"column\": \"Age\",\n      \"properties\": {\n        \"dtype\": \"number\",\n        \"std\": 3,\n        \"min\": 22,\n        \"max\": 30,\n        \"num_unique_values\": 4,\n        \"samples\": [\n          30,\n          28,\n          25\n        ],\n        \"semantic_type\": \"\",\n        \"description\": \"\"\n      }\n    },\n    {\n      \"column\": \"Id\",\n      \"properties\": {\n        \"dtype\": \"number\",\n        \"std\": 1,\n        \"min\": 10001,\n        \"max\": 10004,\n        \"num_unique_values\": 4,\n        \"samples\": [\n          10002,\n          10004,\n          10001\n        ],\n        \"semantic_type\": \"\",\n        \"description\": \"\"\n      }\n    },\n    {\n      \"column\": \"City\",\n      \"properties\": {\n        \"dtype\": \"string\",\n        \"num_unique_values\": 4,\n        \"samples\": [\n          \"San Francisco\",\n          \"Chicago\",\n          \"New York\"\n        ],\n        \"semantic_type\": \"\",\n        \"description\": \"\"\n      }\n    }\n  ]\n}"
            }
          },
          "metadata": {},
          "execution_count": 168
        }
      ],
      "source": [
        "# display the first 2 rows\n",
        "df.head(2)"
      ]
    },
    {
      "cell_type": "markdown",
      "metadata": {
        "id": "fR9aYyAL8ncW"
      },
      "source": [
        "To find out the number of rows, use `len(.)`"
      ]
    },
    {
      "cell_type": "code",
      "execution_count": null,
      "metadata": {
        "id": "57EoI3C68qt8",
        "colab": {
          "base_uri": "https://localhost:8080/"
        },
        "outputId": "d999fa36-8829-4635-ff07-5189ccffa8e3"
      },
      "outputs": [
        {
          "output_type": "stream",
          "name": "stdout",
          "text": [
            "4\n"
          ]
        }
      ],
      "source": [
        "# print the number of rows in the DataFrame\n",
        "print(len(df))"
      ]
    },
    {
      "cell_type": "markdown",
      "metadata": {
        "id": "kB_EjOT-BPO3"
      },
      "source": [
        "If you need both the number of rows and the number of columns, use `shape`"
      ]
    },
    {
      "cell_type": "code",
      "execution_count": null,
      "metadata": {
        "id": "Aow_V08DBT3Z",
        "colab": {
          "base_uri": "https://localhost:8080/"
        },
        "outputId": "36601df0-e273-4c42-b7c2-bf62636d442b"
      },
      "outputs": [
        {
          "output_type": "execute_result",
          "data": {
            "text/plain": [
              "(4, 4)"
            ]
          },
          "metadata": {},
          "execution_count": 170
        }
      ],
      "source": [
        "df.shape"
      ]
    },
    {
      "cell_type": "markdown",
      "metadata": {
        "id": "usyuuaoqNHuf"
      },
      "source": [
        "### Column operations"
      ]
    },
    {
      "cell_type": "markdown",
      "metadata": {
        "id": "AczO9D9HI1Bv"
      },
      "source": [
        "You can see a specific column using the syntax `df[column_name]`:"
      ]
    },
    {
      "cell_type": "code",
      "execution_count": null,
      "metadata": {
        "id": "5vCUGSjwIkoE",
        "colab": {
          "base_uri": "https://localhost:8080/"
        },
        "outputId": "18d70cd7-6a29-4612-9fac-bc2f05540cf6"
      },
      "outputs": [
        {
          "output_type": "execute_result",
          "data": {
            "text/plain": [
              "0    25\n",
              "1    30\n",
              "2    22\n",
              "3    28\n",
              "Name: Age, dtype: int64"
            ],
            "text/html": [
              "<div>\n",
              "<style scoped>\n",
              "    .dataframe tbody tr th:only-of-type {\n",
              "        vertical-align: middle;\n",
              "    }\n",
              "\n",
              "    .dataframe tbody tr th {\n",
              "        vertical-align: top;\n",
              "    }\n",
              "\n",
              "    .dataframe thead th {\n",
              "        text-align: right;\n",
              "    }\n",
              "</style>\n",
              "<table border=\"1\" class=\"dataframe\">\n",
              "  <thead>\n",
              "    <tr style=\"text-align: right;\">\n",
              "      <th></th>\n",
              "      <th>Age</th>\n",
              "    </tr>\n",
              "  </thead>\n",
              "  <tbody>\n",
              "    <tr>\n",
              "      <th>0</th>\n",
              "      <td>25</td>\n",
              "    </tr>\n",
              "    <tr>\n",
              "      <th>1</th>\n",
              "      <td>30</td>\n",
              "    </tr>\n",
              "    <tr>\n",
              "      <th>2</th>\n",
              "      <td>22</td>\n",
              "    </tr>\n",
              "    <tr>\n",
              "      <th>3</th>\n",
              "      <td>28</td>\n",
              "    </tr>\n",
              "  </tbody>\n",
              "</table>\n",
              "</div><br><label><b>dtype:</b> int64</label>"
            ]
          },
          "metadata": {},
          "execution_count": 171
        }
      ],
      "source": [
        "# check out the column \"Age\" : this is a Series, with integer values\n",
        "df[\"Age\"]"
      ]
    },
    {
      "cell_type": "markdown",
      "metadata": {
        "id": "y9eKtGSmNMMH"
      },
      "source": [
        "To rename a column, use the `rename(.)` DataFrame method"
      ]
    },
    {
      "cell_type": "code",
      "execution_count": null,
      "metadata": {
        "id": "m-fVwaYhNb6V",
        "colab": {
          "base_uri": "https://localhost:8080/"
        },
        "outputId": "96013b00-704b-4f83-e517-d7dc51034473"
      },
      "outputs": [
        {
          "output_type": "display_data",
          "data": {
            "text/plain": [
              "      Name  Years     Id       Location\n",
              "0    Alice     25  10001       New York\n",
              "1      Bob     30  10002  San Francisco\n",
              "2  Charlie     22  10003    Los Angeles\n",
              "3    David     28  10004        Chicago"
            ],
            "text/html": [
              "\n",
              "  <div id=\"df-1a4562f8-164f-4562-8449-759310c3e8aa\" class=\"colab-df-container\">\n",
              "    <div>\n",
              "<style scoped>\n",
              "    .dataframe tbody tr th:only-of-type {\n",
              "        vertical-align: middle;\n",
              "    }\n",
              "\n",
              "    .dataframe tbody tr th {\n",
              "        vertical-align: top;\n",
              "    }\n",
              "\n",
              "    .dataframe thead th {\n",
              "        text-align: right;\n",
              "    }\n",
              "</style>\n",
              "<table border=\"1\" class=\"dataframe\">\n",
              "  <thead>\n",
              "    <tr style=\"text-align: right;\">\n",
              "      <th></th>\n",
              "      <th>Name</th>\n",
              "      <th>Years</th>\n",
              "      <th>Id</th>\n",
              "      <th>Location</th>\n",
              "    </tr>\n",
              "  </thead>\n",
              "  <tbody>\n",
              "    <tr>\n",
              "      <th>0</th>\n",
              "      <td>Alice</td>\n",
              "      <td>25</td>\n",
              "      <td>10001</td>\n",
              "      <td>New York</td>\n",
              "    </tr>\n",
              "    <tr>\n",
              "      <th>1</th>\n",
              "      <td>Bob</td>\n",
              "      <td>30</td>\n",
              "      <td>10002</td>\n",
              "      <td>San Francisco</td>\n",
              "    </tr>\n",
              "    <tr>\n",
              "      <th>2</th>\n",
              "      <td>Charlie</td>\n",
              "      <td>22</td>\n",
              "      <td>10003</td>\n",
              "      <td>Los Angeles</td>\n",
              "    </tr>\n",
              "    <tr>\n",
              "      <th>3</th>\n",
              "      <td>David</td>\n",
              "      <td>28</td>\n",
              "      <td>10004</td>\n",
              "      <td>Chicago</td>\n",
              "    </tr>\n",
              "  </tbody>\n",
              "</table>\n",
              "</div>\n",
              "    <div class=\"colab-df-buttons\">\n",
              "\n",
              "  <div class=\"colab-df-container\">\n",
              "    <button class=\"colab-df-convert\" onclick=\"convertToInteractive('df-1a4562f8-164f-4562-8449-759310c3e8aa')\"\n",
              "            title=\"Convert this dataframe to an interactive table.\"\n",
              "            style=\"display:none;\">\n",
              "\n",
              "  <svg xmlns=\"http://www.w3.org/2000/svg\" height=\"24px\" viewBox=\"0 -960 960 960\">\n",
              "    <path d=\"M120-120v-720h720v720H120Zm60-500h600v-160H180v160Zm220 220h160v-160H400v160Zm0 220h160v-160H400v160ZM180-400h160v-160H180v160Zm440 0h160v-160H620v160ZM180-180h160v-160H180v160Zm440 0h160v-160H620v160Z\"/>\n",
              "  </svg>\n",
              "    </button>\n",
              "\n",
              "  <style>\n",
              "    .colab-df-container {\n",
              "      display:flex;\n",
              "      gap: 12px;\n",
              "    }\n",
              "\n",
              "    .colab-df-convert {\n",
              "      background-color: #E8F0FE;\n",
              "      border: none;\n",
              "      border-radius: 50%;\n",
              "      cursor: pointer;\n",
              "      display: none;\n",
              "      fill: #1967D2;\n",
              "      height: 32px;\n",
              "      padding: 0 0 0 0;\n",
              "      width: 32px;\n",
              "    }\n",
              "\n",
              "    .colab-df-convert:hover {\n",
              "      background-color: #E2EBFA;\n",
              "      box-shadow: 0px 1px 2px rgba(60, 64, 67, 0.3), 0px 1px 3px 1px rgba(60, 64, 67, 0.15);\n",
              "      fill: #174EA6;\n",
              "    }\n",
              "\n",
              "    .colab-df-buttons div {\n",
              "      margin-bottom: 4px;\n",
              "    }\n",
              "\n",
              "    [theme=dark] .colab-df-convert {\n",
              "      background-color: #3B4455;\n",
              "      fill: #D2E3FC;\n",
              "    }\n",
              "\n",
              "    [theme=dark] .colab-df-convert:hover {\n",
              "      background-color: #434B5C;\n",
              "      box-shadow: 0px 1px 3px 1px rgba(0, 0, 0, 0.15);\n",
              "      filter: drop-shadow(0px 1px 2px rgba(0, 0, 0, 0.3));\n",
              "      fill: #FFFFFF;\n",
              "    }\n",
              "  </style>\n",
              "\n",
              "    <script>\n",
              "      const buttonEl =\n",
              "        document.querySelector('#df-1a4562f8-164f-4562-8449-759310c3e8aa button.colab-df-convert');\n",
              "      buttonEl.style.display =\n",
              "        google.colab.kernel.accessAllowed ? 'block' : 'none';\n",
              "\n",
              "      async function convertToInteractive(key) {\n",
              "        const element = document.querySelector('#df-1a4562f8-164f-4562-8449-759310c3e8aa');\n",
              "        const dataTable =\n",
              "          await google.colab.kernel.invokeFunction('convertToInteractive',\n",
              "                                                    [key], {});\n",
              "        if (!dataTable) return;\n",
              "\n",
              "        const docLinkHtml = 'Like what you see? Visit the ' +\n",
              "          '<a target=\"_blank\" href=https://colab.research.google.com/notebooks/data_table.ipynb>data table notebook</a>'\n",
              "          + ' to learn more about interactive tables.';\n",
              "        element.innerHTML = '';\n",
              "        dataTable['output_type'] = 'display_data';\n",
              "        await google.colab.output.renderOutput(dataTable, element);\n",
              "        const docLink = document.createElement('div');\n",
              "        docLink.innerHTML = docLinkHtml;\n",
              "        element.appendChild(docLink);\n",
              "      }\n",
              "    </script>\n",
              "  </div>\n",
              "\n",
              "\n",
              "<div id=\"df-8278bcaf-3cd7-4a49-933e-33fd46accf94\">\n",
              "  <button class=\"colab-df-quickchart\" onclick=\"quickchart('df-8278bcaf-3cd7-4a49-933e-33fd46accf94')\"\n",
              "            title=\"Suggest charts\"\n",
              "            style=\"display:none;\">\n",
              "\n",
              "<svg xmlns=\"http://www.w3.org/2000/svg\" height=\"24px\"viewBox=\"0 0 24 24\"\n",
              "     width=\"24px\">\n",
              "    <g>\n",
              "        <path d=\"M19 3H5c-1.1 0-2 .9-2 2v14c0 1.1.9 2 2 2h14c1.1 0 2-.9 2-2V5c0-1.1-.9-2-2-2zM9 17H7v-7h2v7zm4 0h-2V7h2v10zm4 0h-2v-4h2v4z\"/>\n",
              "    </g>\n",
              "</svg>\n",
              "  </button>\n",
              "\n",
              "<style>\n",
              "  .colab-df-quickchart {\n",
              "      --bg-color: #E8F0FE;\n",
              "      --fill-color: #1967D2;\n",
              "      --hover-bg-color: #E2EBFA;\n",
              "      --hover-fill-color: #174EA6;\n",
              "      --disabled-fill-color: #AAA;\n",
              "      --disabled-bg-color: #DDD;\n",
              "  }\n",
              "\n",
              "  [theme=dark] .colab-df-quickchart {\n",
              "      --bg-color: #3B4455;\n",
              "      --fill-color: #D2E3FC;\n",
              "      --hover-bg-color: #434B5C;\n",
              "      --hover-fill-color: #FFFFFF;\n",
              "      --disabled-bg-color: #3B4455;\n",
              "      --disabled-fill-color: #666;\n",
              "  }\n",
              "\n",
              "  .colab-df-quickchart {\n",
              "    background-color: var(--bg-color);\n",
              "    border: none;\n",
              "    border-radius: 50%;\n",
              "    cursor: pointer;\n",
              "    display: none;\n",
              "    fill: var(--fill-color);\n",
              "    height: 32px;\n",
              "    padding: 0;\n",
              "    width: 32px;\n",
              "  }\n",
              "\n",
              "  .colab-df-quickchart:hover {\n",
              "    background-color: var(--hover-bg-color);\n",
              "    box-shadow: 0 1px 2px rgba(60, 64, 67, 0.3), 0 1px 3px 1px rgba(60, 64, 67, 0.15);\n",
              "    fill: var(--button-hover-fill-color);\n",
              "  }\n",
              "\n",
              "  .colab-df-quickchart-complete:disabled,\n",
              "  .colab-df-quickchart-complete:disabled:hover {\n",
              "    background-color: var(--disabled-bg-color);\n",
              "    fill: var(--disabled-fill-color);\n",
              "    box-shadow: none;\n",
              "  }\n",
              "\n",
              "  .colab-df-spinner {\n",
              "    border: 2px solid var(--fill-color);\n",
              "    border-color: transparent;\n",
              "    border-bottom-color: var(--fill-color);\n",
              "    animation:\n",
              "      spin 1s steps(1) infinite;\n",
              "  }\n",
              "\n",
              "  @keyframes spin {\n",
              "    0% {\n",
              "      border-color: transparent;\n",
              "      border-bottom-color: var(--fill-color);\n",
              "      border-left-color: var(--fill-color);\n",
              "    }\n",
              "    20% {\n",
              "      border-color: transparent;\n",
              "      border-left-color: var(--fill-color);\n",
              "      border-top-color: var(--fill-color);\n",
              "    }\n",
              "    30% {\n",
              "      border-color: transparent;\n",
              "      border-left-color: var(--fill-color);\n",
              "      border-top-color: var(--fill-color);\n",
              "      border-right-color: var(--fill-color);\n",
              "    }\n",
              "    40% {\n",
              "      border-color: transparent;\n",
              "      border-right-color: var(--fill-color);\n",
              "      border-top-color: var(--fill-color);\n",
              "    }\n",
              "    60% {\n",
              "      border-color: transparent;\n",
              "      border-right-color: var(--fill-color);\n",
              "    }\n",
              "    80% {\n",
              "      border-color: transparent;\n",
              "      border-right-color: var(--fill-color);\n",
              "      border-bottom-color: var(--fill-color);\n",
              "    }\n",
              "    90% {\n",
              "      border-color: transparent;\n",
              "      border-bottom-color: var(--fill-color);\n",
              "    }\n",
              "  }\n",
              "</style>\n",
              "\n",
              "  <script>\n",
              "    async function quickchart(key) {\n",
              "      const quickchartButtonEl =\n",
              "        document.querySelector('#' + key + ' button');\n",
              "      quickchartButtonEl.disabled = true;  // To prevent multiple clicks.\n",
              "      quickchartButtonEl.classList.add('colab-df-spinner');\n",
              "      try {\n",
              "        const charts = await google.colab.kernel.invokeFunction(\n",
              "            'suggestCharts', [key], {});\n",
              "      } catch (error) {\n",
              "        console.error('Error during call to suggestCharts:', error);\n",
              "      }\n",
              "      quickchartButtonEl.classList.remove('colab-df-spinner');\n",
              "      quickchartButtonEl.classList.add('colab-df-quickchart-complete');\n",
              "    }\n",
              "    (() => {\n",
              "      let quickchartButtonEl =\n",
              "        document.querySelector('#df-8278bcaf-3cd7-4a49-933e-33fd46accf94 button');\n",
              "      quickchartButtonEl.style.display =\n",
              "        google.colab.kernel.accessAllowed ? 'block' : 'none';\n",
              "    })();\n",
              "  </script>\n",
              "</div>\n",
              "\n",
              "  <div id=\"id_d21ae555-5256-42ec-aec6-410de0fd8bb6\">\n",
              "    <style>\n",
              "      .colab-df-generate {\n",
              "        background-color: #E8F0FE;\n",
              "        border: none;\n",
              "        border-radius: 50%;\n",
              "        cursor: pointer;\n",
              "        display: none;\n",
              "        fill: #1967D2;\n",
              "        height: 32px;\n",
              "        padding: 0 0 0 0;\n",
              "        width: 32px;\n",
              "      }\n",
              "\n",
              "      .colab-df-generate:hover {\n",
              "        background-color: #E2EBFA;\n",
              "        box-shadow: 0px 1px 2px rgba(60, 64, 67, 0.3), 0px 1px 3px 1px rgba(60, 64, 67, 0.15);\n",
              "        fill: #174EA6;\n",
              "      }\n",
              "\n",
              "      [theme=dark] .colab-df-generate {\n",
              "        background-color: #3B4455;\n",
              "        fill: #D2E3FC;\n",
              "      }\n",
              "\n",
              "      [theme=dark] .colab-df-generate:hover {\n",
              "        background-color: #434B5C;\n",
              "        box-shadow: 0px 1px 3px 1px rgba(0, 0, 0, 0.15);\n",
              "        filter: drop-shadow(0px 1px 2px rgba(0, 0, 0, 0.3));\n",
              "        fill: #FFFFFF;\n",
              "      }\n",
              "    </style>\n",
              "    <button class=\"colab-df-generate\" onclick=\"generateWithVariable('df')\"\n",
              "            title=\"Generate code using this dataframe.\"\n",
              "            style=\"display:none;\">\n",
              "\n",
              "  <svg xmlns=\"http://www.w3.org/2000/svg\" height=\"24px\"viewBox=\"0 0 24 24\"\n",
              "       width=\"24px\">\n",
              "    <path d=\"M7,19H8.4L18.45,9,17,7.55,7,17.6ZM5,21V16.75L18.45,3.32a2,2,0,0,1,2.83,0l1.4,1.43a1.91,1.91,0,0,1,.58,1.4,1.91,1.91,0,0,1-.58,1.4L9.25,21ZM18.45,9,17,7.55Zm-12,3A5.31,5.31,0,0,0,4.9,8.1,5.31,5.31,0,0,0,1,6.5,5.31,5.31,0,0,0,4.9,4.9,5.31,5.31,0,0,0,6.5,1,5.31,5.31,0,0,0,8.1,4.9,5.31,5.31,0,0,0,12,6.5,5.46,5.46,0,0,0,6.5,12Z\"/>\n",
              "  </svg>\n",
              "    </button>\n",
              "    <script>\n",
              "      (() => {\n",
              "      const buttonEl =\n",
              "        document.querySelector('#id_d21ae555-5256-42ec-aec6-410de0fd8bb6 button.colab-df-generate');\n",
              "      buttonEl.style.display =\n",
              "        google.colab.kernel.accessAllowed ? 'block' : 'none';\n",
              "\n",
              "      buttonEl.onclick = () => {\n",
              "        google.colab.notebook.generateWithVariable('df');\n",
              "      }\n",
              "      })();\n",
              "    </script>\n",
              "  </div>\n",
              "\n",
              "    </div>\n",
              "  </div>\n"
            ],
            "application/vnd.google.colaboratory.intrinsic+json": {
              "type": "dataframe",
              "variable_name": "df",
              "summary": "{\n  \"name\": \"df\",\n  \"rows\": 4,\n  \"fields\": [\n    {\n      \"column\": \"Name\",\n      \"properties\": {\n        \"dtype\": \"string\",\n        \"num_unique_values\": 4,\n        \"samples\": [\n          \"Bob\",\n          \"David\",\n          \"Alice\"\n        ],\n        \"semantic_type\": \"\",\n        \"description\": \"\"\n      }\n    },\n    {\n      \"column\": \"Years\",\n      \"properties\": {\n        \"dtype\": \"number\",\n        \"std\": 3,\n        \"min\": 22,\n        \"max\": 30,\n        \"num_unique_values\": 4,\n        \"samples\": [\n          30,\n          28,\n          25\n        ],\n        \"semantic_type\": \"\",\n        \"description\": \"\"\n      }\n    },\n    {\n      \"column\": \"Id\",\n      \"properties\": {\n        \"dtype\": \"number\",\n        \"std\": 1,\n        \"min\": 10001,\n        \"max\": 10004,\n        \"num_unique_values\": 4,\n        \"samples\": [\n          10002,\n          10004,\n          10001\n        ],\n        \"semantic_type\": \"\",\n        \"description\": \"\"\n      }\n    },\n    {\n      \"column\": \"Location\",\n      \"properties\": {\n        \"dtype\": \"string\",\n        \"num_unique_values\": 4,\n        \"samples\": [\n          \"San Francisco\",\n          \"Chicago\",\n          \"New York\"\n        ],\n        \"semantic_type\": \"\",\n        \"description\": \"\"\n      }\n    }\n  ]\n}"
            }
          },
          "metadata": {}
        }
      ],
      "source": [
        "# rename the \"City\" column as 'Location' and the 'Age' as 'Years'\n",
        "df.rename(columns={'City': 'Location', 'Age': 'Years'}, inplace=True)\n",
        "display(df)"
      ]
    },
    {
      "cell_type": "markdown",
      "metadata": {
        "id": "H_sqo-Q6NqLx"
      },
      "source": [
        "The argument `inplace`=True is needed to make sure that the DataFrame is actually changed (otherwise, the `rename` method just returns a new DataFrame, without changing the existing one)."
      ]
    },
    {
      "cell_type": "markdown",
      "metadata": {
        "id": "wfBLqTPPJT6Q"
      },
      "source": [
        "To obtain the names of all the columns, use the attribute `df.columns`."
      ]
    },
    {
      "cell_type": "code",
      "execution_count": null,
      "metadata": {
        "id": "EuAFJ_YeI0ng",
        "colab": {
          "base_uri": "https://localhost:8080/"
        },
        "outputId": "1af7e416-d155-454a-9c4a-d88815c3c836"
      },
      "outputs": [
        {
          "output_type": "execute_result",
          "data": {
            "text/plain": [
              "Index(['Name', 'Years', 'Id', 'Location'], dtype='object')"
            ]
          },
          "metadata": {},
          "execution_count": 173
        }
      ],
      "source": [
        "# get all the column names\n",
        "df.columns"
      ]
    },
    {
      "cell_type": "markdown",
      "metadata": {
        "id": "r1X2VJ6TLdeq"
      },
      "source": [
        "As you can see, this returns an `Index` object (which we have not discussed), but you can iterate through it with a usual `for` loop or you can transform it into a regular Python List with the function `list`."
      ]
    },
    {
      "cell_type": "code",
      "execution_count": null,
      "metadata": {
        "id": "fOfUGtZdJyxI",
        "colab": {
          "base_uri": "https://localhost:8080/"
        },
        "outputId": "72f2a410-b8d5-4045-e0fd-699b69fad29e"
      },
      "outputs": [
        {
          "output_type": "stream",
          "name": "stdout",
          "text": [
            "Name\n",
            "Years\n",
            "Id\n",
            "Location\n",
            "['Name', 'Years', 'Id', 'Location']\n"
          ]
        }
      ],
      "source": [
        "# let's iterate through the names of the columns with a for loop\n",
        "for c in df.columns:\n",
        "     print(c)\n",
        "\n",
        "# let's store the columns in a list and display the list\n",
        "column_names = list(df.columns)\n",
        "print(column_names)"
      ]
    },
    {
      "cell_type": "markdown",
      "metadata": {
        "id": "-RrpCWyKJzKE"
      },
      "source": [
        "<font color=red>**Warning!**</font>`df.columns` **is not a method**! If you use round brackets, you will get an error:"
      ]
    },
    {
      "cell_type": "code",
      "execution_count": null,
      "metadata": {
        "id": "rfUATKyXLWKN"
      },
      "outputs": [],
      "source": [
        "# # the following would generate an error!\n",
        "# df.columns()"
      ]
    },
    {
      "cell_type": "markdown",
      "metadata": {
        "id": "9qmr877by_Lv"
      },
      "source": [
        "### Row operations"
      ]
    },
    {
      "cell_type": "markdown",
      "metadata": {
        "id": "wjd4n-X_KN4n"
      },
      "source": [
        "To get all the row labels, used `df.index`."
      ]
    },
    {
      "cell_type": "code",
      "execution_count": null,
      "metadata": {
        "id": "bBPGyTRBKaqA",
        "colab": {
          "base_uri": "https://localhost:8080/"
        },
        "outputId": "791cc7de-2ee7-4a8b-b3e5-ce13a8395fe0"
      },
      "outputs": [
        {
          "output_type": "execute_result",
          "data": {
            "text/plain": [
              "RangeIndex(start=0, stop=4, step=1)"
            ]
          },
          "metadata": {},
          "execution_count": 176
        }
      ],
      "source": [
        "# get all the row labels\n",
        "df.index"
      ]
    },
    {
      "cell_type": "markdown",
      "metadata": {
        "id": "TbTZ1u5yKmWx"
      },
      "source": [
        "This also returns an object (a `RangeIndex`), but you can readily loop through it with a `for` or store it as a list."
      ]
    },
    {
      "cell_type": "code",
      "execution_count": null,
      "metadata": {
        "id": "5P-FGaHOKw7L",
        "colab": {
          "base_uri": "https://localhost:8080/"
        },
        "outputId": "8be40fc1-e270-43b5-9bdf-2dda323cf48c"
      },
      "outputs": [
        {
          "output_type": "stream",
          "name": "stdout",
          "text": [
            "0\n",
            "1\n",
            "2\n",
            "3\n",
            "[0, 1, 2, 3]\n"
          ]
        }
      ],
      "source": [
        "# let's iterate through the indices of all the rows\n",
        "for i in df.index:\n",
        "     print(i)\n",
        "\n",
        "# let's store the columns in a list and display the list\n",
        "row_idx = list(df.index)\n",
        "print(row_idx)"
      ]
    },
    {
      "cell_type": "markdown",
      "metadata": {
        "id": "2lxLso3rM5nN"
      },
      "source": [
        "To change the row labels used for the DataFrame:\n",
        " - to set these to the values of an existing column, use the `set_index` method\n",
        " - to set these to some Python list, assign the `index` attribute\n",
        "**Warning** To make sure you avoid ambiguities, the labels should always contain unique values."
      ]
    },
    {
      "cell_type": "code",
      "execution_count": null,
      "metadata": {
        "id": "WUqCEqPX7Tf6",
        "colab": {
          "base_uri": "https://localhost:8080/"
        },
        "outputId": "53c71c91-839c-4fbb-ae13-fafddb8b34a9"
      },
      "outputs": [
        {
          "output_type": "display_data",
          "data": {
            "text/plain": [
              "          Name  Years       Location\n",
              "Id                                  \n",
              "10001    Alice     25       New York\n",
              "10002      Bob     30  San Francisco\n",
              "10003  Charlie     22    Los Angeles\n",
              "10004    David     28        Chicago"
            ],
            "text/html": [
              "\n",
              "  <div id=\"df-1ac9fae2-ec0b-49fd-b6ea-b6401b2b8fbf\" class=\"colab-df-container\">\n",
              "    <div>\n",
              "<style scoped>\n",
              "    .dataframe tbody tr th:only-of-type {\n",
              "        vertical-align: middle;\n",
              "    }\n",
              "\n",
              "    .dataframe tbody tr th {\n",
              "        vertical-align: top;\n",
              "    }\n",
              "\n",
              "    .dataframe thead th {\n",
              "        text-align: right;\n",
              "    }\n",
              "</style>\n",
              "<table border=\"1\" class=\"dataframe\">\n",
              "  <thead>\n",
              "    <tr style=\"text-align: right;\">\n",
              "      <th></th>\n",
              "      <th>Name</th>\n",
              "      <th>Years</th>\n",
              "      <th>Location</th>\n",
              "    </tr>\n",
              "    <tr>\n",
              "      <th>Id</th>\n",
              "      <th></th>\n",
              "      <th></th>\n",
              "      <th></th>\n",
              "    </tr>\n",
              "  </thead>\n",
              "  <tbody>\n",
              "    <tr>\n",
              "      <th>10001</th>\n",
              "      <td>Alice</td>\n",
              "      <td>25</td>\n",
              "      <td>New York</td>\n",
              "    </tr>\n",
              "    <tr>\n",
              "      <th>10002</th>\n",
              "      <td>Bob</td>\n",
              "      <td>30</td>\n",
              "      <td>San Francisco</td>\n",
              "    </tr>\n",
              "    <tr>\n",
              "      <th>10003</th>\n",
              "      <td>Charlie</td>\n",
              "      <td>22</td>\n",
              "      <td>Los Angeles</td>\n",
              "    </tr>\n",
              "    <tr>\n",
              "      <th>10004</th>\n",
              "      <td>David</td>\n",
              "      <td>28</td>\n",
              "      <td>Chicago</td>\n",
              "    </tr>\n",
              "  </tbody>\n",
              "</table>\n",
              "</div>\n",
              "    <div class=\"colab-df-buttons\">\n",
              "\n",
              "  <div class=\"colab-df-container\">\n",
              "    <button class=\"colab-df-convert\" onclick=\"convertToInteractive('df-1ac9fae2-ec0b-49fd-b6ea-b6401b2b8fbf')\"\n",
              "            title=\"Convert this dataframe to an interactive table.\"\n",
              "            style=\"display:none;\">\n",
              "\n",
              "  <svg xmlns=\"http://www.w3.org/2000/svg\" height=\"24px\" viewBox=\"0 -960 960 960\">\n",
              "    <path d=\"M120-120v-720h720v720H120Zm60-500h600v-160H180v160Zm220 220h160v-160H400v160Zm0 220h160v-160H400v160ZM180-400h160v-160H180v160Zm440 0h160v-160H620v160ZM180-180h160v-160H180v160Zm440 0h160v-160H620v160Z\"/>\n",
              "  </svg>\n",
              "    </button>\n",
              "\n",
              "  <style>\n",
              "    .colab-df-container {\n",
              "      display:flex;\n",
              "      gap: 12px;\n",
              "    }\n",
              "\n",
              "    .colab-df-convert {\n",
              "      background-color: #E8F0FE;\n",
              "      border: none;\n",
              "      border-radius: 50%;\n",
              "      cursor: pointer;\n",
              "      display: none;\n",
              "      fill: #1967D2;\n",
              "      height: 32px;\n",
              "      padding: 0 0 0 0;\n",
              "      width: 32px;\n",
              "    }\n",
              "\n",
              "    .colab-df-convert:hover {\n",
              "      background-color: #E2EBFA;\n",
              "      box-shadow: 0px 1px 2px rgba(60, 64, 67, 0.3), 0px 1px 3px 1px rgba(60, 64, 67, 0.15);\n",
              "      fill: #174EA6;\n",
              "    }\n",
              "\n",
              "    .colab-df-buttons div {\n",
              "      margin-bottom: 4px;\n",
              "    }\n",
              "\n",
              "    [theme=dark] .colab-df-convert {\n",
              "      background-color: #3B4455;\n",
              "      fill: #D2E3FC;\n",
              "    }\n",
              "\n",
              "    [theme=dark] .colab-df-convert:hover {\n",
              "      background-color: #434B5C;\n",
              "      box-shadow: 0px 1px 3px 1px rgba(0, 0, 0, 0.15);\n",
              "      filter: drop-shadow(0px 1px 2px rgba(0, 0, 0, 0.3));\n",
              "      fill: #FFFFFF;\n",
              "    }\n",
              "  </style>\n",
              "\n",
              "    <script>\n",
              "      const buttonEl =\n",
              "        document.querySelector('#df-1ac9fae2-ec0b-49fd-b6ea-b6401b2b8fbf button.colab-df-convert');\n",
              "      buttonEl.style.display =\n",
              "        google.colab.kernel.accessAllowed ? 'block' : 'none';\n",
              "\n",
              "      async function convertToInteractive(key) {\n",
              "        const element = document.querySelector('#df-1ac9fae2-ec0b-49fd-b6ea-b6401b2b8fbf');\n",
              "        const dataTable =\n",
              "          await google.colab.kernel.invokeFunction('convertToInteractive',\n",
              "                                                    [key], {});\n",
              "        if (!dataTable) return;\n",
              "\n",
              "        const docLinkHtml = 'Like what you see? Visit the ' +\n",
              "          '<a target=\"_blank\" href=https://colab.research.google.com/notebooks/data_table.ipynb>data table notebook</a>'\n",
              "          + ' to learn more about interactive tables.';\n",
              "        element.innerHTML = '';\n",
              "        dataTable['output_type'] = 'display_data';\n",
              "        await google.colab.output.renderOutput(dataTable, element);\n",
              "        const docLink = document.createElement('div');\n",
              "        docLink.innerHTML = docLinkHtml;\n",
              "        element.appendChild(docLink);\n",
              "      }\n",
              "    </script>\n",
              "  </div>\n",
              "\n",
              "\n",
              "<div id=\"df-45e1432d-8cd5-461c-aed5-3cabb237e3bf\">\n",
              "  <button class=\"colab-df-quickchart\" onclick=\"quickchart('df-45e1432d-8cd5-461c-aed5-3cabb237e3bf')\"\n",
              "            title=\"Suggest charts\"\n",
              "            style=\"display:none;\">\n",
              "\n",
              "<svg xmlns=\"http://www.w3.org/2000/svg\" height=\"24px\"viewBox=\"0 0 24 24\"\n",
              "     width=\"24px\">\n",
              "    <g>\n",
              "        <path d=\"M19 3H5c-1.1 0-2 .9-2 2v14c0 1.1.9 2 2 2h14c1.1 0 2-.9 2-2V5c0-1.1-.9-2-2-2zM9 17H7v-7h2v7zm4 0h-2V7h2v10zm4 0h-2v-4h2v4z\"/>\n",
              "    </g>\n",
              "</svg>\n",
              "  </button>\n",
              "\n",
              "<style>\n",
              "  .colab-df-quickchart {\n",
              "      --bg-color: #E8F0FE;\n",
              "      --fill-color: #1967D2;\n",
              "      --hover-bg-color: #E2EBFA;\n",
              "      --hover-fill-color: #174EA6;\n",
              "      --disabled-fill-color: #AAA;\n",
              "      --disabled-bg-color: #DDD;\n",
              "  }\n",
              "\n",
              "  [theme=dark] .colab-df-quickchart {\n",
              "      --bg-color: #3B4455;\n",
              "      --fill-color: #D2E3FC;\n",
              "      --hover-bg-color: #434B5C;\n",
              "      --hover-fill-color: #FFFFFF;\n",
              "      --disabled-bg-color: #3B4455;\n",
              "      --disabled-fill-color: #666;\n",
              "  }\n",
              "\n",
              "  .colab-df-quickchart {\n",
              "    background-color: var(--bg-color);\n",
              "    border: none;\n",
              "    border-radius: 50%;\n",
              "    cursor: pointer;\n",
              "    display: none;\n",
              "    fill: var(--fill-color);\n",
              "    height: 32px;\n",
              "    padding: 0;\n",
              "    width: 32px;\n",
              "  }\n",
              "\n",
              "  .colab-df-quickchart:hover {\n",
              "    background-color: var(--hover-bg-color);\n",
              "    box-shadow: 0 1px 2px rgba(60, 64, 67, 0.3), 0 1px 3px 1px rgba(60, 64, 67, 0.15);\n",
              "    fill: var(--button-hover-fill-color);\n",
              "  }\n",
              "\n",
              "  .colab-df-quickchart-complete:disabled,\n",
              "  .colab-df-quickchart-complete:disabled:hover {\n",
              "    background-color: var(--disabled-bg-color);\n",
              "    fill: var(--disabled-fill-color);\n",
              "    box-shadow: none;\n",
              "  }\n",
              "\n",
              "  .colab-df-spinner {\n",
              "    border: 2px solid var(--fill-color);\n",
              "    border-color: transparent;\n",
              "    border-bottom-color: var(--fill-color);\n",
              "    animation:\n",
              "      spin 1s steps(1) infinite;\n",
              "  }\n",
              "\n",
              "  @keyframes spin {\n",
              "    0% {\n",
              "      border-color: transparent;\n",
              "      border-bottom-color: var(--fill-color);\n",
              "      border-left-color: var(--fill-color);\n",
              "    }\n",
              "    20% {\n",
              "      border-color: transparent;\n",
              "      border-left-color: var(--fill-color);\n",
              "      border-top-color: var(--fill-color);\n",
              "    }\n",
              "    30% {\n",
              "      border-color: transparent;\n",
              "      border-left-color: var(--fill-color);\n",
              "      border-top-color: var(--fill-color);\n",
              "      border-right-color: var(--fill-color);\n",
              "    }\n",
              "    40% {\n",
              "      border-color: transparent;\n",
              "      border-right-color: var(--fill-color);\n",
              "      border-top-color: var(--fill-color);\n",
              "    }\n",
              "    60% {\n",
              "      border-color: transparent;\n",
              "      border-right-color: var(--fill-color);\n",
              "    }\n",
              "    80% {\n",
              "      border-color: transparent;\n",
              "      border-right-color: var(--fill-color);\n",
              "      border-bottom-color: var(--fill-color);\n",
              "    }\n",
              "    90% {\n",
              "      border-color: transparent;\n",
              "      border-bottom-color: var(--fill-color);\n",
              "    }\n",
              "  }\n",
              "</style>\n",
              "\n",
              "  <script>\n",
              "    async function quickchart(key) {\n",
              "      const quickchartButtonEl =\n",
              "        document.querySelector('#' + key + ' button');\n",
              "      quickchartButtonEl.disabled = true;  // To prevent multiple clicks.\n",
              "      quickchartButtonEl.classList.add('colab-df-spinner');\n",
              "      try {\n",
              "        const charts = await google.colab.kernel.invokeFunction(\n",
              "            'suggestCharts', [key], {});\n",
              "      } catch (error) {\n",
              "        console.error('Error during call to suggestCharts:', error);\n",
              "      }\n",
              "      quickchartButtonEl.classList.remove('colab-df-spinner');\n",
              "      quickchartButtonEl.classList.add('colab-df-quickchart-complete');\n",
              "    }\n",
              "    (() => {\n",
              "      let quickchartButtonEl =\n",
              "        document.querySelector('#df-45e1432d-8cd5-461c-aed5-3cabb237e3bf button');\n",
              "      quickchartButtonEl.style.display =\n",
              "        google.colab.kernel.accessAllowed ? 'block' : 'none';\n",
              "    })();\n",
              "  </script>\n",
              "</div>\n",
              "\n",
              "  <div id=\"id_c1307201-e0c8-40f9-b884-4bee7833fef9\">\n",
              "    <style>\n",
              "      .colab-df-generate {\n",
              "        background-color: #E8F0FE;\n",
              "        border: none;\n",
              "        border-radius: 50%;\n",
              "        cursor: pointer;\n",
              "        display: none;\n",
              "        fill: #1967D2;\n",
              "        height: 32px;\n",
              "        padding: 0 0 0 0;\n",
              "        width: 32px;\n",
              "      }\n",
              "\n",
              "      .colab-df-generate:hover {\n",
              "        background-color: #E2EBFA;\n",
              "        box-shadow: 0px 1px 2px rgba(60, 64, 67, 0.3), 0px 1px 3px 1px rgba(60, 64, 67, 0.15);\n",
              "        fill: #174EA6;\n",
              "      }\n",
              "\n",
              "      [theme=dark] .colab-df-generate {\n",
              "        background-color: #3B4455;\n",
              "        fill: #D2E3FC;\n",
              "      }\n",
              "\n",
              "      [theme=dark] .colab-df-generate:hover {\n",
              "        background-color: #434B5C;\n",
              "        box-shadow: 0px 1px 3px 1px rgba(0, 0, 0, 0.15);\n",
              "        filter: drop-shadow(0px 1px 2px rgba(0, 0, 0, 0.3));\n",
              "        fill: #FFFFFF;\n",
              "      }\n",
              "    </style>\n",
              "    <button class=\"colab-df-generate\" onclick=\"generateWithVariable('df')\"\n",
              "            title=\"Generate code using this dataframe.\"\n",
              "            style=\"display:none;\">\n",
              "\n",
              "  <svg xmlns=\"http://www.w3.org/2000/svg\" height=\"24px\"viewBox=\"0 0 24 24\"\n",
              "       width=\"24px\">\n",
              "    <path d=\"M7,19H8.4L18.45,9,17,7.55,7,17.6ZM5,21V16.75L18.45,3.32a2,2,0,0,1,2.83,0l1.4,1.43a1.91,1.91,0,0,1,.58,1.4,1.91,1.91,0,0,1-.58,1.4L9.25,21ZM18.45,9,17,7.55Zm-12,3A5.31,5.31,0,0,0,4.9,8.1,5.31,5.31,0,0,0,1,6.5,5.31,5.31,0,0,0,4.9,4.9,5.31,5.31,0,0,0,6.5,1,5.31,5.31,0,0,0,8.1,4.9,5.31,5.31,0,0,0,12,6.5,5.46,5.46,0,0,0,6.5,12Z\"/>\n",
              "  </svg>\n",
              "    </button>\n",
              "    <script>\n",
              "      (() => {\n",
              "      const buttonEl =\n",
              "        document.querySelector('#id_c1307201-e0c8-40f9-b884-4bee7833fef9 button.colab-df-generate');\n",
              "      buttonEl.style.display =\n",
              "        google.colab.kernel.accessAllowed ? 'block' : 'none';\n",
              "\n",
              "      buttonEl.onclick = () => {\n",
              "        google.colab.notebook.generateWithVariable('df');\n",
              "      }\n",
              "      })();\n",
              "    </script>\n",
              "  </div>\n",
              "\n",
              "    </div>\n",
              "  </div>\n"
            ],
            "application/vnd.google.colaboratory.intrinsic+json": {
              "type": "dataframe",
              "variable_name": "df",
              "summary": "{\n  \"name\": \"df\",\n  \"rows\": 4,\n  \"fields\": [\n    {\n      \"column\": \"Id\",\n      \"properties\": {\n        \"dtype\": \"number\",\n        \"std\": 1,\n        \"min\": 10001,\n        \"max\": 10004,\n        \"num_unique_values\": 4,\n        \"samples\": [\n          10002,\n          10004,\n          10001\n        ],\n        \"semantic_type\": \"\",\n        \"description\": \"\"\n      }\n    },\n    {\n      \"column\": \"Name\",\n      \"properties\": {\n        \"dtype\": \"string\",\n        \"num_unique_values\": 4,\n        \"samples\": [\n          \"Bob\",\n          \"David\",\n          \"Alice\"\n        ],\n        \"semantic_type\": \"\",\n        \"description\": \"\"\n      }\n    },\n    {\n      \"column\": \"Years\",\n      \"properties\": {\n        \"dtype\": \"number\",\n        \"std\": 3,\n        \"min\": 22,\n        \"max\": 30,\n        \"num_unique_values\": 4,\n        \"samples\": [\n          30,\n          28,\n          25\n        ],\n        \"semantic_type\": \"\",\n        \"description\": \"\"\n      }\n    },\n    {\n      \"column\": \"Location\",\n      \"properties\": {\n        \"dtype\": \"string\",\n        \"num_unique_values\": 4,\n        \"samples\": [\n          \"San Francisco\",\n          \"Chicago\",\n          \"New York\"\n        ],\n        \"semantic_type\": \"\",\n        \"description\": \"\"\n      }\n    }\n  ]\n}"
            }
          },
          "metadata": {}
        }
      ],
      "source": [
        "# assign the index to the column 'Id', which in our case has unique id's\n",
        "df.set_index('Id', inplace=True)\n",
        "\n",
        "display(df)"
      ]
    },
    {
      "cell_type": "markdown",
      "metadata": {
        "id": "7YuFrNBLM5ci"
      },
      "source": [
        "As you can see, the row labels are now given by the \"Id\" column. Now let's set these to a, b, c, ..."
      ]
    },
    {
      "cell_type": "code",
      "execution_count": null,
      "metadata": {
        "id": "iG6WNZkA8RVd",
        "colab": {
          "base_uri": "https://localhost:8080/"
        },
        "outputId": "52da12cc-6954-4946-b676-9d216d080ccb"
      },
      "outputs": [
        {
          "output_type": "display_data",
          "data": {
            "text/plain": [
              "      Name  Years       Location\n",
              "a    Alice     25       New York\n",
              "b      Bob     30  San Francisco\n",
              "c  Charlie     22    Los Angeles\n",
              "d    David     28        Chicago"
            ],
            "text/html": [
              "\n",
              "  <div id=\"df-86907e2d-920d-4690-951f-42c4c9cafa1c\" class=\"colab-df-container\">\n",
              "    <div>\n",
              "<style scoped>\n",
              "    .dataframe tbody tr th:only-of-type {\n",
              "        vertical-align: middle;\n",
              "    }\n",
              "\n",
              "    .dataframe tbody tr th {\n",
              "        vertical-align: top;\n",
              "    }\n",
              "\n",
              "    .dataframe thead th {\n",
              "        text-align: right;\n",
              "    }\n",
              "</style>\n",
              "<table border=\"1\" class=\"dataframe\">\n",
              "  <thead>\n",
              "    <tr style=\"text-align: right;\">\n",
              "      <th></th>\n",
              "      <th>Name</th>\n",
              "      <th>Years</th>\n",
              "      <th>Location</th>\n",
              "    </tr>\n",
              "  </thead>\n",
              "  <tbody>\n",
              "    <tr>\n",
              "      <th>a</th>\n",
              "      <td>Alice</td>\n",
              "      <td>25</td>\n",
              "      <td>New York</td>\n",
              "    </tr>\n",
              "    <tr>\n",
              "      <th>b</th>\n",
              "      <td>Bob</td>\n",
              "      <td>30</td>\n",
              "      <td>San Francisco</td>\n",
              "    </tr>\n",
              "    <tr>\n",
              "      <th>c</th>\n",
              "      <td>Charlie</td>\n",
              "      <td>22</td>\n",
              "      <td>Los Angeles</td>\n",
              "    </tr>\n",
              "    <tr>\n",
              "      <th>d</th>\n",
              "      <td>David</td>\n",
              "      <td>28</td>\n",
              "      <td>Chicago</td>\n",
              "    </tr>\n",
              "  </tbody>\n",
              "</table>\n",
              "</div>\n",
              "    <div class=\"colab-df-buttons\">\n",
              "\n",
              "  <div class=\"colab-df-container\">\n",
              "    <button class=\"colab-df-convert\" onclick=\"convertToInteractive('df-86907e2d-920d-4690-951f-42c4c9cafa1c')\"\n",
              "            title=\"Convert this dataframe to an interactive table.\"\n",
              "            style=\"display:none;\">\n",
              "\n",
              "  <svg xmlns=\"http://www.w3.org/2000/svg\" height=\"24px\" viewBox=\"0 -960 960 960\">\n",
              "    <path d=\"M120-120v-720h720v720H120Zm60-500h600v-160H180v160Zm220 220h160v-160H400v160Zm0 220h160v-160H400v160ZM180-400h160v-160H180v160Zm440 0h160v-160H620v160ZM180-180h160v-160H180v160Zm440 0h160v-160H620v160Z\"/>\n",
              "  </svg>\n",
              "    </button>\n",
              "\n",
              "  <style>\n",
              "    .colab-df-container {\n",
              "      display:flex;\n",
              "      gap: 12px;\n",
              "    }\n",
              "\n",
              "    .colab-df-convert {\n",
              "      background-color: #E8F0FE;\n",
              "      border: none;\n",
              "      border-radius: 50%;\n",
              "      cursor: pointer;\n",
              "      display: none;\n",
              "      fill: #1967D2;\n",
              "      height: 32px;\n",
              "      padding: 0 0 0 0;\n",
              "      width: 32px;\n",
              "    }\n",
              "\n",
              "    .colab-df-convert:hover {\n",
              "      background-color: #E2EBFA;\n",
              "      box-shadow: 0px 1px 2px rgba(60, 64, 67, 0.3), 0px 1px 3px 1px rgba(60, 64, 67, 0.15);\n",
              "      fill: #174EA6;\n",
              "    }\n",
              "\n",
              "    .colab-df-buttons div {\n",
              "      margin-bottom: 4px;\n",
              "    }\n",
              "\n",
              "    [theme=dark] .colab-df-convert {\n",
              "      background-color: #3B4455;\n",
              "      fill: #D2E3FC;\n",
              "    }\n",
              "\n",
              "    [theme=dark] .colab-df-convert:hover {\n",
              "      background-color: #434B5C;\n",
              "      box-shadow: 0px 1px 3px 1px rgba(0, 0, 0, 0.15);\n",
              "      filter: drop-shadow(0px 1px 2px rgba(0, 0, 0, 0.3));\n",
              "      fill: #FFFFFF;\n",
              "    }\n",
              "  </style>\n",
              "\n",
              "    <script>\n",
              "      const buttonEl =\n",
              "        document.querySelector('#df-86907e2d-920d-4690-951f-42c4c9cafa1c button.colab-df-convert');\n",
              "      buttonEl.style.display =\n",
              "        google.colab.kernel.accessAllowed ? 'block' : 'none';\n",
              "\n",
              "      async function convertToInteractive(key) {\n",
              "        const element = document.querySelector('#df-86907e2d-920d-4690-951f-42c4c9cafa1c');\n",
              "        const dataTable =\n",
              "          await google.colab.kernel.invokeFunction('convertToInteractive',\n",
              "                                                    [key], {});\n",
              "        if (!dataTable) return;\n",
              "\n",
              "        const docLinkHtml = 'Like what you see? Visit the ' +\n",
              "          '<a target=\"_blank\" href=https://colab.research.google.com/notebooks/data_table.ipynb>data table notebook</a>'\n",
              "          + ' to learn more about interactive tables.';\n",
              "        element.innerHTML = '';\n",
              "        dataTable['output_type'] = 'display_data';\n",
              "        await google.colab.output.renderOutput(dataTable, element);\n",
              "        const docLink = document.createElement('div');\n",
              "        docLink.innerHTML = docLinkHtml;\n",
              "        element.appendChild(docLink);\n",
              "      }\n",
              "    </script>\n",
              "  </div>\n",
              "\n",
              "\n",
              "<div id=\"df-416b5bf0-8cc0-4589-bc49-f8fce86ed839\">\n",
              "  <button class=\"colab-df-quickchart\" onclick=\"quickchart('df-416b5bf0-8cc0-4589-bc49-f8fce86ed839')\"\n",
              "            title=\"Suggest charts\"\n",
              "            style=\"display:none;\">\n",
              "\n",
              "<svg xmlns=\"http://www.w3.org/2000/svg\" height=\"24px\"viewBox=\"0 0 24 24\"\n",
              "     width=\"24px\">\n",
              "    <g>\n",
              "        <path d=\"M19 3H5c-1.1 0-2 .9-2 2v14c0 1.1.9 2 2 2h14c1.1 0 2-.9 2-2V5c0-1.1-.9-2-2-2zM9 17H7v-7h2v7zm4 0h-2V7h2v10zm4 0h-2v-4h2v4z\"/>\n",
              "    </g>\n",
              "</svg>\n",
              "  </button>\n",
              "\n",
              "<style>\n",
              "  .colab-df-quickchart {\n",
              "      --bg-color: #E8F0FE;\n",
              "      --fill-color: #1967D2;\n",
              "      --hover-bg-color: #E2EBFA;\n",
              "      --hover-fill-color: #174EA6;\n",
              "      --disabled-fill-color: #AAA;\n",
              "      --disabled-bg-color: #DDD;\n",
              "  }\n",
              "\n",
              "  [theme=dark] .colab-df-quickchart {\n",
              "      --bg-color: #3B4455;\n",
              "      --fill-color: #D2E3FC;\n",
              "      --hover-bg-color: #434B5C;\n",
              "      --hover-fill-color: #FFFFFF;\n",
              "      --disabled-bg-color: #3B4455;\n",
              "      --disabled-fill-color: #666;\n",
              "  }\n",
              "\n",
              "  .colab-df-quickchart {\n",
              "    background-color: var(--bg-color);\n",
              "    border: none;\n",
              "    border-radius: 50%;\n",
              "    cursor: pointer;\n",
              "    display: none;\n",
              "    fill: var(--fill-color);\n",
              "    height: 32px;\n",
              "    padding: 0;\n",
              "    width: 32px;\n",
              "  }\n",
              "\n",
              "  .colab-df-quickchart:hover {\n",
              "    background-color: var(--hover-bg-color);\n",
              "    box-shadow: 0 1px 2px rgba(60, 64, 67, 0.3), 0 1px 3px 1px rgba(60, 64, 67, 0.15);\n",
              "    fill: var(--button-hover-fill-color);\n",
              "  }\n",
              "\n",
              "  .colab-df-quickchart-complete:disabled,\n",
              "  .colab-df-quickchart-complete:disabled:hover {\n",
              "    background-color: var(--disabled-bg-color);\n",
              "    fill: var(--disabled-fill-color);\n",
              "    box-shadow: none;\n",
              "  }\n",
              "\n",
              "  .colab-df-spinner {\n",
              "    border: 2px solid var(--fill-color);\n",
              "    border-color: transparent;\n",
              "    border-bottom-color: var(--fill-color);\n",
              "    animation:\n",
              "      spin 1s steps(1) infinite;\n",
              "  }\n",
              "\n",
              "  @keyframes spin {\n",
              "    0% {\n",
              "      border-color: transparent;\n",
              "      border-bottom-color: var(--fill-color);\n",
              "      border-left-color: var(--fill-color);\n",
              "    }\n",
              "    20% {\n",
              "      border-color: transparent;\n",
              "      border-left-color: var(--fill-color);\n",
              "      border-top-color: var(--fill-color);\n",
              "    }\n",
              "    30% {\n",
              "      border-color: transparent;\n",
              "      border-left-color: var(--fill-color);\n",
              "      border-top-color: var(--fill-color);\n",
              "      border-right-color: var(--fill-color);\n",
              "    }\n",
              "    40% {\n",
              "      border-color: transparent;\n",
              "      border-right-color: var(--fill-color);\n",
              "      border-top-color: var(--fill-color);\n",
              "    }\n",
              "    60% {\n",
              "      border-color: transparent;\n",
              "      border-right-color: var(--fill-color);\n",
              "    }\n",
              "    80% {\n",
              "      border-color: transparent;\n",
              "      border-right-color: var(--fill-color);\n",
              "      border-bottom-color: var(--fill-color);\n",
              "    }\n",
              "    90% {\n",
              "      border-color: transparent;\n",
              "      border-bottom-color: var(--fill-color);\n",
              "    }\n",
              "  }\n",
              "</style>\n",
              "\n",
              "  <script>\n",
              "    async function quickchart(key) {\n",
              "      const quickchartButtonEl =\n",
              "        document.querySelector('#' + key + ' button');\n",
              "      quickchartButtonEl.disabled = true;  // To prevent multiple clicks.\n",
              "      quickchartButtonEl.classList.add('colab-df-spinner');\n",
              "      try {\n",
              "        const charts = await google.colab.kernel.invokeFunction(\n",
              "            'suggestCharts', [key], {});\n",
              "      } catch (error) {\n",
              "        console.error('Error during call to suggestCharts:', error);\n",
              "      }\n",
              "      quickchartButtonEl.classList.remove('colab-df-spinner');\n",
              "      quickchartButtonEl.classList.add('colab-df-quickchart-complete');\n",
              "    }\n",
              "    (() => {\n",
              "      let quickchartButtonEl =\n",
              "        document.querySelector('#df-416b5bf0-8cc0-4589-bc49-f8fce86ed839 button');\n",
              "      quickchartButtonEl.style.display =\n",
              "        google.colab.kernel.accessAllowed ? 'block' : 'none';\n",
              "    })();\n",
              "  </script>\n",
              "</div>\n",
              "\n",
              "  <div id=\"id_e16598dd-ebe2-4442-a93d-a2f546c7e532\">\n",
              "    <style>\n",
              "      .colab-df-generate {\n",
              "        background-color: #E8F0FE;\n",
              "        border: none;\n",
              "        border-radius: 50%;\n",
              "        cursor: pointer;\n",
              "        display: none;\n",
              "        fill: #1967D2;\n",
              "        height: 32px;\n",
              "        padding: 0 0 0 0;\n",
              "        width: 32px;\n",
              "      }\n",
              "\n",
              "      .colab-df-generate:hover {\n",
              "        background-color: #E2EBFA;\n",
              "        box-shadow: 0px 1px 2px rgba(60, 64, 67, 0.3), 0px 1px 3px 1px rgba(60, 64, 67, 0.15);\n",
              "        fill: #174EA6;\n",
              "      }\n",
              "\n",
              "      [theme=dark] .colab-df-generate {\n",
              "        background-color: #3B4455;\n",
              "        fill: #D2E3FC;\n",
              "      }\n",
              "\n",
              "      [theme=dark] .colab-df-generate:hover {\n",
              "        background-color: #434B5C;\n",
              "        box-shadow: 0px 1px 3px 1px rgba(0, 0, 0, 0.15);\n",
              "        filter: drop-shadow(0px 1px 2px rgba(0, 0, 0, 0.3));\n",
              "        fill: #FFFFFF;\n",
              "      }\n",
              "    </style>\n",
              "    <button class=\"colab-df-generate\" onclick=\"generateWithVariable('df')\"\n",
              "            title=\"Generate code using this dataframe.\"\n",
              "            style=\"display:none;\">\n",
              "\n",
              "  <svg xmlns=\"http://www.w3.org/2000/svg\" height=\"24px\"viewBox=\"0 0 24 24\"\n",
              "       width=\"24px\">\n",
              "    <path d=\"M7,19H8.4L18.45,9,17,7.55,7,17.6ZM5,21V16.75L18.45,3.32a2,2,0,0,1,2.83,0l1.4,1.43a1.91,1.91,0,0,1,.58,1.4,1.91,1.91,0,0,1-.58,1.4L9.25,21ZM18.45,9,17,7.55Zm-12,3A5.31,5.31,0,0,0,4.9,8.1,5.31,5.31,0,0,0,1,6.5,5.31,5.31,0,0,0,4.9,4.9,5.31,5.31,0,0,0,6.5,1,5.31,5.31,0,0,0,8.1,4.9,5.31,5.31,0,0,0,12,6.5,5.46,5.46,0,0,0,6.5,12Z\"/>\n",
              "  </svg>\n",
              "    </button>\n",
              "    <script>\n",
              "      (() => {\n",
              "      const buttonEl =\n",
              "        document.querySelector('#id_e16598dd-ebe2-4442-a93d-a2f546c7e532 button.colab-df-generate');\n",
              "      buttonEl.style.display =\n",
              "        google.colab.kernel.accessAllowed ? 'block' : 'none';\n",
              "\n",
              "      buttonEl.onclick = () => {\n",
              "        google.colab.notebook.generateWithVariable('df');\n",
              "      }\n",
              "      })();\n",
              "    </script>\n",
              "  </div>\n",
              "\n",
              "    </div>\n",
              "  </div>\n"
            ],
            "application/vnd.google.colaboratory.intrinsic+json": {
              "type": "dataframe",
              "variable_name": "df",
              "summary": "{\n  \"name\": \"df\",\n  \"rows\": 4,\n  \"fields\": [\n    {\n      \"column\": \"Name\",\n      \"properties\": {\n        \"dtype\": \"string\",\n        \"num_unique_values\": 4,\n        \"samples\": [\n          \"Bob\",\n          \"David\",\n          \"Alice\"\n        ],\n        \"semantic_type\": \"\",\n        \"description\": \"\"\n      }\n    },\n    {\n      \"column\": \"Years\",\n      \"properties\": {\n        \"dtype\": \"number\",\n        \"std\": 3,\n        \"min\": 22,\n        \"max\": 30,\n        \"num_unique_values\": 4,\n        \"samples\": [\n          30,\n          28,\n          25\n        ],\n        \"semantic_type\": \"\",\n        \"description\": \"\"\n      }\n    },\n    {\n      \"column\": \"Location\",\n      \"properties\": {\n        \"dtype\": \"string\",\n        \"num_unique_values\": 4,\n        \"samples\": [\n          \"San Francisco\",\n          \"Chicago\",\n          \"New York\"\n        ],\n        \"semantic_type\": \"\",\n        \"description\": \"\"\n      }\n    }\n  ]\n}"
            }
          },
          "metadata": {}
        }
      ],
      "source": [
        "# change the index to 0, 1, ...\n",
        "df.index = list(['a','b','c','d'])\n",
        "\n",
        "display(df)"
      ]
    },
    {
      "cell_type": "markdown",
      "metadata": {
        "id": "GPQRmi7p9sHB"
      },
      "source": [
        "### Retrieve elements\n",
        "One of the most important operations with a DataFrame is to retrieve an element located at a certain row and column."
      ]
    },
    {
      "cell_type": "markdown",
      "metadata": {
        "id": "N1pTsjOS9RS4"
      },
      "source": [
        "If you know the row and column labels, there are two approaches:\n",
        " 1. use `df[column_label][row_label]`\n",
        " 2. use `df.loc[row_label, column_label]`\n",
        "\n",
        "First time you see this, it might look a bit confusing, especially because the order or rows/columns is switched! Recall that `df[column_label]` from approach (1) returns the `Series` corresponding to the column named `column_label`, so then, applying `[row_label]` to that simply returns the element at the `[row_label]` location. In contrast, (2) is the (arguably more natural) approach of indexing first with the row and then the column. Let's see them in action:"
      ]
    },
    {
      "cell_type": "code",
      "execution_count": null,
      "metadata": {
        "id": "cknhcMss-XzM",
        "colab": {
          "base_uri": "https://localhost:8080/"
        },
        "outputId": "794999fa-ff28-41a6-c11c-4a64063df166"
      },
      "outputs": [
        {
          "output_type": "stream",
          "name": "stdout",
          "text": [
            "22\n",
            "22\n"
          ]
        }
      ],
      "source": [
        "# let's get the element on row 'c' and column \"Years\"\n",
        "print(df[\"Years\"]['c'])   # approach 1\n",
        "print(df.loc['c',\"Years\"])    # approach 2"
      ]
    },
    {
      "cell_type": "markdown",
      "metadata": {
        "id": "VMhlBu5I_44a"
      },
      "source": [
        "`df.loc` actually allows you to recover several rows and columns (i.e., an entire sub-table) of the DataFrame"
      ]
    },
    {
      "cell_type": "code",
      "execution_count": null,
      "metadata": {
        "id": "V-1FWwCi_4IS",
        "colab": {
          "base_uri": "https://localhost:8080/"
        },
        "outputId": "0c4b13ba-f5a4-4cca-ca2d-14aa9a9f73f6"
      },
      "outputs": [
        {
          "output_type": "execute_result",
          "data": {
            "text/plain": [
              "      Name     Location\n",
              "c  Charlie  Los Angeles\n",
              "d    David      Chicago"
            ],
            "text/html": [
              "\n",
              "  <div id=\"df-39b0ce5f-0984-46fe-9255-9cfcbef788a7\" class=\"colab-df-container\">\n",
              "    <div>\n",
              "<style scoped>\n",
              "    .dataframe tbody tr th:only-of-type {\n",
              "        vertical-align: middle;\n",
              "    }\n",
              "\n",
              "    .dataframe tbody tr th {\n",
              "        vertical-align: top;\n",
              "    }\n",
              "\n",
              "    .dataframe thead th {\n",
              "        text-align: right;\n",
              "    }\n",
              "</style>\n",
              "<table border=\"1\" class=\"dataframe\">\n",
              "  <thead>\n",
              "    <tr style=\"text-align: right;\">\n",
              "      <th></th>\n",
              "      <th>Name</th>\n",
              "      <th>Location</th>\n",
              "    </tr>\n",
              "  </thead>\n",
              "  <tbody>\n",
              "    <tr>\n",
              "      <th>c</th>\n",
              "      <td>Charlie</td>\n",
              "      <td>Los Angeles</td>\n",
              "    </tr>\n",
              "    <tr>\n",
              "      <th>d</th>\n",
              "      <td>David</td>\n",
              "      <td>Chicago</td>\n",
              "    </tr>\n",
              "  </tbody>\n",
              "</table>\n",
              "</div>\n",
              "    <div class=\"colab-df-buttons\">\n",
              "\n",
              "  <div class=\"colab-df-container\">\n",
              "    <button class=\"colab-df-convert\" onclick=\"convertToInteractive('df-39b0ce5f-0984-46fe-9255-9cfcbef788a7')\"\n",
              "            title=\"Convert this dataframe to an interactive table.\"\n",
              "            style=\"display:none;\">\n",
              "\n",
              "  <svg xmlns=\"http://www.w3.org/2000/svg\" height=\"24px\" viewBox=\"0 -960 960 960\">\n",
              "    <path d=\"M120-120v-720h720v720H120Zm60-500h600v-160H180v160Zm220 220h160v-160H400v160Zm0 220h160v-160H400v160ZM180-400h160v-160H180v160Zm440 0h160v-160H620v160ZM180-180h160v-160H180v160Zm440 0h160v-160H620v160Z\"/>\n",
              "  </svg>\n",
              "    </button>\n",
              "\n",
              "  <style>\n",
              "    .colab-df-container {\n",
              "      display:flex;\n",
              "      gap: 12px;\n",
              "    }\n",
              "\n",
              "    .colab-df-convert {\n",
              "      background-color: #E8F0FE;\n",
              "      border: none;\n",
              "      border-radius: 50%;\n",
              "      cursor: pointer;\n",
              "      display: none;\n",
              "      fill: #1967D2;\n",
              "      height: 32px;\n",
              "      padding: 0 0 0 0;\n",
              "      width: 32px;\n",
              "    }\n",
              "\n",
              "    .colab-df-convert:hover {\n",
              "      background-color: #E2EBFA;\n",
              "      box-shadow: 0px 1px 2px rgba(60, 64, 67, 0.3), 0px 1px 3px 1px rgba(60, 64, 67, 0.15);\n",
              "      fill: #174EA6;\n",
              "    }\n",
              "\n",
              "    .colab-df-buttons div {\n",
              "      margin-bottom: 4px;\n",
              "    }\n",
              "\n",
              "    [theme=dark] .colab-df-convert {\n",
              "      background-color: #3B4455;\n",
              "      fill: #D2E3FC;\n",
              "    }\n",
              "\n",
              "    [theme=dark] .colab-df-convert:hover {\n",
              "      background-color: #434B5C;\n",
              "      box-shadow: 0px 1px 3px 1px rgba(0, 0, 0, 0.15);\n",
              "      filter: drop-shadow(0px 1px 2px rgba(0, 0, 0, 0.3));\n",
              "      fill: #FFFFFF;\n",
              "    }\n",
              "  </style>\n",
              "\n",
              "    <script>\n",
              "      const buttonEl =\n",
              "        document.querySelector('#df-39b0ce5f-0984-46fe-9255-9cfcbef788a7 button.colab-df-convert');\n",
              "      buttonEl.style.display =\n",
              "        google.colab.kernel.accessAllowed ? 'block' : 'none';\n",
              "\n",
              "      async function convertToInteractive(key) {\n",
              "        const element = document.querySelector('#df-39b0ce5f-0984-46fe-9255-9cfcbef788a7');\n",
              "        const dataTable =\n",
              "          await google.colab.kernel.invokeFunction('convertToInteractive',\n",
              "                                                    [key], {});\n",
              "        if (!dataTable) return;\n",
              "\n",
              "        const docLinkHtml = 'Like what you see? Visit the ' +\n",
              "          '<a target=\"_blank\" href=https://colab.research.google.com/notebooks/data_table.ipynb>data table notebook</a>'\n",
              "          + ' to learn more about interactive tables.';\n",
              "        element.innerHTML = '';\n",
              "        dataTable['output_type'] = 'display_data';\n",
              "        await google.colab.output.renderOutput(dataTable, element);\n",
              "        const docLink = document.createElement('div');\n",
              "        docLink.innerHTML = docLinkHtml;\n",
              "        element.appendChild(docLink);\n",
              "      }\n",
              "    </script>\n",
              "  </div>\n",
              "\n",
              "\n",
              "<div id=\"df-676b73f1-2097-44b6-8418-6811594bee8a\">\n",
              "  <button class=\"colab-df-quickchart\" onclick=\"quickchart('df-676b73f1-2097-44b6-8418-6811594bee8a')\"\n",
              "            title=\"Suggest charts\"\n",
              "            style=\"display:none;\">\n",
              "\n",
              "<svg xmlns=\"http://www.w3.org/2000/svg\" height=\"24px\"viewBox=\"0 0 24 24\"\n",
              "     width=\"24px\">\n",
              "    <g>\n",
              "        <path d=\"M19 3H5c-1.1 0-2 .9-2 2v14c0 1.1.9 2 2 2h14c1.1 0 2-.9 2-2V5c0-1.1-.9-2-2-2zM9 17H7v-7h2v7zm4 0h-2V7h2v10zm4 0h-2v-4h2v4z\"/>\n",
              "    </g>\n",
              "</svg>\n",
              "  </button>\n",
              "\n",
              "<style>\n",
              "  .colab-df-quickchart {\n",
              "      --bg-color: #E8F0FE;\n",
              "      --fill-color: #1967D2;\n",
              "      --hover-bg-color: #E2EBFA;\n",
              "      --hover-fill-color: #174EA6;\n",
              "      --disabled-fill-color: #AAA;\n",
              "      --disabled-bg-color: #DDD;\n",
              "  }\n",
              "\n",
              "  [theme=dark] .colab-df-quickchart {\n",
              "      --bg-color: #3B4455;\n",
              "      --fill-color: #D2E3FC;\n",
              "      --hover-bg-color: #434B5C;\n",
              "      --hover-fill-color: #FFFFFF;\n",
              "      --disabled-bg-color: #3B4455;\n",
              "      --disabled-fill-color: #666;\n",
              "  }\n",
              "\n",
              "  .colab-df-quickchart {\n",
              "    background-color: var(--bg-color);\n",
              "    border: none;\n",
              "    border-radius: 50%;\n",
              "    cursor: pointer;\n",
              "    display: none;\n",
              "    fill: var(--fill-color);\n",
              "    height: 32px;\n",
              "    padding: 0;\n",
              "    width: 32px;\n",
              "  }\n",
              "\n",
              "  .colab-df-quickchart:hover {\n",
              "    background-color: var(--hover-bg-color);\n",
              "    box-shadow: 0 1px 2px rgba(60, 64, 67, 0.3), 0 1px 3px 1px rgba(60, 64, 67, 0.15);\n",
              "    fill: var(--button-hover-fill-color);\n",
              "  }\n",
              "\n",
              "  .colab-df-quickchart-complete:disabled,\n",
              "  .colab-df-quickchart-complete:disabled:hover {\n",
              "    background-color: var(--disabled-bg-color);\n",
              "    fill: var(--disabled-fill-color);\n",
              "    box-shadow: none;\n",
              "  }\n",
              "\n",
              "  .colab-df-spinner {\n",
              "    border: 2px solid var(--fill-color);\n",
              "    border-color: transparent;\n",
              "    border-bottom-color: var(--fill-color);\n",
              "    animation:\n",
              "      spin 1s steps(1) infinite;\n",
              "  }\n",
              "\n",
              "  @keyframes spin {\n",
              "    0% {\n",
              "      border-color: transparent;\n",
              "      border-bottom-color: var(--fill-color);\n",
              "      border-left-color: var(--fill-color);\n",
              "    }\n",
              "    20% {\n",
              "      border-color: transparent;\n",
              "      border-left-color: var(--fill-color);\n",
              "      border-top-color: var(--fill-color);\n",
              "    }\n",
              "    30% {\n",
              "      border-color: transparent;\n",
              "      border-left-color: var(--fill-color);\n",
              "      border-top-color: var(--fill-color);\n",
              "      border-right-color: var(--fill-color);\n",
              "    }\n",
              "    40% {\n",
              "      border-color: transparent;\n",
              "      border-right-color: var(--fill-color);\n",
              "      border-top-color: var(--fill-color);\n",
              "    }\n",
              "    60% {\n",
              "      border-color: transparent;\n",
              "      border-right-color: var(--fill-color);\n",
              "    }\n",
              "    80% {\n",
              "      border-color: transparent;\n",
              "      border-right-color: var(--fill-color);\n",
              "      border-bottom-color: var(--fill-color);\n",
              "    }\n",
              "    90% {\n",
              "      border-color: transparent;\n",
              "      border-bottom-color: var(--fill-color);\n",
              "    }\n",
              "  }\n",
              "</style>\n",
              "\n",
              "  <script>\n",
              "    async function quickchart(key) {\n",
              "      const quickchartButtonEl =\n",
              "        document.querySelector('#' + key + ' button');\n",
              "      quickchartButtonEl.disabled = true;  // To prevent multiple clicks.\n",
              "      quickchartButtonEl.classList.add('colab-df-spinner');\n",
              "      try {\n",
              "        const charts = await google.colab.kernel.invokeFunction(\n",
              "            'suggestCharts', [key], {});\n",
              "      } catch (error) {\n",
              "        console.error('Error during call to suggestCharts:', error);\n",
              "      }\n",
              "      quickchartButtonEl.classList.remove('colab-df-spinner');\n",
              "      quickchartButtonEl.classList.add('colab-df-quickchart-complete');\n",
              "    }\n",
              "    (() => {\n",
              "      let quickchartButtonEl =\n",
              "        document.querySelector('#df-676b73f1-2097-44b6-8418-6811594bee8a button');\n",
              "      quickchartButtonEl.style.display =\n",
              "        google.colab.kernel.accessAllowed ? 'block' : 'none';\n",
              "    })();\n",
              "  </script>\n",
              "</div>\n",
              "\n",
              "    </div>\n",
              "  </div>\n"
            ],
            "application/vnd.google.colaboratory.intrinsic+json": {
              "type": "dataframe",
              "summary": "{\n  \"name\": \"df\",\n  \"rows\": 2,\n  \"fields\": [\n    {\n      \"column\": \"Name\",\n      \"properties\": {\n        \"dtype\": \"string\",\n        \"num_unique_values\": 2,\n        \"samples\": [\n          \"David\",\n          \"Charlie\"\n        ],\n        \"semantic_type\": \"\",\n        \"description\": \"\"\n      }\n    },\n    {\n      \"column\": \"Location\",\n      \"properties\": {\n        \"dtype\": \"string\",\n        \"num_unique_values\": 2,\n        \"samples\": [\n          \"Chicago\",\n          \"Los Angeles\"\n        ],\n        \"semantic_type\": \"\",\n        \"description\": \"\"\n      }\n    }\n  ]\n}"
            }
          },
          "metadata": {},
          "execution_count": 181
        }
      ],
      "source": [
        "df.loc['c':'e',[\"Name\", \"Location\"]]"
      ]
    },
    {
      "cell_type": "markdown",
      "metadata": {
        "id": "8XTlzm0MHOdW"
      },
      "source": [
        "Another option is to index into the DataFrame using entirely numeric indices, using `iloc`, with syntax:\n",
        "> `df.iloc[numeric_row_index, numeric_column_index]`\n",
        "\n",
        "To not get confused here, remember that Python uses 0-based indexing (and the very first column, which lists the row labels, does not count as a proper column)."
      ]
    },
    {
      "cell_type": "code",
      "execution_count": null,
      "metadata": {
        "id": "OYGcKwhwGeW1",
        "colab": {
          "base_uri": "https://localhost:8080/"
        },
        "outputId": "d970db98-0428-40a7-f885-fb16f2576632"
      },
      "outputs": [
        {
          "output_type": "execute_result",
          "data": {
            "text/plain": [
              "'Alice'"
            ],
            "application/vnd.google.colaboratory.intrinsic+json": {
              "type": "string"
            }
          },
          "metadata": {},
          "execution_count": 182
        }
      ],
      "source": [
        "# let's retrieve the element in row 1 and column 1\n",
        "df.iloc[0, 0]"
      ]
    },
    {
      "cell_type": "markdown",
      "metadata": {
        "id": "NJ9Hg79qAWBX"
      },
      "source": [
        "### Looping\n",
        "To loop through the elements in a row or a column (or a sub-table), you can just use a regular `for` loop"
      ]
    },
    {
      "cell_type": "code",
      "execution_count": null,
      "metadata": {
        "id": "_R6RczF8Af-7",
        "colab": {
          "base_uri": "https://localhost:8080/"
        },
        "outputId": "f9c6168d-e7f2-4980-dc43-70f272f04df2"
      },
      "outputs": [
        {
          "output_type": "stream",
          "name": "stdout",
          "text": [
            "Alice\n",
            "Bob\n",
            "Charlie\n",
            "David\n",
            "25\n",
            "30\n",
            "22\n",
            "28\n",
            "New York\n",
            "San Francisco\n",
            "Los Angeles\n",
            "Chicago\n"
          ]
        }
      ],
      "source": [
        "# let's loop through the entire DataFrame on columns\n",
        "for c in list(df.columns):\n",
        "    # for every column\n",
        "    for r in list(df.index):\n",
        "        # for every row\n",
        "        print(df.loc[r,c])"
      ]
    },
    {
      "cell_type": "code",
      "execution_count": null,
      "metadata": {
        "id": "XlxPDhihA2hC",
        "colab": {
          "base_uri": "https://localhost:8080/"
        },
        "outputId": "de2de92a-a182-4254-e327-17b0f13f49eb"
      },
      "outputs": [
        {
          "output_type": "stream",
          "name": "stdout",
          "text": [
            "Alice\n",
            "25\n",
            "New York\n",
            "Bob\n",
            "30\n",
            "San Francisco\n",
            "Charlie\n",
            "22\n",
            "Los Angeles\n",
            "David\n",
            "28\n",
            "Chicago\n"
          ]
        }
      ],
      "source": [
        "# now let's loop on rows, and using numeric indexing\n",
        "(num_rows, num_cols) = df.shape\n",
        "for r in range(num_rows):\n",
        "    # for every row\n",
        "    for c in range(num_cols):\n",
        "        # for every column\n",
        "        print(df.iloc[r,c])"
      ]
    },
    {
      "cell_type": "markdown",
      "metadata": {
        "id": "KOQKLuBH6Ee9"
      },
      "source": [
        "Depending on what calculation you need, looping with `for` loops like above may not be the best approach; instead, we may want to use a list comprehension (something we will do often together) or one of the built-in DataFrame functions. `DataFrames` and more broadly the `pandas` module have a lot of powerful functionality built-in, and you will likely explore more of that in your D&D class. For now, if you want more details, you can check out one of the many tutorials available online (e.g., <a href=\"https://www.datacamp.com/tutorial/pandas-tutorial-dataframe-python\">the DataCamp one</a>) or <a href=\"https://pandas.pydata.org/docs/reference/frame.html\">the official Python manual</a>."
      ]
    },
    {
      "cell_type": "markdown",
      "metadata": {
        "id": "vhFaZvbvC0DZ"
      },
      "source": [
        "## Reading data files\n",
        "We will read data files using panda's `read_csv` or `read_excel` functions."
      ]
    },
    {
      "cell_type": "markdown",
      "metadata": {
        "id": "qXirwpViEOi0"
      },
      "source": [
        "This code assumes that you imported the pandas module with the command `import pandas as pd`. For reading CSV files, the most common syntax we use is:\n",
        "> `df = pd.read_csv(full_file_name, index_col)`<br>\n",
        "where:\n",
        " - `full_file_name`: complete filename, including path if needed\n",
        " - `index_col` : the name or numeric index of the column to use to construct the row labels (this is optional, and if you don't specify it, Python will use 0, 1, 2, ...)\n",
        "\n",
        "For reading CSV files, the most common syntax we use is:\n",
        "> `df = pd.read_excel(full_file_name, sheet_name, index_col)`<br>\n",
        "where:\n",
        " - `full_file_name`: complete filename, including path if needed\n",
        " - `sheet_name`: the name of the sheet\n",
        " - `index_col`: the name or numeric index of the column to use to construct the row labels; (optional, and if you don't specify it, Python will use 0, 1, 2, ...)"
      ]
    },
    {
      "cell_type": "markdown",
      "metadata": {
        "id": "5hE-vfJnCn3-"
      },
      "source": [
        "# Plotting\n",
        "We will do most of our plotting with the `pyplot` library, which is contained inside the `matplotlib` library."
      ]
    },
    {
      "cell_type": "code",
      "execution_count": null,
      "metadata": {
        "id": "6hRkRA_-HcYt"
      },
      "outputs": [],
      "source": [
        "# import pyplot library from the matplotlib library\n",
        "import matplotlib.pyplot as plt"
      ]
    },
    {
      "cell_type": "markdown",
      "metadata": {
        "id": "FQcmit3-Vl6g"
      },
      "source": [
        "For a histogram, use `hist`"
      ]
    },
    {
      "cell_type": "code",
      "execution_count": null,
      "metadata": {
        "colab": {
          "base_uri": "https://localhost:8080/"
        },
        "id": "Qi0T2ocYVl6g",
        "outputId": "d949166a-d61b-4322-faee-f29f0c30d0af"
      },
      "outputs": [
        {
          "output_type": "display_data",
          "data": {
            "text/plain": [
              "<Figure size 640x480 with 1 Axes>"
            ],
            "image/png": "[encoded data removed]"
          },
          "metadata": {}
        }
      ],
      "source": [
        "# let's create a list with 1000 random integers taking values from 1 to 10\n",
        "import random\n",
        "random_integers = [random.randint(1, 10) for _ in range(100)]\n",
        "\n",
        "# plot a histogram of the values\n",
        "plt.hist(random_integers, bins=20, color=\"darkred\", edgecolor=\"black\")\n",
        "plt.ylabel(\"Count\", fontsize=14)\n",
        "plt.xlabel(\"Values for the variable\", fontsize=14)\n",
        "plt.title(\"Histogram of the variable\",fontsize=16)\n",
        "plt.show()"
      ]
    },
    {
      "cell_type": "markdown",
      "metadata": {
        "id": "7s3OlaVtVl6g"
      },
      "source": [
        "The code also shows how to change the x- and y- labels and the title. Many things could be adjusted in a plot. <a href=\"https://matplotlib.org/2.0.2/users/pyplot_tutorial.html\">This tutorial</a> could be a useful reference, but we recommend leveraging AI bots for this: with suitable prompting and a few iterations, they can typically get you very nice-looking plots!"
      ]
    },
    {
      "cell_type": "markdown",
      "metadata": {
        "id": "mBpq0oIiG5hf"
      },
      "source": [
        "For line plots, we use the `plot` function"
      ]
    },
    {
      "cell_type": "code",
      "execution_count": null,
      "metadata": {
        "id": "Y0NdPEFXG48w",
        "colab": {
          "base_uri": "https://localhost:8080/"
        },
        "outputId": "f39e8c44-82b9-4e00-bc13-17ec97806bba"
      },
      "outputs": [
        {
          "output_type": "display_data",
          "data": {
            "text/plain": [
              "<Figure size 640x480 with 1 Axes>"
            ],
            "image/png": "[encoded data removed]"
          },
          "metadata": {}
        }
      ],
      "source": [
        "# let's plot the function 3*x+2 for x in 0, 1, ..., 10\n",
        "xpoints = list(range(11))               # the values of x\n",
        "ypoints = [3*x+2 for x in xpoints]      # a list with the values of y = 3x+2\n",
        "\n",
        "plt.plot(xpoints, ypoints)\n",
        "plt.show()"
      ]
    },
    {
      "cell_type": "markdown",
      "metadata": {
        "id": "2HGEHyU7J2Gh"
      },
      "source": [
        "For a scatter plot, use `scatter`"
      ]
    },
    {
      "cell_type": "code",
      "execution_count": null,
      "metadata": {
        "id": "a668mzrfJ1n5",
        "colab": {
          "base_uri": "https://localhost:8080/"
        },
        "outputId": "17634fc9-e7ff-482c-db86-0fc3e60ef9ae"
      },
      "outputs": [
        {
          "output_type": "display_data",
          "data": {
            "text/plain": [
              "<Figure size 640x480 with 1 Axes>"
            ],
            "image/png": "[encoded data removed]"
          },
          "metadata": {}
        }
      ],
      "source": [
        "# let's plot the same function as above\n",
        "plt.scatter(xpoints, ypoints)\n",
        "plt.show()"
      ]
    },
    {
      "cell_type": "markdown",
      "metadata": {
        "id": "IkBRUkqPVl6g"
      },
      "source": [
        "# NumPy Basics\n",
        "NumPy is a powerful Python library used for numerical computations. It provides support for large multi-dimensional arrays and matrices, along with a collection of mathematical functions to operate on these arrays. Although numpy's functionality can be replicated in principle with lists of lists, numpy is **a lot** faster than lists (about 50 times faster) and should always be used instead of lists for large-scale computations."
      ]
    },
    {
      "cell_type": "markdown",
      "metadata": {
        "id": "tLDMNRnUVl6g"
      },
      "source": [
        "### Creating Arrays\n",
        "NumPy arrays can be created using the `array` function. Here's a basic example of creating an array from a list:"
      ]
    },
    {
      "cell_type": "code",
      "execution_count": null,
      "metadata": {
        "colab": {
          "base_uri": "https://localhost:8080/"
        },
        "id": "ZW22UhAEVl6g",
        "outputId": "e9836586-3f56-4d9c-cfd6-bf20e1fab5ba"
      },
      "outputs": [
        {
          "output_type": "stream",
          "name": "stdout",
          "text": [
            "[1 2 3 4 5]\n"
          ]
        }
      ],
      "source": [
        "import numpy as np\n",
        "# Creating an array\n",
        "arr = np.array([1, 2, 3, 4, 5])\n",
        "print(arr)"
      ]
    },
    {
      "cell_type": "markdown",
      "metadata": {
        "id": "Y7nzrY--Vl6g"
      },
      "source": [
        "### Indexing\n",
        "You can access elements of a NumPy array using indexing, similar to lists. Remember that indexing starts at 0."
      ]
    },
    {
      "cell_type": "code",
      "execution_count": null,
      "metadata": {
        "colab": {
          "base_uri": "https://localhost:8080/"
        },
        "id": "AD2C9EeyVl6h",
        "outputId": "fff5665c-a7b4-4492-b3fc-aebade856535"
      },
      "outputs": [
        {
          "output_type": "stream",
          "name": "stdout",
          "text": [
            "1\n",
            "3\n"
          ]
        }
      ],
      "source": [
        "# Accessing elements\n",
        "print(arr[0])  # First element\n",
        "print(arr[2])  # Third element"
      ]
    },
    {
      "cell_type": "code",
      "execution_count": null,
      "metadata": {
        "id": "IFyGvBQeVl6h"
      },
      "outputs": [],
      "source": [
        "New_arr = np.zeros(100)"
      ]
    },
    {
      "cell_type": "markdown",
      "metadata": {
        "id": "xcpyKR6VVl6h"
      },
      "source": [
        "This creates a NumPy array called New_arr with a length of 100. All elements in this array are initialized to 0"
      ]
    },
    {
      "cell_type": "markdown",
      "metadata": {
        "id": "7GwynYw5Vl6h"
      },
      "source": [
        "### Slicing\n",
        "Slicing allows you to extract a portion of an array. The syntax is similar to Python lists: `arr[start:stop]`."
      ]
    },
    {
      "cell_type": "code",
      "execution_count": null,
      "metadata": {
        "colab": {
          "base_uri": "https://localhost:8080/"
        },
        "id": "qkqfifuoVl6h",
        "outputId": "81a18448-6e42-4da6-95f5-11c08197ce36"
      },
      "outputs": [
        {
          "output_type": "stream",
          "name": "stdout",
          "text": [
            "[2 3 4]\n"
          ]
        }
      ],
      "source": [
        "# Slicing an array\n",
        "print(arr[1:4])  # Elements from index 1 to 3"
      ]
    },
    {
      "cell_type": "markdown",
      "metadata": {
        "id": "mZ8h9fJjVl6h"
      },
      "source": [
        "### Iterating\n",
        "You can iterate over NumPy arrays using standard loops."
      ]
    },
    {
      "cell_type": "code",
      "execution_count": null,
      "metadata": {
        "colab": {
          "base_uri": "https://localhost:8080/"
        },
        "id": "e67mNQHVVl6h",
        "outputId": "cae1cf30-38b8-4151-d4e8-b7f9cb7ed483"
      },
      "outputs": [
        {
          "output_type": "stream",
          "name": "stdout",
          "text": [
            "1\n",
            "2\n",
            "3\n",
            "4\n",
            "5\n"
          ]
        }
      ],
      "source": [
        "# Iterating through an array\n",
        "for x in arr:\n",
        "    print(x)"
      ]
    },
    {
      "cell_type": "markdown",
      "metadata": {
        "id": "aOya_aveVl6h"
      },
      "source": [
        "### Sorting\n",
        "NumPy provides a simple way to sort arrays using the `sort` function."
      ]
    },
    {
      "cell_type": "code",
      "execution_count": null,
      "metadata": {
        "colab": {
          "base_uri": "https://localhost:8080/"
        },
        "id": "vlRRennPVl6h",
        "outputId": "09623e98-861e-4f40-eb3d-c006ab47e0de"
      },
      "outputs": [
        {
          "output_type": "stream",
          "name": "stdout",
          "text": [
            "[1 1 3 4 5]\n"
          ]
        }
      ],
      "source": [
        "# Sorting an array\n",
        "unsorted_arr = np.array([3, 1, 4, 1, 5])\n",
        "sorted_arr = np.sort(unsorted_arr)\n",
        "print(sorted_arr)"
      ]
    },
    {
      "cell_type": "markdown",
      "metadata": {
        "id": "S4yDM1pNVl6h"
      },
      "source": [
        "### Max, Argmax, Min, and Argmin\n"
      ]
    },
    {
      "cell_type": "markdown",
      "metadata": {
        "id": "ex9_rGw3Vl6h"
      },
      "source": [
        "The `numpy` library provides the **functions** `numpy.min(), numpy.max(), numpy.argmin(), numpy.argmax()`, which allow you to find the minimum and maximum value and the location (i.e. index) of the minimum and maximum, respectively, in any object passed as argument.\n",
        "\n",
        "Here is an example where we apply these functions to a list:"
      ]
    },
    {
      "cell_type": "code",
      "execution_count": null,
      "metadata": {
        "colab": {
          "base_uri": "https://localhost:8080/"
        },
        "id": "cKLdQbgPVl6h",
        "outputId": "9cc5fcd8-ea9b-4c68-dd27-6daf93ed320c"
      },
      "outputs": [
        {
          "output_type": "execute_result",
          "data": {
            "text/plain": [
              "5"
            ]
          },
          "metadata": {},
          "execution_count": 195
        }
      ],
      "source": [
        "np.max([2, 4, 5, 1])"
      ]
    },
    {
      "cell_type": "code",
      "execution_count": null,
      "metadata": {
        "colab": {
          "base_uri": "https://localhost:8080/"
        },
        "id": "vW_W2-yLVl6h",
        "outputId": "369811e9-c17b-4f93-caaa-eca75375c0d3"
      },
      "outputs": [
        {
          "output_type": "execute_result",
          "data": {
            "text/plain": [
              "2"
            ]
          },
          "metadata": {},
          "execution_count": 196
        }
      ],
      "source": [
        "np.argmax([2, 4, 5, 1])"
      ]
    },
    {
      "cell_type": "markdown",
      "metadata": {
        "id": "oMBvoHmlVl6h"
      },
      "source": [
        "You can also apply these to a numpy array, to the column of a dataframe, etc."
      ]
    },
    {
      "cell_type": "markdown",
      "metadata": {
        "id": "esrLM8tnVl6h"
      },
      "source": [
        "### Arange Function\n",
        "Much like `range`, the `arange` function allows creating an array with evenly spaced values within a given range. But `arange` is much more flexible because it allows the `start`, `stop` or `step` to be fractional values (whereas with `range` they must be integers!)"
      ]
    },
    {
      "cell_type": "code",
      "execution_count": null,
      "metadata": {
        "colab": {
          "base_uri": "https://localhost:8080/"
        },
        "id": "Pb-hcL9zVl6h",
        "outputId": "68d869a8-8ab5-4e64-ce56-5e58ec0ae7d2"
      },
      "outputs": [
        {
          "output_type": "stream",
          "name": "stdout",
          "text": [
            "[0.1 2.3 4.5 6.7 8.9]\n"
          ]
        }
      ],
      "source": [
        "# Using arange\n",
        "start = 0.1\n",
        "stop = 10.5\n",
        "step = 2.2\n",
        "range_arr = np.arange(start, stop, step)\n",
        "print(range_arr)"
      ]
    },
    {
      "cell_type": "markdown",
      "metadata": {
        "id": "BcQ7cJKoVl6h"
      },
      "source": [
        "This creates a numpy array with values from 0.1 to 10.5 in increments of 2.2.\n",
        "\n",
        "The critical advantage of `arange` over `range` is that `arange` also works with non-integer values, like in our example."
      ]
    },
    {
      "cell_type": "markdown",
      "metadata": {
        "id": "7OaManKeVl6h"
      },
      "source": [
        "## Simple Statistics\n",
        "The numpy library also allows calculating very simple statistics. For instance, you can quickly calculate the mean of an array with `numpy.mean(.)` and the covariance with `numpy.cov(.)`."
      ]
    },
    {
      "cell_type": "markdown",
      "metadata": {
        "id": "MXJ3w5hRVl6h"
      },
      "source": [
        "Let's calculate the mean market price of beans:"
      ]
    },
    {
      "cell_type": "code",
      "execution_count": null,
      "metadata": {
        "colab": {
          "base_uri": "https://localhost:8080/"
        },
        "id": "ofMX0gobVl6h",
        "outputId": "6f020f45-d268-49b0-917d-a14d51f5ee98"
      },
      "outputs": [
        {
          "output_type": "stream",
          "name": "stdout",
          "text": [
            "The mean value of the list: 2.50\n"
          ]
        }
      ],
      "source": [
        "# mean price\n",
        "mean_val = np.mean([0, 1, 2, 3, 4, 5])\n",
        "print(f'The mean value of the list: {mean_val:.2f}')"
      ]
    },
    {
      "cell_type": "markdown",
      "metadata": {
        "id": "ZVG1aIo4Vl6h"
      },
      "source": [
        "Let's calculate the variance (i.e., squared standard deviation) of the price of cocoa powder:"
      ]
    },
    {
      "cell_type": "code",
      "execution_count": null,
      "metadata": {
        "colab": {
          "base_uri": "https://localhost:8080/"
        },
        "id": "hOMKOhzIVl6h",
        "outputId": "c86df9cb-2ccd-448a-cfe2-7aa8df145af5"
      },
      "outputs": [
        {
          "output_type": "stream",
          "name": "stdout",
          "text": [
            "The variance of the list values: 3.50\n"
          ]
        }
      ],
      "source": [
        "# covariance matrix\n",
        "cov = np.cov([0, 1, 2, 3, 4, 5])\n",
        "print(f'The variance of the list values: {cov:.2f}')"
      ]
    },
    {
      "cell_type": "markdown",
      "metadata": {
        "id": "wBXGtU1zVl6i"
      },
      "source": [
        "Using numpy, you can also calculate correlation coefficients from the covariance. However, in case your data is given as a dataframe, the `pandas` dataframe method `corr` is simpler.\n",
        "\n",
        "For instance, to calculate the correlation between **Age** and **Id** for the dataframe that we defined earlier (see Dataframe section), we would do:"
      ]
    },
    {
      "cell_type": "code",
      "execution_count": null,
      "metadata": {
        "id": "_A3BCqf5aTYU",
        "outputId": "49ae3ce4-cda8-48e8-95e4-545828ee47af",
        "colab": {
          "base_uri": "https://localhost:8080/",
          "height": 192
        }
      },
      "outputs": [
        {
          "output_type": "display_data",
          "data": {
            "text/plain": [
              "      Name  Years       Location  New_val\n",
              "a    Alice     25       New York        0\n",
              "b      Bob     30  San Francisco        1\n",
              "c  Charlie     22    Los Angeles        2\n",
              "d    David     28        Chicago        3"
            ],
            "text/html": [
              "\n",
              "  <div id=\"df-7e80614c-e361-419e-8825-0b2cdb9fad89\" class=\"colab-df-container\">\n",
              "    <div>\n",
              "<style scoped>\n",
              "    .dataframe tbody tr th:only-of-type {\n",
              "        vertical-align: middle;\n",
              "    }\n",
              "\n",
              "    .dataframe tbody tr th {\n",
              "        vertical-align: top;\n",
              "    }\n",
              "\n",
              "    .dataframe thead th {\n",
              "        text-align: right;\n",
              "    }\n",
              "</style>\n",
              "<table border=\"1\" class=\"dataframe\">\n",
              "  <thead>\n",
              "    <tr style=\"text-align: right;\">\n",
              "      <th></th>\n",
              "      <th>Name</th>\n",
              "      <th>Years</th>\n",
              "      <th>Location</th>\n",
              "      <th>New_val</th>\n",
              "    </tr>\n",
              "  </thead>\n",
              "  <tbody>\n",
              "    <tr>\n",
              "      <th>a</th>\n",
              "      <td>Alice</td>\n",
              "      <td>25</td>\n",
              "      <td>New York</td>\n",
              "      <td>0</td>\n",
              "    </tr>\n",
              "    <tr>\n",
              "      <th>b</th>\n",
              "      <td>Bob</td>\n",
              "      <td>30</td>\n",
              "      <td>San Francisco</td>\n",
              "      <td>1</td>\n",
              "    </tr>\n",
              "    <tr>\n",
              "      <th>c</th>\n",
              "      <td>Charlie</td>\n",
              "      <td>22</td>\n",
              "      <td>Los Angeles</td>\n",
              "      <td>2</td>\n",
              "    </tr>\n",
              "    <tr>\n",
              "      <th>d</th>\n",
              "      <td>David</td>\n",
              "      <td>28</td>\n",
              "      <td>Chicago</td>\n",
              "      <td>3</td>\n",
              "    </tr>\n",
              "  </tbody>\n",
              "</table>\n",
              "</div>\n",
              "    <div class=\"colab-df-buttons\">\n",
              "\n",
              "  <div class=\"colab-df-container\">\n",
              "    <button class=\"colab-df-convert\" onclick=\"convertToInteractive('df-7e80614c-e361-419e-8825-0b2cdb9fad89')\"\n",
              "            title=\"Convert this dataframe to an interactive table.\"\n",
              "            style=\"display:none;\">\n",
              "\n",
              "  <svg xmlns=\"http://www.w3.org/2000/svg\" height=\"24px\" viewBox=\"0 -960 960 960\">\n",
              "    <path d=\"M120-120v-720h720v720H120Zm60-500h600v-160H180v160Zm220 220h160v-160H400v160Zm0 220h160v-160H400v160ZM180-400h160v-160H180v160Zm440 0h160v-160H620v160ZM180-180h160v-160H180v160Zm440 0h160v-160H620v160Z\"/>\n",
              "  </svg>\n",
              "    </button>\n",
              "\n",
              "  <style>\n",
              "    .colab-df-container {\n",
              "      display:flex;\n",
              "      gap: 12px;\n",
              "    }\n",
              "\n",
              "    .colab-df-convert {\n",
              "      background-color: #E8F0FE;\n",
              "      border: none;\n",
              "      border-radius: 50%;\n",
              "      cursor: pointer;\n",
              "      display: none;\n",
              "      fill: #1967D2;\n",
              "      height: 32px;\n",
              "      padding: 0 0 0 0;\n",
              "      width: 32px;\n",
              "    }\n",
              "\n",
              "    .colab-df-convert:hover {\n",
              "      background-color: #E2EBFA;\n",
              "      box-shadow: 0px 1px 2px rgba(60, 64, 67, 0.3), 0px 1px 3px 1px rgba(60, 64, 67, 0.15);\n",
              "      fill: #174EA6;\n",
              "    }\n",
              "\n",
              "    .colab-df-buttons div {\n",
              "      margin-bottom: 4px;\n",
              "    }\n",
              "\n",
              "    [theme=dark] .colab-df-convert {\n",
              "      background-color: #3B4455;\n",
              "      fill: #D2E3FC;\n",
              "    }\n",
              "\n",
              "    [theme=dark] .colab-df-convert:hover {\n",
              "      background-color: #434B5C;\n",
              "      box-shadow: 0px 1px 3px 1px rgba(0, 0, 0, 0.15);\n",
              "      filter: drop-shadow(0px 1px 2px rgba(0, 0, 0, 0.3));\n",
              "      fill: #FFFFFF;\n",
              "    }\n",
              "  </style>\n",
              "\n",
              "    <script>\n",
              "      const buttonEl =\n",
              "        document.querySelector('#df-7e80614c-e361-419e-8825-0b2cdb9fad89 button.colab-df-convert');\n",
              "      buttonEl.style.display =\n",
              "        google.colab.kernel.accessAllowed ? 'block' : 'none';\n",
              "\n",
              "      async function convertToInteractive(key) {\n",
              "        const element = document.querySelector('#df-7e80614c-e361-419e-8825-0b2cdb9fad89');\n",
              "        const dataTable =\n",
              "          await google.colab.kernel.invokeFunction('convertToInteractive',\n",
              "                                                    [key], {});\n",
              "        if (!dataTable) return;\n",
              "\n",
              "        const docLinkHtml = 'Like what you see? Visit the ' +\n",
              "          '<a target=\"_blank\" href=https://colab.research.google.com/notebooks/data_table.ipynb>data table notebook</a>'\n",
              "          + ' to learn more about interactive tables.';\n",
              "        element.innerHTML = '';\n",
              "        dataTable['output_type'] = 'display_data';\n",
              "        await google.colab.output.renderOutput(dataTable, element);\n",
              "        const docLink = document.createElement('div');\n",
              "        docLink.innerHTML = docLinkHtml;\n",
              "        element.appendChild(docLink);\n",
              "      }\n",
              "    </script>\n",
              "  </div>\n",
              "\n",
              "\n",
              "<div id=\"df-089908b4-7945-405f-ae1c-d9150ac92a3c\">\n",
              "  <button class=\"colab-df-quickchart\" onclick=\"quickchart('df-089908b4-7945-405f-ae1c-d9150ac92a3c')\"\n",
              "            title=\"Suggest charts\"\n",
              "            style=\"display:none;\">\n",
              "\n",
              "<svg xmlns=\"http://www.w3.org/2000/svg\" height=\"24px\"viewBox=\"0 0 24 24\"\n",
              "     width=\"24px\">\n",
              "    <g>\n",
              "        <path d=\"M19 3H5c-1.1 0-2 .9-2 2v14c0 1.1.9 2 2 2h14c1.1 0 2-.9 2-2V5c0-1.1-.9-2-2-2zM9 17H7v-7h2v7zm4 0h-2V7h2v10zm4 0h-2v-4h2v4z\"/>\n",
              "    </g>\n",
              "</svg>\n",
              "  </button>\n",
              "\n",
              "<style>\n",
              "  .colab-df-quickchart {\n",
              "      --bg-color: #E8F0FE;\n",
              "      --fill-color: #1967D2;\n",
              "      --hover-bg-color: #E2EBFA;\n",
              "      --hover-fill-color: #174EA6;\n",
              "      --disabled-fill-color: #AAA;\n",
              "      --disabled-bg-color: #DDD;\n",
              "  }\n",
              "\n",
              "  [theme=dark] .colab-df-quickchart {\n",
              "      --bg-color: #3B4455;\n",
              "      --fill-color: #D2E3FC;\n",
              "      --hover-bg-color: #434B5C;\n",
              "      --hover-fill-color: #FFFFFF;\n",
              "      --disabled-bg-color: #3B4455;\n",
              "      --disabled-fill-color: #666;\n",
              "  }\n",
              "\n",
              "  .colab-df-quickchart {\n",
              "    background-color: var(--bg-color);\n",
              "    border: none;\n",
              "    border-radius: 50%;\n",
              "    cursor: pointer;\n",
              "    display: none;\n",
              "    fill: var(--fill-color);\n",
              "    height: 32px;\n",
              "    padding: 0;\n",
              "    width: 32px;\n",
              "  }\n",
              "\n",
              "  .colab-df-quickchart:hover {\n",
              "    background-color: var(--hover-bg-color);\n",
              "    box-shadow: 0 1px 2px rgba(60, 64, 67, 0.3), 0 1px 3px 1px rgba(60, 64, 67, 0.15);\n",
              "    fill: var(--button-hover-fill-color);\n",
              "  }\n",
              "\n",
              "  .colab-df-quickchart-complete:disabled,\n",
              "  .colab-df-quickchart-complete:disabled:hover {\n",
              "    background-color: var(--disabled-bg-color);\n",
              "    fill: var(--disabled-fill-color);\n",
              "    box-shadow: none;\n",
              "  }\n",
              "\n",
              "  .colab-df-spinner {\n",
              "    border: 2px solid var(--fill-color);\n",
              "    border-color: transparent;\n",
              "    border-bottom-color: var(--fill-color);\n",
              "    animation:\n",
              "      spin 1s steps(1) infinite;\n",
              "  }\n",
              "\n",
              "  @keyframes spin {\n",
              "    0% {\n",
              "      border-color: transparent;\n",
              "      border-bottom-color: var(--fill-color);\n",
              "      border-left-color: var(--fill-color);\n",
              "    }\n",
              "    20% {\n",
              "      border-color: transparent;\n",
              "      border-left-color: var(--fill-color);\n",
              "      border-top-color: var(--fill-color);\n",
              "    }\n",
              "    30% {\n",
              "      border-color: transparent;\n",
              "      border-left-color: var(--fill-color);\n",
              "      border-top-color: var(--fill-color);\n",
              "      border-right-color: var(--fill-color);\n",
              "    }\n",
              "    40% {\n",
              "      border-color: transparent;\n",
              "      border-right-color: var(--fill-color);\n",
              "      border-top-color: var(--fill-color);\n",
              "    }\n",
              "    60% {\n",
              "      border-color: transparent;\n",
              "      border-right-color: var(--fill-color);\n",
              "    }\n",
              "    80% {\n",
              "      border-color: transparent;\n",
              "      border-right-color: var(--fill-color);\n",
              "      border-bottom-color: var(--fill-color);\n",
              "    }\n",
              "    90% {\n",
              "      border-color: transparent;\n",
              "      border-bottom-color: var(--fill-color);\n",
              "    }\n",
              "  }\n",
              "</style>\n",
              "\n",
              "  <script>\n",
              "    async function quickchart(key) {\n",
              "      const quickchartButtonEl =\n",
              "        document.querySelector('#' + key + ' button');\n",
              "      quickchartButtonEl.disabled = true;  // To prevent multiple clicks.\n",
              "      quickchartButtonEl.classList.add('colab-df-spinner');\n",
              "      try {\n",
              "        const charts = await google.colab.kernel.invokeFunction(\n",
              "            'suggestCharts', [key], {});\n",
              "      } catch (error) {\n",
              "        console.error('Error during call to suggestCharts:', error);\n",
              "      }\n",
              "      quickchartButtonEl.classList.remove('colab-df-spinner');\n",
              "      quickchartButtonEl.classList.add('colab-df-quickchart-complete');\n",
              "    }\n",
              "    (() => {\n",
              "      let quickchartButtonEl =\n",
              "        document.querySelector('#df-089908b4-7945-405f-ae1c-d9150ac92a3c button');\n",
              "      quickchartButtonEl.style.display =\n",
              "        google.colab.kernel.accessAllowed ? 'block' : 'none';\n",
              "    })();\n",
              "  </script>\n",
              "</div>\n",
              "\n",
              "  <div id=\"id_0515f28b-71c0-4dfc-8f6c-6aa516ab0203\">\n",
              "    <style>\n",
              "      .colab-df-generate {\n",
              "        background-color: #E8F0FE;\n",
              "        border: none;\n",
              "        border-radius: 50%;\n",
              "        cursor: pointer;\n",
              "        display: none;\n",
              "        fill: #1967D2;\n",
              "        height: 32px;\n",
              "        padding: 0 0 0 0;\n",
              "        width: 32px;\n",
              "      }\n",
              "\n",
              "      .colab-df-generate:hover {\n",
              "        background-color: #E2EBFA;\n",
              "        box-shadow: 0px 1px 2px rgba(60, 64, 67, 0.3), 0px 1px 3px 1px rgba(60, 64, 67, 0.15);\n",
              "        fill: #174EA6;\n",
              "      }\n",
              "\n",
              "      [theme=dark] .colab-df-generate {\n",
              "        background-color: #3B4455;\n",
              "        fill: #D2E3FC;\n",
              "      }\n",
              "\n",
              "      [theme=dark] .colab-df-generate:hover {\n",
              "        background-color: #434B5C;\n",
              "        box-shadow: 0px 1px 3px 1px rgba(0, 0, 0, 0.15);\n",
              "        filter: drop-shadow(0px 1px 2px rgba(0, 0, 0, 0.3));\n",
              "        fill: #FFFFFF;\n",
              "      }\n",
              "    </style>\n",
              "    <button class=\"colab-df-generate\" onclick=\"generateWithVariable('df')\"\n",
              "            title=\"Generate code using this dataframe.\"\n",
              "            style=\"display:none;\">\n",
              "\n",
              "  <svg xmlns=\"http://www.w3.org/2000/svg\" height=\"24px\"viewBox=\"0 0 24 24\"\n",
              "       width=\"24px\">\n",
              "    <path d=\"M7,19H8.4L18.45,9,17,7.55,7,17.6ZM5,21V16.75L18.45,3.32a2,2,0,0,1,2.83,0l1.4,1.43a1.91,1.91,0,0,1,.58,1.4,1.91,1.91,0,0,1-.58,1.4L9.25,21ZM18.45,9,17,7.55Zm-12,3A5.31,5.31,0,0,0,4.9,8.1,5.31,5.31,0,0,0,1,6.5,5.31,5.31,0,0,0,4.9,4.9,5.31,5.31,0,0,0,6.5,1,5.31,5.31,0,0,0,8.1,4.9,5.31,5.31,0,0,0,12,6.5,5.46,5.46,0,0,0,6.5,12Z\"/>\n",
              "  </svg>\n",
              "    </button>\n",
              "    <script>\n",
              "      (() => {\n",
              "      const buttonEl =\n",
              "        document.querySelector('#id_0515f28b-71c0-4dfc-8f6c-6aa516ab0203 button.colab-df-generate');\n",
              "      buttonEl.style.display =\n",
              "        google.colab.kernel.accessAllowed ? 'block' : 'none';\n",
              "\n",
              "      buttonEl.onclick = () => {\n",
              "        google.colab.notebook.generateWithVariable('df');\n",
              "      }\n",
              "      })();\n",
              "    </script>\n",
              "  </div>\n",
              "\n",
              "    </div>\n",
              "  </div>\n"
            ],
            "application/vnd.google.colaboratory.intrinsic+json": {
              "type": "dataframe",
              "variable_name": "df",
              "summary": "{\n  \"name\": \"df\",\n  \"rows\": 4,\n  \"fields\": [\n    {\n      \"column\": \"Name\",\n      \"properties\": {\n        \"dtype\": \"string\",\n        \"num_unique_values\": 4,\n        \"samples\": [\n          \"Bob\",\n          \"David\",\n          \"Alice\"\n        ],\n        \"semantic_type\": \"\",\n        \"description\": \"\"\n      }\n    },\n    {\n      \"column\": \"Years\",\n      \"properties\": {\n        \"dtype\": \"number\",\n        \"std\": 3,\n        \"min\": 22,\n        \"max\": 30,\n        \"num_unique_values\": 4,\n        \"samples\": [\n          30,\n          28,\n          25\n        ],\n        \"semantic_type\": \"\",\n        \"description\": \"\"\n      }\n    },\n    {\n      \"column\": \"Location\",\n      \"properties\": {\n        \"dtype\": \"string\",\n        \"num_unique_values\": 4,\n        \"samples\": [\n          \"San Francisco\",\n          \"Chicago\",\n          \"New York\"\n        ],\n        \"semantic_type\": \"\",\n        \"description\": \"\"\n      }\n    },\n    {\n      \"column\": \"New_val\",\n      \"properties\": {\n        \"dtype\": \"number\",\n        \"std\": 1,\n        \"min\": 0,\n        \"max\": 3,\n        \"num_unique_values\": 4,\n        \"samples\": [\n          1,\n          3,\n          0\n        ],\n        \"semantic_type\": \"\",\n        \"description\": \"\"\n      }\n    }\n  ]\n}"
            }
          },
          "metadata": {}
        },
        {
          "output_type": "stream",
          "name": "stdout",
          "text": [
            "Correlation coefficient: 0.037\n"
          ]
        }
      ],
      "source": [
        "# Define one more column with values and print the df\n",
        "df[\"New_val\"] = np.arange(0,len(df),1)\n",
        "display(df)\n",
        "\n",
        "# Calculate and print the correlation coefficient of the new column with the \"Years\"\n",
        "corr_coef = df[\"Years\"].corr(df[\"New_val\"])\n",
        "print(f\"Correlation coefficient: {corr_coef:.3f}\")"
      ]
    },
    {
      "cell_type": "markdown",
      "metadata": {
        "id": "ozIeA_IhVl6i"
      },
      "source": [
        "## Random Sub-module\n",
        "NumPy's `random` sub-module allows you to generate random numbers. We will be using this a lot when doing Monte-Carlo simulation!\n",
        "\n",
        "Here are some simple examples:"
      ]
    },
    {
      "cell_type": "code",
      "execution_count": null,
      "metadata": {
        "colab": {
          "base_uri": "https://localhost:8080/"
        },
        "id": "xFZoH2TrVl6i",
        "outputId": "e43d2324-dbae-4f46-956f-8c3721123d8f"
      },
      "outputs": [
        {
          "output_type": "stream",
          "name": "stdout",
          "text": [
            "Random uniform: [0.85666056 0.88340607 0.50795553]\n",
            "Random integers: [8 1 1]\n",
            "Random normal: [-0.98354525  0.31335221  1.21315177]\n",
            "Random binomial: [6 6 7]\n"
          ]
        }
      ],
      "source": [
        "# Uniform distribution\n",
        "rand_uniform = np.random.rand(3)\n",
        "print('Random uniform:', rand_uniform)\n",
        "\n",
        "# Random integers in an interval\n",
        "rand_int = np.random.randint(1, 10, 3)\n",
        "print('Random integers:', rand_int)\n",
        "\n",
        "# Normal distribution\n",
        "rand_normal = np.random.randn(3)\n",
        "print('Random normal:', rand_normal)\n",
        "\n",
        "# Binomial distribution\n",
        "rand_binomial = np.random.binomial(10, 0.5, 3)\n",
        "print('Random binomial:', rand_binomial)"
      ]
    },
    {
      "cell_type": "markdown",
      "metadata": {
        "id": "C4gDRaFDVl6i"
      },
      "source": [
        "### Uniform Continuous Distribution\n",
        "`np.random.rand(n)` generates an array of `n` random samples drawn from a uniform distribution over the interval [0, 1)"
      ]
    },
    {
      "cell_type": "code",
      "execution_count": null,
      "metadata": {
        "colab": {
          "base_uri": "https://localhost:8080/"
        },
        "id": "PznTaYyFVl6i",
        "outputId": "302f3073-f466-4c08-b515-e65efc9b2862"
      },
      "outputs": [
        {
          "output_type": "stream",
          "name": "stdout",
          "text": [
            "Random uniform sample: [0.73865029 0.97554153 0.5591214 ]\n"
          ]
        }
      ],
      "source": [
        "# Random uniform between 0 and 1\n",
        "uniform_sample = np.random.rand(3)\n",
        "print('Random uniform sample:', uniform_sample)"
      ]
    },
    {
      "cell_type": "markdown",
      "metadata": {
        "id": "IxFvjBvPVl6i"
      },
      "source": [
        "### Random Integers In An Interval\n",
        "`np.random.randint(low, high, size)` generates an array of `size` random integers between `low` (inclusive) and `high` (exclusive)"
      ]
    },
    {
      "cell_type": "code",
      "execution_count": null,
      "metadata": {
        "colab": {
          "base_uri": "https://localhost:8080/"
        },
        "id": "qR3X2M7WVl6i",
        "outputId": "743d3b0e-f4af-46fd-aab0-8b15b9964178"
      },
      "outputs": [
        {
          "output_type": "stream",
          "name": "stdout",
          "text": [
            "Random integer sample: [9 1 5]\n"
          ]
        }
      ],
      "source": [
        "# Random integers between 1 (inclusive) and 10 (exclusive)\n",
        "integer_sample = np.random.randint(1, 10, 3)\n",
        "print('Random integer sample:', integer_sample)"
      ]
    },
    {
      "cell_type": "markdown",
      "metadata": {
        "id": "k0GvcUn1Vl6i"
      },
      "source": [
        "### Normal Distribution\n",
        "`np.random.normal(loc, scale, size)` generates an array of `size` random samples drawn from a normal distribution with mean = `loc` and standard deviation = `scale`"
      ]
    },
    {
      "cell_type": "code",
      "execution_count": null,
      "metadata": {
        "colab": {
          "base_uri": "https://localhost:8080/"
        },
        "id": "u-Y2vwfZVl6i",
        "outputId": "a16ff068-116f-486e-90ac-95be87d1ecba"
      },
      "outputs": [
        {
          "output_type": "stream",
          "name": "stdout",
          "text": [
            "Random normal sample: [4.93327111 7.57373973 7.44440112]\n"
          ]
        }
      ],
      "source": [
        "# Random normal with mean 5 and standard deviation 2\n",
        "normal_sample = np.random.normal(loc=5, scale=2, size=3)\n",
        "print('Random normal sample:', normal_sample)"
      ]
    },
    {
      "cell_type": "markdown",
      "metadata": {
        "id": "KFuNdULaVl6i"
      },
      "source": [
        "### Binomial Distribution\n",
        "`np.random.binomial(n, p, size)` generates an array of `size` random samples from a binomial distribution with `n` trials and a probability of success `p`"
      ]
    },
    {
      "cell_type": "code",
      "execution_count": null,
      "metadata": {
        "colab": {
          "base_uri": "https://localhost:8080/"
        },
        "id": "8UkjzkpSVl6i",
        "outputId": "4147ee5a-9f68-4b4b-eba1-4180143785b2"
      },
      "outputs": [
        {
          "output_type": "stream",
          "name": "stdout",
          "text": [
            "Random binomial sample: [7 3 4]\n"
          ]
        }
      ],
      "source": [
        "# Random binomial with 10 trials and probability of success 0.5\n",
        "binomial_sample = np.random.binomial(10, 0.5, 3)\n",
        "print('Random binomial sample:', binomial_sample)"
      ]
    },
    {
      "cell_type": "code",
      "execution_count": null,
      "metadata": {
        "id": "Q0nZBB0gVl6i"
      },
      "outputs": [],
      "source": []
    }
  ],
  "metadata": {
    "colab": {
      "collapsed_sections": [
        "4e2QzVgcEdPq",
        "SFSimwR-FtwC",
        "qZ3CRTSjK5S2",
        "AjTVm_8WPFSr",
        "oNQKp0XoaeFG",
        "tIMzHTcErHd7",
        "GyFY-Qk87Vq4",
        "Y0f2vEzg3SvS",
        "dvOlucWfcS7b",
        "DHe9-SVArwA_",
        "hO4pm0SC6OQx",
        "gOLtAzIak-SQ",
        "FLPRZLmFkw5U",
        "hMQ4xKVnjfMf",
        "5hE-vfJnCn3-"
      ],
      "provenance": [],
      "toc_visible": true,
      "include_colab_link": true
    },
    "kernelspec": {
      "display_name": "Python 3 (ipykernel)",
      "language": "python",
      "name": "python3"
    },
    "language_info": {
      "codemirror_mode": {
        "name": "ipython",
        "version": 3
      },
      "file_extension": ".py",
      "mimetype": "text/x-python",
      "name": "python",
      "nbconvert_exporter": "python",
      "pygments_lexer": "ipython3",
      "version": "3.11.8"
    }
  },
  "nbformat": 4,
  "nbformat_minor": 0
}