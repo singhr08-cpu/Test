{
 "cells": [
  {
   "cell_type": "markdown",
   "metadata": {
    "id": "-fF41kJzaTX_"
   },
   "source": [
    "# Oro Verde Carbon Offset Project\n",
    "\n",
    "This notebook implements a full solution to the mini-case."
   ]
  },
  {
   "cell_type": "code",
   "execution_count": 1,
   "metadata": {},
   "outputs": [],
   "source": [
    "# let's import the pandas module to read files\n",
    "import pandas as pd\n",
    "\n",
    "# Data available from the case, stored as a dictionary\n",
    "# 500,000 sq feet of land, 150,000 gallons of water annually, $0,000 budget for initial payments\n",
    "available = { \"Land\" : 500000, \"Water\" : 150000, \"Cost\" : 3000 }"
   ]
  },
  {
   "attachments": {},
   "cell_type": "markdown",
   "metadata": {
    "id": "HmshoF0PaTYZ"
   },
   "source": [
    "# Q1.\n",
    "_Write Python code that reads the file “Oro_Verde_Data.csv” and creates a DataFrame with the index corresponding to the names of the tree species. Display the DataFrame and have a look!_\n",
    "\n",
    "We create a DataFrame by reading from the CSV file using the `read_csv` function. Note the second argument `index_col = 0`, which tells `pandas` to get the index from the first column of the table."
   ]
  },
  {
   "cell_type": "code",
   "execution_count": 2,
   "metadata": {
    "scrolled": true
   },
   "outputs": [
    {
     "data": {
      "text/html": [
       "<div>\n",
       "<style scoped>\n",
       "    .dataframe tbody tr th:only-of-type {\n",
       "        vertical-align: middle;\n",
       "    }\n",
       "\n",
       "    .dataframe tbody tr th {\n",
       "        vertical-align: top;\n",
       "    }\n",
       "\n",
       "    .dataframe thead th {\n",
       "        text-align: right;\n",
       "    }\n",
       "</style>\n",
       "<table border=\"1\" class=\"dataframe\">\n",
       "  <thead>\n",
       "    <tr style=\"text-align: right;\">\n",
       "      <th></th>\n",
       "      <th>Sequestration_Rate</th>\n",
       "      <th>Water</th>\n",
       "      <th>Land</th>\n",
       "      <th>Survival_Rate</th>\n",
       "      <th>Cost</th>\n",
       "    </tr>\n",
       "    <tr>\n",
       "      <th>Tree_Type</th>\n",
       "      <th></th>\n",
       "      <th></th>\n",
       "      <th></th>\n",
       "      <th></th>\n",
       "      <th></th>\n",
       "    </tr>\n",
       "  </thead>\n",
       "  <tbody>\n",
       "    <tr>\n",
       "      <th>Maple</th>\n",
       "      <td>4.3</td>\n",
       "      <td>76</td>\n",
       "      <td>130</td>\n",
       "      <td>0.70</td>\n",
       "      <td>10.0</td>\n",
       "    </tr>\n",
       "    <tr>\n",
       "      <th>Elm</th>\n",
       "      <td>3.7</td>\n",
       "      <td>48</td>\n",
       "      <td>3600</td>\n",
       "      <td>0.60</td>\n",
       "      <td>6.5</td>\n",
       "    </tr>\n",
       "    <tr>\n",
       "      <th>Spruce</th>\n",
       "      <td>2.8</td>\n",
       "      <td>34</td>\n",
       "      <td>400</td>\n",
       "      <td>0.80</td>\n",
       "      <td>9.0</td>\n",
       "    </tr>\n",
       "    <tr>\n",
       "      <th>Pine</th>\n",
       "      <td>3.5</td>\n",
       "      <td>58</td>\n",
       "      <td>200</td>\n",
       "      <td>0.65</td>\n",
       "      <td>8.0</td>\n",
       "    </tr>\n",
       "    <tr>\n",
       "      <th>Oak</th>\n",
       "      <td>5.2</td>\n",
       "      <td>80</td>\n",
       "      <td>1000</td>\n",
       "      <td>0.75</td>\n",
       "      <td>12.5</td>\n",
       "    </tr>\n",
       "    <tr>\n",
       "      <th>Birch</th>\n",
       "      <td>3.1</td>\n",
       "      <td>50</td>\n",
       "      <td>300</td>\n",
       "      <td>0.68</td>\n",
       "      <td>7.5</td>\n",
       "    </tr>\n",
       "    <tr>\n",
       "      <th>Redwood</th>\n",
       "      <td>12.0</td>\n",
       "      <td>150</td>\n",
       "      <td>10000</td>\n",
       "      <td>0.90</td>\n",
       "      <td>25.0</td>\n",
       "    </tr>\n",
       "  </tbody>\n",
       "</table>\n",
       "</div>"
      ],
      "text/plain": [
       "           Sequestration_Rate  Water   Land  Survival_Rate  Cost\n",
       "Tree_Type                                                       \n",
       "Maple                     4.3     76    130           0.70  10.0\n",
       "Elm                       3.7     48   3600           0.60   6.5\n",
       "Spruce                    2.8     34    400           0.80   9.0\n",
       "Pine                      3.5     58    200           0.65   8.0\n",
       "Oak                       5.2     80   1000           0.75  12.5\n",
       "Birch                     3.1     50    300           0.68   7.5\n",
       "Redwood                  12.0    150  10000           0.90  25.0"
      ]
     },
     "metadata": {},
     "output_type": "display_data"
    }
   ],
   "source": [
    "# create the dataframe by reading from the Excel file\n",
    "df = pd.read_csv('Oro_Verde_Data.csv', index_col=0)\n",
    "\n",
    "# display the dataframe\n",
    "display(df)"
   ]
  },
  {
   "attachments": {},
   "cell_type": "markdown",
   "metadata": {
    "id": "HmshoF0PaTYZ"
   },
   "source": [
    "# Q2.\n",
    "_Create a Python list with the names of the columns of the DataFrame and a separate list with the names of tree species. Print these lists to check that they are correct._"
   ]
  },
  {
   "cell_type": "code",
   "execution_count": 3,
   "metadata": {},
   "outputs": [
    {
     "name": "stdout",
     "output_type": "stream",
     "text": [
      "['Sequestration_Rate', 'Water', 'Land', 'Survival_Rate', 'Cost']\n",
      "['Maple', 'Elm', 'Spruce', 'Pine', 'Oak', 'Birch', 'Redwood']\n"
     ]
    }
   ],
   "source": [
    "# create a list with the columns\n",
    "columns = list(df.columns)\n",
    "print(columns)\n",
    "\n",
    "# and another list for the index\n",
    "tree_types = list(df.index)\n",
    "print(tree_types)"
   ]
  },
  {
   "attachments": {},
   "cell_type": "markdown",
   "metadata": {
    "id": "HmshoF0PaTYZ"
   },
   "source": [
    "# Q3.\n",
    "_Suppose Oro Verde wants to plant 400 Redwoods and 500 trees of every other tree type. Create a Python dictionary with keys corresponding to the tree species and values corresponding to the number of trees planted. Print the dictionary to see its contents._"
   ]
  },
  {
   "cell_type": "code",
   "execution_count": 4,
   "metadata": {},
   "outputs": [
    {
     "name": "stdout",
     "output_type": "stream",
     "text": [
      "{'Maple': 30, 'Elm': 30, 'Spruce': 30, 'Pine': 30, 'Oak': 30, 'Birch': 30, 'Redwood': 40}\n"
     ]
    }
   ],
   "source": [
    "# let's create the dictionary\n",
    "planted_trees = {}             # first an empty dictionary\n",
    "for t in tree_types:           # loop through every tree type\n",
    "    if t == \"Redwood\":\n",
    "        planted_trees[t] = 40     # 40 Redwoods\n",
    "    else:\n",
    "        planted_trees[t] = 30     # 30 each for the rest\n",
    "\n",
    "print(planted_trees)"
   ]
  },
  {
   "attachments": {},
   "cell_type": "markdown",
   "metadata": {
    "id": "HmshoF0PaTYZ"
   },
   "source": [
    "# Q4.\n",
    "_Suppose Oro Verde follows the planting scheme in Q3. Calculate and print the following quantities:_<br>\n",
    "   _a) the expected total pounds of CO2 that would be sequestered annually when trees are mature;_<br>\n",
    "   _c) the total cost of purchasing and planting seedlings._<br>\n",
    "_Input the value that you obtained in (a) for CO2 sequestration in the Google sheet._"
   ]
  },
  {
   "cell_type": "markdown",
   "metadata": {},
   "source": [
    "**IMPORTANT NOTE**. In this case, the number of trees that survive to become mature is **unknown**: the case gives us the survival rate, so presumably we could talk about a probabilistic model where trees survive with some probability (we will do that later on in the course). For purposes of calculating the expected amount of CO2 sequestered, only the expected number of trees that survive matters. \n",
    "\n",
    "Let's use the following notation:\n",
    " - $\\mbox{Tree-types} = \\{Maple, Elm, ..., Redwood\\}$ denotes the set of trees, indexed by $t$\n",
    " - $\\mbox{co2}[t]$, $\\mbox{survive}[t]$ denote the annual CO2 sequestration rate and survival rate for a mature tree\n",
    " - $\\mbox{cost}[t]$ : the cost for a seedling of tree type $t$\n",
    " - $\\mbox{planted}[t]$ : how many seedlings of type $t$ are planted\n",
    "\n",
    "Then, the expressions we need to calculate are:\n",
    "\\begin{aligned}\n",
    " \\mbox{Total CO2 sequestered} & = \\sum_{t \\in \\mbox{Tree-types}} \\mbox{planted}[t] \\cdot \\mbox{survive}[t] \\cdot \\mbox{co2}[t] \\\\\n",
    " \\mbox{Total cost} & = \\sum_{t \\in \\mbox{Tree-types}} \\mbox{planted}[t] \\cdot \\mbox{cost}[t]\n",
    "\\end{aligned}"
   ]
  },
  {
   "cell_type": "code",
   "execution_count": 5,
   "metadata": {},
   "outputs": [
    {
     "data": {
      "text/html": [
       "<div>\n",
       "<style scoped>\n",
       "    .dataframe tbody tr th:only-of-type {\n",
       "        vertical-align: middle;\n",
       "    }\n",
       "\n",
       "    .dataframe tbody tr th {\n",
       "        vertical-align: top;\n",
       "    }\n",
       "\n",
       "    .dataframe thead th {\n",
       "        text-align: right;\n",
       "    }\n",
       "</style>\n",
       "<table border=\"1\" class=\"dataframe\">\n",
       "  <thead>\n",
       "    <tr style=\"text-align: right;\">\n",
       "      <th></th>\n",
       "      <th>Sequestration_Rate</th>\n",
       "      <th>Water</th>\n",
       "      <th>Land</th>\n",
       "      <th>Survival_Rate</th>\n",
       "      <th>Cost</th>\n",
       "    </tr>\n",
       "    <tr>\n",
       "      <th>Tree_Type</th>\n",
       "      <th></th>\n",
       "      <th></th>\n",
       "      <th></th>\n",
       "      <th></th>\n",
       "      <th></th>\n",
       "    </tr>\n",
       "  </thead>\n",
       "  <tbody>\n",
       "    <tr>\n",
       "      <th>Maple</th>\n",
       "      <td>4.3</td>\n",
       "      <td>76</td>\n",
       "      <td>130</td>\n",
       "      <td>0.7</td>\n",
       "      <td>10.0</td>\n",
       "    </tr>\n",
       "    <tr>\n",
       "      <th>Elm</th>\n",
       "      <td>3.7</td>\n",
       "      <td>48</td>\n",
       "      <td>3600</td>\n",
       "      <td>0.6</td>\n",
       "      <td>6.5</td>\n",
       "    </tr>\n",
       "    <tr>\n",
       "      <th>Spruce</th>\n",
       "      <td>2.8</td>\n",
       "      <td>34</td>\n",
       "      <td>400</td>\n",
       "      <td>0.8</td>\n",
       "      <td>9.0</td>\n",
       "    </tr>\n",
       "  </tbody>\n",
       "</table>\n",
       "</div>"
      ],
      "text/plain": [
       "           Sequestration_Rate  Water  Land  Survival_Rate  Cost\n",
       "Tree_Type                                                      \n",
       "Maple                     4.3     76   130            0.7  10.0\n",
       "Elm                       3.7     48  3600            0.6   6.5\n",
       "Spruce                    2.8     34   400            0.8   9.0"
      ]
     },
     "execution_count": 5,
     "metadata": {},
     "output_type": "execute_result"
    }
   ],
   "source": [
    "# it helps to re-print the head of the dataframe with a few rows, so we know how to loop!\n",
    "df.head(3)"
   ]
  },
  {
   "cell_type": "markdown",
   "metadata": {},
   "source": [
    "**Option 1.** We can calculate the total sum using loops that go through all the tree types."
   ]
  },
  {
   "cell_type": "code",
   "execution_count": 6,
   "metadata": {},
   "outputs": [
    {
     "name": "stdout",
     "output_type": "stream",
     "text": [
      "Total expected sequestration: 904.59 pounds of CO2 annually.\n",
      "Total cost: $2,605.00.\n"
     ]
    }
   ],
   "source": [
    "# calculate sequestration\n",
    "total_sequestration = 0\n",
    "for t in tree_types:\n",
    "    total_sequestration += planted_trees[t] * df.loc[t,\"Survival_Rate\"] * df.loc[t,\"Sequestration_Rate\"]\n",
    "print(f\"Total expected sequestration: {total_sequestration:,.2f} pounds of CO2 annually.\")\n",
    "\n",
    "# calculate planting cost\n",
    "total_cost = 0\n",
    "for t in tree_types:\n",
    "    total_cost += planted_trees[t] * df.loc[t,\"Cost\"]\n",
    "print(f\"Total cost: ${total_cost:,.2f}.\")"
   ]
  },
  {
   "cell_type": "markdown",
   "metadata": {},
   "source": [
    "<font color=blue>**Note**. If you have never seen operators like `+=`, this is shorthand for adding the right-hand-side on top of the left-hand-side and storing it there.</font>\n",
    "<font color=blue>**Note**. So instead of writing `a = a + b`, we can simply write `a += b`.</font>"
   ]
  },
  {
   "cell_type": "markdown",
   "metadata": {},
   "source": [
    "**Option 2.** We can use the `sum` function applied to the right list. To create the list, we use list comprehensions."
   ]
  },
  {
   "cell_type": "code",
   "execution_count": 7,
   "metadata": {},
   "outputs": [
    {
     "name": "stdout",
     "output_type": "stream",
     "text": [
      "Total expected sequestration: 904.59 pounds of CO2 annually.\n"
     ]
    }
   ],
   "source": [
    "# create a list that stores the amount sequestered by each tree type\n",
    "sequestration_by_tree_type = [ planted_trees[t] * df.loc[t,\"Survival_Rate\"] * df.loc[t,\"Sequestration_Rate\"] for t in tree_types ]\n",
    "\n",
    "# calculate the total\n",
    "total_sequestration = sum(sequestration_by_tree_type)\n",
    "print(f\"Total expected sequestration: {total_sequestration:,.2f} pounds of CO2 annually.\")"
   ]
  },
  {
   "cell_type": "markdown",
   "metadata": {},
   "source": [
    "The two steps can be combined into a single step. In fact, in that case you don't even need to create a list! You can just enumerate the terms. \n",
    "\n",
    "Here is how we do this, when calculating the total cost:"
   ]
  },
  {
   "cell_type": "code",
   "execution_count": 8,
   "metadata": {},
   "outputs": [
    {
     "name": "stdout",
     "output_type": "stream",
     "text": [
      "Total cost: $2,605.00.\n"
     ]
    }
   ],
   "source": [
    "total_cost = sum( planted_trees[t] * df.loc[t,\"Cost\"] for t in tree_types )\n",
    "print(f\"Total cost: ${total_cost:,.2f}.\")"
   ]
  },
  {
   "cell_type": "markdown",
   "metadata": {},
   "source": [
    "<font color=blue>**Note**. There is no bracket operator `[...]` inside the `sum()` function! We are just enumerating the terms we want to sum using a `for` statement.</font>"
   ]
  },
  {
   "attachments": {},
   "cell_type": "markdown",
   "metadata": {
    "id": "HmshoF0PaTYZ"
   },
   "source": [
    "## Q5.\n",
    "_Is the planting scheme in Q3 feasible, i.e., can it be executed when considering all the physical or financial resource constraints that Oro Verde is facing? If not, why not? (Answer in Google doc)_"
   ]
  },
  {
   "cell_type": "markdown",
   "metadata": {},
   "source": [
    "To determine feasibility, we must first decide how to model the water and land requirements. A few thoughts: \n",
    " - For **water**, the requirements are listed for both a seedling and a mature tree. Presumably, if we don't give enough water to a seedling, its growth would be impacted. So we should make sure that we have enough water to support seedling and also mature trees. Because there are always more seedlings than mature trees (because some seedlings do not survive), **we can simply write our water requirement for seedlings**.\n",
    " - For **land**, the requirement is listed for mature trees. One option is to just igore what is happening with seedlings and calculate the land requirement for mature trees, by taking the survival rate into account. However, in this case, if all the seedlings we planted were to mature, they would not have enough land available! So a more conservative requirement is to ensure that we have enough land even if all the planted seedlings become mature. (That calculation would ignore the survival rate.) **Subsequently, we adopt the more conservative requirement: we require that enough land should be available to support all planted seedlings as if they all survive to be mature.**\n",
    "\n",
    "The comparisons we need to make then are:\n",
    " - **land**: is the total land used by **mature trees** -- <font color=red>**assuming that all planted seedlings survive**</font> -- exceeding the land available?\n",
    " - **water**: is the total water used by **seedlings** exceeding the land available? \n",
    " - **cost**: is the total cost exceeding the budget available?"
   ]
  },
  {
   "cell_type": "markdown",
   "metadata": {},
   "source": [
    "Let's calculate total land, water using the SECOND METHOD from Q4"
   ]
  },
  {
   "cell_type": "code",
   "execution_count": 9,
   "metadata": {},
   "outputs": [
    {
     "name": "stdout",
     "output_type": "stream",
     "text": [
      "Required Land       is 568900, which exceeds what is available, namely 500000\n"
     ]
    }
   ],
   "source": [
    "what_to_compare = [\"Land\", \"Water\", \"Cost\"]\n",
    "\n",
    "# for every element that we need to compare:\n",
    "for resource in what_to_compare:\n",
    "    # calculate what is used / needed\n",
    "    usage = sum( planted_trees[t] * df.loc[t,resource] for t in tree_types )\n",
    "\n",
    "    # compare with what is available\n",
    "    if usage > available[resource]:\n",
    "        print(f\"Required {resource:<10s} is {usage}, which exceeds what is available, namely {available[resource]}\")"
   ]
  },
  {
   "cell_type": "markdown",
   "metadata": {},
   "source": [
    "To determine whether the problem is feasible, we should also set up a boolean flag that becomes `False` if any of the requirements is not satisfied."
   ]
  },
  {
   "cell_type": "code",
   "execution_count": 10,
   "metadata": {},
   "outputs": [
    {
     "name": "stdout",
     "output_type": "stream",
     "text": [
      "Required Land       is 568900  , which exceeds what is available, namely 500000\n",
      "The planting scheme is infeasible.\n"
     ]
    }
   ],
   "source": [
    "what_to_compare = [\"Land\", \"Water\", \"Cost\"]\n",
    "\n",
    "# for every element that we need to compare:\n",
    "problem_feasible = True\n",
    "for resource in what_to_compare:\n",
    "    # calculate what is used / needed\n",
    "    usage = sum( planted_trees[t] * df.loc[t,resource] for t in tree_types )\n",
    "\n",
    "    # compare with what is available\n",
    "    if usage > available[resource]:\n",
    "        print(f\"Required {resource:<10s} is {usage:<8.0f}, which exceeds what is available, namely {available[resource]}\")\n",
    "        problem_feasible = False\n",
    "\n",
    "if problem_feasible:\n",
    "    print(\"The planting scheme is feasible.\")\n",
    "else:\n",
    "    print(\"The planting scheme is infeasible.\")    "
   ]
  },
  {
   "attachments": {},
   "cell_type": "markdown",
   "metadata": {
    "id": "6UFxI7n4aTYe"
   },
   "source": [
    "# Q6. \n",
    "_Consider again the planting scheme in Q3, but suppose Oro Verde is willing to change its scheme by exactly 30 trees of a single type, up or down. In other words, they are willing to choose one tree type for which to deviate from their plan by exactly 30 trees. (For instance, they could plant 40-30=10 Redwoods and 30 of every other type; or 40+30=70 Redwoods and 30 of every other type; or 40 Redwoods and 30+30=60 Oaks, and 30 of every other type, etc.) Write some code that prints all the changes of this kind that would result in a feasible planting scheme. (Answer in Google sheet.)_"
   ]
  },
  {
   "cell_type": "markdown",
   "metadata": {},
   "source": [
    "We use exactly the same model and assumptions as in **Q5**. But we embed that code inside a double outer `for` loop, that checks for every tree type and every kind of change (up/down) what would happen if we changed the planting scheme."
   ]
  },
  {
   "cell_type": "code",
   "execution_count": 11,
   "metadata": {},
   "outputs": [
    {
     "name": "stdout",
     "output_type": "stream",
     "text": [
      "The planting scheme is feasible if we change Elm by -30, i.e., plant 0 instead of 30.\n",
      "The planting scheme is feasible if we change Redwood by -30, i.e., plant 10 instead of 40.\n"
     ]
    }
   ],
   "source": [
    "what_to_compare = [\"Land\", \"Water\", \"Cost\"]\n",
    "\n",
    "# An outer `for` loop that loops through all the types of tree\n",
    "for change_tree in tree_types:\n",
    "\n",
    "    # Another `for` loop that loops through possible changes\n",
    "    for possible_change in [-30,30]:\n",
    "\n",
    "        # Here, we just change the dictionary of planted trees. But we must be careful to switch it back to the original value after we're done!\n",
    "        planted_trees[change_tree] += possible_change  # <--- make the change \n",
    "    \n",
    "        # for every element that we need to compare:\n",
    "        problem_feasible = True\n",
    "        for resource in what_to_compare:\n",
    "            # calculate what is used / needed\n",
    "            usage = sum( planted_trees[t] * df.loc[t,resource] for t in tree_types )\n",
    "        \n",
    "            # compare with what is available\n",
    "            if usage > available[resource]:\n",
    "                # print(f\"Required {resource:<10s} is {usage:<8.0f}, which exceeds what is available, namely {available[resource]}\")\n",
    "                problem_feasible = False\n",
    "        \n",
    "        if problem_feasible:\n",
    "            print(f\"The planting scheme is feasible if we change {change_tree} by {possible_change}, i.e., plant {planted_trees[change_tree]} instead of {planted_trees[change_tree]-possible_change}.\")\n",
    "\n",
    "        # Now, change the dictionary of planted trees back!\n",
    "        planted_trees[change_tree] -= possible_change  # <--- make the change "
   ]
  },
  {
   "cell_type": "code",
   "execution_count": null,
   "metadata": {},
   "outputs": [],
   "source": []
  }
 ],
 "metadata": {
  "colab": {
   "collapsed_sections": [],
   "include_colab_link": true,
   "name": "S09-10_AIRM_Starbux.ipynb",
   "provenance": [],
   "toc_visible": true
  },
  "kernelspec": {
   "display_name": "Python 3 (ipykernel)",
   "language": "python",
   "name": "python3"
  },
  "language_info": {
   "codemirror_mode": {
    "name": "ipython",
    "version": 3
   },
   "file_extension": ".py",
   "mimetype": "text/x-python",
   "name": "python",
   "nbconvert_exporter": "python",
   "pygments_lexer": "ipython3",
   "version": "3.11.8"
  }
 },
 "nbformat": 4,
 "nbformat_minor": 4
}
