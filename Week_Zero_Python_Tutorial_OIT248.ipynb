{
  "cells": [
    {
      "cell_type": "markdown",
      "metadata": {
        "id": "view-in-github",
        "colab_type": "text"
      },
      "source": [
        "<a href=\"https://colab.research.google.com/github/dan-a-iancu/OIT248/blob/main/Week0_Tutorial/Week_Zero_Python_Tutorial_OIT248.ipynb\" target=\"_parent\"><img src=\"https://colab.research.google.com/assets/colab-badge.svg\" alt=\"Open In Colab\"/></a>"
      ]
    },
    {
      "cell_type": "markdown",
      "metadata": {
        "id": "caN7N4vBCaT2"
      },
      "source": [
        "# What is this about?\n",
        "This notebook is the basis of the Week Zero Python bootcamp for all students participating in **OIT248**."
      ]
    },
    {
      "cell_type": "markdown",
      "metadata": {
        "id": "cIhtwtjVYRO1"
      },
      "source": [
        "To start, try running the code cell in the **Comments** section below. Specifically:\n",
        "\n",
        " 1. Because the cell is \"hidden\", let's first open it. You can do this either by clicking the \" > \" immediately to the left of the section title (**Comments**) or by clicking the grey bar with the text _\"1 cell hidden\"_  \n",
        "\n",
        " 2. Let's now run the code inside the cell. You can do this by:\n",
        "    \n",
        "  (i) hovering with your mouse on top of the code cell and clicking the little \"Play button\" that will appear on the left or <br>\n",
        "  (ii) clicking inside the code cell and hitting `Shift`+`Enter` on your keyboard.\n",
        "\n",
        "If everything works properly, you should a welcome message displayed immediately below the code cell that also includes a calculation of the total number of minutes in a leap year..."
      ]
    },
    {
      "cell_type": "markdown",
      "metadata": {
        "id": "4e2QzVgcEdPq",
        "jp-MarkdownHeadingCollapsed": true
      },
      "source": [
        "# Comments\n",
        "Comments in Python start with a `#` like directly below"
      ]
    },
    {
      "cell_type": "code",
      "execution_count": null,
      "metadata": {
        "id": "dngXKf6QEctO"
      },
      "outputs": [],
      "source": [
        "# this line and the line below it are comments and Python will ignore them\n",
        "# print(\"Something interesting\")\n",
        "\n",
        "# instead, the line below this will print a welcome message\n",
        "print(\"Welcome to OIT 248! The number of minutes in a leap year is:\", 366*24*60)"
      ]
    },
    {
      "cell_type": "markdown",
      "metadata": {
        "id": "uVCfX9eLoYeb"
      },
      "source": [
        "## In a Jupyter notebook, it's easy to add comments and notes, like this one. This particular type of cell is a Markdown cell, which allows us to comment and document our notebooks.\n",
        "### You can also see the effect of using one or multiple # signs: these create sections, sub-sections, sub-sub-sections, etc.\n",
        "\n",
        "#### Click the Run button above of hit `Shift+Enter` on your keyboard to finish this cell and move on to the next one."
      ]
    },
    {
      "cell_type": "markdown",
      "metadata": {
        "jp-MarkdownHeadingCollapsed": true,
        "id": "niPsGyQToYec"
      },
      "source": [
        "#### Here are a few reminders as we get started using python through Jupyter:\n",
        "* Don't forget to save your work by hitting the save button above (far left) periodically\n",
        "* We will mostly be using \"Markdown\" and \"Code\" cells - you can switch between them with the pulldown menu above\n",
        "* If you want to clear all of the output and re-run a notebook, go to the \"Kernel\" menu above, and select \"Restart and clear output'\n",
        "* We will mostly just be using the Run button today, but some of the other buttons will be useful to you as we progress: Stop, Copy, Paste, etc.\n",
        "\n",
        "<font color=blue>**NOTE**: Throughout this class, we will not always code something in the most efficient way possible, and there are almost always multiple ways of achieving the same thing. We'll try to use the most intuitive or robust approach in our solutions, but don't hesitate to ask us to check your work if you decided to take a different approach.</font>"
      ]
    },
    {
      "cell_type": "code",
      "execution_count": null,
      "metadata": {
        "id": "UKxJHQPeoYed"
      },
      "outputs": [],
      "source": [
        "# This is a code cell - if you want to add a comment in a code cell, just put a pound sign in front of it\n",
        "# Let's do some simple calculations\n",
        "6*9 + 41"
      ]
    },
    {
      "cell_type": "code",
      "execution_count": null,
      "metadata": {
        "id": "aUK3sRhooYee"
      },
      "outputs": [],
      "source": [
        "2**10"
      ]
    },
    {
      "cell_type": "code",
      "execution_count": null,
      "metadata": {
        "id": "cl7AcZCvoYef"
      },
      "outputs": [],
      "source": [
        "600/34 - 5"
      ]
    },
    {
      "cell_type": "markdown",
      "metadata": {
        "jp-MarkdownHeadingCollapsed": true,
        "id": "nGH4DSyOoYeg"
      },
      "source": [
        "# Variables\n",
        "Let's create some simple variables. The equals sign `=` **assigns** a value to the variable.\n",
        "We will also use a double equals sign `==` later, which **tests for equality**."
      ]
    },
    {
      "cell_type": "code",
      "execution_count": null,
      "metadata": {
        "id": "0Hr8IOcAoYeg"
      },
      "outputs": [],
      "source": [
        "# Assign the value 10 to the variable NumStudents\n",
        "NumStudents = 10"
      ]
    },
    {
      "cell_type": "code",
      "execution_count": null,
      "metadata": {
        "id": "vMI6u0hgoYeh"
      },
      "outputs": [],
      "source": [
        "# IMPORTANT NOTE: Variable names are case-sensitive\n",
        "# This works:\n",
        "NumStudents"
      ]
    },
    {
      "cell_type": "code",
      "execution_count": null,
      "metadata": {
        "id": "fcRqzR7FoYei"
      },
      "outputs": [],
      "source": [
        "# This will give you an error, because the n is not capitalized:\n",
        "numStudents"
      ]
    },
    {
      "cell_type": "markdown",
      "metadata": {
        "id": "fFFBCnHfoYei"
      },
      "source": [
        "<font color=blue>**Remark.** As you are executing code cells, note how the number next to each input code cell and corresponding output is increasing: your first cell had `In [1]` and `Out[1]`, then `In[2]` and `Out[2]`, and so on. That counter keeps track of the latest instruction that was run. In a Jupyter Notebook, you can actually go back and run older segments of code or even jump ahead and skip some code, so the progression is not sequential. To see this, try running the first line of code again! Assuming that you did not run something twice so far, you should see the counter changing to `In[7]` and `Out[7]`. Being able to jump back and forth is useful because it allows you to play/test different things, without having to run the entire code linearly from top to bottom. **But you have to be careful, because running an older instruction or skipping code could result in unintended things.** For instance, consider the piece of code below: </font>"
      ]
    },
    {
      "cell_type": "code",
      "execution_count": null,
      "metadata": {
        "id": "g4TccTw0oYej"
      },
      "outputs": [],
      "source": [
        "NumStudents = NumStudents + 1\n",
        "\n",
        "NumStudents"
      ]
    },
    {
      "cell_type": "markdown",
      "metadata": {
        "id": "6Kq_sk4loYej"
      },
      "source": [
        "<font color=blue>This increases the value of the `NumStudents` variable by one. When you run it for the first time, it should print 11 (because that variable was initially assigned a value of 10 in `In[4]`). But if you run this code again, it will print 12, and then 13, etc. </font><br>\n",
        "    \n",
        "<font color=blue>**Useful tip**: sometimes, it is helpful to re-run all the instructions in the notebook from top to bottom up to some point. (For instance, suppose we want to re-run everything from the top to this section of the notebook). To do so:<br></font>\n",
        "  1. <font color=blue> restart the Kernel: either from **\"Kernel > Restart\"** or by clicking the button with the little clockwise turning arrow that says \"restart the kernel (with dialog)\"</font>\n",
        "  2. <font color=blue> select the cell immediately below the point where you want the code to stop </font>\n",
        "  3. <font color=blue> from the **\"Cell\"** menu, select **\"Run All Above\"**</font>\n",
        "</font>\n",
        "\n",
        "<font color=blue> Feel free to try this right now! Select this cell of text, and execute the steps above! You will see that the notebook will re-run, but the counter will not make it all the way here! The reason is the (intentional) error in `In[6]`: **the execution thread will stop when it encounters an error!** So you will need to run everything after that manually.</font>"
      ]
    },
    {
      "cell_type": "markdown",
      "metadata": {
        "id": "NaRo4ZTjoYek"
      },
      "source": [
        "Note that above, we printed the value of a variable by simply typing its name, i.e., `NumStudents`. That works fine if it's the last instruction in the code. But if you have some other instructions (like new variable assignments) following that, the printing would not work. For instance, consider this piece of code:"
      ]
    },
    {
      "cell_type": "code",
      "execution_count": null,
      "metadata": {
        "id": "gcHMvqssoYek"
      },
      "outputs": [],
      "source": [
        "NumStudents\n",
        "\n",
        "aux = 5"
      ]
    },
    {
      "cell_type": "markdown",
      "metadata": {
        "id": "KEpNb5hvoYek"
      },
      "source": [
        "As you can see, the code above is not displaying the value of `NumStudents` anymore! In this case, to display the value, use the function `print`, like below:"
      ]
    },
    {
      "cell_type": "code",
      "execution_count": null,
      "metadata": {
        "id": "67I_OtSQoYel"
      },
      "outputs": [],
      "source": [
        "print(NumStudents)\n",
        "aux = 5"
      ]
    },
    {
      "cell_type": "markdown",
      "metadata": {
        "id": "_KyH43EcoYel"
      },
      "source": [
        "Above, `print` is a **function** that simply displays its given **argument** (i.e., the variable `StudentName`). We will see many more functions as we go along. Note that the arguments to a function are always surrounded by parentheses `(...)`.\n",
        "\n",
        "<font color=red>If you've never heard of `print` or functions, then OIT 248 is probably not the right level! :-) </font>\n",
        "\n",
        "Now let's set the number of students back to 10, because that's useful later!"
      ]
    },
    {
      "cell_type": "code",
      "execution_count": null,
      "metadata": {
        "id": "zGdgwrqZoYem"
      },
      "outputs": [],
      "source": [
        "NumStudents = 10\n",
        "print(NumStudents)"
      ]
    },
    {
      "cell_type": "markdown",
      "metadata": {
        "jp-MarkdownHeadingCollapsed": true,
        "id": "SJ7-xwfCoYem"
      },
      "source": [
        "# Data Types\n",
        "The main kinds of data that we'll be using in OIT 248 are `int` (integers), `float` (floating point values), `str` (string), boolean (`bool`), and some more advanced Python-specific data types (lists and dictionaries, which we'll discuss a bit later)."
      ]
    },
    {
      "cell_type": "code",
      "execution_count": null,
      "metadata": {
        "id": "BQgxhAp9oYem"
      },
      "outputs": [],
      "source": [
        "# integers (int)\n",
        "x = 10\n",
        "\n",
        "# floating point numbers (float)\n",
        "z = 4.5\n",
        "\n",
        "# boolean (bool)\n",
        "is_OIT248_amazing = True"
      ]
    },
    {
      "cell_type": "markdown",
      "metadata": {
        "id": "X1RAEkIHoYen"
      },
      "source": [
        "<font color=red>If you've never heard of `int`, `float`, `str`, `bool`, then OIT 248 is probably not the right level! :-) </font>\n",
        "\n",
        "You can create strings either using single quotation `'` or using double-quotation `\"`. Each of these is useful depending on the case: you should use double quotes if there is an apostrophe in the string and single quotes if there is a double-quote in the string..."
      ]
    },
    {
      "cell_type": "code",
      "execution_count": null,
      "metadata": {
        "id": "b32XTK2moYen"
      },
      "outputs": [],
      "source": [
        "# strings (str) can be created with either ` or \"\"\n",
        "one_string = \"Why does Arbuckle not have salmon today?\"\n",
        "another_string = 'I LOVE THE GSB!'\n",
        "\n",
        "# if a string has an apostrophe in it, you must use \" when creating it\n",
        "a_string_with_apostrophe = \"Jack's IPhone\"\n",
        "print(a_string_with_apostrophe)\n",
        "\n",
        "# similarly, if a string has a quotation mark in it, you must use the apostrophe to create it '\n",
        "a_string_with_quotation = 'An example of string is \"Jack\"'\n",
        "print(a_string_with_quotation)"
      ]
    },
    {
      "cell_type": "markdown",
      "metadata": {
        "jp-MarkdownHeadingCollapsed": true,
        "id": "tl3YvkQuoYen"
      },
      "source": [
        "# If-Else Statements\n",
        "You can implement \"if-else statements\" in Python using the following syntax:\n",
        "> if `logical_condition_1`:<br>\n",
        "> $ \\qquad$ first instruction if logical_condition_1 is True<br>\n",
        "> $ \\qquad$ second instruction if logical_condition_1 is True<br>\n",
        "> elif `logical_condition_2`:<br>\n",
        "> $ \\qquad$ instructions if logical_condition_1 is False and logical_condition_2 is True <br>\n",
        "> ...<br>\n",
        "> else:<br>\n",
        "> $ \\qquad$ instructions if all logical conditions above are False\n",
        "\n",
        "Some examples:"
      ]
    },
    {
      "cell_type": "code",
      "execution_count": null,
      "metadata": {
        "id": "CBJZbMZXoYen"
      },
      "outputs": [],
      "source": [
        "a = 15\n",
        "b = 17\n",
        "if (a > b):\n",
        "    print(\"a is bigger than b\")\n",
        "elif (a == b):\n",
        "    print(\"a is equal to b\")\n",
        "else:\n",
        "    print(\"a is smaller than b\")"
      ]
    },
    {
      "cell_type": "markdown",
      "metadata": {
        "id": "f_TxoMwRoYen"
      },
      "source": [
        "<font color=blue>**A few critical things to note in the code for `if-else` above:** </font><br>\n",
        " <font color=blue>1. the colon `:` is critical on the first line. </font><br>\n",
        " <font color=blue>2. the intendation on the second line (and for any instructions in that block) is critical you can use as many spaces as you like or use tabs </font>\n",
        "\n",
        "The colon and indentation are how python knows what to do. The colon indicates the start of the instructions corresponding to the case when the `if` statement is true, and all following indented lines will be considered part of that code block. As soon as you unindent a line, it is no longer part of the loop.\n",
        "\n",
        "For instance, consider the following code:"
      ]
    },
    {
      "cell_type": "code",
      "execution_count": null,
      "metadata": {
        "id": "Fw4PW6TtoYeo"
      },
      "outputs": [],
      "source": [
        "# an if statement to show the effect of indentation\n",
        "if a > b:\n",
        "    print(\"I am only printing this if a is bigger than b\")\n",
        "print(\"I am printing this regardless of a and b\")"
      ]
    },
    {
      "cell_type": "markdown",
      "metadata": {
        "id": "TZtU2LCfoYeo"
      },
      "source": [
        "Also, forgetting the colon or the indentation can result in errors:"
      ]
    },
    {
      "cell_type": "code",
      "execution_count": null,
      "metadata": {
        "id": "kdL_aDjJoYeo"
      },
      "outputs": [],
      "source": [
        "# forgetting the colon :\n",
        "if (a > b)\n",
        "    print(\"a is bigger than b\")"
      ]
    },
    {
      "cell_type": "code",
      "execution_count": null,
      "metadata": {
        "id": "8HM3ka1XoYep"
      },
      "outputs": [],
      "source": [
        "# forgetting the indentation :\n",
        "if (a > b)\n",
        "print(\"a is bigger than b\")"
      ]
    },
    {
      "cell_type": "markdown",
      "metadata": {
        "id": "1E_KS-bfoYep"
      },
      "source": [
        "The logical conditions that appear in the `if-else` statement are constructed with logical operators like `<=`, `>=`, `<`, `>`, `==`, `!=` and\n",
        "boolean operators `and`, `or`, `not` that allow you to combine conditions. We'll practice with those soon..."
      ]
    },
    {
      "cell_type": "markdown",
      "metadata": {
        "id": "E0v0ZmQnoYep"
      },
      "source": [
        "<font color=red>If you've never heard of an `if-else` statement before or have trouble understanding these operators, then OIT 248 is probably not the right level! :-) </font>"
      ]
    },
    {
      "cell_type": "markdown",
      "metadata": {
        "jp-MarkdownHeadingCollapsed": true,
        "id": "WfsrmV12oYep"
      },
      "source": [
        "# For Loops\n",
        "A `for` loop is used to iterate over a sequence. Syntax:\n",
        "> for `variable` in `sequence`:<br>\n",
        "> $ \\qquad$ instructions line 1<br>\n",
        "> $ \\qquad$ instructions line 2"
      ]
    },
    {
      "cell_type": "markdown",
      "metadata": {
        "id": "G7-u45bYoYep"
      },
      "source": [
        "<font color=blue>**Just like with `if` statements, the colon `:` and indentation are critical in a `for` loop.**</font>\n",
        "\n",
        "For now, we don't have very nice examples, but they are coming up shortly...\n",
        "\n",
        "<font color=red>If you've never heard of a `for` loop before, then OIT 248 is probably not the right level! :-) </font>"
      ]
    },
    {
      "cell_type": "markdown",
      "metadata": {
        "jp-MarkdownHeadingCollapsed": true,
        "id": "rDyki5ujoYeq"
      },
      "source": [
        "# Lists\n",
        "Lists are groups of values, linked together into a single variable.\n",
        "\n",
        "Let's create a list of student names..."
      ]
    },
    {
      "cell_type": "code",
      "execution_count": null,
      "metadata": {
        "id": "FkxnLuCMoYeq"
      },
      "outputs": [],
      "source": [
        "# List of 10 student names\n",
        "StudentName = [\"Ann\", \"Bob\", \"Carl\", \"Dan\", \"Eva\", \"Fiona\", \"Gabe\", \"Hal\", \"Irene\", \"Jack\"]\n",
        "\n",
        "# print it out\n",
        "print(StudentName)"
      ]
    },
    {
      "cell_type": "markdown",
      "metadata": {
        "id": "osZxXkMKoYex"
      },
      "source": [
        "The square brackets and commas are what define this as a list."
      ]
    },
    {
      "cell_type": "markdown",
      "metadata": {
        "id": "suTQk0byoYex"
      },
      "source": [
        "<font color=blue>__Remark.__ **In Python, a list can contain many kinds of data.** This might be surprising to someone with coding background in other languages... Here's an example of a list that contains a string, a float, another list, and some numbers. </font>"
      ]
    },
    {
      "cell_type": "code",
      "execution_count": null,
      "metadata": {
        "id": "xVHtJCVPoYex"
      },
      "outputs": [],
      "source": [
        "# crazy list containing a string, a float, another list (!), and several 5s\n",
        "crazy_list = [\"a string\", 4.75, ['Federer', 'Nadal', 'Djokovic'], 5, 5, 5]\n",
        "print(crazy_list)"
      ]
    },
    {
      "cell_type": "markdown",
      "metadata": {
        "id": "vYXDmN8zoYey"
      },
      "source": [
        "You can check the **length** of the list (i.e., how many elements are in the list) using the `len` function"
      ]
    },
    {
      "cell_type": "code",
      "execution_count": null,
      "metadata": {
        "id": "OlQpo9cMoYey"
      },
      "outputs": [],
      "source": [
        "# Check the length of the list\n",
        "len(StudentName)"
      ]
    },
    {
      "cell_type": "markdown",
      "metadata": {
        "id": "pXsGY-5uoYey"
      },
      "source": [
        "The elements in the list are ordered and you can recover elements at specific locations in the list using the bracket indexing. Python uses \"zero-indexing\", which means that the first element has index 0 and the last one has index `len(list)-1`\n",
        "\n",
        "Let's print out the first element in the list:"
      ]
    },
    {
      "cell_type": "code",
      "execution_count": null,
      "metadata": {
        "id": "w6hp1lZjoYey"
      },
      "outputs": [],
      "source": [
        "StudentName[0]"
      ]
    },
    {
      "cell_type": "markdown",
      "metadata": {
        "id": "bbOThgPhoYey"
      },
      "source": [
        "You can also access several contiguous items in the list using a **range** of indices specified with `:`"
      ]
    },
    {
      "cell_type": "code",
      "execution_count": null,
      "metadata": {
        "id": "TI9mBbrfoYey"
      },
      "outputs": [],
      "source": [
        "StudentName[1:3]"
      ]
    },
    {
      "cell_type": "markdown",
      "metadata": {
        "id": "1CR-3wU6oYey"
      },
      "source": [
        "<font color=blue>**Important!** The syntax `1:3` will create the range `1,2`. So in other words, starting at the first number and up to but __not__ including the last number.</font>"
      ]
    },
    {
      "cell_type": "code",
      "execution_count": null,
      "metadata": {
        "id": "yS-hzkgZoYez"
      },
      "outputs": [],
      "source": [
        "# This one will print Ann, Bob, and Carl\n",
        "StudentName[0:3]"
      ]
    },
    {
      "cell_type": "code",
      "execution_count": null,
      "metadata": {
        "id": "h2fFqgFFoYez"
      },
      "outputs": [],
      "source": [
        "# If you want to go all the way to the end of the string, just leave out the last digit\n",
        "StudentName[6:]"
      ]
    },
    {
      "cell_type": "markdown",
      "metadata": {
        "id": "xjfl8ofdoYez"
      },
      "source": [
        "FYI, Python also allows negative indexing! This is starting at the end of the string, so `-1` is the last element:"
      ]
    },
    {
      "cell_type": "code",
      "execution_count": null,
      "metadata": {
        "id": "zWBupJeKoYez"
      },
      "outputs": [],
      "source": [
        "StudentName[-1]"
      ]
    },
    {
      "cell_type": "markdown",
      "metadata": {
        "id": "9Qf8K2_hoYez"
      },
      "source": [
        "To change an element at a specific location of a list, you can just use the `=` sign with the right indexing.\n",
        "\n",
        "For instance, let's print the list and then change the element in the second position and print it again to see the results:"
      ]
    },
    {
      "cell_type": "code",
      "execution_count": null,
      "metadata": {
        "id": "Tq3AzK7noYez"
      },
      "outputs": [],
      "source": [
        "print(StudentName)\n",
        "StudentName[1] = \"Bobby\"\n",
        "print(StudentName)"
      ]
    },
    {
      "cell_type": "markdown",
      "metadata": {
        "id": "vuxzRMOdoYez"
      },
      "source": [
        "You can print out all the elements in a list with a `for` loop as follows:"
      ]
    },
    {
      "cell_type": "code",
      "execution_count": null,
      "metadata": {
        "id": "yM3IWn1xoYe0"
      },
      "outputs": [],
      "source": [
        "for x in StudentName:\n",
        "    print(x)"
      ]
    },
    {
      "cell_type": "markdown",
      "metadata": {
        "id": "7eIuSeqjoYe0"
      },
      "source": [
        "<font color=blue>**Remark**. The `for` loop above may seem surprising if you have a background in other programming languages. Note that we are actually **looping through the elements of the list directly**, without any need to index them numerically. This kind of flexibility is what makes Python powerful and we encourage you to get used to it quickly! </blue>\n",
        "\n",
        "Instead, the following code loops using a numeric index and may seem like something more familiar:"
      ]
    },
    {
      "cell_type": "code",
      "execution_count": null,
      "metadata": {
        "id": "8498s6IFoYe0"
      },
      "outputs": [],
      "source": [
        "for i in [0,1,2,3,4]:\n",
        "    print(StudentName[i])"
      ]
    },
    {
      "cell_type": "markdown",
      "metadata": {
        "id": "X0F9uGLeoYe0"
      },
      "source": [
        "To loop through **all** the elements, you would need to create  do create the indices 0, 1, 2, ..., len(list)-1. You can do that using `range`, as follows."
      ]
    },
    {
      "cell_type": "code",
      "execution_count": null,
      "metadata": {
        "id": "uo9qPk5-oYe0"
      },
      "outputs": [],
      "source": [
        "for i in range(len(StudentName)):\n",
        "    print(StudentName[i])"
      ]
    },
    {
      "cell_type": "markdown",
      "metadata": {
        "id": "kXIyduhNoYe0"
      },
      "source": [
        "Let's unpack that statement a bit. Recall that `len` returns the length of a list. The `range` function returns a sequence of numbers and its syntax is:\n",
        ">  `range(start,stop,step)`\n",
        "\n",
        "- <font color=blue>`start` is optional and is an integer that specifies at which position to start. If you omit this, the default value is 0.</font>\n",
        "- <font color=blue>`stop` is required and is an integer that specifies at which position to end. This value is **not** included in the sequence,  will end with the value `stop-1`.</font>\n",
        "- <font color=blue>`step` is optional and specifies the increment. If you omit it, the default is 1.</font>\n",
        "\n",
        "<font color=blue> So `range(start,stop,step)` produces the sequence of values `start`, `start+step`, `start+2*step`, up to the last number of the form `start+k*step` (for the largest integer `k` so that`start+k*step`is **strictly** smaller than `stop`).</font>\n",
        "\n",
        "For instance, this creates the range of values 0, 1, 2, 3, 4:"
      ]
    },
    {
      "cell_type": "code",
      "execution_count": null,
      "metadata": {
        "id": "MUQkMYCyoYe1"
      },
      "outputs": [],
      "source": [
        "range(5)"
      ]
    },
    {
      "cell_type": "markdown",
      "metadata": {
        "id": "hJZ21rgWoYe1"
      },
      "source": [
        "By itself, this is not useful, but we can loop through it using a `for` loop:"
      ]
    },
    {
      "cell_type": "code",
      "execution_count": null,
      "metadata": {
        "id": "P1gQUrM3oYe1"
      },
      "outputs": [],
      "source": [
        "for i in range(5):\n",
        "    print(i)"
      ]
    },
    {
      "cell_type": "markdown",
      "metadata": {
        "id": "_Lh1EDiuoYe1"
      },
      "source": [
        "Putting things together, the syntax `for i in range(len(StudentName))` loops through all the integers from 0 to len(StudentName)-1 (including that), which exactly allows looping through the whole list."
      ]
    },
    {
      "cell_type": "markdown",
      "metadata": {
        "id": "L5vorol1oYe1"
      },
      "source": [
        "## EXERCISE.\n",
        "<font color=green>**This exercise allows you to practice some of the learnings so far. Please do the following:**</font>\n",
        "  - <font color=green>Print out all the student names with 4 and above.</font>\n",
        "  - <font color=green>Print out all the student names with length 4 and above and different from 'Gabe'.</font>  "
      ]
    },
    {
      "cell_type": "markdown",
      "metadata": {
        "id": "NIpRoXsVoYe1"
      },
      "source": [
        "Now let's use this to give each of the students an ID number."
      ]
    },
    {
      "cell_type": "code",
      "execution_count": null,
      "metadata": {
        "id": "-yZYAJqVoYe1"
      },
      "outputs": [],
      "source": [
        "# Give each of the students an ID number from 1000 up\n",
        "StudentID = list(range(1000,1010))"
      ]
    },
    {
      "cell_type": "code",
      "execution_count": null,
      "metadata": {
        "id": "up4JiPwZoYe2"
      },
      "outputs": [],
      "source": [
        "# What did we just create?\n",
        "StudentID"
      ]
    },
    {
      "cell_type": "markdown",
      "metadata": {
        "id": "V3JDxm7QoYe2"
      },
      "source": [
        "Let's say we also wanted to create a variable for which section each student is in."
      ]
    },
    {
      "cell_type": "code",
      "execution_count": null,
      "metadata": {
        "id": "Tv30VsUtoYe2"
      },
      "outputs": [],
      "source": [
        "# If all 10 were in the same section:\n",
        "Section = ['Section 1'] * len(StudentName)"
      ]
    },
    {
      "cell_type": "code",
      "execution_count": null,
      "metadata": {
        "id": "YnHzs_KloYe2"
      },
      "outputs": [],
      "source": [
        "Section"
      ]
    },
    {
      "cell_type": "code",
      "execution_count": null,
      "metadata": {
        "id": "El9m8IScoYe2"
      },
      "outputs": [],
      "source": [
        "# If the first 5 were in Section 1, and the next 5 were in Section 2\n",
        "Section = ['Section 1'] * 5 + ['Section 2'] * 5"
      ]
    },
    {
      "cell_type": "code",
      "execution_count": null,
      "metadata": {
        "id": "r58NlNHwoYe2"
      },
      "outputs": [],
      "source": [
        "Section"
      ]
    },
    {
      "cell_type": "markdown",
      "metadata": {
        "id": "OtLllmOGoYe3"
      },
      "source": [
        "<font color=blue>**The example above show how to use `+` and `*` with a list.** If you want to create a list with repetitions of the same value, you can use `*` **applied to a list** containing just the one value. The operator '+' can be applied to lists: it will just concatenate the list elements.</font>\n",
        "\n",
        "Note that you need to make sure you operate with **lists**. To understand that, note that adding a string to the list of names creates an error:"
      ]
    },
    {
      "cell_type": "code",
      "execution_count": null,
      "metadata": {
        "id": "lyIhEV-1oYe3"
      },
      "outputs": [],
      "source": [
        "# adding a string to the list of names:\n",
        "StudentName = StudentName + \"Joe\""
      ]
    },
    {
      "cell_type": "markdown",
      "metadata": {
        "id": "5JhDolrHoYe3"
      },
      "source": [
        "But adding a **list** with the string \"Joe\" works:"
      ]
    },
    {
      "cell_type": "code",
      "execution_count": null,
      "metadata": {
        "id": "R27T_HJOoYe3"
      },
      "outputs": [],
      "source": [
        "# adding a string to the list of names:\n",
        "StudentName = StudentName + [\"Joe\"]\n",
        "print(StudentName)"
      ]
    },
    {
      "cell_type": "markdown",
      "metadata": {
        "id": "QujnmqJOoYe3"
      },
      "source": [
        "Now let's get rid of the last element in the list, because we only want 10 students... You can remove an element by simply reassigning the list with the right indexing:"
      ]
    },
    {
      "cell_type": "code",
      "execution_count": null,
      "metadata": {
        "id": "5oEmyQlsoYe3"
      },
      "outputs": [],
      "source": [
        "StudentName = StudentName[0:len(StudentName)-1]\n",
        "print(StudentName)"
      ]
    },
    {
      "cell_type": "markdown",
      "metadata": {
        "id": "R3lCtwuloYe3"
      },
      "source": [
        "Now let's create some salary figures for these 10 students (in thousands of dollars...)"
      ]
    },
    {
      "cell_type": "code",
      "execution_count": null,
      "metadata": {
        "id": "ycEsmPKcoYe4"
      },
      "outputs": [],
      "source": [
        "Salaries = [175, 189, 168, 196, 182, 188, 198, 162, 191, 143]"
      ]
    },
    {
      "cell_type": "markdown",
      "metadata": {
        "id": "7MyKfjCFoYe4"
      },
      "source": [
        "Let's find out who makes the most and who makes the least..."
      ]
    },
    {
      "cell_type": "code",
      "execution_count": null,
      "metadata": {
        "id": "dnJOjkmWoYe4"
      },
      "outputs": [],
      "source": [
        "# Maximum value\n",
        "max(Salaries)"
      ]
    },
    {
      "cell_type": "code",
      "execution_count": null,
      "metadata": {
        "id": "cbhZiaONoYe4"
      },
      "outputs": [],
      "source": [
        "min(Salaries)"
      ]
    },
    {
      "cell_type": "markdown",
      "metadata": {
        "id": "eb_6QcxYoYe4"
      },
      "source": [
        "What if we wanted to know which students the maximum/minimum salaries belong to? We can use the `index` function."
      ]
    },
    {
      "cell_type": "code",
      "execution_count": null,
      "metadata": {
        "id": "9RuYM6QZoYe4"
      },
      "outputs": [],
      "source": [
        "Salaries.index(198)"
      ]
    },
    {
      "cell_type": "code",
      "execution_count": null,
      "metadata": {
        "id": "ootU-fwBoYe5"
      },
      "outputs": [],
      "source": [
        "Salaries.index(143)"
      ]
    },
    {
      "cell_type": "markdown",
      "metadata": {
        "id": "XOA5uN4xoYe5"
      },
      "source": [
        "The `index` function simply returns the index (i.e., location) in the list corresponding to a given value.\n",
        "\n",
        "<font color=blue>Note that the `index` \"function\" is called a bit differently that what we did so far. We are using the variable name `Salaries` and the dot `.` and then using the function `index`. This kind of function is called a `method`. It's really like any other function, but the key difference is that it \"lives\" inside the variable that appears before the dot `.` symbol. So when it is called, it is applied and acting upon that variable. (This has to do with object-oriented programming, but we will not dive it that much more deeply because it's not critical for our class...) </font>"
      ]
    },
    {
      "cell_type": "markdown",
      "metadata": {
        "id": "SCKzJ3bCoYe5"
      },
      "source": [
        "Now let's find out which student has the highest salary..."
      ]
    },
    {
      "cell_type": "code",
      "execution_count": null,
      "metadata": {
        "id": "RnE8xfleoYe-"
      },
      "outputs": [],
      "source": [
        "# Which STUDENT has the max salary?\n",
        "StudentName[Salaries.index(max(Salaries))]"
      ]
    },
    {
      "cell_type": "markdown",
      "metadata": {
        "id": "uDRqc-NkoYe-"
      },
      "source": [
        "## Creating lists from other information\n",
        "One of the most frequent operations that we'll deal with is to create one list based on some other information.\n",
        "\n",
        "For instance, suppose we want to create a list of the students whose names start with the letter 'G'. We can do that using a `for` loop:"
      ]
    },
    {
      "cell_type": "code",
      "execution_count": null,
      "metadata": {
        "id": "KjjKb2-boYe_"
      },
      "outputs": [],
      "source": [
        "students_with_g = []                              # create an empty list\n",
        "\n",
        "for s in StudentName:                             # loop through all the student names\n",
        "    if s[0] == 'G':                               # check if the string 's' starts with the letter 'G'\n",
        "        students_with_g = students_with_g + [s]   # add 's' to the list\n",
        "\n",
        "print(students_with_g)"
      ]
    },
    {
      "cell_type": "markdown",
      "metadata": {
        "id": "DjdzsswroYe_"
      },
      "source": [
        "The most elegant way to do that in Python is using a **list comprehension**. This can make life a lot easier and it is worth getting used to list comprehensions!"
      ]
    },
    {
      "cell_type": "code",
      "execution_count": null,
      "metadata": {
        "id": "sy6-aHkooYfA"
      },
      "outputs": [],
      "source": [
        "# create a list using a list comprehension\n",
        "students_with_g = [s for s in StudentName if s[0]=='G']"
      ]
    },
    {
      "cell_type": "markdown",
      "metadata": {
        "id": "8Gn9LBCOoYfA"
      },
      "source": [
        "List comprehensions offer a very simple way to create a new list based on some existing lists. The syntax is:\n",
        "\n",
        "> `newlist = [`_expression_ `for` _item_ `in` _sequence_ `if` _condition_ `== True]`\n",
        "\n",
        "_sequence_ is typically another list or a range (but we will see some other examples throughout the class)"
      ]
    },
    {
      "cell_type": "markdown",
      "metadata": {
        "id": "D_HVz7CGoYfA"
      },
      "source": [
        "## EXERCISE.\n",
        "**<font color=green>Create and then print a list with all the students with salaries of 150 or below.</font>**"
      ]
    },
    {
      "cell_type": "markdown",
      "metadata": {
        "jp-MarkdownHeadingCollapsed": true,
        "id": "O43hduh5oYfA"
      },
      "source": [
        "# Printing\n",
        "We already saw the `print` function, which allows printing variables. Let's dive a bit deeper and print some more complex messages."
      ]
    },
    {
      "cell_type": "code",
      "execution_count": null,
      "metadata": {
        "id": "G36ikLoDoYfA"
      },
      "outputs": [],
      "source": [
        "print(\"We have 10 students in our class.\")\n",
        "# Better approach:\n",
        "print(\"We have %d students in our class.\" % len(StudentName))"
      ]
    },
    {
      "cell_type": "markdown",
      "metadata": {
        "id": "ivSU-Lt2oYfA"
      },
      "source": [
        "The '%' symbol is used to put a dynamic object in a print statement. It may look familiar to those of you with C/C++ or MATLAB background.\n",
        "\n",
        "The letter afterwards specifies the type of data: %d (for integers), %s (for strings), %f (for \"floating point\" values)"
      ]
    },
    {
      "cell_type": "code",
      "execution_count": null,
      "metadata": {
        "id": "wP5HmES0oYfB"
      },
      "outputs": [],
      "source": [
        "print(\"The average salary is %f\" % (sum(Salaries)/len(Salaries)))"
      ]
    },
    {
      "cell_type": "code",
      "execution_count": null,
      "metadata": {
        "id": "yOjY3OwEoYfB"
      },
      "outputs": [],
      "source": [
        "# Let's clean up the output\n",
        "print(\"The average salary is %.1f\" % (sum(Salaries)/len(Salaries)))\n",
        "print(\"The average salary is %.2f\" % (sum(Salaries)/len(Salaries)))"
      ]
    },
    {
      "cell_type": "markdown",
      "metadata": {
        "id": "SboYVbxXoYfB"
      },
      "source": [
        "<font color=blue>__Remark.__ Although the approach above works, there are much more effective and robust ways to print in Python. For instance, we suggest that you get used to printing with `f-strings`. Gere is how the code immediately above would look like with an f-string:"
      ]
    },
    {
      "cell_type": "code",
      "execution_count": null,
      "metadata": {
        "id": "5LJmBLjjoYfB"
      },
      "outputs": [],
      "source": [
        "# print the same thing with f-strings\n",
        "print(f\"The average salary is {sum(Salaries)/len(Salaries):.1f}\")\n",
        "print(f\"The average salary is {sum(Salaries)/len(Salaries):.2f}\")"
      ]
    },
    {
      "cell_type": "markdown",
      "metadata": {
        "id": "MVDULFOvoYfB"
      },
      "source": [
        "With the f-string approach, you can print many types of variables and combine text and variables.\n",
        "\n",
        "For instance, let's print the name, ID, and salary for the first 5 students, with enough space so that the ID and salary remain left-aligned."
      ]
    },
    {
      "cell_type": "code",
      "execution_count": null,
      "metadata": {
        "id": "5wfPb9JdoYfB"
      },
      "outputs": [],
      "source": [
        "for i in range(5):\n",
        "    print(f\"The student with name {StudentName[i]:<6s} has ID {StudentID[i]} and salary {Salaries[i]}\")"
      ]
    },
    {
      "cell_type": "markdown",
      "metadata": {
        "id": "wOJE8e1ToYfB"
      },
      "source": [
        "For more details and examples, you can check out the **Cheat Sheet**!"
      ]
    },
    {
      "cell_type": "markdown",
      "metadata": {
        "id": "oA6c3XD-oYfB"
      },
      "source": [
        "## EXERCISE.\n",
        "<font color=green>**Calculate and print the _average salary_ of all the students, with 2 digits of precision.**</font>"
      ]
    },
    {
      "cell_type": "markdown",
      "metadata": {
        "jp-MarkdownHeadingCollapsed": true,
        "id": "qytd_hzVoYfC"
      },
      "source": [
        "# Dictionaries\n",
        "Dictionaries are a widely used data structure in python. We won't use them extensively in our class, but they are extremely useful. This section provides a brief introduction to dictionaries.\n",
        "\n",
        "A dictionary is just a set of key/value pairs and the data is organized so that we can look up the value based on the key. As such, the `keys` have to be unique (but the values can be repeated). For instance, a dictionary could be used to implement a phonebook: you would have the `name` as a key, and the `value` could be the phone number (and other contact information for that person).\n",
        "\n",
        "Let's construct a dictionary in our case. Recall that we had 10 student names, 10 ID numbers, and the corresponding salaries:"
      ]
    },
    {
      "cell_type": "code",
      "execution_count": null,
      "metadata": {
        "id": "TQhvafifoYfC"
      },
      "outputs": [],
      "source": [
        "print(StudentName)\n",
        "print(StudentID)\n",
        "print(Salaries)"
      ]
    },
    {
      "cell_type": "markdown",
      "metadata": {
        "id": "btHfDmHgoYfC"
      },
      "source": [
        "What if we want to create a dictionary where we can look up students based on the name and recover the salary?"
      ]
    },
    {
      "cell_type": "code",
      "execution_count": null,
      "metadata": {
        "id": "JJezYhD1oYfC"
      },
      "outputs": [],
      "source": [
        "Salary_dict = {\n",
        "    StudentName[0] : 175,\n",
        "    StudentName[1] : 189,\n",
        "    StudentName[2] : 168,\n",
        "    StudentName[3] : 196,\n",
        "    StudentName[4] : 182,\n",
        "    StudentName[5] : 188,\n",
        "    StudentName[6] : 198,\n",
        "    StudentName[7] : 162,\n",
        "    StudentName[8] : 191,\n",
        "    StudentName[9] : 143\n",
        "}"
      ]
    },
    {
      "cell_type": "markdown",
      "metadata": {
        "id": "j5ewQcRYoYfC"
      },
      "source": [
        "The curly braces `{...}` tell Python that we are creating a dictionary, and the way we are doing it above is through (key,value) pairs separated by a colon `:`\n",
        "\n",
        "Let's print this out for a look:"
      ]
    },
    {
      "cell_type": "code",
      "execution_count": null,
      "metadata": {
        "id": "8lbUW0CJoYfC"
      },
      "outputs": [],
      "source": [
        "# print it\n",
        "print(Salary_dict)"
      ]
    },
    {
      "cell_type": "markdown",
      "metadata": {
        "id": "eMgkEx-xoYfC"
      },
      "source": [
        "We can now retrieve the salary for a given name quite quickly! Let's print Dan's salary:"
      ]
    },
    {
      "cell_type": "code",
      "execution_count": null,
      "metadata": {
        "id": "VYnHNQICoYfC"
      },
      "outputs": [],
      "source": [
        "# retrieve Dan's salary\n",
        "Salary_dict[\"Dan\"]"
      ]
    },
    {
      "cell_type": "markdown",
      "metadata": {
        "id": "4B20UHAYoYfD"
      },
      "source": [
        "You can also change the value associated with a key with a simple assignment."
      ]
    },
    {
      "cell_type": "code",
      "execution_count": null,
      "metadata": {
        "id": "RQCLMOuSoYfD"
      },
      "outputs": [],
      "source": [
        "# change Dan's salary\n",
        "Salary_dict[\"Dan\"] = 100000\n",
        "print(Salary_dict)"
      ]
    },
    {
      "cell_type": "markdown",
      "metadata": {
        "id": "kK0oevqooYfD"
      },
      "source": [
        "Of course, the way we created the dictionary above was very manual and error prone.\n",
        "\n",
        "The best way would be to do it programmatically - something like this:"
      ]
    },
    {
      "cell_type": "code",
      "execution_count": null,
      "metadata": {
        "id": "u9bLQi1noYfD"
      },
      "outputs": [],
      "source": [
        "# A different way to create this dictionary:\n",
        "\n",
        "# Initialize the dictionary to be empty\n",
        "Salary_dict2 = {}\n",
        "\n",
        "# Add the elements with a for loop\n",
        "for i in range(len(StudentName)):\n",
        "    Salary_dict2[StudentName[i]] = Salaries[i]\n",
        "\n",
        "print(Salary_dict2)"
      ]
    },
    {
      "cell_type": "markdown",
      "metadata": {
        "id": "BL2kqnTgoYfD"
      },
      "source": [
        "## EXERCISE.\n",
        "<font color=green>**Suppose we are worried that two students have the same name... Create a dictionary using the ID as the key and that has as a value a list containing the name and then the student's salary. Once done, print out the dictionary.**"
      ]
    },
    {
      "cell_type": "markdown",
      "metadata": {
        "id": "hMQ4xKVnjfMf",
        "jp-MarkdownHeadingCollapsed": true
      },
      "source": [
        "# Pandas module\n",
        "Pandas is a Python library used for working with data sets. It has very useful functions for analyzing, cleaning, exploring, and manipulating data, and we will be using it a lot throughout our class. (And in case you're wondering, the name is **not** about an animal -- it's actually short for \"panel data\"!) Over coverage here will be very brief, but for more details check this resource: <a href=\"https://www.w3schools.com/python/pandas/default.asp\">https://www.w3schools.com/python/pandas/default.asp.</a>\n",
        "\n",
        "First, let's import the pandas library (also known as \"module\"). There are a few different options for importing a module. Option 1 is to use the following line:\n",
        "\n",
        "> ``import pandas``\n",
        "\n",
        "This imports the \"pandas\" module, and allows us to use all the functions it contains using a syntax like ``pandas.read_csv()`` (this allows reading a CSV file!)\n",
        "\n",
        "If we think it will be annoying to type pandas over and over, we can assign it a 'short name':\n",
        "\n",
        "> ``import pandas as pd``\n",
        "\n",
        "This also imports the \"pandas\" module, but now we would refer to the `read_csv` function as ``pd.read_csv()``.\n",
        "\n",
        "The last option would be to do:\n",
        "\n",
        "> ``from pandas import *``\n",
        "\n",
        "This imports everything in the pandas module and makes it so that we can just refer to the function as ``read_csv()``.\n",
        "This is potentially useful if the functions are specific enough that you don't think the same names will be used anywhere else, but dangerous if you think there might be overlap.\n",
        "\n",
        "We'll stick with the second approach here.\n"
      ]
    },
    {
      "cell_type": "code",
      "execution_count": null,
      "metadata": {
        "id": "96K3U_YezCUL"
      },
      "outputs": [],
      "source": [
        "# let's first import the module\n",
        "import pandas as pd"
      ]
    },
    {
      "cell_type": "markdown",
      "metadata": {
        "id": "96o22Bao-biJ"
      },
      "source": [
        "In `pandas`, data is organized and stored as **DataFrames**. You can think of a DataFrame in close analogy with a table in Excel: it is a two-dimensional table that has data on its columns, and each column may have a header/name."
      ]
    },
    {
      "cell_type": "markdown",
      "metadata": {
        "id": "p2rM0JsYC30r"
      },
      "source": [
        "Normally we read DataFrames from files, but here we will just create a DataFrame from a dictionary. Let's first create a dictionary with some data."
      ]
    },
    {
      "cell_type": "code",
      "execution_count": null,
      "metadata": {
        "id": "ywB2WTFj-bif"
      },
      "outputs": [],
      "source": [
        "# a dictionary that stores some data\n",
        "dictionary_with_data = {\n",
        "    'Name': ['Alice', 'Bob', 'Charlie', 'David', 'Juan', 'Chenxi'],\n",
        "    'Age': [25, 30, 22, 28, 27, 30],\n",
        "    'Id' : [10001, 10002, 10003, 10004, 10005, 10006],\n",
        "    'City': ['New York', 'San Francisco', 'Los Angeles', 'Chicago', 'Guadalajara', 'Singapore']\n",
        "}\n",
        "\n",
        "print(dictionary_with_data)"
      ]
    },
    {
      "cell_type": "markdown",
      "metadata": {
        "id": "o9VriDRhoYfE"
      },
      "source": [
        "Now, let's turn this into a dataframe where the `keys` of the dictionary with be the column names and the values will correspond to the values on each column."
      ]
    },
    {
      "cell_type": "code",
      "execution_count": null,
      "metadata": {
        "id": "iXYn6BnuoYfE"
      },
      "outputs": [],
      "source": [
        "# create a DataFrame from the dictionary\n",
        "df = pd.DataFrame(dictionary_with_data)\n",
        "\n",
        "# display it\n",
        "display(df)"
      ]
    },
    {
      "cell_type": "markdown",
      "metadata": {
        "id": "O429TrsX-big"
      },
      "source": [
        "As you can see, the DataFrame is basically a table with rows and columns.\n",
        "\n",
        "The column labels/names here are \"Name\", \"Age\", \"Id\", and \"City\".\n",
        "\n",
        "The rows are labeled with 0, 1, 2, 3, which is simply a unique identifier/label that pandas assigned to each row (think is called an `index`). The `index` is not really a part of our DataFrame, so **the first actual column of data is \"Name\"**.\n",
        "\n",
        "The function `display(.)`, which we used above, is great for visualizing DataFrames. In a large DataFrame, you may want to only display a few rows, which you can do with the `head(.)` method:"
      ]
    },
    {
      "cell_type": "code",
      "execution_count": null,
      "metadata": {
        "id": "xTpSyhKwJcRA"
      },
      "outputs": [],
      "source": [
        "# display the first 2 rows\n",
        "df.head(2)"
      ]
    },
    {
      "cell_type": "markdown",
      "metadata": {
        "id": "fR9aYyAL8ncW"
      },
      "source": [
        "To find out the number of rows, use `len(.)`"
      ]
    },
    {
      "cell_type": "code",
      "execution_count": null,
      "metadata": {
        "id": "57EoI3C68qt8"
      },
      "outputs": [],
      "source": [
        "# print the number of rows in the DataFrame\n",
        "print(len(df))"
      ]
    },
    {
      "cell_type": "markdown",
      "metadata": {
        "id": "kB_EjOT-BPO3"
      },
      "source": [
        "If you need both the number of rows and the number of columns, use `shape`"
      ]
    },
    {
      "cell_type": "code",
      "execution_count": null,
      "metadata": {
        "id": "Aow_V08DBT3Z"
      },
      "outputs": [],
      "source": [
        "df.shape"
      ]
    },
    {
      "cell_type": "markdown",
      "metadata": {
        "id": "usyuuaoqNHuf"
      },
      "source": [
        "### Column operations"
      ]
    },
    {
      "cell_type": "markdown",
      "metadata": {
        "id": "AczO9D9HI1Bv"
      },
      "source": [
        "You can see a specific column using the syntax `df[column_name]`:"
      ]
    },
    {
      "cell_type": "code",
      "execution_count": null,
      "metadata": {
        "id": "5vCUGSjwIkoE"
      },
      "outputs": [],
      "source": [
        "# check out the column \"Age\"\n",
        "df[\"Age\"]"
      ]
    },
    {
      "cell_type": "markdown",
      "metadata": {
        "id": "wfBLqTPPJT6Q"
      },
      "source": [
        "To obtain the names of all the columns, use the attribute `df.columns`."
      ]
    },
    {
      "cell_type": "code",
      "execution_count": null,
      "metadata": {
        "id": "EuAFJ_YeI0ng"
      },
      "outputs": [],
      "source": [
        "# get all the column names\n",
        "df.columns"
      ]
    },
    {
      "cell_type": "markdown",
      "metadata": {
        "id": "r1X2VJ6TLdeq"
      },
      "source": [
        "As you can see, this returns an `Index` object (which we have not discussed), but you can iterate through it with a usual `for` loop or you can transform it into a regular Python List with the function `list`."
      ]
    },
    {
      "cell_type": "code",
      "execution_count": null,
      "metadata": {
        "id": "fOfUGtZdJyxI"
      },
      "outputs": [],
      "source": [
        "# let's iterate through the names of the columns with a for loop\n",
        "for c in df.columns:\n",
        "     print(c)\n",
        "\n",
        "# let's store the columns in a list and display the list\n",
        "column_names = list(df.columns)\n",
        "print(column_names)"
      ]
    },
    {
      "cell_type": "markdown",
      "metadata": {
        "id": "-RrpCWyKJzKE"
      },
      "source": [
        "<font color=red>**Warning!**</font>`df.columns` **is not a method**! If you use round brackets, you will get an error:"
      ]
    },
    {
      "cell_type": "code",
      "execution_count": null,
      "metadata": {
        "id": "rfUATKyXLWKN"
      },
      "outputs": [],
      "source": [
        "# the following would generate an error!\n",
        "df.columns()"
      ]
    },
    {
      "cell_type": "markdown",
      "metadata": {
        "id": "9qmr877by_Lv"
      },
      "source": [
        "### Row operations"
      ]
    },
    {
      "cell_type": "markdown",
      "metadata": {
        "id": "wjd4n-X_KN4n"
      },
      "source": [
        "To get all the row labels, used `df.index`."
      ]
    },
    {
      "cell_type": "code",
      "execution_count": null,
      "metadata": {
        "id": "bBPGyTRBKaqA"
      },
      "outputs": [],
      "source": [
        "# get all the row labels\n",
        "df.index"
      ]
    },
    {
      "cell_type": "markdown",
      "metadata": {
        "id": "TbTZ1u5yKmWx"
      },
      "source": [
        "This also returns an object (a `RangeIndex`), but you can readily loop through it with a `for` or store it as a list."
      ]
    },
    {
      "cell_type": "code",
      "execution_count": null,
      "metadata": {
        "id": "5P-FGaHOKw7L"
      },
      "outputs": [],
      "source": [
        "# let's iterate through the indices of all the rows\n",
        "for i in df.index:\n",
        "     print(i)\n",
        "\n",
        "# let's store the columns in a list and display the list\n",
        "row_idx = list(df.index)\n",
        "print(row_idx)"
      ]
    },
    {
      "cell_type": "markdown",
      "metadata": {
        "id": "2lxLso3rM5nN"
      },
      "source": [
        "Sometimes, it is useful to change the `index` used for the DataFrame. For instance, we can assign the row labels to the values of a python list with **unique** values by simply setting `index`:"
      ]
    },
    {
      "cell_type": "code",
      "execution_count": null,
      "metadata": {
        "id": "iG6WNZkA8RVd"
      },
      "outputs": [],
      "source": [
        "# change the index to 0, 1, ...\n",
        "df.index = list(['a','b','c','d'])\n",
        "\n",
        "display(df)"
      ]
    },
    {
      "cell_type": "markdown",
      "metadata": {
        "id": "GPQRmi7p9sHB"
      },
      "source": [
        "### Retrieve elements\n",
        "One of the most important operations with a DataFrame is to retrieve an element located at a certain row and column."
      ]
    },
    {
      "cell_type": "markdown",
      "metadata": {
        "id": "N1pTsjOS9RS4"
      },
      "source": [
        "If you know the row and column labels, you can use the following syntax:\n",
        "  > `df[column_label][row_label]`"
      ]
    },
    {
      "cell_type": "code",
      "execution_count": null,
      "metadata": {
        "id": "oqiW1o90oYfH"
      },
      "outputs": [],
      "source": [
        "## retrieve something from the dataframe using df[column_label][row_label]\n",
        "# let's get the element on row 'c' and column \"Age\"\n",
        "print(df[\"Age\"]['c'])   # approach 1"
      ]
    },
    {
      "cell_type": "markdown",
      "metadata": {
        "id": "LTM6AeV4oYfH"
      },
      "source": [
        "First time you see this it might look a bit confusing. Typically, in mathematics, we write $M_{i,j}$ or $M[i,j]$ for row $i$ and column $j$ of a matrix $M$, so in the syntax above, it might seem like the order or rows and columns is switched!\n",
        "\n",
        "The idea is that `df[column_label]` returns the entire column with that name and then, applying `[row_label]` to that simply returns the element at the `[row_label]` location.\n",
        "\n",
        "In contrast, the next approach that uses `.loc` may seem more natural. This has the syntax:\n",
        "   > `df.loc[row_label][column_label]`"
      ]
    },
    {
      "cell_type": "code",
      "execution_count": null,
      "metadata": {
        "id": "cknhcMss-XzM"
      },
      "outputs": [],
      "source": [
        "# let's get the element on row 'c' and column \"Age\"\n",
        "print(df.loc['c',\"Age\"])"
      ]
    },
    {
      "cell_type": "markdown",
      "metadata": {
        "id": "8XTlzm0MHOdW"
      },
      "source": [
        "Finally, there is an option to index into the DataFrame using entirely numeric indices, using `iloc. The syntax here is:\n",
        "> `df.iloc[numeric_row_index, numeric_column_index]`\n",
        "\n",
        "This is similar to what we wrote earlier, with $M_{i,j}$ or $M[i,j]$ for matrix $M$."
      ]
    },
    {
      "cell_type": "code",
      "execution_count": null,
      "metadata": {
        "id": "OYGcKwhwGeW1"
      },
      "outputs": [],
      "source": [
        "# let's retrieve the element in row 1 and column 1\n",
        "df.iloc[0, 0]"
      ]
    },
    {
      "cell_type": "markdown",
      "metadata": {
        "id": "que6LPs3oYfH"
      },
      "source": [
        "To not get confused, remember that Python uses 0-based indexing (and the very first column, with the `index`, does not count as a proper column)."
      ]
    },
    {
      "cell_type": "markdown",
      "metadata": {
        "id": "NJ9Hg79qAWBX"
      },
      "source": [
        "### Looping\n",
        "To loop through the elements in a row or a column (or a subsection of the dataframe), you can just use a regular `for` loop"
      ]
    },
    {
      "cell_type": "code",
      "execution_count": null,
      "metadata": {
        "id": "_R6RczF8Af-7"
      },
      "outputs": [],
      "source": [
        "# let's loop through the entire DataFrame on columns and print the name of the column and the contents:\n",
        "for c in list(df.columns):\n",
        "    # for every column\n",
        "    print(f\"Column '{c}' contains:\")\n",
        "    for r in list(df.index):\n",
        "        # for every row\n",
        "        print(f\"In location {r} : {df.loc[r,c]}\")"
      ]
    },
    {
      "cell_type": "markdown",
      "metadata": {
        "id": "vhFaZvbvC0DZ"
      },
      "source": [
        "## Reading data files\n",
        "We will read data files using panda's `read_csv` or `read_excel` functions. The former reads files with `.csv` (Comma-Separated-Values) extension, whereas the latter reads `.xlsx` (Excel) files.\n",
        "\n",
        "Let's read in a csv file, and store it as the data frame Grades."
      ]
    },
    {
      "cell_type": "code",
      "execution_count": null,
      "metadata": {
        "id": "Zy5w0moUoYfI"
      },
      "outputs": [],
      "source": [
        "# Read in our csv file and store it as the data frame Grades\n",
        "Grades = pd.read_csv(\"Gradebook.csv\")"
      ]
    },
    {
      "cell_type": "markdown",
      "metadata": {
        "id": "n0XR_l_zoYfI"
      },
      "source": [
        "Note the syntax for reading CSV files. Above, we used\n",
        "> `df = pd.read_csv(full_file_name)`<br>\n",
        "\n",
        "where `full_file_name` is the complete filename, including a path if needed."
      ]
    },
    {
      "cell_type": "code",
      "execution_count": null,
      "metadata": {
        "id": "BeaSQmutoYfI"
      },
      "outputs": [],
      "source": [
        "# Let's take a look at our data frame Grades\n",
        "display(Grades)"
      ]
    },
    {
      "cell_type": "markdown",
      "metadata": {
        "id": "aeEA0Z2moYfI"
      },
      "source": [
        "Note that here, Pandas automatically assigned an `index` to the DataFrame that goes from 0 to 49.\n",
        "\n",
        "But in this case, maybe a better index should be the `student ID`, which presumably is unique. We could change that index, but we can actually specify when reading the file that Pandas should use a specific column as an index. The syntax is:\n",
        "> `df = pd.read_csv(full_file_name, index_col)`<br>\n",
        "\n",
        "where now `index_col` is a **numeric index** of the column to use to construct the index (i.e., the row labels).\n",
        "\n",
        "Let's try it again, using the `StudentID` (which has column index 0) as our row labels:"
      ]
    },
    {
      "cell_type": "code",
      "execution_count": null,
      "metadata": {
        "id": "8rmtPpV6oYfI"
      },
      "outputs": [],
      "source": [
        "# Read in our csv file with StudentID as index\n",
        "Grades = pd.read_csv(\"Gradebook.csv\", index_col=0)\n",
        "\n",
        "# display the first 5 rows\n",
        "Grades.head(5)"
      ]
    },
    {
      "cell_type": "markdown",
      "metadata": {
        "id": "7NtEG5TWoYfJ"
      },
      "source": [
        "If our data was instead in an Excel file (.xlsx), we would just use the ``read_excel`` function instead of the ``read_csv`` function. We'll see example of this later."
      ]
    },
    {
      "cell_type": "markdown",
      "metadata": {
        "id": "gFLOZMcRoYfJ"
      },
      "source": [
        "## EXERCISE.\n",
        "<font color=green>**1. Calculate and print the average grade on the midterm for the entire class.**<br>\n",
        "<font color=green>**2. Calculate and print the GPA (equally-weighted average of the midterm, homework, and participation) for the following students: Xin, Zeb, Iris.**<br>\n",
        "<font color=green>**3. Calculate and print the GPA assuming a weight of 35% for the midterm, 45% for the final, and 30% for participation, for all the students in the class.**<br>\n",
        "<font color=green>**4. Under the weighting in #3, who is the student with the largest GPA in the class?**<br>"
      ]
    },
    {
      "cell_type": "code",
      "execution_count": null,
      "metadata": {
        "id": "Gihf24sloYfJ"
      },
      "outputs": [],
      "source": []
    }
  ],
  "metadata": {
    "kernelspec": {
      "display_name": "Python 3 (ipykernel)",
      "language": "python",
      "name": "python3"
    },
    "language_info": {
      "codemirror_mode": {
        "name": "ipython",
        "version": 3
      },
      "file_extension": ".py",
      "mimetype": "text/x-python",
      "name": "python",
      "nbconvert_exporter": "python",
      "pygments_lexer": "ipython3",
      "version": "3.12.5"
    },
    "colab": {
      "provenance": [],
      "collapsed_sections": [
        "4e2QzVgcEdPq",
        "nGH4DSyOoYeg",
        "SJ7-xwfCoYem",
        "tl3YvkQuoYen",
        "WfsrmV12oYep",
        "rDyki5ujoYeq",
        "O43hduh5oYfA",
        "qytd_hzVoYfC",
        "hMQ4xKVnjfMf"
      ],
      "toc_visible": true,
      "include_colab_link": true
    }
  },
  "nbformat": 4,
  "nbformat_minor": 0
}