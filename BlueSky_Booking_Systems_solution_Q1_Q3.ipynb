{
  "cells": [
    {
      "cell_type": "markdown",
      "metadata": {
        "id": "view-in-github",
        "colab_type": "text"
      },
      "source": [
        "<a href=\"https://colab.research.google.com/github/singhr08-cpu/Test/blob/main/BlueSky_Booking_Systems_solution_Q1_Q3.ipynb\" target=\"_parent\"><img src=\"https://colab.research.google.com/assets/colab-badge.svg\" alt=\"Open In Colab\"/></a>"
      ]
    },
    {
      "cell_type": "markdown",
      "metadata": {
        "id": "BHTTKFISlthk"
      },
      "source": [
        "# BlueSky Airlines Booking Systems"
      ]
    },
    {
      "cell_type": "code",
      "execution_count": 1,
      "metadata": {
        "id": "h6_dlhItlthm"
      },
      "outputs": [],
      "source": [
        "# Import necessary modules\n",
        "import numpy as np\n",
        "import matplotlib.pyplot as plt\n",
        "import pandas as pd"
      ]
    },
    {
      "cell_type": "code",
      "execution_count": 2,
      "metadata": {
        "id": "YRO7QVoHlthn"
      },
      "outputs": [],
      "source": [
        "# Known data for the problem\n",
        "Capacity = 200           # plane capacity (# of seats)\n",
        "Booking_Limit_SS = 120   # booking limit for SS class\n",
        "\n",
        "Price_FF = 850   # price for SS (Super Saver)\n",
        "Price_SS = 350   # price for FF (Full Fare)"
      ]
    },
    {
      "cell_type": "code",
      "execution_count": 4,
      "metadata": {
        "colab": {
          "base_uri": "https://localhost:8080/",
          "height": 424
        },
        "id": "L9aqqJVKlthn",
        "outputId": "c283fcfa-13bb-4e94-d3ae-07bd91ae366c"
      },
      "outputs": [
        {
          "output_type": "display_data",
          "data": {
            "text/plain": [
              "     Demand_SS  Demand_FF\n",
              "0          170         63\n",
              "1          137         45\n",
              "2          188         83\n",
              "3          123         21\n",
              "4           21         38\n",
              "..         ...        ...\n",
              "995        185         71\n",
              "996        133         53\n",
              "997        123         60\n",
              "998        103         82\n",
              "999        183         45\n",
              "\n",
              "[1000 rows x 2 columns]"
            ],
            "text/html": [
              "\n",
              "  <div id=\"df-3832940e-3f1e-4292-bbfb-92d4a0686341\" class=\"colab-df-container\">\n",
              "    <div>\n",
              "<style scoped>\n",
              "    .dataframe tbody tr th:only-of-type {\n",
              "        vertical-align: middle;\n",
              "    }\n",
              "\n",
              "    .dataframe tbody tr th {\n",
              "        vertical-align: top;\n",
              "    }\n",
              "\n",
              "    .dataframe thead th {\n",
              "        text-align: right;\n",
              "    }\n",
              "</style>\n",
              "<table border=\"1\" class=\"dataframe\">\n",
              "  <thead>\n",
              "    <tr style=\"text-align: right;\">\n",
              "      <th></th>\n",
              "      <th>Demand_SS</th>\n",
              "      <th>Demand_FF</th>\n",
              "    </tr>\n",
              "  </thead>\n",
              "  <tbody>\n",
              "    <tr>\n",
              "      <th>0</th>\n",
              "      <td>170</td>\n",
              "      <td>63</td>\n",
              "    </tr>\n",
              "    <tr>\n",
              "      <th>1</th>\n",
              "      <td>137</td>\n",
              "      <td>45</td>\n",
              "    </tr>\n",
              "    <tr>\n",
              "      <th>2</th>\n",
              "      <td>188</td>\n",
              "      <td>83</td>\n",
              "    </tr>\n",
              "    <tr>\n",
              "      <th>3</th>\n",
              "      <td>123</td>\n",
              "      <td>21</td>\n",
              "    </tr>\n",
              "    <tr>\n",
              "      <th>4</th>\n",
              "      <td>21</td>\n",
              "      <td>38</td>\n",
              "    </tr>\n",
              "    <tr>\n",
              "      <th>...</th>\n",
              "      <td>...</td>\n",
              "      <td>...</td>\n",
              "    </tr>\n",
              "    <tr>\n",
              "      <th>995</th>\n",
              "      <td>185</td>\n",
              "      <td>71</td>\n",
              "    </tr>\n",
              "    <tr>\n",
              "      <th>996</th>\n",
              "      <td>133</td>\n",
              "      <td>53</td>\n",
              "    </tr>\n",
              "    <tr>\n",
              "      <th>997</th>\n",
              "      <td>123</td>\n",
              "      <td>60</td>\n",
              "    </tr>\n",
              "    <tr>\n",
              "      <th>998</th>\n",
              "      <td>103</td>\n",
              "      <td>82</td>\n",
              "    </tr>\n",
              "    <tr>\n",
              "      <th>999</th>\n",
              "      <td>183</td>\n",
              "      <td>45</td>\n",
              "    </tr>\n",
              "  </tbody>\n",
              "</table>\n",
              "<p>1000 rows × 2 columns</p>\n",
              "</div>\n",
              "    <div class=\"colab-df-buttons\">\n",
              "\n",
              "  <div class=\"colab-df-container\">\n",
              "    <button class=\"colab-df-convert\" onclick=\"convertToInteractive('df-3832940e-3f1e-4292-bbfb-92d4a0686341')\"\n",
              "            title=\"Convert this dataframe to an interactive table.\"\n",
              "            style=\"display:none;\">\n",
              "\n",
              "  <svg xmlns=\"http://www.w3.org/2000/svg\" height=\"24px\" viewBox=\"0 -960 960 960\">\n",
              "    <path d=\"M120-120v-720h720v720H120Zm60-500h600v-160H180v160Zm220 220h160v-160H400v160Zm0 220h160v-160H400v160ZM180-400h160v-160H180v160Zm440 0h160v-160H620v160ZM180-180h160v-160H180v160Zm440 0h160v-160H620v160Z\"/>\n",
              "  </svg>\n",
              "    </button>\n",
              "\n",
              "  <style>\n",
              "    .colab-df-container {\n",
              "      display:flex;\n",
              "      gap: 12px;\n",
              "    }\n",
              "\n",
              "    .colab-df-convert {\n",
              "      background-color: #E8F0FE;\n",
              "      border: none;\n",
              "      border-radius: 50%;\n",
              "      cursor: pointer;\n",
              "      display: none;\n",
              "      fill: #1967D2;\n",
              "      height: 32px;\n",
              "      padding: 0 0 0 0;\n",
              "      width: 32px;\n",
              "    }\n",
              "\n",
              "    .colab-df-convert:hover {\n",
              "      background-color: #E2EBFA;\n",
              "      box-shadow: 0px 1px 2px rgba(60, 64, 67, 0.3), 0px 1px 3px 1px rgba(60, 64, 67, 0.15);\n",
              "      fill: #174EA6;\n",
              "    }\n",
              "\n",
              "    .colab-df-buttons div {\n",
              "      margin-bottom: 4px;\n",
              "    }\n",
              "\n",
              "    [theme=dark] .colab-df-convert {\n",
              "      background-color: #3B4455;\n",
              "      fill: #D2E3FC;\n",
              "    }\n",
              "\n",
              "    [theme=dark] .colab-df-convert:hover {\n",
              "      background-color: #434B5C;\n",
              "      box-shadow: 0px 1px 3px 1px rgba(0, 0, 0, 0.15);\n",
              "      filter: drop-shadow(0px 1px 2px rgba(0, 0, 0, 0.3));\n",
              "      fill: #FFFFFF;\n",
              "    }\n",
              "  </style>\n",
              "\n",
              "    <script>\n",
              "      const buttonEl =\n",
              "        document.querySelector('#df-3832940e-3f1e-4292-bbfb-92d4a0686341 button.colab-df-convert');\n",
              "      buttonEl.style.display =\n",
              "        google.colab.kernel.accessAllowed ? 'block' : 'none';\n",
              "\n",
              "      async function convertToInteractive(key) {\n",
              "        const element = document.querySelector('#df-3832940e-3f1e-4292-bbfb-92d4a0686341');\n",
              "        const dataTable =\n",
              "          await google.colab.kernel.invokeFunction('convertToInteractive',\n",
              "                                                    [key], {});\n",
              "        if (!dataTable) return;\n",
              "\n",
              "        const docLinkHtml = 'Like what you see? Visit the ' +\n",
              "          '<a target=\"_blank\" href=https://colab.research.google.com/notebooks/data_table.ipynb>data table notebook</a>'\n",
              "          + ' to learn more about interactive tables.';\n",
              "        element.innerHTML = '';\n",
              "        dataTable['output_type'] = 'display_data';\n",
              "        await google.colab.output.renderOutput(dataTable, element);\n",
              "        const docLink = document.createElement('div');\n",
              "        docLink.innerHTML = docLinkHtml;\n",
              "        element.appendChild(docLink);\n",
              "      }\n",
              "    </script>\n",
              "  </div>\n",
              "\n",
              "\n",
              "<div id=\"df-64b0c4b8-c569-4698-bf1e-26a4f1a3d58a\">\n",
              "  <button class=\"colab-df-quickchart\" onclick=\"quickchart('df-64b0c4b8-c569-4698-bf1e-26a4f1a3d58a')\"\n",
              "            title=\"Suggest charts\"\n",
              "            style=\"display:none;\">\n",
              "\n",
              "<svg xmlns=\"http://www.w3.org/2000/svg\" height=\"24px\"viewBox=\"0 0 24 24\"\n",
              "     width=\"24px\">\n",
              "    <g>\n",
              "        <path d=\"M19 3H5c-1.1 0-2 .9-2 2v14c0 1.1.9 2 2 2h14c1.1 0 2-.9 2-2V5c0-1.1-.9-2-2-2zM9 17H7v-7h2v7zm4 0h-2V7h2v10zm4 0h-2v-4h2v4z\"/>\n",
              "    </g>\n",
              "</svg>\n",
              "  </button>\n",
              "\n",
              "<style>\n",
              "  .colab-df-quickchart {\n",
              "      --bg-color: #E8F0FE;\n",
              "      --fill-color: #1967D2;\n",
              "      --hover-bg-color: #E2EBFA;\n",
              "      --hover-fill-color: #174EA6;\n",
              "      --disabled-fill-color: #AAA;\n",
              "      --disabled-bg-color: #DDD;\n",
              "  }\n",
              "\n",
              "  [theme=dark] .colab-df-quickchart {\n",
              "      --bg-color: #3B4455;\n",
              "      --fill-color: #D2E3FC;\n",
              "      --hover-bg-color: #434B5C;\n",
              "      --hover-fill-color: #FFFFFF;\n",
              "      --disabled-bg-color: #3B4455;\n",
              "      --disabled-fill-color: #666;\n",
              "  }\n",
              "\n",
              "  .colab-df-quickchart {\n",
              "    background-color: var(--bg-color);\n",
              "    border: none;\n",
              "    border-radius: 50%;\n",
              "    cursor: pointer;\n",
              "    display: none;\n",
              "    fill: var(--fill-color);\n",
              "    height: 32px;\n",
              "    padding: 0;\n",
              "    width: 32px;\n",
              "  }\n",
              "\n",
              "  .colab-df-quickchart:hover {\n",
              "    background-color: var(--hover-bg-color);\n",
              "    box-shadow: 0 1px 2px rgba(60, 64, 67, 0.3), 0 1px 3px 1px rgba(60, 64, 67, 0.15);\n",
              "    fill: var(--button-hover-fill-color);\n",
              "  }\n",
              "\n",
              "  .colab-df-quickchart-complete:disabled,\n",
              "  .colab-df-quickchart-complete:disabled:hover {\n",
              "    background-color: var(--disabled-bg-color);\n",
              "    fill: var(--disabled-fill-color);\n",
              "    box-shadow: none;\n",
              "  }\n",
              "\n",
              "  .colab-df-spinner {\n",
              "    border: 2px solid var(--fill-color);\n",
              "    border-color: transparent;\n",
              "    border-bottom-color: var(--fill-color);\n",
              "    animation:\n",
              "      spin 1s steps(1) infinite;\n",
              "  }\n",
              "\n",
              "  @keyframes spin {\n",
              "    0% {\n",
              "      border-color: transparent;\n",
              "      border-bottom-color: var(--fill-color);\n",
              "      border-left-color: var(--fill-color);\n",
              "    }\n",
              "    20% {\n",
              "      border-color: transparent;\n",
              "      border-left-color: var(--fill-color);\n",
              "      border-top-color: var(--fill-color);\n",
              "    }\n",
              "    30% {\n",
              "      border-color: transparent;\n",
              "      border-left-color: var(--fill-color);\n",
              "      border-top-color: var(--fill-color);\n",
              "      border-right-color: var(--fill-color);\n",
              "    }\n",
              "    40% {\n",
              "      border-color: transparent;\n",
              "      border-right-color: var(--fill-color);\n",
              "      border-top-color: var(--fill-color);\n",
              "    }\n",
              "    60% {\n",
              "      border-color: transparent;\n",
              "      border-right-color: var(--fill-color);\n",
              "    }\n",
              "    80% {\n",
              "      border-color: transparent;\n",
              "      border-right-color: var(--fill-color);\n",
              "      border-bottom-color: var(--fill-color);\n",
              "    }\n",
              "    90% {\n",
              "      border-color: transparent;\n",
              "      border-bottom-color: var(--fill-color);\n",
              "    }\n",
              "  }\n",
              "</style>\n",
              "\n",
              "  <script>\n",
              "    async function quickchart(key) {\n",
              "      const quickchartButtonEl =\n",
              "        document.querySelector('#' + key + ' button');\n",
              "      quickchartButtonEl.disabled = true;  // To prevent multiple clicks.\n",
              "      quickchartButtonEl.classList.add('colab-df-spinner');\n",
              "      try {\n",
              "        const charts = await google.colab.kernel.invokeFunction(\n",
              "            'suggestCharts', [key], {});\n",
              "      } catch (error) {\n",
              "        console.error('Error during call to suggestCharts:', error);\n",
              "      }\n",
              "      quickchartButtonEl.classList.remove('colab-df-spinner');\n",
              "      quickchartButtonEl.classList.add('colab-df-quickchart-complete');\n",
              "    }\n",
              "    (() => {\n",
              "      let quickchartButtonEl =\n",
              "        document.querySelector('#df-64b0c4b8-c569-4698-bf1e-26a4f1a3d58a button');\n",
              "      quickchartButtonEl.style.display =\n",
              "        google.colab.kernel.accessAllowed ? 'block' : 'none';\n",
              "    })();\n",
              "  </script>\n",
              "</div>\n",
              "\n",
              "  <div id=\"id_d98c91b3-84cf-4e89-b2e8-4b6d219e1227\">\n",
              "    <style>\n",
              "      .colab-df-generate {\n",
              "        background-color: #E8F0FE;\n",
              "        border: none;\n",
              "        border-radius: 50%;\n",
              "        cursor: pointer;\n",
              "        display: none;\n",
              "        fill: #1967D2;\n",
              "        height: 32px;\n",
              "        padding: 0 0 0 0;\n",
              "        width: 32px;\n",
              "      }\n",
              "\n",
              "      .colab-df-generate:hover {\n",
              "        background-color: #E2EBFA;\n",
              "        box-shadow: 0px 1px 2px rgba(60, 64, 67, 0.3), 0px 1px 3px 1px rgba(60, 64, 67, 0.15);\n",
              "        fill: #174EA6;\n",
              "      }\n",
              "\n",
              "      [theme=dark] .colab-df-generate {\n",
              "        background-color: #3B4455;\n",
              "        fill: #D2E3FC;\n",
              "      }\n",
              "\n",
              "      [theme=dark] .colab-df-generate:hover {\n",
              "        background-color: #434B5C;\n",
              "        box-shadow: 0px 1px 3px 1px rgba(0, 0, 0, 0.15);\n",
              "        filter: drop-shadow(0px 1px 2px rgba(0, 0, 0, 0.3));\n",
              "        fill: #FFFFFF;\n",
              "      }\n",
              "    </style>\n",
              "    <button class=\"colab-df-generate\" onclick=\"generateWithVariable('df')\"\n",
              "            title=\"Generate code using this dataframe.\"\n",
              "            style=\"display:none;\">\n",
              "\n",
              "  <svg xmlns=\"http://www.w3.org/2000/svg\" height=\"24px\"viewBox=\"0 0 24 24\"\n",
              "       width=\"24px\">\n",
              "    <path d=\"M7,19H8.4L18.45,9,17,7.55,7,17.6ZM5,21V16.75L18.45,3.32a2,2,0,0,1,2.83,0l1.4,1.43a1.91,1.91,0,0,1,.58,1.4,1.91,1.91,0,0,1-.58,1.4L9.25,21ZM18.45,9,17,7.55Zm-12,3A5.31,5.31,0,0,0,4.9,8.1,5.31,5.31,0,0,0,1,6.5,5.31,5.31,0,0,0,4.9,4.9,5.31,5.31,0,0,0,6.5,1,5.31,5.31,0,0,0,8.1,4.9,5.31,5.31,0,0,0,12,6.5,5.46,5.46,0,0,0,6.5,12Z\"/>\n",
              "  </svg>\n",
              "    </button>\n",
              "    <script>\n",
              "      (() => {\n",
              "      const buttonEl =\n",
              "        document.querySelector('#id_d98c91b3-84cf-4e89-b2e8-4b6d219e1227 button.colab-df-generate');\n",
              "      buttonEl.style.display =\n",
              "        google.colab.kernel.accessAllowed ? 'block' : 'none';\n",
              "\n",
              "      buttonEl.onclick = () => {\n",
              "        google.colab.notebook.generateWithVariable('df');\n",
              "      }\n",
              "      })();\n",
              "    </script>\n",
              "  </div>\n",
              "\n",
              "    </div>\n",
              "  </div>\n"
            ],
            "application/vnd.google.colaboratory.intrinsic+json": {
              "type": "dataframe",
              "variable_name": "df",
              "summary": "{\n  \"name\": \"df\",\n  \"rows\": 1000,\n  \"fields\": [\n    {\n      \"column\": \"Demand_SS\",\n      \"properties\": {\n        \"dtype\": \"number\",\n        \"std\": 44,\n        \"min\": 0,\n        \"max\": 276,\n        \"num_unique_values\": 205,\n        \"samples\": [\n          178,\n          72,\n          161\n        ],\n        \"semantic_type\": \"\",\n        \"description\": \"\"\n      }\n    },\n    {\n      \"column\": \"Demand_FF\",\n      \"properties\": {\n        \"dtype\": \"number\",\n        \"std\": 19,\n        \"min\": 0,\n        \"max\": 115,\n        \"num_unique_values\": 106,\n        \"samples\": [\n          100,\n          19,\n          38\n        ],\n        \"semantic_type\": \"\",\n        \"description\": \"\"\n      }\n    }\n  ]\n}"
            }
          },
          "metadata": {}
        }
      ],
      "source": [
        "# read the data from an Excel file\n",
        "df = pd.read_csv(\"BlueSky_Demand_Data.csv\", index_col = 0)\n",
        "display(df)"
      ]
    },
    {
      "cell_type": "markdown",
      "metadata": {
        "id": "jhu-fIUFltho"
      },
      "source": [
        "# Q1\n",
        "## Calculate the mean and standard deviation of demands"
      ]
    },
    {
      "cell_type": "code",
      "execution_count": 5,
      "metadata": {
        "colab": {
          "base_uri": "https://localhost:8080/"
        },
        "id": "emmeRKhaltho",
        "outputId": "271e9982-a1d1-477a-baf0-d325c67a4e1c"
      },
      "outputs": [
        {
          "output_type": "stream",
          "name": "stdout",
          "text": [
            "The mean SS demand is 129.55 and stdev for SS demand 44.67\n",
            "The mean FF demand is 55.43 and stdev for FF demand 19.94\n"
          ]
        }
      ],
      "source": [
        "# set up the demands equal to the mean of the distribution\n",
        "mean_SS = np.mean(df[\"Demand_SS\"])\n",
        "mean_FF = np.mean(df[\"Demand_FF\"])\n",
        "\n",
        "# set up the demands equal to the mean of the distribution\n",
        "std_SS = np.std(df[\"Demand_SS\"])\n",
        "std_FF = np.std(df[\"Demand_FF\"])\n",
        "\n",
        "# print the results\n",
        "print(f\"The mean SS demand is {mean_SS:.2f} and stdev for SS demand {std_SS:,.2f}\")\n",
        "print(f\"The mean FF demand is {mean_FF:.2f} and stdev for FF demand {std_FF:,.2f}\")"
      ]
    },
    {
      "cell_type": "markdown",
      "metadata": {
        "id": "C6sRnapElthp"
      },
      "source": [
        "## Scatter plot of demands"
      ]
    },
    {
      "cell_type": "code",
      "execution_count": null,
      "metadata": {
        "id": "_e2rECFOlthp",
        "outputId": "3dfaef07-6414-480b-da9e-40639d5a7759"
      },
      "outputs": [
        {
          "data": {
            "image/png": "[encoded data removed]",
            "text/plain": [
              "<Figure size 600x400 with 1 Axes>"
            ]
          },
          "metadata": {},
          "output_type": "display_data"
        }
      ],
      "source": [
        "# Scatter plot of price and demand\n",
        "plt.figure(figsize=(6,4))\n",
        "plt.scatter(x=df[\"Demand_SS\"], y=df[\"Demand_FF\"], marker='.', s=200, alpha=0.5)\n",
        "plt.xlabel(\"SS Demand\", fontsize=14)\n",
        "plt.ylabel(\"FF Demand\", fontsize=14)\n",
        "plt.yticks(fontsize=12)\n",
        "plt.xticks(fontsize=12)\n",
        "plt.show()"
      ]
    },
    {
      "cell_type": "markdown",
      "metadata": {
        "id": "NBgS6LBalthp"
      },
      "source": [
        "Clearly, the demands are positively correlated. We can even calculate the correlation coefficient:"
      ]
    },
    {
      "cell_type": "code",
      "execution_count": null,
      "metadata": {
        "id": "ZiVLxWxllthq",
        "outputId": "ee014e1a-b8f6-4a36-a8b2-30a4c1875575"
      },
      "outputs": [
        {
          "name": "stdout",
          "output_type": "stream",
          "text": [
            "The correlation coefficient: 0.57\n"
          ]
        }
      ],
      "source": [
        "# calculate and print the correlation coefficient\n",
        "print(f'The correlation coefficient: {df[\"Demand_FF\"].corr(df[\"Demand_SS\"]):.2f}')"
      ]
    },
    {
      "cell_type": "markdown",
      "metadata": {
        "id": "YdBGU1tflthr"
      },
      "source": [
        "# Q2"
      ]
    },
    {
      "cell_type": "markdown",
      "metadata": {
        "id": "KDIrUpGwlthr"
      },
      "source": [
        "We define a function to calculate the revenue below. There are a few steps:\n",
        " 1. We first calculate the sales (i.e., the number of bookings) for each fare class. The bookings for SS cannot exceed the **booking limit for SS**, so the expression for these is:<br>\n",
        "  $\\mbox{Sales SS} = \\min(\\mbox{Demand SS}, \\mbox{Booking Limit SS})$\n",
        " 2. In view of this, the number of seats that remain available for FF is exactly:<br>\n",
        "  $\\mbox{Remaining seats for FF} = \\mbox{Plane Capacity} - \\mbox{Sales SS}$\n",
        " 3. Lastly, the bookings for FF cannot exceed the **remaining seats available for SS**, so the expression for these is:<br>\n",
        "  $\\mbox{Sales FF} = \\min(\\mbox{Demand FF}, \\mbox{Remaining seats for FF})$"
      ]
    },
    {
      "cell_type": "markdown",
      "metadata": {
        "id": "bgbSS-e_lthr"
      },
      "source": [
        "For our subsequent purposes, it is very helpful to define the function in as flexible of a manner as possible. In this sense, it is best to allow our function to take as arguments not just the two demand values, but also the other problem parameters (`Capacity`, `BookingLimit`, etc.) That is why below, we define a function with the following syntax:\n",
        "\n",
        " > `calculate_revenue(Demand_SS, Demand_FF, Capacity=200, Price_SS=350, Price_FF=850, Booking_Limit_SS=120)`\n",
        "\n",
        "where:\n",
        " - `Demand_SS` is the value of SS demand.\n",
        " - `Demand_FF` is the value of FF demand.\n",
        " - `Capacity` is the plane capacity; the syntax `Capacity=200` means that the default value of this argument is 200.<br>\n",
        "   _This means that we can omit the argument when calling the function, and if we omit it, it will take value 200 inside the function._\n",
        " - `Price_SS`, `Price_FF` are the SS and FF fares, respectively; by default, 350 and 850, respectively.\n",
        " - `Booking_Limit_SS` is the booking limit for SS fares; by default, 120.\n",
        "\n",
        "The function returns the revenue calculated under the corresponding parameters."
      ]
    },
    {
      "cell_type": "code",
      "execution_count": 6,
      "metadata": {
        "id": "XdowiWKblthr"
      },
      "outputs": [],
      "source": [
        "### A function that calculates revenue for a given full set of problem parameters\n",
        "def calculate_revenue(Demand_SS, Demand_FF, Capacity=200, Price_SS=350, Price_FF=850, \\\n",
        "                      Booking_Limit_SS=120):\n",
        "    # calculate the bookings (sales) in each category\n",
        "    Sales_SS = min(Demand_SS, Booking_Limit_SS)        # this formula assumes that Booking_Limit_SS <= Capacity, which should be the case for any sensible booking limit !\n",
        "    Sales_FF = min(Demand_FF, Capacity - Sales_SS)\n",
        "\n",
        "    # calculate the revenue\n",
        "    Revenues_SS = Sales_SS * Price_SS\n",
        "    Revenues_FF = Sales_FF * Price_FF\n",
        "    Revenue = Revenues_SS + Revenues_FF\n",
        "\n",
        "    # return the revenue\n",
        "    return Revenue"
      ]
    },
    {
      "cell_type": "markdown",
      "metadata": {
        "id": "ZrzhuTUllths"
      },
      "source": [
        "**Note that when calling the function above, we do not need to pass arguments that are set by _default_ such as `Capacity`, `Price_SS`, `Price_FF` or `BookingLimit`. If we omit such an argument, it will take the value specified in the definition of the function (e.g., the `Capacity` would be 200).**"
      ]
    },
    {
      "cell_type": "markdown",
      "metadata": {
        "id": "YDESnPdulths"
      },
      "source": [
        "Now let's evaluate the function when demands are equal to their means."
      ]
    },
    {
      "cell_type": "code",
      "execution_count": 10,
      "metadata": {
        "colab": {
          "base_uri": "https://localhost:8080/"
        },
        "id": "ksGkpfsGlths",
        "outputId": "7880dccf-dc91-4802-9a04-28c506d4862d"
      },
      "outputs": [
        {
          "output_type": "stream",
          "name": "stdout",
          "text": [
            "The revenue when demands equal their means is $89,116.35.\n"
          ]
        }
      ],
      "source": [
        "## Let's set the demands equal to their means\n",
        "revenue_Q2 = calculate_revenue(Demand_SS = np.mean(df[\"Demand_SS\"]), Demand_FF = np.mean(df[\"Demand_FF\"]))\n",
        "\n",
        "## Print the results\n",
        "print(f\"The revenue when demands equal their means is ${revenue_Q2:,.2f}.\")"
      ]
    },
    {
      "cell_type": "markdown",
      "metadata": {
        "id": "h9dwfJP0lths"
      },
      "source": [
        "Note how when calling the function, we only specify two arguments, for the demands. That is because all the other arguments can stay at their default values."
      ]
    },
    {
      "cell_type": "markdown",
      "metadata": {
        "id": "lMMtagj0lths"
      },
      "source": [
        "# Q3"
      ]
    },
    {
      "cell_type": "markdown",
      "metadata": {
        "id": "z1DoR5wxltht"
      },
      "source": [
        "Now we use the model from **Q2** to calculate the revenue for every historical sample of data.\n",
        "\n",
        "We use a for loop to go through the data and we show two ways to store the results: (i) in a numpy array and (i) in the dataframe itself (as another column)."
      ]
    },
    {
      "cell_type": "code",
      "execution_count": 11,
      "metadata": {
        "id": "CLM9KBMbltht"
      },
      "outputs": [],
      "source": [
        "## Initialize a numpy array of zeros where we will store the revenue calculation\n",
        "# the length is the number of rows in the dataframe\n",
        "revenue_values = np.zeros(len(df))"
      ]
    },
    {
      "cell_type": "markdown",
      "metadata": {
        "id": "Bz8mFx1Mltht"
      },
      "source": [
        "Next, we loop through the rows of the dataframe and calculate the revenue in each sample. We choose to loop with the index (which, conveniently, is 0, 1, ...)"
      ]
    },
    {
      "cell_type": "code",
      "execution_count": 23,
      "metadata": {
        "id": "Ont_r1QZltht"
      },
      "outputs": [],
      "source": [
        "## loop through every sample of data\n",
        "for sample in df.index:\n",
        "\n",
        "    ## calculate the revenue in that sample\n",
        "    revenue_val = calculate_revenue(Demand_SS = df.loc[sample, \"Demand_SS\"], Demand_FF = df.loc[sample, \"Demand_FF\"])\n",
        "\n",
        "    ## store the revenue in the numpy array\n",
        "    # Note that we can use 'sample' here because it takes values 0, 1, ... (exactly as the numeric index that we need to index in the array!)\n",
        "    revenue_values[sample] = revenue_val\n",
        "\n",
        "    ## we also store this in the dataframe itself - makes for nicer printing and plotting...\n",
        "    df.loc[sample, \"Revenue\"] = revenue_val"
      ]
    },
    {
      "cell_type": "markdown",
      "metadata": {
        "id": "4djQpAOdltht"
      },
      "source": [
        "Lastly, let's calculate and print the **mean revenue**."
      ]
    },
    {
      "cell_type": "code",
      "execution_count": null,
      "metadata": {
        "id": "pmE5OOjYlthu",
        "outputId": "2c34d059-c954-41b5-fcb7-bd97f11ec865"
      },
      "outputs": [
        {
          "name": "stdout",
          "output_type": "stream",
          "text": [
            "The mean revenue estimated from the samples is: 83,617.25.\n"
          ]
        }
      ],
      "source": [
        "print(f\"The mean revenue estimated from the samples is: {np.mean(revenue_values):,.2f}.\")"
      ]
    },
    {
      "cell_type": "markdown",
      "metadata": {
        "id": "0K5d8EfWlthu"
      },
      "source": [
        "You can also print a glimpse of the dataframe, which now includes the revenue calculations."
      ]
    },
    {
      "cell_type": "code",
      "execution_count": 22,
      "metadata": {
        "colab": {
          "base_uri": "https://localhost:8080/",
          "height": 363
        },
        "id": "G5_dm3Oblthu",
        "outputId": "508117dc-ace4-4c4d-d505-340dd6cd0f8f"
      },
      "outputs": [
        {
          "output_type": "execute_result",
          "data": {
            "text/plain": [
              "   Demand_SS  Demand_FF   Revenue\n",
              "0        170         63   95550.0\n",
              "1        137         45   80250.0\n",
              "2        188         83  110000.0\n",
              "3        123         21   59850.0\n",
              "4         21         38   39650.0\n",
              "5        160         79  109150.0\n",
              "6        151         60   93000.0\n",
              "7        100         26   57100.0\n",
              "8         98         68   92100.0\n",
              "9         72         33   53250.0"
            ],
            "text/html": [
              "\n",
              "  <div id=\"df-33b2fdd4-ca08-494e-8446-b350cfef92ed\" class=\"colab-df-container\">\n",
              "    <div>\n",
              "<style scoped>\n",
              "    .dataframe tbody tr th:only-of-type {\n",
              "        vertical-align: middle;\n",
              "    }\n",
              "\n",
              "    .dataframe tbody tr th {\n",
              "        vertical-align: top;\n",
              "    }\n",
              "\n",
              "    .dataframe thead th {\n",
              "        text-align: right;\n",
              "    }\n",
              "</style>\n",
              "<table border=\"1\" class=\"dataframe\">\n",
              "  <thead>\n",
              "    <tr style=\"text-align: right;\">\n",
              "      <th></th>\n",
              "      <th>Demand_SS</th>\n",
              "      <th>Demand_FF</th>\n",
              "      <th>Revenue</th>\n",
              "    </tr>\n",
              "  </thead>\n",
              "  <tbody>\n",
              "    <tr>\n",
              "      <th>0</th>\n",
              "      <td>170</td>\n",
              "      <td>63</td>\n",
              "      <td>95550.0</td>\n",
              "    </tr>\n",
              "    <tr>\n",
              "      <th>1</th>\n",
              "      <td>137</td>\n",
              "      <td>45</td>\n",
              "      <td>80250.0</td>\n",
              "    </tr>\n",
              "    <tr>\n",
              "      <th>2</th>\n",
              "      <td>188</td>\n",
              "      <td>83</td>\n",
              "      <td>110000.0</td>\n",
              "    </tr>\n",
              "    <tr>\n",
              "      <th>3</th>\n",
              "      <td>123</td>\n",
              "      <td>21</td>\n",
              "      <td>59850.0</td>\n",
              "    </tr>\n",
              "    <tr>\n",
              "      <th>4</th>\n",
              "      <td>21</td>\n",
              "      <td>38</td>\n",
              "      <td>39650.0</td>\n",
              "    </tr>\n",
              "    <tr>\n",
              "      <th>5</th>\n",
              "      <td>160</td>\n",
              "      <td>79</td>\n",
              "      <td>109150.0</td>\n",
              "    </tr>\n",
              "    <tr>\n",
              "      <th>6</th>\n",
              "      <td>151</td>\n",
              "      <td>60</td>\n",
              "      <td>93000.0</td>\n",
              "    </tr>\n",
              "    <tr>\n",
              "      <th>7</th>\n",
              "      <td>100</td>\n",
              "      <td>26</td>\n",
              "      <td>57100.0</td>\n",
              "    </tr>\n",
              "    <tr>\n",
              "      <th>8</th>\n",
              "      <td>98</td>\n",
              "      <td>68</td>\n",
              "      <td>92100.0</td>\n",
              "    </tr>\n",
              "    <tr>\n",
              "      <th>9</th>\n",
              "      <td>72</td>\n",
              "      <td>33</td>\n",
              "      <td>53250.0</td>\n",
              "    </tr>\n",
              "  </tbody>\n",
              "</table>\n",
              "</div>\n",
              "    <div class=\"colab-df-buttons\">\n",
              "\n",
              "  <div class=\"colab-df-container\">\n",
              "    <button class=\"colab-df-convert\" onclick=\"convertToInteractive('df-33b2fdd4-ca08-494e-8446-b350cfef92ed')\"\n",
              "            title=\"Convert this dataframe to an interactive table.\"\n",
              "            style=\"display:none;\">\n",
              "\n",
              "  <svg xmlns=\"http://www.w3.org/2000/svg\" height=\"24px\" viewBox=\"0 -960 960 960\">\n",
              "    <path d=\"M120-120v-720h720v720H120Zm60-500h600v-160H180v160Zm220 220h160v-160H400v160Zm0 220h160v-160H400v160ZM180-400h160v-160H180v160Zm440 0h160v-160H620v160ZM180-180h160v-160H180v160Zm440 0h160v-160H620v160Z\"/>\n",
              "  </svg>\n",
              "    </button>\n",
              "\n",
              "  <style>\n",
              "    .colab-df-container {\n",
              "      display:flex;\n",
              "      gap: 12px;\n",
              "    }\n",
              "\n",
              "    .colab-df-convert {\n",
              "      background-color: #E8F0FE;\n",
              "      border: none;\n",
              "      border-radius: 50%;\n",
              "      cursor: pointer;\n",
              "      display: none;\n",
              "      fill: #1967D2;\n",
              "      height: 32px;\n",
              "      padding: 0 0 0 0;\n",
              "      width: 32px;\n",
              "    }\n",
              "\n",
              "    .colab-df-convert:hover {\n",
              "      background-color: #E2EBFA;\n",
              "      box-shadow: 0px 1px 2px rgba(60, 64, 67, 0.3), 0px 1px 3px 1px rgba(60, 64, 67, 0.15);\n",
              "      fill: #174EA6;\n",
              "    }\n",
              "\n",
              "    .colab-df-buttons div {\n",
              "      margin-bottom: 4px;\n",
              "    }\n",
              "\n",
              "    [theme=dark] .colab-df-convert {\n",
              "      background-color: #3B4455;\n",
              "      fill: #D2E3FC;\n",
              "    }\n",
              "\n",
              "    [theme=dark] .colab-df-convert:hover {\n",
              "      background-color: #434B5C;\n",
              "      box-shadow: 0px 1px 3px 1px rgba(0, 0, 0, 0.15);\n",
              "      filter: drop-shadow(0px 1px 2px rgba(0, 0, 0, 0.3));\n",
              "      fill: #FFFFFF;\n",
              "    }\n",
              "  </style>\n",
              "\n",
              "    <script>\n",
              "      const buttonEl =\n",
              "        document.querySelector('#df-33b2fdd4-ca08-494e-8446-b350cfef92ed button.colab-df-convert');\n",
              "      buttonEl.style.display =\n",
              "        google.colab.kernel.accessAllowed ? 'block' : 'none';\n",
              "\n",
              "      async function convertToInteractive(key) {\n",
              "        const element = document.querySelector('#df-33b2fdd4-ca08-494e-8446-b350cfef92ed');\n",
              "        const dataTable =\n",
              "          await google.colab.kernel.invokeFunction('convertToInteractive',\n",
              "                                                    [key], {});\n",
              "        if (!dataTable) return;\n",
              "\n",
              "        const docLinkHtml = 'Like what you see? Visit the ' +\n",
              "          '<a target=\"_blank\" href=https://colab.research.google.com/notebooks/data_table.ipynb>data table notebook</a>'\n",
              "          + ' to learn more about interactive tables.';\n",
              "        element.innerHTML = '';\n",
              "        dataTable['output_type'] = 'display_data';\n",
              "        await google.colab.output.renderOutput(dataTable, element);\n",
              "        const docLink = document.createElement('div');\n",
              "        docLink.innerHTML = docLinkHtml;\n",
              "        element.appendChild(docLink);\n",
              "      }\n",
              "    </script>\n",
              "  </div>\n",
              "\n",
              "\n",
              "<div id=\"df-97b40945-0df6-4bbd-92f2-c980a46adf32\">\n",
              "  <button class=\"colab-df-quickchart\" onclick=\"quickchart('df-97b40945-0df6-4bbd-92f2-c980a46adf32')\"\n",
              "            title=\"Suggest charts\"\n",
              "            style=\"display:none;\">\n",
              "\n",
              "<svg xmlns=\"http://www.w3.org/2000/svg\" height=\"24px\"viewBox=\"0 0 24 24\"\n",
              "     width=\"24px\">\n",
              "    <g>\n",
              "        <path d=\"M19 3H5c-1.1 0-2 .9-2 2v14c0 1.1.9 2 2 2h14c1.1 0 2-.9 2-2V5c0-1.1-.9-2-2-2zM9 17H7v-7h2v7zm4 0h-2V7h2v10zm4 0h-2v-4h2v4z\"/>\n",
              "    </g>\n",
              "</svg>\n",
              "  </button>\n",
              "\n",
              "<style>\n",
              "  .colab-df-quickchart {\n",
              "      --bg-color: #E8F0FE;\n",
              "      --fill-color: #1967D2;\n",
              "      --hover-bg-color: #E2EBFA;\n",
              "      --hover-fill-color: #174EA6;\n",
              "      --disabled-fill-color: #AAA;\n",
              "      --disabled-bg-color: #DDD;\n",
              "  }\n",
              "\n",
              "  [theme=dark] .colab-df-quickchart {\n",
              "      --bg-color: #3B4455;\n",
              "      --fill-color: #D2E3FC;\n",
              "      --hover-bg-color: #434B5C;\n",
              "      --hover-fill-color: #FFFFFF;\n",
              "      --disabled-bg-color: #3B4455;\n",
              "      --disabled-fill-color: #666;\n",
              "  }\n",
              "\n",
              "  .colab-df-quickchart {\n",
              "    background-color: var(--bg-color);\n",
              "    border: none;\n",
              "    border-radius: 50%;\n",
              "    cursor: pointer;\n",
              "    display: none;\n",
              "    fill: var(--fill-color);\n",
              "    height: 32px;\n",
              "    padding: 0;\n",
              "    width: 32px;\n",
              "  }\n",
              "\n",
              "  .colab-df-quickchart:hover {\n",
              "    background-color: var(--hover-bg-color);\n",
              "    box-shadow: 0 1px 2px rgba(60, 64, 67, 0.3), 0 1px 3px 1px rgba(60, 64, 67, 0.15);\n",
              "    fill: var(--button-hover-fill-color);\n",
              "  }\n",
              "\n",
              "  .colab-df-quickchart-complete:disabled,\n",
              "  .colab-df-quickchart-complete:disabled:hover {\n",
              "    background-color: var(--disabled-bg-color);\n",
              "    fill: var(--disabled-fill-color);\n",
              "    box-shadow: none;\n",
              "  }\n",
              "\n",
              "  .colab-df-spinner {\n",
              "    border: 2px solid var(--fill-color);\n",
              "    border-color: transparent;\n",
              "    border-bottom-color: var(--fill-color);\n",
              "    animation:\n",
              "      spin 1s steps(1) infinite;\n",
              "  }\n",
              "\n",
              "  @keyframes spin {\n",
              "    0% {\n",
              "      border-color: transparent;\n",
              "      border-bottom-color: var(--fill-color);\n",
              "      border-left-color: var(--fill-color);\n",
              "    }\n",
              "    20% {\n",
              "      border-color: transparent;\n",
              "      border-left-color: var(--fill-color);\n",
              "      border-top-color: var(--fill-color);\n",
              "    }\n",
              "    30% {\n",
              "      border-color: transparent;\n",
              "      border-left-color: var(--fill-color);\n",
              "      border-top-color: var(--fill-color);\n",
              "      border-right-color: var(--fill-color);\n",
              "    }\n",
              "    40% {\n",
              "      border-color: transparent;\n",
              "      border-right-color: var(--fill-color);\n",
              "      border-top-color: var(--fill-color);\n",
              "    }\n",
              "    60% {\n",
              "      border-color: transparent;\n",
              "      border-right-color: var(--fill-color);\n",
              "    }\n",
              "    80% {\n",
              "      border-color: transparent;\n",
              "      border-right-color: var(--fill-color);\n",
              "      border-bottom-color: var(--fill-color);\n",
              "    }\n",
              "    90% {\n",
              "      border-color: transparent;\n",
              "      border-bottom-color: var(--fill-color);\n",
              "    }\n",
              "  }\n",
              "</style>\n",
              "\n",
              "  <script>\n",
              "    async function quickchart(key) {\n",
              "      const quickchartButtonEl =\n",
              "        document.querySelector('#' + key + ' button');\n",
              "      quickchartButtonEl.disabled = true;  // To prevent multiple clicks.\n",
              "      quickchartButtonEl.classList.add('colab-df-spinner');\n",
              "      try {\n",
              "        const charts = await google.colab.kernel.invokeFunction(\n",
              "            'suggestCharts', [key], {});\n",
              "      } catch (error) {\n",
              "        console.error('Error during call to suggestCharts:', error);\n",
              "      }\n",
              "      quickchartButtonEl.classList.remove('colab-df-spinner');\n",
              "      quickchartButtonEl.classList.add('colab-df-quickchart-complete');\n",
              "    }\n",
              "    (() => {\n",
              "      let quickchartButtonEl =\n",
              "        document.querySelector('#df-97b40945-0df6-4bbd-92f2-c980a46adf32 button');\n",
              "      quickchartButtonEl.style.display =\n",
              "        google.colab.kernel.accessAllowed ? 'block' : 'none';\n",
              "    })();\n",
              "  </script>\n",
              "</div>\n",
              "\n",
              "    </div>\n",
              "  </div>\n"
            ],
            "application/vnd.google.colaboratory.intrinsic+json": {
              "type": "dataframe",
              "variable_name": "df",
              "summary": "{\n  \"name\": \"df\",\n  \"rows\": 1000,\n  \"fields\": [\n    {\n      \"column\": \"Demand_SS\",\n      \"properties\": {\n        \"dtype\": \"number\",\n        \"std\": 44,\n        \"min\": 0,\n        \"max\": 276,\n        \"num_unique_values\": 205,\n        \"samples\": [\n          178,\n          72,\n          161\n        ],\n        \"semantic_type\": \"\",\n        \"description\": \"\"\n      }\n    },\n    {\n      \"column\": \"Demand_FF\",\n      \"properties\": {\n        \"dtype\": \"number\",\n        \"std\": 19,\n        \"min\": 0,\n        \"max\": 115,\n        \"num_unique_values\": 106,\n        \"samples\": [\n          100,\n          19,\n          38\n        ],\n        \"semantic_type\": \"\",\n        \"description\": \"\"\n      }\n    },\n    {\n      \"column\": \"Revenue\",\n      \"properties\": {\n        \"dtype\": \"number\",\n        \"std\": 20423.06003807507,\n        \"min\": 0.0,\n        \"max\": 117800.0,\n        \"num_unique_values\": 390,\n        \"samples\": [\n          53250.0,\n          68350.0,\n          98950.0\n        ],\n        \"semantic_type\": \"\",\n        \"description\": \"\"\n      }\n    }\n  ]\n}"
            }
          },
          "metadata": {},
          "execution_count": 22
        }
      ],
      "source": [
        "# print dataframe\n",
        "df.head(10)"
      ]
    },
    {
      "cell_type": "markdown",
      "metadata": {
        "id": "yleaVkHTlthu"
      },
      "source": [
        "# Q4\n",
        "The parameters from the case"
      ]
    },
    {
      "cell_type": "code",
      "execution_count": 26,
      "metadata": {
        "id": "nWSmj6y5lthu"
      },
      "outputs": [],
      "source": [
        "## The data on demand distributions\n",
        "mean_SS = 130\n",
        "stdev_SS = 45\n",
        "mean_FF = 55\n",
        "stdev_FF = 20"
      ]
    },
    {
      "cell_type": "markdown",
      "metadata": {
        "id": "C_c-SUHHlthv"
      },
      "source": [
        "We do a Monte-Carlo simulation where we generate the values of SS and FF demands, and then we calculate anything needed (e.g., revenue, number of SS customers turned away, etc.)"
      ]
    },
    {
      "cell_type": "markdown",
      "metadata": {
        "id": "A_vqJZ6Flthv"
      },
      "source": [
        "## Monte-Carlo simulation model"
      ]
    },
    {
      "cell_type": "markdown",
      "metadata": {
        "id": "LfXJy7f8lthv"
      },
      "source": [
        "We can store the demand samples and the calculations in any data structure: in lists, in numpy arrays, as columns in a dataframe. Below, we store them as numpy arrays because these are faster to work with."
      ]
    },
    {
      "cell_type": "code",
      "execution_count": 28,
      "metadata": {
        "colab": {
          "base_uri": "https://localhost:8080/",
          "height": 211
        },
        "id": "7sCm5HIelthv",
        "outputId": "45f6f4a4-23e1-4957-81f2-7e2f3298f80b"
      },
      "outputs": [
        {
          "output_type": "error",
          "ename": "NameError",
          "evalue": "name 'Sales_SS' is not defined",
          "traceback": [
            "\u001b[0;31m---------------------------------------------------------------------------\u001b[0m",
            "\u001b[0;31mNameError\u001b[0m                                 Traceback (most recent call last)",
            "\u001b[0;32m<ipython-input-28-8881f8a7745d>\u001b[0m in \u001b[0;36m<cell line: 14>\u001b[0;34m()\u001b[0m\n\u001b[1;32m     23\u001b[0m \u001b[0;34m\u001b[0m\u001b[0m\n\u001b[1;32m     24\u001b[0m     \u001b[0;31m# NEW FOR Q3: calculate the number of SS customers turned away\u001b[0m\u001b[0;34m\u001b[0m\u001b[0;34m\u001b[0m\u001b[0m\n\u001b[0;32m---> 25\u001b[0;31m     \u001b[0mSSTurnedAway\u001b[0m\u001b[0;34m[\u001b[0m\u001b[0mt\u001b[0m\u001b[0;34m]\u001b[0m \u001b[0;34m=\u001b[0m \u001b[0mDemand_SS\u001b[0m \u001b[0;34m-\u001b[0m \u001b[0mSales_SS\u001b[0m\u001b[0;34m\u001b[0m\u001b[0;34m\u001b[0m\u001b[0m\n\u001b[0m\u001b[1;32m     26\u001b[0m \u001b[0;34m\u001b[0m\u001b[0m\n\u001b[1;32m     27\u001b[0m     \u001b[0;31m# calculate the revenues\u001b[0m\u001b[0;34m\u001b[0m\u001b[0;34m\u001b[0m\u001b[0m\n",
            "\u001b[0;31mNameError\u001b[0m: name 'Sales_SS' is not defined"
          ]
        }
      ],
      "source": [
        "## set up the number of trials and the seed\n",
        "num_trials = 10000\n",
        "\n",
        "# set up a random number generator with seed 12345\n",
        "rng = np.random.default_rng(seed=12345)\n",
        "\n",
        "# set up a numpy array in which to store the values for the revenues (this could also be a regular python list)\n",
        "revenue_values = np.zeros(num_trials)\n",
        "\n",
        "# for Q4, we must also determine how many SS customers are turned away\n",
        "SS_turned_away = np.zeros(num_trials)\n",
        "\n",
        "### Run the simulation:\n",
        "for t in range(num_trials):\n",
        "\n",
        "    # generate values for the two demands\n",
        "    Demand_SS = rng.normal(mean_SS, stdev_SS)\n",
        "    Demand_FF = rng.normal(mean_FF, stdev_FF)\n",
        "\n",
        "    # calculate the revenue using the function\n",
        "\n",
        "\n",
        "\n",
        "    # NEW FOR Q3: calculate the number of SS customers turned away\n",
        "    SSTurnedAway[t] = Demand_SS - Sales_SS\n",
        "\n",
        "    # calculate the revenues\n",
        "    Revenues_SS = Sales_SS * ItineraryData[\"SS\"][\"Fare\"]\n",
        "    Revenues_FF = Sales_FF * ItineraryData[\"FF\"][\"Fare\"]\n",
        "    Revenue = Revenues_SS + Revenues_FF\n",
        "\n",
        "    # record the value for the revenue\n",
        "    RevenueValues[t] = Revenue"
      ]
    },
    {
      "cell_type": "code",
      "execution_count": null,
      "metadata": {
        "id": "PEIpbQEUlthv"
      },
      "outputs": [],
      "source": [
        "**IMPORTANT NOTE**"
      ]
    },
    {
      "cell_type": "code",
      "execution_count": null,
      "metadata": {
        "id": "HTyVhmOOlthv"
      },
      "outputs": [],
      "source": [
        "## generate the samples of SS demand and FF demand\n",
        "# NOTE: we generate these in one shot with the commands below\n",
        "# Alternatively, we could also generate these using a for loop\n",
        "# IMPORTANT! The values generated with these two methods will NOT be the same, even if we use the same seed!\n",
        "demand_SS_vals = rng.normal(mean_SS, stdev_SS, num_trials)\n",
        "demand_FF_vals = rng.normal(mean_FF, stdev_FF, num_trials)\n",
        "\n"
      ]
    },
    {
      "cell_type": "markdown",
      "metadata": {
        "id": "xRDk4rNalthv"
      },
      "source": [
        "## Generate the histogram of the revenues"
      ]
    },
    {
      "cell_type": "code",
      "execution_count": null,
      "metadata": {
        "id": "rHij7nMRlthv",
        "outputId": "fbf30070-336d-4088-e3f9-50d98c7f97f2"
      },
      "outputs": [
        {
          "data": {
            "image/png": "[encoded data removed]",
            "text/plain": [
              "<Figure size 640x480 with 1 Axes>"
            ]
          },
          "metadata": {},
          "output_type": "display_data"
        }
      ],
      "source": [
        "nbins = 50\n",
        "plt.hist(revenue_values, bins=nbins, color=\"darkred\", edgecolor=\"black\")\n",
        "plt.xlabel(\"Revenue Values ($)\")\n",
        "plt.ylabel(\"Number of occurences\")\n",
        "plt.title(f\"Revenue with booking limit {Booking_Limit_SS} and {nbins} bins\")\n",
        "plt.show()"
      ]
    },
    {
      "cell_type": "markdown",
      "metadata": {
        "id": "sPkF4-Dhlthw"
      },
      "source": [
        "## (i) Calculate Probability for Revenue\n",
        "\n",
        "First, let's store the threshold value 100K in a variable"
      ]
    },
    {
      "cell_type": "code",
      "execution_count": null,
      "metadata": {
        "id": "z25SNSV2lthw"
      },
      "outputs": [],
      "source": [
        "rev_threshold = 100000"
      ]
    },
    {
      "cell_type": "markdown",
      "metadata": {
        "id": "IlN4gWrPlth2"
      },
      "source": [
        "To calculate the probability that the revenue exceeds $100,000, we can loop through the numpy array `revenue_values` and use an **if** statement to determine the number of times this holds.\n",
        "\n",
        "A more elegant way is to use a list comprehension. For instance, here we create a list that contains 1 when the condition holds and 0 otherwise."
      ]
    },
    {
      "cell_type": "code",
      "execution_count": null,
      "metadata": {
        "id": "BRsfD7cllth2"
      },
      "outputs": [],
      "source": [
        "# a list with 1 or 0 depending on the condition\n",
        "does_revenue_exceed_100K = [1 if rev > rev_threshold else 0 for rev in revenue_values]"
      ]
    },
    {
      "cell_type": "markdown",
      "metadata": {
        "id": "o442DusYlth2"
      },
      "source": [
        "Then, we can easily estimate the probability, as follows (note that we display it as a %)"
      ]
    },
    {
      "cell_type": "code",
      "execution_count": null,
      "metadata": {
        "id": "iK8FipfClth2",
        "outputId": "eb21999a-141c-4522-ce6d-d79b727895bc"
      },
      "outputs": [
        {
          "name": "stdout",
          "output_type": "stream",
          "text": [
            "The estimated probability that revenue exceeds 100K is 23.40%\n"
          ]
        }
      ],
      "source": [
        "print(f\"The estimated probability that revenue exceeds 100K is {100*sum(does_revenue_exceed_100K)/len(does_revenue_exceed_100K):.2f}%\")"
      ]
    },
    {
      "cell_type": "markdown",
      "metadata": {
        "id": "XXxCFkIWlth2"
      },
      "source": [
        "The most elegant way here is to use `numpy`'s ability to deal with logical conditions.\n",
        "\n",
        "A condition like `x > 10` where `x` is a numpy array will return an array of `True/False` depending on whether the condition holds.\n",
        "\n",
        "Moreover, you can take the `sum` of the resulting array and numpy will convenient treat the `True` as 1 and the `False` as 0. This gives a very concise syntax:"
      ]
    },
    {
      "cell_type": "code",
      "execution_count": null,
      "metadata": {
        "id": "Sbrqjylmlth3",
        "outputId": "dbeb7fe4-a3ec-4bb3-9379-ab276b014252"
      },
      "outputs": [
        {
          "name": "stdout",
          "output_type": "stream",
          "text": [
            "The estimated probability that revenue exceeds 100K is 23.40%\n"
          ]
        }
      ],
      "source": [
        "# use numpy's functionality to directly estimate\n",
        "probability = np.sum(revenue_values > rev_threshold)/len(revenue_values)\n",
        "\n",
        "print(f\"The estimated probability that revenue exceeds 100K is {100*probability:.2f}%\")"
      ]
    },
    {
      "cell_type": "markdown",
      "metadata": {
        "id": "IkXbkV0wlth3"
      },
      "source": [
        "You are of course **not** expected to remember such things. And in case you need to look for options, you always have chatbots available. For instance, for this example, try prompting a chatbot with something like:<br>\n",
        " > _What is the most efficient way to calculate the number of instances where a conditon holds if the condition depends on the values of a numpy array?_"
      ]
    },
    {
      "cell_type": "markdown",
      "metadata": {
        "id": "egbEKSpLlth3"
      },
      "source": [
        "## (ii) Probability of turning SS customers away\n",
        "\n",
        "First, we must understand the event that is relevant here. \"Turning customers away\" means that the demand for SS fare is larger than the booking limit!\n",
        "\n",
        "So we just need to count the number of instances where there is true. We show you two ways, using `pandas` itself and also using `numpy`.\n",
        "\n",
        "First, let's use `pandas`. We can simply create another column in the dataframe that stores the samples when SS demand exceeded the booking limit."
      ]
    },
    {
      "cell_type": "code",
      "execution_count": null,
      "metadata": {
        "id": "H_7Beg5Blth3",
        "outputId": "1758efbc-7332-40e5-9233-9bcf39284f4f"
      },
      "outputs": [
        {
          "data": {
            "text/html": [
              "<div>\n",
              "<style scoped>\n",
              "    .dataframe tbody tr th:only-of-type {\n",
              "        vertical-align: middle;\n",
              "    }\n",
              "\n",
              "    .dataframe tbody tr th {\n",
              "        vertical-align: top;\n",
              "    }\n",
              "\n",
              "    .dataframe thead th {\n",
              "        text-align: right;\n",
              "    }\n",
              "</style>\n",
              "<table border=\"1\" class=\"dataframe\">\n",
              "  <thead>\n",
              "    <tr style=\"text-align: right;\">\n",
              "      <th></th>\n",
              "      <th>Demand_SS</th>\n",
              "      <th>Demand_FF</th>\n",
              "      <th>Revenue</th>\n",
              "      <th>Are_SS_Customers_Turned_Away?</th>\n",
              "    </tr>\n",
              "  </thead>\n",
              "  <tbody>\n",
              "    <tr>\n",
              "      <th>0</th>\n",
              "      <td>170</td>\n",
              "      <td>63</td>\n",
              "      <td>95550.0</td>\n",
              "      <td>True</td>\n",
              "    </tr>\n",
              "    <tr>\n",
              "      <th>1</th>\n",
              "      <td>137</td>\n",
              "      <td>45</td>\n",
              "      <td>80250.0</td>\n",
              "      <td>True</td>\n",
              "    </tr>\n",
              "    <tr>\n",
              "      <th>2</th>\n",
              "      <td>188</td>\n",
              "      <td>83</td>\n",
              "      <td>110000.0</td>\n",
              "      <td>True</td>\n",
              "    </tr>\n",
              "    <tr>\n",
              "      <th>3</th>\n",
              "      <td>123</td>\n",
              "      <td>21</td>\n",
              "      <td>59850.0</td>\n",
              "      <td>True</td>\n",
              "    </tr>\n",
              "    <tr>\n",
              "      <th>4</th>\n",
              "      <td>21</td>\n",
              "      <td>38</td>\n",
              "      <td>39650.0</td>\n",
              "      <td>False</td>\n",
              "    </tr>\n",
              "    <tr>\n",
              "      <th>5</th>\n",
              "      <td>160</td>\n",
              "      <td>79</td>\n",
              "      <td>109150.0</td>\n",
              "      <td>True</td>\n",
              "    </tr>\n",
              "  </tbody>\n",
              "</table>\n",
              "</div>"
            ],
            "text/plain": [
              "   Demand_SS  Demand_FF   Revenue  Are_SS_Customers_Turned_Away?\n",
              "0        170         63   95550.0                           True\n",
              "1        137         45   80250.0                           True\n",
              "2        188         83  110000.0                           True\n",
              "3        123         21   59850.0                           True\n",
              "4         21         38   39650.0                          False\n",
              "5        160         79  109150.0                           True"
            ]
          },
          "metadata": {},
          "output_type": "display_data"
        },
        {
          "name": "stdout",
          "output_type": "stream",
          "text": [
            "The estimated probability that SS customers are turned away is 57.90%\n"
          ]
        }
      ],
      "source": [
        "## calculate a new column in pandas\n",
        "df[\"Are_SS_Customers_Turned_Away?\"] = (df[\"Demand_SS\"] > Booking_Limit_SS)\n",
        "\n",
        "## Display a few samples to check\n",
        "display(df.head(6))\n",
        "\n",
        "## Calculate the probability\n",
        "print(f'The estimated probability that SS customers are turned away is {100*np.sum(df[\"Are_SS_Customers_Turned_Away?\"])/len(df):.2f}%')"
      ]
    },
    {
      "cell_type": "markdown",
      "metadata": {
        "id": "KTBClnsdlth3"
      },
      "source": [
        "We can of course also use numpy."
      ]
    },
    {
      "cell_type": "code",
      "execution_count": null,
      "metadata": {
        "id": "bKq2tBeXlth3",
        "outputId": "1ee1fa47-eea4-449e-c8f3-4589e3cde7aa"
      },
      "outputs": [
        {
          "name": "stdout",
          "output_type": "stream",
          "text": [
            "The estimated probability that SS customers are turned away is 57.90%\n"
          ]
        }
      ],
      "source": [
        "## Get the SS demands in a numpy array\n",
        "all_SS_demands = np.array(df[\"Demand_SS\"])\n",
        "\n",
        "## Calculate the probability\n",
        "print(f'The estimated probability that SS customers are turned away is {100*np.sum(all_SS_demands > Booking_Limit_SS)/len(all_SS_demands):.2f}%')"
      ]
    },
    {
      "cell_type": "markdown",
      "metadata": {
        "id": "8R7phmOdlth4"
      },
      "source": [
        "# Q5\n",
        "To calculate the optimal booking limit, we will test all the values of the booking limit from 0 to the airplane capacity and for every such value, we will calculate the **mean** revenue.\n",
        "\n",
        "Recall that to calculate the mean revenue, we were looping through all the demand values and using our function to determine the revenue for a given demand.\n",
        "\n",
        "Here, we would like to change **two** things:\n",
        " - we want an outer `for` loop that presumably would change the booking limit (which used to be stored in the `Booking_Limit_SS` variable)\n",
        " - we also want an inner `for` loop that (for a given booking limit) calculates the mean revenue by looping through the samples. Here, we could potentially use the function we wrote in **Q2**, which achieves this."
      ]
    },
    {
      "cell_type": "markdown",
      "metadata": {
        "id": "8P1y0FjWlth4"
      },
      "source": [
        "## Brute-Force Approach"
      ]
    },
    {
      "cell_type": "markdown",
      "metadata": {
        "id": "Yq-w2anLlth4"
      },
      "source": [
        "We first show a very \"brute-force\" approach that uses the function that we wrote in **Q2** to implement this.\n",
        "\n",
        "Set up the values to test for the booking limit: all the integers from 0 to Capacity."
      ]
    },
    {
      "cell_type": "code",
      "execution_count": null,
      "metadata": {
        "id": "XG_zN_bVlth4"
      },
      "outputs": [],
      "source": [
        "## values to test for the booking limit\n",
        "booking_limit_values = np.arange(0,Capacity+1,1)"
      ]
    },
    {
      "cell_type": "markdown",
      "metadata": {
        "id": "Gq_w8_wglth4"
      },
      "source": [
        "Set up a numpy array to store the value of the **mean revenue** for each booking limit"
      ]
    },
    {
      "cell_type": "code",
      "execution_count": null,
      "metadata": {
        "id": "S7rscK1Blth4"
      },
      "outputs": [],
      "source": [
        "## set up numpy array to store the values for mean revenue\n",
        "mean_revenue_values = np.zeros(len(booking_limit_values))"
      ]
    },
    {
      "cell_type": "markdown",
      "metadata": {
        "id": "B1s-akUClth4"
      },
      "source": [
        "Now, let's do the outer for loop and use the function from **Q3**. The critical thing to note is that our function from **Q2** only takes the demand values as arguments, and uses the global variable `Booking_Limit_SS` for the booking limit. In our calculation here, we also want to change the booking limit! So <font color=red>**to use the function in Q2, we are forced to change the global variable `Booking_Limit_SS`!**</font> Note that this is done in the code below!"
      ]
    },
    {
      "cell_type": "code",
      "execution_count": null,
      "metadata": {
        "id": "qgD4cvEGlth5",
        "outputId": "97a726a6-9089-4852-f8da-7666438b0675"
      },
      "outputs": [
        {
          "name": "stdout",
          "output_type": "stream",
          "text": [
            "The optimal revenue is: 84,352.75\n",
            "The optimal booking limit is: 132.00\n"
          ]
        }
      ],
      "source": [
        "## Outer for loop that tests different values for the booking limit\n",
        "for i in range(len(booking_limit_values)):\n",
        "\n",
        "    ## Call the function that calculates the revenue values for all demand samples,\n",
        "    # but with a different booking limit!\n",
        "\n",
        "    ## calculate the revenue in that sample\n",
        "    all_revenue_vals = calculate_revenues(Demand_SS = df.loc[sample, \"Demand_SS\"], Demand_FF = df.loc[sample, \"Demand_FF\"])\n",
        "\n",
        "        ## store the revenue in the numpy array\n",
        "        # Note that we can use 'sample' here because it takes values 0, 1, ... (exactly as the numeric index that we need to index in the array!)\n",
        "        revenue_values[sample] = revenue_val\n",
        "\n",
        "        ## we also store this in the dataframe itself - makes for nicer printing and plotting...\n",
        "        df.loc[sample, \"Revenue\"] = revenue_val\n",
        "\n",
        "    ## Calculate and store the mean revenue in the numpy array\n",
        "    mean_revenue_values[i] = np.mean(revenue_values)\n",
        "\n",
        "## Finally, we can calculate the optimal (i.e., maximum) mean revenue and the optimal booking limit value (that maximizes the mean revenue)\n",
        "optimal_revenue = np.max(mean_revenue_values)\n",
        "optimal_booking_limit = booking_limit_values[np.argmax(mean_revenue_values)]\n",
        "\n",
        "print(f\"The optimal revenue is: {optimal_revenue:,.2f}\")\n",
        "print(f\"The optimal booking limit is: {optimal_booking_limit:.2f}\")"
      ]
    },
    {
      "cell_type": "markdown",
      "metadata": {
        "id": "topEaI6glth5"
      },
      "source": [
        "## A Smarter Approach and More Functions\n",
        "The previous \"brute force\" approach suffers from several serious shortcomings, which we'll try to address here."
      ]
    },
    {
      "cell_type": "markdown",
      "metadata": {
        "id": "cH39Xuv5lth5"
      },
      "source": [
        "<font color=red>**Issue #1:**</font> If you ran the code above, you probably noticed that **it took quite a bit of time to run**! The reason is that we effectively have a double `for` loop: the outer loop has 201 steps (values from 0 to 200, inclusive) and in each step, we loop through the 1000 rows of the dataframe to get the mean revenue. So the number of times we are calculating revenues is $200 \\cdot 1000$! If instead, we had 10,000 samples or 100,000 samples, this would be completely unreasonable!\n",
        "\n",
        "To resolve this, we could adopt the following approach:\n",
        "  - first consider fewer values for the booking limit by discretizing with larger step sizes.\n",
        "  - identify where the maximum value occurs\n",
        "  - consider the two proximal values to the maximum among the initial test values and rediscretize in that range with a smaller step\n",
        "  - repeat as needed this until you achieve the desired precision.\n",
        "\n",
        "_For instance, we could start with values from 0 to 200 in increments of 20. Suppose the maximum occurs at a booking limit of 60. We would consider the range 40 to 80 (the closest values to the maximum from the ones we tested initially) and discretize in increments of 1. (If that is too wide of a range, we could use a large step size and repeat again.)_\n",
        "\n",
        "**The major caveat with this new method is that it is <font color=red>not guaranteed to find the global optimal solution</font> (i.e., the best solution among all possible ones). That is only the case in some models that have \"good structure\" and we will talk more about these during our class; but for now, let me just say that our model does have this structure, so we can apply this method! You will see how it cuts down the time substantially below!**"
      ]
    },
    {
      "cell_type": "markdown",
      "metadata": {
        "id": "8WOknMJilth5"
      },
      "source": [
        "<font color=red>**Issue #1:**</font> Because the code above changes the value of the global variable `Booking_Limit_SS` itself, it could be problematic. For instance, if we ever needed its original value (from **Q1**) later or if we ever went back to an earlier section like **Q1** or **Q2** and re-ran the code there, we may get unintended/wrong results! To address this, we could **define a new function to replace the one in Q2** that takes **three** arguments: **Demand_SS**, **Demand_FF**, and the **Booking_Limit_SS**. That way, we would not need to change the global variable."
      ]
    },
    {
      "cell_type": "markdown",
      "metadata": {
        "id": "myOZxbntlth5"
      },
      "source": [
        "<font color=red>**Issue #3:**</font> The code is quite repetitive: we copied over the code from **Q3** that calculates the mean revenue and instead, it might be preferable to define a function that calculates the mean revenue."
      ]
    },
    {
      "cell_type": "markdown",
      "metadata": {
        "id": "ADevE75blth5"
      },
      "source": [
        "To address issues 2-3, let us first define a function like the one in **Q2**, except that it takes one extra argument for the booking limit."
      ]
    },
    {
      "cell_type": "code",
      "execution_count": null,
      "metadata": {
        "id": "fcosJcwdlth5"
      },
      "outputs": [],
      "source": [
        "def calculate_revenues_by_sample(Demand_SS, Demand_FF, Booking_Limit_SS):\n",
        "    ## Calculate the bookings (sales) in each category\n",
        "    Sales_SS = min(Demand_SS, Booking_Limit_SS)        # this formula assumes that Booking_Limit_SS <= Capacity, which should be the case for any sensible booking limit !\n",
        "    Sales_FF = min(Demand_FF, Capacity - Sales_SS)\n",
        "\n",
        "    ## Calculate the revenues\n",
        "    Revenues_SS = Sales_SS * Price_SS\n",
        "    Revenues_FF = Sales_FF * Price_FF\n",
        "    Revenue = Revenues_SS + Revenues_FF\n",
        "\n",
        "    return Revenue"
      ]
    },
    {
      "cell_type": "markdown",
      "metadata": {
        "id": "8HKBF47klth5"
      },
      "source": [
        "Note that when defining the function, we used exactly the same variable name `Booking_Limit_SS` as for the global variable. But when changing the value used in the call of the function, we can test whatever booking limit we want. Moreover, doing this also allows us to reuse the code that we wrote earlier with no changes! :-)\n",
        "\n",
        "Now let's define a function that takes as input a value for the booking limit, and calculates the **mean revenue** corresponding to that booking limit."
      ]
    },
    {
      "cell_type": "code",
      "execution_count": null,
      "metadata": {
        "id": "jb2wY8Itlth6"
      },
      "outputs": [],
      "source": [
        "### define a new function that calculates the **mean revenue** for a given booking limit\n",
        "def calculate_mean_revenue(Booking_Limit_SS):   # <--- again, same name for the global variable here, so we can reuse code...\n",
        "\n",
        "    # numpy array to store the revenues in each sample\n",
        "    revenue_values = np.zeros(len(df))\n",
        "\n",
        "    # loop through every sample of data\n",
        "    for sample in df.index:\n",
        "\n",
        "        # calculate the revenue in that sample\n",
        "        # Note that we use the new function and we pass the third argument\n",
        "        # Also, we have to do `Booking_Limit_SS=Booking_Limit_SS` because we cannot use a positional argument after keyword arguments !!! We would get errors otherwise!\n",
        "        revenue_val = calculate_revenues_by_sample(Demand_SS = df.loc[sample, \"Demand_SS\"], Demand_FF = df.loc[sample, \"Demand_FF\"], Booking_Limit_SS=Booking_Limit_SS)\n",
        "\n",
        "        # store the revenue in the numpy array\n",
        "        revenue_values[sample] = revenue_val\n",
        "\n",
        "    ## Calculate and return the mean revenue\n",
        "    return np.mean(revenue_values)"
      ]
    },
    {
      "cell_type": "markdown",
      "metadata": {
        "id": "zMiL10u3lth6"
      },
      "source": [
        "With this, we can now implement the procedure we described above to discretize with larger step sizes and then refine as needed.\n",
        "\n",
        "Let's start with a wide range of values (0 ... plane capacity) in increments of 20."
      ]
    },
    {
      "cell_type": "code",
      "execution_count": null,
      "metadata": {
        "id": "90Ul7ibAlth6"
      },
      "outputs": [],
      "source": [
        "## values to test for the booking limit\n",
        "step_size = 20\n",
        "booking_limit_values = np.arange(0, Capacity+step_size, step_size)"
      ]
    },
    {
      "cell_type": "markdown",
      "metadata": {
        "id": "NhCKm9jllth6"
      },
      "source": [
        "For loop to test the values above and determine the maximum. Note that we are using our new functions now."
      ]
    },
    {
      "cell_type": "code",
      "execution_count": null,
      "metadata": {
        "id": "U1h-zt0Rlth6",
        "outputId": "61c700d5-643d-47d6-e37e-70892f7dcf41"
      },
      "outputs": [
        {
          "name": "stdout",
          "output_type": "stream",
          "text": [
            "The optimal revenue is: 84,055.85\n",
            "The optimal booking limit is: 140.00\n"
          ]
        }
      ],
      "source": [
        "# set up numpy array to store values for mean revenue\n",
        "mean_revenue_values = np.zeros(len(booking_limit_values))\n",
        "\n",
        "# outer for loop that tests different values for the booking limit\n",
        "for i in range(len(booking_limit_values)):\n",
        "\n",
        "    # calculate and store the mean revenue in the numpy array\n",
        "    mean_revenue_values[i] = calculate_mean_revenue(booking_limit_values[i])\n",
        "\n",
        "# Finally, calculate the optimal mean revenue and the optimal booking limit value\n",
        "optimal_revenue = np.max(mean_revenue_values)\n",
        "optimal_booking_limit = booking_limit_values[np.argmax(mean_revenue_values)]\n",
        "\n",
        "print(f\"The optimal revenue is: {optimal_revenue:,.2f}\")\n",
        "print(f\"The optimal booking limit is: {optimal_booking_limit:.2f}\")"
      ]
    },
    {
      "cell_type": "markdown",
      "metadata": {
        "id": "HwXtFjYOlth6"
      },
      "source": [
        "Because the maximum is between 140-step_size (=120) and 140+step_size (=160), we can now test a smaller range from 120 to 160 in increments of 1."
      ]
    },
    {
      "cell_type": "code",
      "execution_count": null,
      "metadata": {
        "id": "5K60PiYTlth6",
        "outputId": "517412ed-8060-475c-a948-a956bb7935c7"
      },
      "outputs": [
        {
          "name": "stdout",
          "output_type": "stream",
          "text": [
            "The optimal revenue is: 84,352.75\n",
            "The optimal booking limit is: 132.00\n"
          ]
        }
      ],
      "source": [
        "# values to test for the booking limit\n",
        "booking_limit_values = np.arange(optimal_booking_limit - step_size, optimal_booking_limit + step_size + 1, 1)  # the variable step_size still has value 20 here...\n",
        "\n",
        "# set up numpy array to store values for mean revenue\n",
        "mean_revenue_values = np.zeros(len(booking_limit_values))\n",
        "\n",
        "# outer for loop that tests different values for the booking limit\n",
        "for i in range(len(booking_limit_values)):\n",
        "\n",
        "    # calculate and store the mean revenue in the numpy array\n",
        "    mean_revenue_values[i] = calculate_mean_revenue(booking_limit_values[i])\n",
        "\n",
        "# Finally, calculate the optimal mean revenue and the optimal booking limit value\n",
        "optimal_revenue = np.max(mean_revenue_values)\n",
        "optimal_booking_limit = booking_limit_values[np.argmax(mean_revenue_values)]\n",
        "\n",
        "print(f\"The optimal revenue is: {optimal_revenue:,.2f}\")\n",
        "print(f\"The optimal booking limit is: {optimal_booking_limit:.2f}\")"
      ]
    },
    {
      "cell_type": "markdown",
      "metadata": {
        "id": "DUCpsUYolth6"
      },
      "source": [
        "Of course, if you wanted to do a really neat job, you could even package the instructions above into another function (e.g., that takes as arguments the minimum and maximum of the range and the stepsize)!"
      ]
    },
    {
      "cell_type": "markdown",
      "metadata": {
        "id": "vk5dSINJlth7"
      },
      "source": [
        "# Q6"
      ]
    },
    {
      "cell_type": "code",
      "execution_count": null,
      "metadata": {
        "id": "wTdeIFshlth7"
      },
      "outputs": [],
      "source": [
        "# fraction who buy up: one third\n",
        "fraction_buyup = 1/3"
      ]
    },
    {
      "cell_type": "markdown",
      "metadata": {
        "id": "zUgyIqJzlth7"
      },
      "source": [
        "Change the function for revenue calculation in a sample to account for the new demand stream for FF"
      ]
    },
    {
      "cell_type": "code",
      "execution_count": null,
      "metadata": {
        "id": "WnExPUiilth7"
      },
      "outputs": [],
      "source": [
        "def calculate_revenues_by_sample_Q6(Demand_SS, Demand_FF, Booking_Limit_SS):\n",
        "\n",
        "    # Calculate the bookings (sales) in SS\n",
        "    Sales_SS = min(Demand_SS, Booking_Limit_SS)\n",
        "\n",
        "    # How many SS customers are turned away\n",
        "    turned_away = Demand_SS - Sales_SS\n",
        "    SS_buyup = fraction_buyup * turned_away  # HERE, we could round the value (to make it integer) if we wanted this to be a bit more realistic\n",
        "\n",
        "    # Sales of FF -- note that we include the new stream of SS customers\n",
        "    Sales_FF = min(Demand_FF + SS_buyup, Capacity - Sales_SS)\n",
        "\n",
        "    ## Calculate the revenues\n",
        "    Revenues_SS = Sales_SS * Price_SS\n",
        "    Revenues_FF = Sales_FF * Price_FF\n",
        "    Revenue = Revenues_SS + Revenues_FF\n",
        "\n",
        "    return Revenue"
      ]
    },
    {
      "cell_type": "markdown",
      "metadata": {
        "id": "BPX8UK8olth7"
      },
      "source": [
        "The other function in **Q5** also needs changing -- only to make sure it calls the function above."
      ]
    },
    {
      "cell_type": "code",
      "execution_count": null,
      "metadata": {
        "id": "LgVdxwDWlth7"
      },
      "outputs": [],
      "source": [
        "#  updated function -- mostly the same code except for calling the new `calculate_revenues_by_sample_Q6`\n",
        "def calculate_mean_revenue_Q6(Booking_Limit_SS):\n",
        "\n",
        "    # numpy array to store the revenues in each sample\n",
        "    revenue_values = np.zeros(len(df))\n",
        "\n",
        "    # loop through every sample of data\n",
        "    for sample in df.index:\n",
        "\n",
        "        # calculate the revenue in that sample  --- This is the main change from the earlier function; we call the Q6 function here\n",
        "        revenue_val = calculate_revenues_by_sample_Q6(Demand_SS = df.loc[sample, \"Demand_SS\"], Demand_FF = df.loc[sample, \"Demand_FF\"], Booking_Limit_SS=Booking_Limit_SS)\n",
        "\n",
        "        # store the revenue in the numpy array\n",
        "        revenue_values[sample] = revenue_val\n",
        "\n",
        "    ## Calculate and return the mean revenue\n",
        "    return np.mean(revenue_values)"
      ]
    },
    {
      "cell_type": "markdown",
      "metadata": {
        "id": "sIWYrx_Zlth7"
      },
      "source": [
        "Now, to avoid repeating that process like in **Q5**, let's also define a function that calculates the optimal booking limit and the optimal revenue by testing values in a specified range (min, max, step)."
      ]
    },
    {
      "cell_type": "code",
      "execution_count": null,
      "metadata": {
        "id": "jvKhPZQSlth7"
      },
      "outputs": [],
      "source": [
        "def get_optimal_booking_limit_and_revenue_for_range_of_booking_limits(min_booking_limit, max_booking_limit, step):\n",
        "    # values to test for the booking limit\n",
        "    booking_limit_values = np.arange(min_booking_limit, max_booking_limit + step, step)\n",
        "\n",
        "    # set up numpy array to store values for mean revenue\n",
        "    mean_revenue_values = np.zeros(len(booking_limit_values))\n",
        "\n",
        "    # outer for loop that tests different values for the booking limit\n",
        "    for i in range(len(booking_limit_values)):\n",
        "\n",
        "        # calculate and store the mean revenue in the numpy array\n",
        "        mean_revenue_values[i] = calculate_mean_revenue_Q6(booking_limit_values[i])  #  <---  Main change from the code in Q5 is here: we just call the Q6 function for mean revenue\n",
        "\n",
        "    # Finally, calculate the optimal mean revenue and the optimal booking limit value\n",
        "    optimal_revenue = np.max(mean_revenue_values)\n",
        "    optimal_booking_limit = booking_limit_values[np.argmax(mean_revenue_values)]\n",
        "\n",
        "    print(f\"The optimal revenue is: {optimal_revenue:,.2f}\")\n",
        "    print(f\"The optimal booking limit is: {optimal_booking_limit:.2f}\")"
      ]
    },
    {
      "cell_type": "markdown",
      "metadata": {
        "id": "SMhDGGlFlth7"
      },
      "source": [
        "Now let's just call the function."
      ]
    },
    {
      "cell_type": "code",
      "execution_count": null,
      "metadata": {
        "id": "-vzAL3IGlth8",
        "outputId": "2aa3f889-ec00-4eb6-dfee-13fe69052c88"
      },
      "outputs": [
        {
          "name": "stdout",
          "output_type": "stream",
          "text": [
            "The optimal revenue is: 88,231.48\n",
            "The optimal booking limit is: 100.00\n"
          ]
        }
      ],
      "source": [
        "get_optimal_booking_limit_and_revenue_for_range_of_booking_limits(0,200,20)"
      ]
    },
    {
      "cell_type": "code",
      "execution_count": null,
      "metadata": {
        "id": "rgwahuuslth8",
        "outputId": "03bb455a-42d2-41a5-db40-37176c79c8c1"
      },
      "outputs": [
        {
          "name": "stdout",
          "output_type": "stream",
          "text": [
            "The optimal revenue is: 88,297.13\n",
            "The optimal booking limit is: 93.00\n"
          ]
        }
      ],
      "source": [
        "get_optimal_booking_limit_and_revenue_for_range_of_booking_limits(80,120,1)"
      ]
    },
    {
      "cell_type": "code",
      "execution_count": null,
      "metadata": {
        "id": "rN08aGhclth8"
      },
      "outputs": [],
      "source": []
    }
  ],
  "metadata": {
    "kernelspec": {
      "display_name": "Python 3 (ipykernel)",
      "language": "python",
      "name": "python3"
    },
    "language_info": {
      "codemirror_mode": {
        "name": "ipython",
        "version": 3
      },
      "file_extension": ".py",
      "mimetype": "text/x-python",
      "name": "python",
      "nbconvert_exporter": "python",
      "pygments_lexer": "ipython3",
      "version": "3.11.8"
    },
    "colab": {
      "provenance": [],
      "include_colab_link": true
    }
  },
  "nbformat": 4,
  "nbformat_minor": 0
}