{
 "cells": [
  {
   "attachments": {},
   "cell_type": "markdown",
   "metadata": {
    "id": "-fF41kJzaTX_"
   },
   "source": [
    "# Introduction to Python - Class 2\n",
    "This notebook covers a few new topics that we will be using in our second class: \n",
    "  - Basic plotting\n",
    "  - The `numpy` library\n",
    "  - Creating very simple functions\n",
    "\n",
    "<font color=blue>For some sections below, we will give you suggestions in blue of what kind of prompts you may try with a chatbot to get it to accomplish that task. These prompts assume that the chatbot knows that you are looking for Python code. To achieve that, you could use a dedicated Python bot (for instance, I use Nicholas Barker's Python bot in ChatGPT-4o) or you could simply given the bot some context at the very start of the thread that tells it you need Python, e.g., _\"I need help with python coding and I will ask you several questions that all pertain to python_\".</font>\n",
    "\n"
   ]
  },
  {
   "cell_type": "markdown",
   "metadata": {
    "id": "JCg6gzoCaTYH"
   },
   "source": [
    "Let's start by reading in some data..."
   ]
  },
  {
   "cell_type": "code",
   "execution_count": 1,
   "metadata": {
    "cellView": "form",
    "colab": {
     "base_uri": "https://localhost:8080/",
     "height": 235
    },
    "id": "Sm_MzA6SaTYI",
    "outputId": "edaae62c-39fc-4697-f4c6-e81ed8c3c8ba"
   },
   "outputs": [
    {
     "data": {
      "text/html": [
       "<div>\n",
       "<style scoped>\n",
       "    .dataframe tbody tr th:only-of-type {\n",
       "        vertical-align: middle;\n",
       "    }\n",
       "\n",
       "    .dataframe tbody tr th {\n",
       "        vertical-align: top;\n",
       "    }\n",
       "\n",
       "    .dataframe thead th {\n",
       "        text-align: right;\n",
       "    }\n",
       "</style>\n",
       "<table border=\"1\" class=\"dataframe\">\n",
       "  <thead>\n",
       "    <tr style=\"text-align: right;\">\n",
       "      <th></th>\n",
       "      <th>Cost</th>\n",
       "      <th>Price</th>\n",
       "      <th>Demand</th>\n",
       "    </tr>\n",
       "    <tr>\n",
       "      <th>Sample</th>\n",
       "      <th></th>\n",
       "      <th></th>\n",
       "      <th></th>\n",
       "    </tr>\n",
       "  </thead>\n",
       "  <tbody>\n",
       "    <tr>\n",
       "      <th>1</th>\n",
       "      <td>2.20</td>\n",
       "      <td>9.68</td>\n",
       "      <td>266.19</td>\n",
       "    </tr>\n",
       "    <tr>\n",
       "      <th>2</th>\n",
       "      <td>3.00</td>\n",
       "      <td>11.15</td>\n",
       "      <td>210.50</td>\n",
       "    </tr>\n",
       "    <tr>\n",
       "      <th>3</th>\n",
       "      <td>1.91</td>\n",
       "      <td>9.50</td>\n",
       "      <td>270.98</td>\n",
       "    </tr>\n",
       "    <tr>\n",
       "      <th>4</th>\n",
       "      <td>1.45</td>\n",
       "      <td>9.31</td>\n",
       "      <td>279.79</td>\n",
       "    </tr>\n",
       "    <tr>\n",
       "      <th>5</th>\n",
       "      <td>1.21</td>\n",
       "      <td>10.27</td>\n",
       "      <td>235.30</td>\n",
       "    </tr>\n",
       "  </tbody>\n",
       "</table>\n",
       "</div>"
      ],
      "text/plain": [
       "        Cost  Price  Demand\n",
       "Sample                     \n",
       "1       2.20   9.68  266.19\n",
       "2       3.00  11.15  210.50\n",
       "3       1.91   9.50  270.98\n",
       "4       1.45   9.31  279.79\n",
       "5       1.21  10.27  235.30"
      ]
     },
     "execution_count": 1,
     "metadata": {},
     "output_type": "execute_result"
    }
   ],
   "source": [
    "import pandas as pd\n",
    "\n",
    "# Read the data from a file and have a quick look at the first 5 rows.\n",
    "df = pd.read_csv(\"market_data.csv\", index_col=0)\n",
    "\n",
    "# print first five rows\n",
    "df.head(5)"
   ]
  },
  {
   "cell_type": "markdown",
   "metadata": {},
   "source": [
    "This data contains three columns:\n",
    " - **Cost** : the cost for purchasing inputs.\n",
    " - **Price** : the price that the company charges for its products.\n",
    " - **Demand** : the demand for the company's products.\n",
    "\n",
    "Let's do some visualizations of this data."
   ]
  },
  {
   "cell_type": "markdown",
   "metadata": {
    "id": "72XcAof2aTYK"
   },
   "source": [
    "# Plotting\n",
    "Let's import a module that allows for very nice plotting: `matplotlib`. We also import a sub-package from `matplotlib` called `pyplot`."
   ]
  },
  {
   "cell_type": "code",
   "execution_count": 2,
   "metadata": {},
   "outputs": [],
   "source": [
    "# import packages for plotting\n",
    "import matplotlib as mpl\n",
    "import matplotlib.pyplot as plt"
   ]
  },
  {
   "cell_type": "markdown",
   "metadata": {},
   "source": [
    "_The matplotlib module gives you the functionality to create some very sophisticated and involved plots. We're not going to cover that in this class - we just want you to be able to create some basic plots to visualize your data and results. [This tutorial](https://matplotlib.org/users/pyplot_tutorial.html) gives a great introduction to other attributes of these simple plots and many other resources and tutorials can be found online._ <br>\n",
    "\n",
    "<font color=blue>Most importantly, **AI bots are very versed in plotting, so you should use them extensively!** If the plot is not exactly what you want, try iterating with the bot. Typically, with good prompting and a few iterations, you should get exactly what you need.</font>\n",
    "\n",
    "In OIT 248, we will be plotting mainly histograms, scatter plots, and line plots."
   ]
  },
  {
   "cell_type": "markdown",
   "metadata": {},
   "source": [
    "## Histograms\n",
    "Let's plot a **histogram** of the **cost**."
   ]
  },
  {
   "cell_type": "code",
   "execution_count": 3,
   "metadata": {},
   "outputs": [
    {
     "data": {
      "image/png": "[encoded data removed]",
      "text/plain": [
       "<Figure size 640x480 with 1 Axes>"
      ]
     },
     "metadata": {},
     "output_type": "display_data"
    }
   ],
   "source": [
    "# We can produce a simple histogram :\n",
    "plt.hist(df[\"Cost\"], bins=15) \n",
    "plt.show()"
   ]
  },
  {
   "cell_type": "markdown",
   "metadata": {},
   "source": [
    "<font color=blue>Try prompting a chatbot with something like: _\"Can you give me code that plots a histogram?\"_ If you have a more specific use case, like plotting a column of a dataframe or a list, you could also include that in the prompt.</font>\n",
    "\n",
    "Here is how you can label the x and y axes, add a title, and change the fonts."
   ]
  },
  {
   "cell_type": "code",
   "execution_count": 4,
   "metadata": {},
   "outputs": [
    {
     "data": {
      "image/png": "[encoded data removed]",
      "text/plain": [
       "<Figure size 640x480 with 1 Axes>"
      ]
     },
     "metadata": {},
     "output_type": "display_data"
    }
   ],
   "source": [
    "# Label the two axes\n",
    "plt.hist(df[\"Cost\"], bins=15) \n",
    "plt.ylabel(\"Count\")\n",
    "plt.xlabel(\"Cost\",fontsize=14)\n",
    "plt.title( \"Histogram of costs\",fontsize=16)\n",
    "plt.show()"
   ]
  },
  {
   "cell_type": "markdown",
   "metadata": {},
   "source": [
    "We can also change the number of 'bins' or bars in our graph, and change the color of the bars:"
   ]
  },
  {
   "cell_type": "code",
   "execution_count": 5,
   "metadata": {},
   "outputs": [
    {
     "data": {
      "image/png": "[encoded data removed]",
      "text/plain": [
       "<Figure size 640x480 with 1 Axes>"
      ]
     },
     "metadata": {},
     "output_type": "display_data"
    }
   ],
   "source": [
    "# Change bins, color the bars\n",
    "plt.hist(df[\"Cost\"], bins=20, color=\"darkred\", edgecolor=\"black\")\n",
    "plt.ylabel(\"Count\")\n",
    "plt.xlabel(\"Cost\",fontsize=14)\n",
    "plt.title( \"Histogram of costs\",fontsize=16)\n",
    "plt.show()"
   ]
  },
  {
   "cell_type": "markdown",
   "metadata": {},
   "source": [
    "<font color=blue>Try prompting a chatbot with something like: _\"How to change the label for the x-axis and y-axis or the title of the plot?_\" or \"_How to change the size of the fonts in a plot?_\"</font>"
   ]
  },
  {
   "cell_type": "markdown",
   "metadata": {},
   "source": [
    "## Scatter Plots\n",
    "Let's try a scatter plot showing how the **demand** depends on the **price**."
   ]
  },
  {
   "cell_type": "code",
   "execution_count": 6,
   "metadata": {},
   "outputs": [
    {
     "data": {
      "image/png": "[encoded data removed]",
      "text/plain": [
       "<Figure size 600x400 with 1 Axes>"
      ]
     },
     "metadata": {},
     "output_type": "display_data"
    }
   ],
   "source": [
    "# Scatter plot of price and demand\n",
    "plt.figure(figsize=(6,4)) \n",
    "plt.scatter(x=df[\"Price\"], y=df[\"Demand\"], marker='.', s=200, \\\n",
    "            alpha=0.5)\n",
    "plt.xlabel(\"Price for products\", fontsize=14)\n",
    "plt.ylabel(\"Demand for products\", fontsize=14)\n",
    "plt.yticks(fontsize=12)\n",
    "plt.xticks(fontsize=12)\n",
    "plt.show()"
   ]
  },
  {
   "cell_type": "markdown",
   "metadata": {},
   "source": [
    "The code above shows you a few more parameters and tricks:\n",
    " - `plt.figure` allows you to adjust the figure size\n",
    " - `marker` specifies what marker to use for the points ('.' is a circle)\n",
    " - `s` specifies the size of the marker\n",
    " - `alpha` makes the markers more or less visible\n",
    "Also note how we can change the fontsize for the x/y labels, or for the x/y ticks on the axes."
   ]
  },
  {
   "cell_type": "markdown",
   "metadata": {},
   "source": [
    "## Line Plot\n",
    "Let's now add a line plot showing a potential demand function. Suppose we use the demand function:<br>\n",
    " $\\mbox{Demand} = 600  - 35 \\cdot \\mbox{Price for cocoa powder} (\\$/\\mbox{pound})$\n",
    "\n",
    "First, we calculate the predicted demand from the equation."
   ]
  },
  {
   "cell_type": "code",
   "execution_count": 7,
   "metadata": {},
   "outputs": [],
   "source": [
    "# Calculate predicted demand\n",
    "y_predicted = [ 600 - 35 * price for price in df[\"Price\"] ]"
   ]
  },
  {
   "cell_type": "markdown",
   "metadata": {},
   "source": [
    "Note how above, we are looping with `price` through all the values in the column of prices! Python magic!\n",
    "\n",
    "Next, let's create the plot."
   ]
  },
  {
   "cell_type": "code",
   "execution_count": 8,
   "metadata": {},
   "outputs": [
    {
     "data": {
      "image/png": "[encoded data removed]",
      "text/plain": [
       "<Figure size 600x400 with 1 Axes>"
      ]
     },
     "metadata": {},
     "output_type": "display_data"
    }
   ],
   "source": [
    "# create a new figure\n",
    "plt.figure(figsize=(6,4)) \n",
    "\n",
    "# do the scatter plot first\n",
    "plt.scatter(x = df[\"Price\"], y = df[\"Demand\"],\\\n",
    "            marker = 'o', alpha = 0.5)   # scatter plot\n",
    "\n",
    "# then plot the fitted line\n",
    "plt.plot(df[\"Price\"],  y_predicted, color='red', linestyle='dashed', \\\n",
    "         linewidth=0.5, marker = 's', markersize = 5, alpha = 0.4 )\n",
    "\n",
    "# nice labels\n",
    "plt.title( \"A linear regression for the demand\")\n",
    "plt.xlabel(\"Price for products\", fontsize=12)\n",
    "plt.ylabel(\"Demand for products\", fontsize=12)\n",
    "plt.yticks(fontsize=12)\n",
    "plt.xticks(fontsize=12)\n",
    "\n",
    "# and even a legend\n",
    "plt.legend(['Real demand', 'Predicted demand'], fontsize = 12)\n",
    "plt.tight_layout()\n",
    "plt.show()"
   ]
  },
  {
   "cell_type": "markdown",
   "metadata": {},
   "source": [
    "Note how you can adjust many parameters for the line: \n",
    " - `color` : self-explanatory...\n",
    " - `linestyle` : dashed, solid, dotted\n",
    " - `linewidth` : how thick the line should be\n",
    " - `marker` : what marker to use (here, we use a square)\n",
    " - `markersize` : size of the market\n",
    " - `alpha` : visibility\n",
    "\n",
    "There are many more things you can adjust, but don't bother remembering these. AI Chatbots are the way to go!\n",
    "\n",
    "<font color=purple>**Note.** The line we plotted above is not quite the \"best fit\", but it is very close (we rounded the values!) Your D&D class will discuss a lot more about linear regression and related topics; in OSM, we will usually take such predictive models as given and proceed from there.</font>"
   ]
  },
  {
   "cell_type": "markdown",
   "metadata": {},
   "source": [
    "## Multiple Subplots"
   ]
  },
  {
   "cell_type": "markdown",
   "metadata": {},
   "source": [
    "If you ever need to, you can also do multiple subplots as part of the same figure. One way is to use the function `subplot(.)` within `pyplot`, with syntax:\n",
    " > `subplot(nrows,ncols,index)`\n",
    " - `nrows`: Number of rows in the subplot grid.\n",
    " - `ncols`: Number of columns in the subplot grid.\n",
    " - `index`: The position of the current plot in the grid (counting starts at 1, left to right, top to bottom).\n",
    "\n",
    "Here is an example, but you do not need to remember any of this (chat-bots are the way to go here!)"
   ]
  },
  {
   "cell_type": "code",
   "execution_count": 9,
   "metadata": {},
   "outputs": [
    {
     "data": {
      "image/png": "[encoded data removed]",
      "text/plain": [
       "<Figure size 1000x400 with 2 Axes>"
      ]
     },
     "metadata": {},
     "output_type": "display_data"
    }
   ],
   "source": [
    "# create a new figure\n",
    "plt.figure(figsize=(10,4)) \n",
    "\n",
    "# the histogram\n",
    "plt.subplot(1,2,1)     # <--- we are specifying 1 row, 2 columns, and selecting the first figure (i.e., the one on the left)\n",
    "plt.hist(df[\"Cost\"], bins=20)\n",
    "plt.yticks(fontsize=12)\n",
    "plt.xticks(fontsize=12)\n",
    "#plt.ylabel(\"Count\")\n",
    "plt.xlabel(\"Cost\")\n",
    "plt.title( \"Histogram of cost\",fontsize=14)\n",
    "\n",
    "# the scatter plot and the line plot\n",
    "plt.subplot(1,2,2)     # <--- same 1 row, 2 columns, and now selecting the second figure (i.e., the one on the right)\n",
    "\n",
    "# Calculate predicted demand\n",
    "intercept = 600\n",
    "slope = -35\n",
    "y_predicted = [ intercept + slope * price for price in df[\"Price\"] ]\n",
    "\n",
    "plt.scatter(x = df[\"Price\"], y = df[\"Demand\"],\\\n",
    "            marker = 'o', alpha = 0.5)   # scatter plot\n",
    "plt.plot(df[\"Price\"],  y_predicted, color='red', linestyle='dashed', \\\n",
    "         linewidth=0.5, marker = 's', markersize = 5, alpha = 0.4 )  # line plot\n",
    "\n",
    "# nice labels\n",
    "plt.xlabel(\"Price\", fontsize=12)\n",
    "plt.ylabel(\"Demand\", fontsize=12)\n",
    "plt.title( \"Scatter and fitted line plot\",fontsize=14)\n",
    "plt.yticks(fontsize=12)\n",
    "plt.xticks(fontsize=12)\n",
    "plt.legend(['Real demand', 'Predicted demand'], fontsize = 12)\n",
    "plt.tight_layout()\n",
    "plt.show()"
   ]
  },
  {
   "cell_type": "markdown",
   "metadata": {},
   "source": [
    "<font color=blue>Try prompting a chatbot with something like: _\"How can I create one figure that contains multiple subplots\"_ (you can be more specific if you know exactly how many or how many rows/columns you want)</font>"
   ]
  },
  {
   "cell_type": "markdown",
   "metadata": {},
   "source": [
    "# Numpy\n",
    "NumPy is a powerful Python library used for numerical computations. It provides support for large multi-dimensional arrays and matrices, along with a collection of mathematical functions to operate on these arrays. Although numpy's functionality can be replicated in principle with lists of lists, numpy is **a lot** faster than lists (about 50 times faster) and should always be used instead of lists for large-scale computations.\n",
    "\n",
    "Let's import this library."
   ]
  },
  {
   "cell_type": "code",
   "execution_count": 10,
   "metadata": {},
   "outputs": [],
   "source": [
    "# import the numpy library\n",
    "import numpy as np"
   ]
  },
  {
   "cell_type": "markdown",
   "metadata": {},
   "source": [
    "## Creating Arrays\n",
    "NumPy arrays can be created using the `array` function. Here's a basic example of creating an array from a list:"
   ]
  },
  {
   "cell_type": "code",
   "execution_count": 11,
   "metadata": {},
   "outputs": [
    {
     "name": "stdout",
     "output_type": "stream",
     "text": [
      "[1 2 3 4 5]\n"
     ]
    }
   ],
   "source": [
    "# Creating an array\n",
    "arr = np.array([1, 2, 3, 4, 5])\n",
    "print(arr)"
   ]
  },
  {
   "cell_type": "markdown",
   "metadata": {},
   "source": [
    "You can also create `numpy` arrays from other objects. From instance, from a `range` or a `dataframe`:"
   ]
  },
  {
   "cell_type": "code",
   "execution_count": 12,
   "metadata": {},
   "outputs": [
    {
     "name": "stdout",
     "output_type": "stream",
     "text": [
      "\n",
      "Here is an array from a range:\n",
      " [0 1 2 3 4]\n",
      "\n",
      "An array from a dataframe column\n",
      " [2.2  3.   1.91 1.45 1.21 1.72 1.08 1.98 0.5  1.78 1.75 2.34 1.25 1.89\n",
      " 1.24 0.6  2.2  1.59 0.5  1.28 1.6  2.67 2.68 2.36 0.5  0.62 1.56 2.69\n",
      " 0.74 2.81 0.85 2.21 2.21 2.25 2.18 0.88 1.39 2.57 2.23 1.3  2.91 3.\n",
      " 2.48 0.84 1.28 2.41 2.45 2.38 1.24 0.85 1.49 2.7  1.95 2.03 1.95 2.02\n",
      " 2.33 1.45 1.67 2.04 1.39 1.41 1.21 1.32 1.28 1.52 2.1  1.81 2.1  2.01\n",
      " 1.94 0.82 1.81 1.94 1.65 1.82 2.21 1.1  1.64 2.42 1.61 2.71 2.18 2.58\n",
      " 1.34 2.44 1.57 1.01 1.01 2.26 1.81 1.51 1.2  1.58 2.15 0.71 2.25 1.08\n",
      " 1.1  2.31]\n"
     ]
    }
   ],
   "source": [
    "# create array from range\n",
    "arr2 = np.array(range(5))\n",
    "print(\"\\nHere is an array from a range:\\n\", arr2)\n",
    "\n",
    "# create array from a dataframe column\n",
    "arr3 = np.array(df[\"Cost\"])\n",
    "print(\"\\nAn array from a dataframe column\\n\", arr3)"
   ]
  },
  {
   "cell_type": "markdown",
   "metadata": {},
   "source": [
    "A special function is worth mentioning here: `zeros` creates arrays initialized with the value 0.\n",
    "\n",
    "For instance, the next code creates a NumPy array called `New_arr` with a length of 100 and all elements are initialized to 0."
   ]
  },
  {
   "cell_type": "code",
   "execution_count": 13,
   "metadata": {},
   "outputs": [
    {
     "name": "stdout",
     "output_type": "stream",
     "text": [
      "[0. 0. 0. 0. 0. 0. 0. 0. 0. 0. 0. 0. 0. 0. 0. 0. 0. 0. 0. 0. 0. 0. 0. 0.\n",
      " 0. 0. 0. 0. 0. 0. 0. 0. 0. 0. 0. 0. 0. 0. 0. 0. 0. 0. 0. 0. 0. 0. 0. 0.\n",
      " 0. 0. 0. 0. 0. 0. 0. 0. 0. 0. 0. 0. 0. 0. 0. 0. 0. 0. 0. 0. 0. 0. 0. 0.\n",
      " 0. 0. 0. 0. 0. 0. 0. 0. 0. 0. 0. 0. 0. 0. 0. 0. 0. 0. 0. 0. 0. 0. 0. 0.\n",
      " 0. 0. 0. 0.]\n"
     ]
    }
   ],
   "source": [
    "# create array with zeros\n",
    "New_arr = np.zeros(100)\n",
    "\n",
    "# print it\n",
    "print(New_arr)"
   ]
  },
  {
   "cell_type": "markdown",
   "metadata": {},
   "source": [
    "## Indexing\n",
    "You can access elements of a NumPy array using indexing, similar to lists. Remember that indexing starts at 0."
   ]
  },
  {
   "cell_type": "code",
   "execution_count": 14,
   "metadata": {},
   "outputs": [
    {
     "name": "stdout",
     "output_type": "stream",
     "text": [
      "1\n",
      "3\n"
     ]
    }
   ],
   "source": [
    "# Accessing elements\n",
    "print(arr[0])  # First element\n",
    "print(arr[2])  # Third element"
   ]
  },
  {
   "cell_type": "markdown",
   "metadata": {},
   "source": [
    "## Slicing\n",
    "Slicing allows you to extract a portion of an array. The syntax is similar to Python lists: `arr[start:stop]`."
   ]
  },
  {
   "cell_type": "code",
   "execution_count": 15,
   "metadata": {},
   "outputs": [
    {
     "name": "stdout",
     "output_type": "stream",
     "text": [
      "[2 3 4]\n"
     ]
    }
   ],
   "source": [
    "# Slicing an array\n",
    "print(arr[1:4])  # Elements from index 1 to 3"
   ]
  },
  {
   "cell_type": "markdown",
   "metadata": {},
   "source": [
    "## Iterating\n",
    "You can iterate over numpy arrays using standard loops."
   ]
  },
  {
   "cell_type": "code",
   "execution_count": 16,
   "metadata": {},
   "outputs": [
    {
     "name": "stdout",
     "output_type": "stream",
     "text": [
      "1\n",
      "2\n",
      "3\n",
      "4\n",
      "5\n"
     ]
    }
   ],
   "source": [
    "# Iterating through an array\n",
    "for x in arr:\n",
    "    print(x)"
   ]
  },
  {
   "cell_type": "markdown",
   "metadata": {},
   "source": [
    "## Sorting\n",
    "Numpy provides a simple way to sort arrays using the `sort` function."
   ]
  },
  {
   "cell_type": "code",
   "execution_count": 17,
   "metadata": {},
   "outputs": [
    {
     "name": "stdout",
     "output_type": "stream",
     "text": [
      "[1 1 3 4 5]\n"
     ]
    }
   ],
   "source": [
    "# Sorting an array\n",
    "unsorted_arr = np.array([3, 1, 4, 1, 5])\n",
    "sorted_arr = np.sort(unsorted_arr)\n",
    "print(sorted_arr)"
   ]
  },
  {
   "cell_type": "markdown",
   "metadata": {},
   "source": [
    "## Max, Argmax, Min, and Argmin\n"
   ]
  },
  {
   "cell_type": "markdown",
   "metadata": {},
   "source": [
    "The `numpy` library provides the **functions** `numpy.min(), numpy.max(), numpy.argmin(), numpy.argmax()`, which allow you to find the minimum and maximum value and the location (i.e. index) of the minimum and maximum, respectively, in any object passed as argument. Here is an example where we apply these functions directly to a dataframe column:"
   ]
  },
  {
   "cell_type": "code",
   "execution_count": 18,
   "metadata": {},
   "outputs": [
    {
     "name": "stdout",
     "output_type": "stream",
     "text": [
      "Maximum value in column Cost is 3.0 and it is found at index 1.\n",
      "Maximum value in column Cost is 0.5 and it is found at index 8.\n"
     ]
    }
   ],
   "source": [
    "# calculate the max, min, argmax, argmin directly for a DataFrame column\n",
    "column_name = \"Cost\"\n",
    "print(f\"Maximum value in column {column_name} is {np.max(df[column_name])} and it is found at index {np.argmax(df[column_name])}.\")\n",
    "print(f\"Maximum value in column {column_name} is {np.min(df[column_name])} and it is found at index {np.argmin(df[column_name])}.\")"
   ]
  },
  {
   "cell_type": "markdown",
   "metadata": {},
   "source": [
    "These are very versatile functions: you can also apply these to a list or any other object whose elements can be sorted and compared. \n",
    "\n",
    "Here is an example with a list:"
   ]
  },
  {
   "cell_type": "code",
   "execution_count": 19,
   "metadata": {},
   "outputs": [
    {
     "data": {
      "text/plain": [
       "5"
      ]
     },
     "execution_count": 19,
     "metadata": {},
     "output_type": "execute_result"
    }
   ],
   "source": [
    "np.max([2, 4, 5, 1])"
   ]
  },
  {
   "cell_type": "code",
   "execution_count": 20,
   "metadata": {},
   "outputs": [
    {
     "data": {
      "text/plain": [
       "2"
      ]
     },
     "execution_count": 20,
     "metadata": {},
     "output_type": "execute_result"
    }
   ],
   "source": [
    "np.argmax([2, 4, 5, 1])"
   ]
  },
  {
   "cell_type": "markdown",
   "metadata": {},
   "source": [
    "<font color=blue>Try prompting a chatbot with something like: _\"How can I find the maximum in a numpy array?\"_ or _\"How can I find the location of a maximum in a numpy array?\"_</font>"
   ]
  },
  {
   "cell_type": "markdown",
   "metadata": {},
   "source": [
    "## Logical Conditions\n",
    "Numpy is very powerful at determining when a logical condition holds. You can simply use a logical condition involving the array and you will get another array with `True/False` depending on whether the condition holds for each element of the array.\n",
    "\n",
    "For instance, let's determine whether the cost exceeds 2."
   ]
  },
  {
   "cell_type": "code",
   "execution_count": 21,
   "metadata": {},
   "outputs": [
    {
     "name": "stdout",
     "output_type": "stream",
     "text": [
      "Sample\n",
      "1      2.20\n",
      "2      3.00\n",
      "3      1.91\n",
      "4      1.45\n",
      "5      1.21\n",
      "       ... \n",
      "96     0.71\n",
      "97     2.25\n",
      "98     1.08\n",
      "99     1.10\n",
      "100    2.31\n",
      "Name: Cost, Length: 100, dtype: float64\n",
      "Sample\n",
      "1       True\n",
      "2       True\n",
      "3      False\n",
      "4      False\n",
      "5      False\n",
      "       ...  \n",
      "96     False\n",
      "97      True\n",
      "98     False\n",
      "99     False\n",
      "100     True\n",
      "Name: Cost, Length: 100, dtype: bool\n"
     ]
    }
   ],
   "source": [
    "# a numpy array to store the cost column\n",
    "cost_values = df[\"Cost\"]\n",
    "\n",
    "# this creates an array that has True/False when the cost exceeds 2\n",
    "cost_exceeds_2 = (cost_values > 2)\n",
    "\n",
    "# let's print the costs and this so we can see\n",
    "print(df[\"Cost\"])\n",
    "print(cost_exceeds_2)"
   ]
  },
  {
   "cell_type": "markdown",
   "metadata": {},
   "source": [
    "As a side note, this is also possible to do with `pandas` itself. For instance, we can construct another column in the dataframe that stores such 'True/False' with this syntax:"
   ]
  },
  {
   "cell_type": "code",
   "execution_count": 22,
   "metadata": {},
   "outputs": [
    {
     "data": {
      "text/html": [
       "<div>\n",
       "<style scoped>\n",
       "    .dataframe tbody tr th:only-of-type {\n",
       "        vertical-align: middle;\n",
       "    }\n",
       "\n",
       "    .dataframe tbody tr th {\n",
       "        vertical-align: top;\n",
       "    }\n",
       "\n",
       "    .dataframe thead th {\n",
       "        text-align: right;\n",
       "    }\n",
       "</style>\n",
       "<table border=\"1\" class=\"dataframe\">\n",
       "  <thead>\n",
       "    <tr style=\"text-align: right;\">\n",
       "      <th></th>\n",
       "      <th>Cost</th>\n",
       "      <th>Price</th>\n",
       "      <th>Demand</th>\n",
       "      <th>Cost_exceeds_2</th>\n",
       "    </tr>\n",
       "    <tr>\n",
       "      <th>Sample</th>\n",
       "      <th></th>\n",
       "      <th></th>\n",
       "      <th></th>\n",
       "      <th></th>\n",
       "    </tr>\n",
       "  </thead>\n",
       "  <tbody>\n",
       "    <tr>\n",
       "      <th>1</th>\n",
       "      <td>2.20</td>\n",
       "      <td>9.68</td>\n",
       "      <td>266.19</td>\n",
       "      <td>True</td>\n",
       "    </tr>\n",
       "    <tr>\n",
       "      <th>2</th>\n",
       "      <td>3.00</td>\n",
       "      <td>11.15</td>\n",
       "      <td>210.50</td>\n",
       "      <td>True</td>\n",
       "    </tr>\n",
       "    <tr>\n",
       "      <th>3</th>\n",
       "      <td>1.91</td>\n",
       "      <td>9.50</td>\n",
       "      <td>270.98</td>\n",
       "      <td>False</td>\n",
       "    </tr>\n",
       "    <tr>\n",
       "      <th>4</th>\n",
       "      <td>1.45</td>\n",
       "      <td>9.31</td>\n",
       "      <td>279.79</td>\n",
       "      <td>False</td>\n",
       "    </tr>\n",
       "    <tr>\n",
       "      <th>5</th>\n",
       "      <td>1.21</td>\n",
       "      <td>10.27</td>\n",
       "      <td>235.30</td>\n",
       "      <td>False</td>\n",
       "    </tr>\n",
       "  </tbody>\n",
       "</table>\n",
       "</div>"
      ],
      "text/plain": [
       "        Cost  Price  Demand  Cost_exceeds_2\n",
       "Sample                                     \n",
       "1       2.20   9.68  266.19            True\n",
       "2       3.00  11.15  210.50            True\n",
       "3       1.91   9.50  270.98           False\n",
       "4       1.45   9.31  279.79           False\n",
       "5       1.21  10.27  235.30           False"
      ]
     },
     "execution_count": 22,
     "metadata": {},
     "output_type": "execute_result"
    }
   ],
   "source": [
    "df[\"Cost_exceeds_2\"] = (df[\"Cost\"] > 2)\n",
    "df.head(5)"
   ]
  },
  {
   "cell_type": "markdown",
   "metadata": {},
   "source": [
    "## Simple Statistics\n",
    "The numpy library also allows calculating very simple statistics. For instance, you can quickly calculate the mean of an array with `numpy.mean(.)` and the covariance with `numpy.cov(.)`."
   ]
  },
  {
   "cell_type": "markdown",
   "metadata": {},
   "source": [
    "Let's calculate the mean cost:"
   ]
  },
  {
   "cell_type": "code",
   "execution_count": 23,
   "metadata": {},
   "outputs": [
    {
     "name": "stdout",
     "output_type": "stream",
     "text": [
      "The mean cost: 1.75\n"
     ]
    }
   ],
   "source": [
    "# mean cost\n",
    "mean_cost = np.mean(df[\"Cost\"])\n",
    "print(f'The mean cost: {mean_cost:.2f}')"
   ]
  },
  {
   "cell_type": "markdown",
   "metadata": {},
   "source": [
    "Let's calculate the standard deviation of the price:"
   ]
  },
  {
   "cell_type": "code",
   "execution_count": 24,
   "metadata": {},
   "outputs": [
    {
     "name": "stdout",
     "output_type": "stream",
     "text": [
      "The standard deviation of cost: 0.62\n"
     ]
    }
   ],
   "source": [
    "# standard deviation of cost\n",
    "stdev_cost = np.std(df[\"Cost\"])\n",
    "print(f'The standard deviation of cost: {stdev_cost:.2f}')"
   ]
  },
  {
   "cell_type": "markdown",
   "metadata": {},
   "source": [
    "You can also calculate a variance matrix between several arrays. \n",
    "\n",
    "For instance, here's the covariance matrix of the cost and price:"
   ]
  },
  {
   "cell_type": "code",
   "execution_count": 25,
   "metadata": {},
   "outputs": [
    {
     "name": "stdout",
     "output_type": "stream",
     "text": [
      "[[0.39391793 0.08316778]\n",
      " [0.08316778 1.05202428]]\n"
     ]
    }
   ],
   "source": [
    "# covariance matrix \n",
    "cov = np.cov(df[\"Cost\"], df[\"Price\"])\n",
    "print(cov)"
   ]
  },
  {
   "cell_type": "markdown",
   "metadata": {},
   "source": [
    "This allows calculating the correlation coefficients as well. However, the `pandas` function for correlation coefficients is simpler here:"
   ]
  },
  {
   "cell_type": "code",
   "execution_count": 26,
   "metadata": {
    "id": "_A3BCqf5aTYU",
    "outputId": "286be3c9-575a-408e-c4f3-3a263b65e423"
   },
   "outputs": [
    {
     "name": "stdout",
     "output_type": "stream",
     "text": [
      "Correlation coefficient price-sales: -0.964\n"
     ]
    }
   ],
   "source": [
    "# Calculate and print the correlation \n",
    "corr_coef = df[\"Price\"].corr(df[\"Demand\"])\n",
    "print(f\"Correlation coefficient price-sales: {corr_coef:.3f}\")"
   ]
  },
  {
   "cell_type": "markdown",
   "metadata": {},
   "source": [
    "<font color=blue>Try prompting a chatbot with something like: _\"How can I get the mean and standard deviation of the values in a numpy array?\"_ (And you can obviously change that to a list or a dataframe column depending on the use case.)</font>"
   ]
  },
  {
   "cell_type": "markdown",
   "metadata": {},
   "source": [
    "## Arange\n",
    "Much like `range`, the `arange` function allows creating an array with evenly spaced values within a given range. But `arange` is much more flexible because it allows the `start`, `stop` or `step` to be fractional values (whereas with `range` they must be integers!)"
   ]
  },
  {
   "cell_type": "code",
   "execution_count": 27,
   "metadata": {},
   "outputs": [
    {
     "name": "stdout",
     "output_type": "stream",
     "text": [
      "[0.1 2.3 4.5 6.7 8.9]\n"
     ]
    }
   ],
   "source": [
    "# Using arange\n",
    "start = 0.1\n",
    "stop = 10.5\n",
    "step = 2.2\n",
    "range_arr = np.arange(start, stop, step)\n",
    "print(range_arr)"
   ]
  },
  {
   "cell_type": "markdown",
   "metadata": {},
   "source": [
    "You will often be interested in calculating various statistics from data. The `pandas` library has many useful built-in functions for that. For instance, you can quickly calculate **the correlation coefficient** using the `corr` method. Here is how to calculate the correlation between sales and price:"
   ]
  },
  {
   "cell_type": "markdown",
   "metadata": {},
   "source": [
    "# Defining Functions\n",
    "Functions allow organizing the code in blocks that can be called separately (and many times). A function can take several arguments and can return data as a result. In Python, functions are defined using the `def` keyword.\n",
    "\n",
    "Let's define a function with no arguments that prints a message."
   ]
  },
  {
   "cell_type": "code",
   "execution_count": 28,
   "metadata": {},
   "outputs": [],
   "source": [
    "# define a function without any arguments\n",
    "def hello():\n",
    "    print(\"Hello again!\")"
   ]
  },
  {
   "cell_type": "markdown",
   "metadata": {},
   "source": [
    "To call this function, we would just do:"
   ]
  },
  {
   "cell_type": "code",
   "execution_count": 29,
   "metadata": {},
   "outputs": [
    {
     "name": "stdout",
     "output_type": "stream",
     "text": [
      "Hello again!\n"
     ]
    }
   ],
   "source": [
    "# call the function\n",
    "hello()"
   ]
  },
  {
   "cell_type": "markdown",
   "metadata": {},
   "source": [
    "Now let's define some smarter functions:\n",
    " - a function that adds its two arguments\n",
    " - a function that returns the sum, the difference, and a list with the two values."
   ]
  },
  {
   "cell_type": "code",
   "execution_count": 30,
   "metadata": {},
   "outputs": [],
   "source": [
    "# A function that adds its two arguments\n",
    "def my_smart_addition(a,b):\n",
    "    return a+b"
   ]
  },
  {
   "cell_type": "markdown",
   "metadata": {},
   "source": [
    "To test, let's add 2 and 5"
   ]
  },
  {
   "cell_type": "code",
   "execution_count": 31,
   "metadata": {},
   "outputs": [
    {
     "name": "stdout",
     "output_type": "stream",
     "text": [
      "The function returns 2 + 5 = 7\n"
     ]
    }
   ],
   "source": [
    "# this function returns something; let's store and print the result!\n",
    "result = my_smart_addition(2,5)\n",
    "print(f\"The function returns 2 + 5 = {result}\")"
   ]
  },
  {
   "cell_type": "markdown",
   "metadata": {},
   "source": [
    "## Functions That Return Many Values"
   ]
  },
  {
   "cell_type": "markdown",
   "metadata": {},
   "source": [
    "Functions can return many values. Here, we define a function that returns a+b, a-b, and also a*b"
   ]
  },
  {
   "cell_type": "code",
   "execution_count": 32,
   "metadata": {},
   "outputs": [],
   "source": [
    "# A smarter function that returns a+b and a-b as a list\n",
    "def my_smartest_function(a,b):\n",
    "    a_plus_b = a+b\n",
    "    a_minus_b = a-b\n",
    "    a_times_b = a*b\n",
    "    return a_plus_b, a_minus_b, a_times_b"
   ]
  },
  {
   "cell_type": "markdown",
   "metadata": {},
   "source": [
    "In this case, because the function returns 3 things, we have a few options to collect the output of the function:\n",
    " 1. we can assign a single variable; then, that variable with be a tuple that contains all the returned values\n",
    " 2. we can assign as many variables as there are return values (here, 3)\n",
    "\n",
    "Here is how to do this with option 1, with a single return variable."
   ]
  },
  {
   "cell_type": "code",
   "execution_count": 33,
   "metadata": {},
   "outputs": [
    {
     "name": "stdout",
     "output_type": "stream",
     "text": [
      "(7, -3, 10)\n",
      "The first returned value is 7.\n",
      "The second returned value is -3.\n"
     ]
    }
   ],
   "source": [
    "# assign a single variable\n",
    "all_results = my_smartest_function(2,5)\n",
    "print(all_results)\n",
    "\n",
    "# in this case, if we need access to an individual value, we can index into `all_results`\n",
    "print(f\"The first returned value is {all_results[0]}.\")\n",
    "print(f\"The second returned value is {all_results[1]}.\")"
   ]
  },
  {
   "cell_type": "markdown",
   "metadata": {},
   "source": [
    "Here is the second option, where we directly assign all the 3 return values. "
   ]
  },
  {
   "cell_type": "code",
   "execution_count": 34,
   "metadata": {},
   "outputs": [
    {
     "name": "stdout",
     "output_type": "stream",
     "text": [
      "7 -3 10\n"
     ]
    }
   ],
   "source": [
    "# assign all 3 return variables\n",
    "v1, v2, v3 = my_smartest_function(2,5)\n",
    "print(v1, v2, v3)"
   ]
  },
  {
   "cell_type": "markdown",
   "metadata": {},
   "source": [
    "With the second option, we obviously need to be careful to use the correct number of variables so as to match the number of values returned by the function. \n",
    "\n",
    "For instance, if we just used two, we would get an error:"
   ]
  },
  {
   "cell_type": "code",
   "execution_count": 35,
   "metadata": {},
   "outputs": [
    {
     "ename": "ValueError",
     "evalue": "too many values to unpack (expected 2)",
     "output_type": "error",
     "traceback": [
      "\u001b[0;31m---------------------------------------------------------------------------\u001b[0m",
      "\u001b[0;31mValueError\u001b[0m                                Traceback (most recent call last)",
      "Cell \u001b[0;32mIn[35], line 2\u001b[0m\n\u001b[1;32m      1\u001b[0m \u001b[38;5;66;03m# assign only 2 return variables although the function returns 3 --> ERROR!\u001b[39;00m\n\u001b[0;32m----> 2\u001b[0m v1, v2 \u001b[38;5;241m=\u001b[39m my_smartest_function(\u001b[38;5;241m2\u001b[39m,\u001b[38;5;241m5\u001b[39m)\n\u001b[1;32m      3\u001b[0m \u001b[38;5;28mprint\u001b[39m(v1, v2)\n",
      "\u001b[0;31mValueError\u001b[0m: too many values to unpack (expected 2)"
     ]
    }
   ],
   "source": [
    "# assign only 2 return variables although the function returns 3 --> ERROR!\n",
    "v1, v2 = my_smartest_function(2,5)\n",
    "print(v1, v2)"
   ]
  },
  {
   "cell_type": "markdown",
   "metadata": {},
   "source": [
    "## Positional and Keyword Arguments\n",
    "When calling a function in Python, you can pass arguments by **position** (positional arguments) or **by explicitly specifying the name of the parameter** (keyword arguments). The latter allows you to assign values to specific parameters, making the function call clearer and often more flexible. And it is extremely useful when dealing with functions that have many arguments in their call. \n",
    "\n",
    "For instance, let's define a function that agreets someone."
   ]
  },
  {
   "cell_type": "code",
   "execution_count": 36,
   "metadata": {},
   "outputs": [],
   "source": [
    "def greet(name, age):\n",
    "    print(f\"Hello, {name}. You are {age} years old.\")"
   ]
  },
  {
   "cell_type": "markdown",
   "metadata": {},
   "source": [
    "We can now call the function using the standard **positional** approach: "
   ]
  },
  {
   "cell_type": "code",
   "execution_count": 37,
   "metadata": {},
   "outputs": [
    {
     "name": "stdout",
     "output_type": "stream",
     "text": [
      "Hello, John. You are 30 years old.\n"
     ]
    }
   ],
   "source": [
    "greet(\"John\",30)"
   ]
  },
  {
   "cell_type": "markdown",
   "metadata": {},
   "source": [
    "In this case, we need to be careful that the position/order of arguments in the call matches the arguments of the function. \n",
    "\n",
    "Instead, we could call the function using **keyword arguments**, as follows:"
   ]
  },
  {
   "cell_type": "code",
   "execution_count": 38,
   "metadata": {},
   "outputs": [
    {
     "name": "stdout",
     "output_type": "stream",
     "text": [
      "Hello, Alice. You are 30 years old.\n"
     ]
    }
   ],
   "source": [
    "# Calling the function with keyword arguments\n",
    "greet(name=\"Alice\", age=30)"
   ]
  },
  {
   "cell_type": "markdown",
   "metadata": {},
   "source": [
    "This is very simple: you just have to give an assignment for each argument that the function expects, and you do that inside the call of the function. Note how we're assigning the variable `name` to the value \"Alice\" and the variable `age` to value 30. The really nice thing about **keywork arguments** is that **you don't have to worry about the order in which you specify the arguments** because the variables are matched based on their names. For instance:"
   ]
  },
  {
   "cell_type": "code",
   "execution_count": 39,
   "metadata": {},
   "outputs": [
    {
     "name": "stdout",
     "output_type": "stream",
     "text": [
      "Hello, Alice. You are 30 years old.\n"
     ]
    }
   ],
   "source": [
    "# Calling the function with keyword arguments in a different order\n",
    "greet(age=30, name=\"Alice\")"
   ]
  },
  {
   "cell_type": "markdown",
   "metadata": {},
   "source": [
    "You can even mix positional and keyword arguments in a function call, but **positional arguments must always come first!**"
   ]
  },
  {
   "cell_type": "code",
   "execution_count": 40,
   "metadata": {},
   "outputs": [
    {
     "name": "stdout",
     "output_type": "stream",
     "text": [
      "Hello, Alice. You are 20 years old.\n"
     ]
    }
   ],
   "source": [
    "# Calling the function with keyword arguments in a different order\n",
    "greet(\"Alice\", age=20)"
   ]
  },
  {
   "cell_type": "markdown",
   "metadata": {},
   "source": [
    "In contrast, this produces an error:"
   ]
  },
  {
   "cell_type": "code",
   "execution_count": 41,
   "metadata": {},
   "outputs": [
    {
     "ename": "SyntaxError",
     "evalue": "positional argument follows keyword argument (3898863933.py, line 2)",
     "output_type": "error",
     "traceback": [
      "\u001b[0;36m  Cell \u001b[0;32mIn[41], line 2\u001b[0;36m\u001b[0m\n\u001b[0;31m    greet(name=\"Alice\", 30)\u001b[0m\n\u001b[0m                          ^\u001b[0m\n\u001b[0;31mSyntaxError\u001b[0m\u001b[0;31m:\u001b[0m positional argument follows keyword argument\n"
     ]
    }
   ],
   "source": [
    "# Calling the function with keyword argument before positional argument ---> error !\n",
    "greet(name=\"Alice\", 30)"
   ]
  },
  {
   "cell_type": "markdown",
   "metadata": {},
   "source": [
    "<font color=red>A few important things to remember about defining functions:</font>\n",
    " - <font color=red> The colon `:` is critical in the syntax (just like with `if` and `for`)</font>\n",
    " - <font color=red> Functions can take arguments</font><br>\n",
    "   <font color=red> _for instance, the second function takes as arguments two things a, b. These could be any data type._</font>\n",
    " - <font color=red> The keyword `return` tells the function what value to return </font><br>\n",
    "   <font color=red>_for instance, the second function returns the sum of its arguments, a + b_</font>\n",
    " - <font color=red>You can return several values; you should be careful to have the correct number of variables to match these return values!</font><br>\n",
    " - <font color=red>You can use keyword arguments when calling the function.</font>\n",
    "\n",
    "<font color=red>Lastly, you need to be very careful with the treatment of local and global variables. This issue is important enough that we devote separate section to it.</font>"
   ]
  },
  {
   "cell_type": "markdown",
   "metadata": {},
   "source": [
    "## Important Note About Local vs Global Variables"
   ]
  },
  {
   "cell_type": "markdown",
   "metadata": {},
   "source": [
    "<font color=red>A critical thing to be mindful about with functions is the handling of **local** variables and **global** variables. **Local** variables are those variables defined within a function or passed as arguments to a function. **Global** variables are those defined outside the function. If a variable that is used inside a function was not passed as an explicit argument to the function and was not defined inside the function, then it will be interpreted as a global variable. For instance, consider the following example:</font>"
   ]
  },
  {
   "cell_type": "code",
   "execution_count": 42,
   "metadata": {},
   "outputs": [
    {
     "name": "stdout",
     "output_type": "stream",
     "text": [
      "The value of the global variable a is 100\n"
     ]
    }
   ],
   "source": [
    "# Let's define a global variable called 'a'\n",
    "a = 100\n",
    "\n",
    "# Let's define a function that uses 'a' inside it without passing it as an argument\n",
    "def print_value():\n",
    "    print(f\"The value of the global variable a is {a}\")  # we are using 'a' here !\n",
    "\n",
    "print_value()"
   ]
  },
  {
   "cell_type": "markdown",
   "metadata": {},
   "source": [
    "Note that the function works and it prints the value of the global variable `a`. This could work well, but you have to make sure that it corresponds to your intended behavior: this function will print the (global) value of `a` that is outstanding. So you will not have much control over which `a` is passed/used inside the function. And you also won't be able to change the value of `a` inside the function. Doing so may generate an error, depending on the use case.\n",
    "\n",
    "Consider now the following example:"
   ]
  },
  {
   "cell_type": "code",
   "execution_count": 43,
   "metadata": {},
   "outputs": [
    {
     "name": "stdout",
     "output_type": "stream",
     "text": [
      "The value of the variable a is 45\n",
      "The value of a after all of this is 100\n"
     ]
    }
   ],
   "source": [
    "# Let's define a global variable called 'a'\n",
    "a = 100\n",
    "\n",
    "# Let's define a function that takes 'a' as argument and even changes the value of 'a' inside it\n",
    "def print_value_2():\n",
    "    a = 45   # <-- we are changing the value of a here; but note that this means a is now treated as a local variable!!\n",
    "    print(f\"The value of the variable a is {a}\")  # this is now the 'local' value of 'a'\n",
    "\n",
    "# Let's call our function\n",
    "print_value_2()\n",
    "\n",
    "# Let's print the value of 'a'  -- this time, it will be the **global** a\n",
    "print(f\"The value of a after all of this is {a}\")"
   ]
  },
  {
   "cell_type": "markdown",
   "metadata": {},
   "source": [
    "In `print_value_2`, `a` is viewed as a **local** variable because it is defined inside the function. The moment Python sees a statement like `a = ...` inside the function, it assumes that `a` is a local variable and treats it as such. When the function returns, we are back in the global domain and the value of `a` is again 100.\n",
    "\n",
    "Mixing local and global variables in this way can result in somewhat perplexing results and is **NOT ADVISED**. Just to show you what can happen, consider the following code:"
   ]
  },
  {
   "cell_type": "code",
   "execution_count": 44,
   "metadata": {},
   "outputs": [
    {
     "ename": "UnboundLocalError",
     "evalue": "cannot access local variable 'a' where it is not associated with a value",
     "output_type": "error",
     "traceback": [
      "\u001b[0;31m---------------------------------------------------------------------------\u001b[0m",
      "\u001b[0;31mUnboundLocalError\u001b[0m                         Traceback (most recent call last)",
      "Cell \u001b[0;32mIn[44], line 11\u001b[0m\n\u001b[1;32m      8\u001b[0m     \u001b[38;5;28mprint\u001b[39m(\u001b[38;5;124mf\u001b[39m\u001b[38;5;124m\"\u001b[39m\u001b[38;5;124mThe new value of the variable is \u001b[39m\u001b[38;5;132;01m{\u001b[39;00ma\u001b[38;5;132;01m}\u001b[39;00m\u001b[38;5;124m\"\u001b[39m)  \u001b[38;5;66;03m# this is now the 'local' value of 'a'\u001b[39;00m\n\u001b[1;32m     10\u001b[0m \u001b[38;5;66;03m# Let's call our function\u001b[39;00m\n\u001b[0;32m---> 11\u001b[0m \u001b[43mprint_value_2\u001b[49m\u001b[43m(\u001b[49m\u001b[43m)\u001b[49m\n",
      "Cell \u001b[0;32mIn[44], line 6\u001b[0m, in \u001b[0;36mprint_value_2\u001b[0;34m()\u001b[0m\n\u001b[1;32m      5\u001b[0m \u001b[38;5;28;01mdef\u001b[39;00m \u001b[38;5;21mprint_value_2\u001b[39m():\n\u001b[0;32m----> 6\u001b[0m     \u001b[38;5;28mprint\u001b[39m(\u001b[38;5;124mf\u001b[39m\u001b[38;5;124m\"\u001b[39m\u001b[38;5;124mInitially, the value of a is \u001b[39m\u001b[38;5;132;01m{\u001b[39;00m\u001b[43ma\u001b[49m\u001b[38;5;132;01m}\u001b[39;00m\u001b[38;5;124m\"\u001b[39m)\n\u001b[1;32m      7\u001b[0m     a \u001b[38;5;241m=\u001b[39m \u001b[38;5;241m45\u001b[39m   \u001b[38;5;66;03m# <-- we are changing the value of a here\u001b[39;00m\n\u001b[1;32m      8\u001b[0m     \u001b[38;5;28mprint\u001b[39m(\u001b[38;5;124mf\u001b[39m\u001b[38;5;124m\"\u001b[39m\u001b[38;5;124mThe new value of the variable is \u001b[39m\u001b[38;5;132;01m{\u001b[39;00ma\u001b[38;5;132;01m}\u001b[39;00m\u001b[38;5;124m\"\u001b[39m)\n",
      "\u001b[0;31mUnboundLocalError\u001b[0m: cannot access local variable 'a' where it is not associated with a value"
     ]
    }
   ],
   "source": [
    "# Let's define a global variable called 'a'\n",
    "a = 100\n",
    "\n",
    "# Let's define a function that print 'a' and then changes it and prints it again\n",
    "def print_value_2():\n",
    "    print(f\"Initially, the value of a is {a}\")\n",
    "    a = 45   # <-- we are changing the value of a here\n",
    "    print(f\"The new value of the variable is {a}\")  # this is now the 'local' value of 'a'\n",
    "\n",
    "# Let's call our function\n",
    "print_value_2()"
   ]
  },
  {
   "cell_type": "markdown",
   "metadata": {},
   "source": [
    "This leads to an error! You might wonder what is going on; to understand this, remember the rule: the moment Python sees the code `a = 45` inside the function, it treats `a` as a **local** variable. So the first time you are using `a` in the print(.) on line 6, the function says that `a` is not defined. So in other words, it does **NOT** attempt to get the global value of `a` and use it there! \n",
    "\n",
    "In contrast, if you pass an argument to the function called `a`, the function will use whatever argument is passed rather than the global variable, and you could even be able to modify that argument inside the function (albeit still with local effects!). For instance:"
   ]
  },
  {
   "cell_type": "code",
   "execution_count": 45,
   "metadata": {},
   "outputs": [
    {
     "name": "stdout",
     "output_type": "stream",
     "text": [
      "Initially, the value of a is 100\n",
      "The new value of the variable is 45\n",
      "The value of a after all of this is 100\n"
     ]
    }
   ],
   "source": [
    "# Let's define a global variable called 'a'\n",
    "a = 100\n",
    "\n",
    "# Let's define a function that takes 'a' as argument and even changes the value of 'a' inside it\n",
    "def print_value_3(a):\n",
    "    print(f\"Initially, the value of a is {a}\")\n",
    "    a = 45   # <-- we are changing the value of a here\n",
    "    print(f\"The new value of the variable is {a}\")  # this is now the 'local' value of 'a'\n",
    "\n",
    "# Let's call our function\n",
    "print_value_3(a)\n",
    "\n",
    "# Let's print the value of 'a'\n",
    "print(f\"The value of a after all of this is {a}\")"
   ]
  },
  {
   "cell_type": "markdown",
   "metadata": {},
   "source": [
    "In the example above, the variable `a` inside the function is again treated like a **local variable**; this allows it to be printed, modified, etc. But once the function returns, we are back in the global domain and are dealing with the **global** variable `a`. \n",
    "\n",
    "<font color=red> Always remember this difference between **local** and **global** variables!"
   ]
  },
  {
   "cell_type": "code",
   "execution_count": null,
   "metadata": {},
   "outputs": [],
   "source": []
  }
 ],
 "metadata": {
  "colab": {
   "collapsed_sections": [
    "GS_fd-FRaTYD"
   ],
   "include_colab_link": true,
   "name": "S01_AIRM_Starbux.ipynb",
   "provenance": [],
   "toc_visible": true
  },
  "kernelspec": {
   "display_name": "Python 3 (ipykernel)",
   "language": "python",
   "name": "python3"
  },
  "language_info": {
   "codemirror_mode": {
    "name": "ipython",
    "version": 3
   },
   "file_extension": ".py",
   "mimetype": "text/x-python",
   "name": "python",
   "nbconvert_exporter": "python",
   "pygments_lexer": "ipython3",
   "version": "3.11.8"
  }
 },
 "nbformat": 4,
 "nbformat_minor": 4
}
