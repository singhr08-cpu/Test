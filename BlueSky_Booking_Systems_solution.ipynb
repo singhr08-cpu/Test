{
  "cells": [
    {
      "cell_type": "markdown",
      "metadata": {
        "id": "view-in-github",
        "colab_type": "text"
      },
      "source": [
        "<a href=\"https://colab.research.google.com/github/singhr08-cpu/Test/blob/main/BlueSky_Booking_Systems_solution.ipynb\" target=\"_parent\"><img src=\"https://colab.research.google.com/assets/colab-badge.svg\" alt=\"Open In Colab\"/></a>"
      ]
    },
    {
      "cell_type": "markdown",
      "metadata": {
        "id": "p2yhwOIIvk2d"
      },
      "source": [
        "# BlueSky Airlines Booking Systems"
      ]
    },
    {
      "cell_type": "code",
      "execution_count": null,
      "metadata": {
        "id": "dv6AsVVovk2f"
      },
      "outputs": [],
      "source": [
        "# Import necessary modules\n",
        "import numpy as np\n",
        "import matplotlib.pyplot as plt\n",
        "import pandas as pd"
      ]
    },
    {
      "cell_type": "code",
      "execution_count": null,
      "metadata": {
        "id": "ISobFn1svk2g"
      },
      "outputs": [],
      "source": [
        "# Known data for the problem\n",
        "Capacity = 200           # plane capacity (# of seats)\n",
        "Booking_Limit_SS = 120   # booking limit for SS class\n",
        "\n",
        "Price_FF = 850   # price for SS (Super Saver)\n",
        "Price_SS = 350   # price for FF (Full Fare)"
      ]
    },
    {
      "cell_type": "code",
      "execution_count": null,
      "metadata": {
        "id": "vKlgefWkvk2h",
        "outputId": "5aac19b9-3b5d-42a6-d62a-ef653fc5e3bc"
      },
      "outputs": [
        {
          "data": {
            "text/html": [
              "<div>\n",
              "<style scoped>\n",
              "    .dataframe tbody tr th:only-of-type {\n",
              "        vertical-align: middle;\n",
              "    }\n",
              "\n",
              "    .dataframe tbody tr th {\n",
              "        vertical-align: top;\n",
              "    }\n",
              "\n",
              "    .dataframe thead th {\n",
              "        text-align: right;\n",
              "    }\n",
              "</style>\n",
              "<table border=\"1\" class=\"dataframe\">\n",
              "  <thead>\n",
              "    <tr style=\"text-align: right;\">\n",
              "      <th></th>\n",
              "      <th>Demand_SS</th>\n",
              "      <th>Demand_FF</th>\n",
              "    </tr>\n",
              "  </thead>\n",
              "  <tbody>\n",
              "    <tr>\n",
              "      <th>0</th>\n",
              "      <td>170</td>\n",
              "      <td>63</td>\n",
              "    </tr>\n",
              "    <tr>\n",
              "      <th>1</th>\n",
              "      <td>137</td>\n",
              "      <td>45</td>\n",
              "    </tr>\n",
              "    <tr>\n",
              "      <th>2</th>\n",
              "      <td>188</td>\n",
              "      <td>83</td>\n",
              "    </tr>\n",
              "    <tr>\n",
              "      <th>3</th>\n",
              "      <td>123</td>\n",
              "      <td>21</td>\n",
              "    </tr>\n",
              "    <tr>\n",
              "      <th>4</th>\n",
              "      <td>21</td>\n",
              "      <td>38</td>\n",
              "    </tr>\n",
              "    <tr>\n",
              "      <th>...</th>\n",
              "      <td>...</td>\n",
              "      <td>...</td>\n",
              "    </tr>\n",
              "    <tr>\n",
              "      <th>995</th>\n",
              "      <td>185</td>\n",
              "      <td>71</td>\n",
              "    </tr>\n",
              "    <tr>\n",
              "      <th>996</th>\n",
              "      <td>133</td>\n",
              "      <td>53</td>\n",
              "    </tr>\n",
              "    <tr>\n",
              "      <th>997</th>\n",
              "      <td>123</td>\n",
              "      <td>60</td>\n",
              "    </tr>\n",
              "    <tr>\n",
              "      <th>998</th>\n",
              "      <td>103</td>\n",
              "      <td>82</td>\n",
              "    </tr>\n",
              "    <tr>\n",
              "      <th>999</th>\n",
              "      <td>183</td>\n",
              "      <td>45</td>\n",
              "    </tr>\n",
              "  </tbody>\n",
              "</table>\n",
              "<p>1000 rows × 2 columns</p>\n",
              "</div>"
            ],
            "text/plain": [
              "     Demand_SS  Demand_FF\n",
              "0          170         63\n",
              "1          137         45\n",
              "2          188         83\n",
              "3          123         21\n",
              "4           21         38\n",
              "..         ...        ...\n",
              "995        185         71\n",
              "996        133         53\n",
              "997        123         60\n",
              "998        103         82\n",
              "999        183         45\n",
              "\n",
              "[1000 rows x 2 columns]"
            ]
          },
          "metadata": {},
          "output_type": "display_data"
        }
      ],
      "source": [
        "# read the data from an Excel file\n",
        "df = pd.read_csv(\"BlueSky_Demand_Data.csv\", index_col = 0)\n",
        "display(df)"
      ]
    },
    {
      "cell_type": "markdown",
      "metadata": {
        "id": "yLFWUQcMvk2h"
      },
      "source": [
        "# Q1\n",
        "## Calculate the mean and standard deviation of demands"
      ]
    },
    {
      "cell_type": "code",
      "execution_count": null,
      "metadata": {
        "id": "ShZhurRFvk2i",
        "outputId": "30a49744-6095-441f-fa69-6f92974dc567"
      },
      "outputs": [
        {
          "name": "stdout",
          "output_type": "stream",
          "text": [
            "The mean SS demand is 129.55 and stdev for SS demand 44.67\n",
            "The mean FF demand is 55.43 and stdev for FF demand 19.94\n"
          ]
        }
      ],
      "source": [
        "# set up the demands equal to the mean of the distribution\n",
        "mean_SS = np.mean(df[\"Demand_SS\"])\n",
        "mean_FF = np.mean(df[\"Demand_FF\"])\n",
        "\n",
        "# set up the demands equal to the mean of the distribution\n",
        "std_SS = np.std(df[\"Demand_SS\"])\n",
        "std_FF = np.std(df[\"Demand_FF\"])\n",
        "\n",
        "# print the results\n",
        "print(f\"The mean SS demand is {mean_SS:.2f} and stdev for SS demand {std_SS:,.2f}\")\n",
        "print(f\"The mean FF demand is {mean_FF:.2f} and stdev for FF demand {std_FF:,.2f}\")"
      ]
    },
    {
      "cell_type": "markdown",
      "metadata": {
        "id": "2XFPz328vk2i"
      },
      "source": [
        "## Scatter plot of demands"
      ]
    },
    {
      "cell_type": "code",
      "execution_count": null,
      "metadata": {
        "id": "7BSlmRACvk2j",
        "outputId": "e372536c-b6bc-47eb-d5f2-6cea999a1231"
      },
      "outputs": [
        {
          "data": {
            "image/png": "[encoded data removed]",
            "text/plain": [
              "<Figure size 600x400 with 1 Axes>"
            ]
          },
          "metadata": {},
          "output_type": "display_data"
        }
      ],
      "source": [
        "# Scatter plot of price and demand\n",
        "plt.figure(figsize=(6,4))\n",
        "plt.scatter(x=df[\"Demand_SS\"], y=df[\"Demand_FF\"], marker='.', s=200, alpha=0.5)\n",
        "plt.xlabel(\"SS Demand\", fontsize=14)\n",
        "plt.ylabel(\"FF Demand\", fontsize=14)\n",
        "plt.yticks(fontsize=12)\n",
        "plt.xticks(fontsize=12)\n",
        "plt.show()"
      ]
    },
    {
      "cell_type": "markdown",
      "metadata": {
        "id": "GQkrWsHovk2j"
      },
      "source": [
        "Clearly, the demands are positively correlated. We can even calculate the correlation coefficient:"
      ]
    },
    {
      "cell_type": "code",
      "execution_count": null,
      "metadata": {
        "id": "HuTIbYCRvk2k",
        "outputId": "2dd5fb0c-6d41-4ca9-f69f-3ac8025f2b6c"
      },
      "outputs": [
        {
          "name": "stdout",
          "output_type": "stream",
          "text": [
            "The correlation coefficient: 0.57\n"
          ]
        }
      ],
      "source": [
        "# calculate and print the correlation coefficient\n",
        "print(f'The correlation coefficient: {df[\"Demand_FF\"].corr(df[\"Demand_SS\"]):.2f}')"
      ]
    },
    {
      "cell_type": "markdown",
      "metadata": {
        "id": "cxuK4rdIvk2k"
      },
      "source": [
        "# Q2"
      ]
    },
    {
      "cell_type": "markdown",
      "metadata": {
        "id": "AORVhF40vk2l"
      },
      "source": [
        "We define a function to calculate the revenue below. There are a few steps:\n",
        " 1. We first calculate the sales (i.e., the number of bookings) for each fare class. The bookings for SS cannot exceed the **booking limit for SS**, so the expression for these is:<br>\n",
        "  $\\mbox{Sales SS} = \\min(\\mbox{Demand SS}, \\mbox{Booking Limit SS})$\n",
        " 2. In view of this, the number of seats that remain available for FF is exactly:<br>\n",
        "  $\\mbox{Remaining seats for FF} = \\mbox{Plane Capacity} - \\mbox{Sales SS}$\n",
        " 3. Lastly, the bookings for FF cannot exceed the **remaining seats available for SS**, so the expression for these is:<br>\n",
        "  $\\mbox{Sales FF} = \\min(\\mbox{Demand FF}, \\mbox{Remaining seats for FF})$"
      ]
    },
    {
      "cell_type": "markdown",
      "metadata": {
        "id": "YSqopSK_vk2l"
      },
      "source": [
        "For our subsequent purposes, it is very helpful to define the function in as flexible of a manner as possible. In this sense, it is best to allow our function to take as arguments not just the two demand values, but also the other problem parameters (`Capacity`, `BookingLimit`, etc.) That is why below, we define a function with the following syntax:\n",
        "\n",
        " > `calculate_revenue(Demand_SS, Demand_FF, Capacity=200, Price_SS=350, Price_FF=850, Booking_Limit_SS=120)`\n",
        "\n",
        "where:\n",
        " - `Demand_SS` is the value of SS demand.\n",
        " - `Demand_FF` is the value of FF demand.\n",
        " - `Capacity` is the plane capacity; the syntax `Capacity=200` means that the default value of this argument is 200.<br>\n",
        "   _This means that we can omit the argument when calling the function, and if we omit it, it will take value 200 inside the function._\n",
        " - `Price_SS`, `Price_FF` are the SS and FF fares, respectively; by default, 350 and 850, respectively.\n",
        " - `Booking_Limit_SS` is the booking limit for SS fares; by default, 120.\n",
        "\n",
        "The function returns the revenue calculated under the corresponding parameters."
      ]
    },
    {
      "cell_type": "code",
      "execution_count": null,
      "metadata": {
        "id": "CKrxbIcuvk2m"
      },
      "outputs": [],
      "source": [
        "### A function that calculates revenue for a given full set of problem parameters\n",
        "# Note how we add all other parameters here, with *default values*\n",
        "def calculate_revenue(Demand_SS, Demand_FF, Capacity=200, Price_SS=350, Price_FF=850, Booking_Limit_SS=120):\n",
        "    # calculate the bookings (sales) in each category\n",
        "    Sales_SS = min(Demand_SS, Booking_Limit_SS)        # this formula assumes that Booking_Limit_SS <= Capacity\n",
        "    Sales_FF = min(Demand_FF, Capacity - Sales_SS)\n",
        "\n",
        "    # calculate the revenue\n",
        "    Revenues_SS = Sales_SS * Price_SS\n",
        "    Revenues_FF = Sales_FF * Price_FF\n",
        "    Revenue = Revenues_SS + Revenues_FF\n",
        "\n",
        "    # return the revenue\n",
        "    return Revenue"
      ]
    },
    {
      "cell_type": "markdown",
      "metadata": {
        "id": "Y9WNiUPbvk2m"
      },
      "source": [
        "**Note that when calling the function above, we do not need to pass arguments that are set by _default_ such as `Capacity`, `Price_SS`, `Price_FF` or `BookingLimit`. If we omit such an argument, it will take the value specified in the definition of the function (e.g., the `Capacity` would be 200).**"
      ]
    },
    {
      "cell_type": "markdown",
      "metadata": {
        "id": "O9kx85i6vk2n"
      },
      "source": [
        "Now let's evaluate the function when demands are equal to their means."
      ]
    },
    {
      "cell_type": "code",
      "execution_count": null,
      "metadata": {
        "id": "JVOpIq8Pvk2n",
        "outputId": "1ef7172c-ba7a-4c9a-afb7-d1ff7d5b8584"
      },
      "outputs": [
        {
          "name": "stdout",
          "output_type": "stream",
          "text": [
            "The revenue when demands equal their means is $89,116.35.\n"
          ]
        }
      ],
      "source": [
        "## Let's set the demands equal to their means\n",
        "revenue_Q2 = calculate_revenue(Demand_SS = np.mean(df[\"Demand_SS\"]), Demand_FF = np.mean(df[\"Demand_FF\"]))\n",
        "\n",
        "## Print the results\n",
        "print(f\"The revenue when demands equal their means is ${revenue_Q2:,.2f}.\")"
      ]
    },
    {
      "cell_type": "markdown",
      "metadata": {
        "id": "Z5YRBaHFvk2n"
      },
      "source": [
        "Note how when calling the function, we only specify two arguments, for the demands. That is because all the other arguments can stay at their default values."
      ]
    },
    {
      "cell_type": "markdown",
      "metadata": {
        "id": "nSD7UMlPvk2n"
      },
      "source": [
        "# Q3"
      ]
    },
    {
      "cell_type": "markdown",
      "metadata": {
        "id": "vebxTqYTvk2n"
      },
      "source": [
        "Now we use the model from **Q2** to calculate the revenue for every historical sample of data.\n",
        "\n",
        "We use a for loop to go through the data and we show two ways to store the results: (i) in a numpy array and (i) in the dataframe itself (as another column)."
      ]
    },
    {
      "cell_type": "code",
      "execution_count": null,
      "metadata": {
        "id": "P9l44Z-evk2o"
      },
      "outputs": [],
      "source": [
        "## Initialize a numpy array of zeros where we will store the revenue calculation\n",
        "# the length is the number of rows in the dataframe\n",
        "revenue_values = np.zeros(len(df))"
      ]
    },
    {
      "cell_type": "markdown",
      "metadata": {
        "id": "sNZ6TLVWvk2o"
      },
      "source": [
        "Next, we loop through the rows of the dataframe and calculate the revenue in each sample. We choose to loop with the index (which, conveniently, is 0, 1, ...)"
      ]
    },
    {
      "cell_type": "code",
      "execution_count": null,
      "metadata": {
        "id": "NFKrHqcvvk2o"
      },
      "outputs": [],
      "source": [
        "## loop through every sample of data\n",
        "for sample in df.index:\n",
        "\n",
        "    ## calculate the revenue in that sample\n",
        "    revenue_val = calculate_revenue(Demand_SS = df.loc[sample, \"Demand_SS\"], Demand_FF = df.loc[sample, \"Demand_FF\"])\n",
        "\n",
        "    ## store the revenue in the numpy array\n",
        "    # Note that we can use 'sample' here because it takes values 0, 1, ... (exactly as the numeric index that we need to index in the array!)\n",
        "    revenue_values[sample] = revenue_val\n",
        "\n",
        "    ## we also store this in the dataframe itself - makes for nicer printing and plotting...\n",
        "    df.loc[sample, \"Revenue\"] = revenue_val"
      ]
    },
    {
      "cell_type": "markdown",
      "metadata": {
        "id": "k9MuBF-Hvk2o"
      },
      "source": [
        "Lastly, let's calculate and print the **mean revenue**."
      ]
    },
    {
      "cell_type": "code",
      "execution_count": null,
      "metadata": {
        "id": "6POz9Pvwvk2o",
        "outputId": "cb8cb5ef-2c80-4e4b-f1ee-04c428a9861d"
      },
      "outputs": [
        {
          "name": "stdout",
          "output_type": "stream",
          "text": [
            "The mean revenue estimated from the samples is: 83,617.25.\n"
          ]
        }
      ],
      "source": [
        "print(f\"The mean revenue estimated from the samples is: {np.mean(revenue_values):,.2f}.\")"
      ]
    },
    {
      "cell_type": "markdown",
      "metadata": {
        "id": "1qs6UoEBvk2p"
      },
      "source": [
        "You can also print a glimpse of the dataframe, which now includes the revenue calculations."
      ]
    },
    {
      "cell_type": "code",
      "execution_count": null,
      "metadata": {
        "id": "Tq1J3Yvxvk2p",
        "outputId": "4fcc782e-bbfc-4267-b00f-2036dc57a8fb"
      },
      "outputs": [
        {
          "data": {
            "text/html": [
              "<div>\n",
              "<style scoped>\n",
              "    .dataframe tbody tr th:only-of-type {\n",
              "        vertical-align: middle;\n",
              "    }\n",
              "\n",
              "    .dataframe tbody tr th {\n",
              "        vertical-align: top;\n",
              "    }\n",
              "\n",
              "    .dataframe thead th {\n",
              "        text-align: right;\n",
              "    }\n",
              "</style>\n",
              "<table border=\"1\" class=\"dataframe\">\n",
              "  <thead>\n",
              "    <tr style=\"text-align: right;\">\n",
              "      <th></th>\n",
              "      <th>Demand_SS</th>\n",
              "      <th>Demand_FF</th>\n",
              "      <th>Revenue</th>\n",
              "    </tr>\n",
              "  </thead>\n",
              "  <tbody>\n",
              "    <tr>\n",
              "      <th>0</th>\n",
              "      <td>170</td>\n",
              "      <td>63</td>\n",
              "      <td>95550.0</td>\n",
              "    </tr>\n",
              "    <tr>\n",
              "      <th>1</th>\n",
              "      <td>137</td>\n",
              "      <td>45</td>\n",
              "      <td>80250.0</td>\n",
              "    </tr>\n",
              "    <tr>\n",
              "      <th>2</th>\n",
              "      <td>188</td>\n",
              "      <td>83</td>\n",
              "      <td>110000.0</td>\n",
              "    </tr>\n",
              "    <tr>\n",
              "      <th>3</th>\n",
              "      <td>123</td>\n",
              "      <td>21</td>\n",
              "      <td>59850.0</td>\n",
              "    </tr>\n",
              "    <tr>\n",
              "      <th>4</th>\n",
              "      <td>21</td>\n",
              "      <td>38</td>\n",
              "      <td>39650.0</td>\n",
              "    </tr>\n",
              "    <tr>\n",
              "      <th>5</th>\n",
              "      <td>160</td>\n",
              "      <td>79</td>\n",
              "      <td>109150.0</td>\n",
              "    </tr>\n",
              "    <tr>\n",
              "      <th>6</th>\n",
              "      <td>151</td>\n",
              "      <td>60</td>\n",
              "      <td>93000.0</td>\n",
              "    </tr>\n",
              "    <tr>\n",
              "      <th>7</th>\n",
              "      <td>100</td>\n",
              "      <td>26</td>\n",
              "      <td>57100.0</td>\n",
              "    </tr>\n",
              "    <tr>\n",
              "      <th>8</th>\n",
              "      <td>98</td>\n",
              "      <td>68</td>\n",
              "      <td>92100.0</td>\n",
              "    </tr>\n",
              "    <tr>\n",
              "      <th>9</th>\n",
              "      <td>72</td>\n",
              "      <td>33</td>\n",
              "      <td>53250.0</td>\n",
              "    </tr>\n",
              "  </tbody>\n",
              "</table>\n",
              "</div>"
            ],
            "text/plain": [
              "   Demand_SS  Demand_FF   Revenue\n",
              "0        170         63   95550.0\n",
              "1        137         45   80250.0\n",
              "2        188         83  110000.0\n",
              "3        123         21   59850.0\n",
              "4         21         38   39650.0\n",
              "5        160         79  109150.0\n",
              "6        151         60   93000.0\n",
              "7        100         26   57100.0\n",
              "8         98         68   92100.0\n",
              "9         72         33   53250.0"
            ]
          },
          "execution_count": 12,
          "metadata": {},
          "output_type": "execute_result"
        }
      ],
      "source": [
        "# print dataframe\n",
        "df.head(10)"
      ]
    },
    {
      "cell_type": "markdown",
      "metadata": {
        "id": "_GMK5thevk2p"
      },
      "source": [
        "# Q4\n",
        "The parameters from the case"
      ]
    },
    {
      "cell_type": "code",
      "execution_count": null,
      "metadata": {
        "id": "gpvTjtCjvk2p"
      },
      "outputs": [],
      "source": [
        "## The data on demand distributions\n",
        "mean_SS = 130\n",
        "stdev_SS = 45\n",
        "mean_FF = 55\n",
        "stdev_FF = 20"
      ]
    },
    {
      "cell_type": "markdown",
      "metadata": {
        "id": "JF42bGrmvk2p"
      },
      "source": [
        "We do a Monte-Carlo simulation where we generate the values of SS and FF demands, and then we calculate anything needed (e.g., revenue, number of SS customers turned away, etc.)"
      ]
    },
    {
      "cell_type": "markdown",
      "metadata": {
        "id": "X3DhrbY6vk2p"
      },
      "source": [
        "## Monte-Carlo simulation model"
      ]
    },
    {
      "cell_type": "markdown",
      "metadata": {
        "id": "CEOoMZr2vk2q"
      },
      "source": [
        "We can store the demand samples and the calculations in any data structure: in lists, in numpy arrays, as columns in a dataframe. Below, we store them as numpy arrays because these are faster to work with."
      ]
    },
    {
      "cell_type": "code",
      "execution_count": null,
      "metadata": {
        "id": "Bnc-SkuUvk2q"
      },
      "outputs": [],
      "source": [
        "## set up the number of trials and the seed\n",
        "num_trials = 10000\n",
        "\n",
        "# set up a random number generator with seed 12345\n",
        "rng = np.random.default_rng(seed=12345)\n",
        "\n",
        "# set up numpy arrays to store the values of the demand samples (not critical, but good practice!)\n",
        "# MC below is mnemonic for \"Monte-Carlo\", so we don't confuse our variables with the earlier ones\n",
        "SS_dem_vals_MC = np.zeros(num_trials)\n",
        "FF_dem_vals_MC = np.zeros(num_trials)\n",
        "\n",
        "# set up a numpy array in which to store the values for the revenues (this could also be a regular python list)\n",
        "revenue_values = np.zeros(num_trials)\n",
        "\n",
        "# for Q4, we must also determine how many SS customers are turned away\n",
        "SS_turned_away = np.zeros(num_trials)\n",
        "\n",
        "### Run the simulation:\n",
        "for i in range(num_trials):\n",
        "\n",
        "    ### generate values for the two demands\n",
        "    # Note: we take max(,0) to make these positive, and then np.round to round the value\n",
        "    SS_dem_vals_MC[i] = np.round(max(0,rng.normal(mean_SS, stdev_SS)))\n",
        "    FF_dem_vals_MC[i] = np.round(max(0,rng.normal(mean_FF, stdev_FF)))\n",
        "\n",
        "    # calculate the revenue using the function, for the current sample\n",
        "    revenue_values[i] = calculate_revenue(Demand_SS=SS_dem_vals_MC[i], \\\n",
        "                                          Demand_FF=FF_dem_vals_MC[i], Booking_Limit_SS=120)\n",
        "\n",
        "    # also determine whether (1/0) SS customers are turned away\n",
        "    SS_turned_away[i] = (SS_dem_vals_MC[i] > Booking_Limit_SS)"
      ]
    },
    {
      "cell_type": "markdown",
      "metadata": {
        "id": "qqVoW9hcvk2q"
      },
      "source": [
        "<font color=red>**IMPORTANT NOTE.**</font> Above, we decided to generate the samples of SS and FF demands inside the `for` loop. Another option might be to generate these samples with a call to the function `rng.normal` where we specify a third parameter, for the number of samples. Although this is perfectly fine, you should be aware that the two options **will not result in the same values of FF and SS demands as what we got above, even if you set the same seed for the random number generator**!\n",
        "\n",
        "For instance, consider the following alternative:"
      ]
    },
    {
      "cell_type": "code",
      "execution_count": null,
      "metadata": {
        "id": "J2bj-nQGvk2q",
        "outputId": "d87afc62-59b6-4a10-acb6-acb52d509cb4"
      },
      "outputs": [
        {
          "name": "stdout",
          "output_type": "stream",
          "text": [
            "SS demand values option 1: [ 66.  91. 127.]\n",
            "SS demand values option 2: [ 66. 187.  91.]\n"
          ]
        }
      ],
      "source": [
        "# set up a random number generator with seed 12345\n",
        "rng = np.random.default_rng(seed=12345)\n",
        "\n",
        "### Generate all the demand samples for SS in one shot\n",
        "# NOTE: We need to use np.maximum(.) to take maximum component by component\n",
        "SS_dem_vals_MC_2 = np.round(np.maximum(0,rng.normal(mean_SS, stdev_SS, num_trials)))\n",
        "\n",
        "# Generate all the demand samples for FF in one shot\n",
        "FF_dem_vals_MC_2 = np.round(np.maximum(0,rng.normal(mean_SS, stdev_SS, num_trials)))\n",
        "\n",
        "# print the first 3 values of SS demand with the first option and second option\n",
        "print(\"SS demand values option 1:\", SS_dem_vals_MC[0:3])\n",
        "print(\"SS demand values option 2:\", SS_dem_vals_MC_2[0:3])"
      ]
    },
    {
      "cell_type": "markdown",
      "metadata": {
        "id": "-0u-g18Ivk2q"
      },
      "source": [
        "Note how only the first element is the same, but they subsequently differ. The reason is that the order in which random values are generated is important: note that in **option 1**, we are generating one sample from SS and then one from FF, etc, whereas with **option 2**, we generate all samples of SS and then all samples of FF.\n",
        "\n",
        "**When estimating quantities with Monte-Carlo simulation, such differences should not matter provided you have a sufficiently large number of samples. But just be aware of the difference!**"
      ]
    },
    {
      "cell_type": "markdown",
      "metadata": {
        "id": "fm1Ofc7Hvk2r"
      },
      "source": [
        "## Generate the histogram of the revenues"
      ]
    },
    {
      "cell_type": "code",
      "execution_count": null,
      "metadata": {
        "id": "ExBALhRcvk2r",
        "outputId": "d68413e2-2b99-458d-a211-04e0f8328178"
      },
      "outputs": [
        {
          "data": {
            "image/png": "[encoded data removed]",
            "text/plain": [
              "<Figure size 640x480 with 1 Axes>"
            ]
          },
          "metadata": {},
          "output_type": "display_data"
        }
      ],
      "source": [
        "nbins = 50\n",
        "plt.hist(revenue_values, bins=nbins, color=\"darkred\", edgecolor=\"black\")\n",
        "plt.xlabel(\"Revenue Values ($)\")\n",
        "plt.ylabel(\"Number of occurences\")\n",
        "plt.title(f\"Revenue with booking limit {Booking_Limit_SS} and {nbins} bins\")\n",
        "plt.show()"
      ]
    },
    {
      "cell_type": "markdown",
      "metadata": {
        "id": "v_JqOvVlvk2r"
      },
      "source": [
        "## (i) Calculate Probability for Revenue\n",
        "\n",
        "First, let's store the threshold value 100K in a variable"
      ]
    },
    {
      "cell_type": "code",
      "execution_count": null,
      "metadata": {
        "id": "Pkj23QEuvk20"
      },
      "outputs": [],
      "source": [
        "rev_threshold = 100000"
      ]
    },
    {
      "cell_type": "markdown",
      "metadata": {
        "id": "xyV88OQIvk20"
      },
      "source": [
        "To calculate the probability that the revenue exceeds $100,000, we can loop through the numpy array `revenue_values` and use an **if** statement to determine the number of times this holds.\n",
        "\n",
        "A more elegant way is to use Python's ability to deal with logical conditions for an entire sequence of values. A condition like `x > 10` where `x` is a sequence (numpy array, list, etc.) will return a sequence of `True/False` depending on whether the condition holds for each element of the sequence.\n",
        "\n",
        "Moreover, you can use numpy's `sum` for the resulting sequence and numpy will conveniently treat the `True` as 1 and the `False` as 0. This gives a very concise syntax:"
      ]
    },
    {
      "cell_type": "code",
      "execution_count": null,
      "metadata": {
        "id": "2qhmtpiTvk20",
        "outputId": "a15f32a2-50d9-41bb-ff00-72194f09e1a4"
      },
      "outputs": [
        {
          "name": "stdout",
          "output_type": "stream",
          "text": [
            "The estimated probability that revenue exceeds 100K is 19.87%\n"
          ]
        }
      ],
      "source": [
        "# use numpy's functionality to directly estimate\n",
        "probability = np.sum(revenue_values > rev_threshold)/len(revenue_values)\n",
        "\n",
        "print(f\"The estimated probability that revenue exceeds 100K is {100*probability:.2f}%\")"
      ]
    },
    {
      "cell_type": "markdown",
      "metadata": {
        "id": "vw8Na944vk20"
      },
      "source": [
        "You are of course **not** expected to remember such things. And in case you need to look for options, you always have chatbots available. For instance, for this example, try prompting a chatbot with something like:<br>\n",
        " > _What is the most efficient way to calculate the number of instances where a conditon holds if the condition depends on the values of a numpy array?_"
      ]
    },
    {
      "cell_type": "markdown",
      "metadata": {
        "id": "yEXiO059vk21"
      },
      "source": [
        "## (ii) Probability of turning SS customers away\n",
        "\n",
        "Note that our `for` loop above already conveniently calculated and stored the results in the numpy array `SS_turned_away`, which indicates (0/1) whether SS customers are turned away. We just need to estimate the probability, i.e., the fraction of samples where this happens:"
      ]
    },
    {
      "cell_type": "code",
      "execution_count": null,
      "metadata": {
        "id": "FPoYswalvk21",
        "outputId": "1dcc41fc-a4e3-491e-8e59-950bd0e68885"
      },
      "outputs": [
        {
          "name": "stdout",
          "output_type": "stream",
          "text": [
            "The estimated probability that SS customers are turned away is 59.60%\n"
          ]
        }
      ],
      "source": [
        "## Calculate the probability\n",
        "probab_turn_away = np.sum(SS_turned_away)/num_trials\n",
        "\n",
        "## Display as percent\n",
        "print(f'The estimated probability that SS customers are turned away is {probab_turn_away*100:.2f}%')"
      ]
    },
    {
      "cell_type": "markdown",
      "metadata": {
        "id": "wZtxhkK1vk21"
      },
      "source": [
        "Because we stored the SS demands, we can also calculate this directly without using `SS_turned_away`, as follows:"
      ]
    },
    {
      "cell_type": "code",
      "execution_count": null,
      "metadata": {
        "id": "tiKMNgC_vk21",
        "outputId": "2d1f8dc9-8dfe-4c43-e340-aecbb0c73061"
      },
      "outputs": [
        {
          "name": "stdout",
          "output_type": "stream",
          "text": [
            "The estimated probability that SS customers are turned away is 59.60%\n"
          ]
        }
      ],
      "source": [
        "## Calculate the probability directly, without using `SS_turned_away`\n",
        "probab_turn_away = np.sum( SS_dem_vals_MC > Booking_Limit_SS )/num_trials\n",
        "print(f'The estimated probability that SS customers are turned away is {100*probab_turn_away:.2f}%')"
      ]
    },
    {
      "cell_type": "markdown",
      "metadata": {
        "id": "ZzuwNx_Mvk21"
      },
      "source": [
        "# Q5\n",
        "To calculate the optimal booking limit, we will test values of the booking limit from 0 to `Capacity` and for every such value, we will calculate the **mean** revenue using the demand samples that we generated."
      ]
    },
    {
      "cell_type": "markdown",
      "metadata": {
        "id": "Ij86O7nrvk21"
      },
      "source": [
        "## Brute-Force Approach"
      ]
    },
    {
      "cell_type": "markdown",
      "metadata": {
        "id": "fBWqoaG1vk22"
      },
      "source": [
        "The most immediate (\"brute-force\") approach here would be the following:\n",
        " - have an outer `for` loop that considers values for `Booking_Limit_SS` from 0 to `Capacity` in increments of 1\n",
        " - have an inner `for` loop that goes through all the 10,000 demand samples and calculates the `mean_revenue`\n",
        " - pick the booking limit that results in the largest mean revenue.\n",
        "\n",
        "The code would like like the one below. Note that we commented out the line that test values for booking limits from 0 to 200 because **it would take a REALLY long time to finish** with 201 test values for the booking limit and 10,000 samples! (Instead, we \"cheat\" here and test values from 120 to 160, which happens to contain the optimal value... but normally, you would need to run this for every test value!)"
      ]
    },
    {
      "cell_type": "code",
      "execution_count": null,
      "metadata": {
        "id": "ty3B3uDrvk22",
        "outputId": "0d5c1b07-df49-46f1-cb85-b14cd8c512c0"
      },
      "outputs": [
        {
          "name": "stdout",
          "output_type": "stream",
          "text": [
            "The optimal revenue is: 85,305.43\n",
            "The optimal booking limit is: 141.00\n"
          ]
        }
      ],
      "source": [
        "## values to test for the booking limit\n",
        "#booking_limit_values = np.arange(0,Capacity+1,1)\n",
        "booking_limit_values = np.arange(120,160,1)\n",
        "\n",
        "## set up numpy array to store the values for mean revenue\n",
        "mean_revenue_values = np.zeros(len(booking_limit_values))\n",
        "\n",
        "## Outer for loop that tests different values for the booking limit\n",
        "for i in range(len(booking_limit_values)):\n",
        "\n",
        "    # array to store the revenue calculation for each sample\n",
        "    revenue_values = np.zeros(num_trials)\n",
        "\n",
        "    # Inner for loop that goes through all demand samples\n",
        "    # Here, we use the demand samples that we generated earlier\n",
        "    for s in range(num_trials):\n",
        "        ## calculate and store the revenue in that sample\n",
        "        # CRITICALLY, note that we now pass a third argument to the function - the booking limit!\n",
        "        revenue_values[s] = calculate_revenue(Demand_SS = SS_dem_vals_MC[s],\\\n",
        "                                              Demand_FF = FF_dem_vals_MC[s],\\\n",
        "                                              Booking_Limit_SS = booking_limit_values[i])\n",
        "\n",
        "    ## Calculate and store the mean revenue in the numpy array\n",
        "    mean_revenue_values[i] = np.mean(revenue_values)\n",
        "\n",
        "## Finally, we can calculate the optimal (i.e., maximum) mean revenue and the optimal booking limit value (that maximizes the mean revenue)\n",
        "optimal_revenue = np.max(mean_revenue_values)\n",
        "optimal_booking_limit = booking_limit_values[np.argmax(mean_revenue_values)]\n",
        "\n",
        "print(f\"The optimal revenue is: {optimal_revenue:,.2f}\")\n",
        "print(f\"The optimal booking limit is: {optimal_booking_limit:.2f}\")"
      ]
    },
    {
      "cell_type": "markdown",
      "metadata": {
        "id": "iAZhfYN2vk22"
      },
      "source": [
        "## A Smarter Approach and More Functions\n",
        "A more elegant approach is to define the function suggested in the solution. Here, we first define an intermediate function that calculates the `mean revenue` given two demand sequences. You could of course skip this step and directly write the overall bigger function, but breaking things up into smaller and \"more digestable\" pieces of code is usually good practice.\n",
        "\n",
        "This intermediate function has the syntax:\n",
        "> `calculate_mean_revenue(SS_demands, FF_demands, Booking_Limit_SS=120, Capacity=200, Price_SS=350, Price_FF=850):`"
      ]
    },
    {
      "cell_type": "code",
      "execution_count": null,
      "metadata": {
        "id": "jG7NtpaWvk22"
      },
      "outputs": [],
      "source": [
        "def calculate_mean_revenue(SS_demands, FF_demands, \\\n",
        "                           Booking_Limit_SS = 120, Capacity=200, Price_SS=350, Price_FF=850):\n",
        "    # array to store the revenue calculation for each sample\n",
        "    revenue_values = np.zeros(len(SS_demands))\n",
        "\n",
        "    # Inner for loop that goes through all demand samples\n",
        "    for i in range(len(SS_demands)):\n",
        "        ## calculate and store the revenue in that sample\n",
        "        revenue_values[i] = calculate_revenue(Demand_SS = SS_demands[i],\\\n",
        "                                              Demand_FF = FF_demands[i], \\\n",
        "                                              Booking_Limit_SS=Booking_Limit_SS)\n",
        "    # return the mean revenue\n",
        "    return np.mean(revenue_values)"
      ]
    },
    {
      "cell_type": "markdown",
      "metadata": {
        "id": "wHxOK0Qnvk22"
      },
      "source": [
        "Using this, we can now define the bigger function that determines an optimal booking limit in a certain range and with a certain step-size."
      ]
    },
    {
      "cell_type": "code",
      "execution_count": null,
      "metadata": {
        "id": "uKUUx-avvk22"
      },
      "outputs": [],
      "source": [
        "def get_optimal_booking_limit_and_revenue(SS_demands, FF_demands, \\\n",
        "                                          min_booking_limit, max_booking_limit, step,\\\n",
        "                                          Capacity=200, Price_SS=350, Price_FF=850):\n",
        "    # values to test for the booking limit\n",
        "    booking_limit_values = np.arange(min_booking_limit, max_booking_limit + step, step)\n",
        "\n",
        "    # array to zero mean revenues\n",
        "    mean_revenue_values = np.zeros(len(booking_limit_values))\n",
        "\n",
        "    # for loop to test the different values for the booking limit\n",
        "    for i in range(len(booking_limit_values)):\n",
        "\n",
        "        # calculate the **mean** revenue and store it\n",
        "        mean_revenue_values[i] = calculate_mean_revenue(SS_demands=SS_demands, FF_demands=FF_demands,\\\n",
        "                                                        Booking_Limit_SS=booking_limit_values[i])\n",
        "\n",
        "    # Finally, calculate the optimal mean revenue and the optimal booking limit value\n",
        "    optimal_revenue = np.max(mean_revenue_values)\n",
        "    optimal_booking_limit = booking_limit_values[np.argmax(mean_revenue_values)]\n",
        "\n",
        "    return optimal_booking_limit, optimal_revenue"
      ]
    },
    {
      "cell_type": "markdown",
      "metadata": {
        "id": "3hJEk4Otvk22"
      },
      "source": [
        "With this, we can now implement a smarter search procedure:\n",
        "  - first consider fewer values for the booking limit by discretizing with larger step sizes.\n",
        "  - identify where the maximum value occurs\n",
        "  - consider the two proximal values to the maximum among the initial test values and rediscretize in that range with a smaller step\n",
        "  - repeat as needed this until you achieve the desired precision.\n",
        "\n",
        "_For instance, we could start with values from 0 to 200 in increments of 20. Suppose the maximum occurs at a booking limit of 60. We would consider the range 40 to 80 (the closest values to the maximum from the ones we tested initially) and discretize in increments of 1. (If that is too wide of a range, we could use a large step size and repeat again.)_\n",
        "\n",
        "**The major caveat with this new method is that it is <font color=red>not guaranteed to find the global optimal solution</font> (i.e., the best solution among all possible ones). That is only the case in some models that have \"good structure\" and we will talk more about these during our class; but for now, let me just say that our model does have this structure, so we can apply this method! You will see how it cuts down the time substantially below!**\n",
        "\n",
        "With this caveat, let's use the function we just defined with a wide range and large steps first."
      ]
    },
    {
      "cell_type": "code",
      "execution_count": null,
      "metadata": {
        "id": "Fa118_cMvk23",
        "outputId": "51d63519-e868-4407-db07-3b297a04de6c"
      },
      "outputs": [
        {
          "name": "stdout",
          "output_type": "stream",
          "text": [
            "The optimal revenue is: 85,302.51\n",
            "The optimal booking limit is: 140.00\n"
          ]
        }
      ],
      "source": [
        "# get optimal booking limit with range 0 to 200 in steps of 20\n",
        "opt_book_lim, opt_rev = \\\n",
        "get_optimal_booking_limit_and_revenue(SS_demands=SS_dem_vals_MC, \\\n",
        "                                      FF_demands=FF_dem_vals_MC, \\\n",
        "                                      min_booking_limit=0, max_booking_limit=200, step=20)\n",
        "\n",
        "print(f\"The optimal revenue is: {opt_rev:,.2f}\")\n",
        "print(f\"The optimal booking limit is: {opt_book_lim:.2f}\")"
      ]
    },
    {
      "cell_type": "markdown",
      "metadata": {
        "id": "nvKPRKVqvk23"
      },
      "source": [
        "Optimum occurs between 140-20=120 and 140+20=160, so we can search again in this interval in steps of 1."
      ]
    },
    {
      "cell_type": "code",
      "execution_count": null,
      "metadata": {
        "id": "7GqGZ2xHvk23",
        "outputId": "12788474-57f1-43e3-a063-492a5b6b2e5b"
      },
      "outputs": [
        {
          "name": "stdout",
          "output_type": "stream",
          "text": [
            "The optimal revenue is: 85,305.43\n",
            "The optimal booking limit is: 141.00\n"
          ]
        }
      ],
      "source": [
        "# get optimal booking limit with range 120 to 160 in steps of 1\n",
        "opt_book_lim, opt_rev = \\\n",
        "get_optimal_booking_limit_and_revenue(SS_demands=SS_dem_vals_MC, \\\n",
        "                                      FF_demands=FF_dem_vals_MC, \\\n",
        "                                      min_booking_limit=120, max_booking_limit=160, step=1)\n",
        "\n",
        "print(f\"The optimal revenue is: {opt_rev:,.2f}\")\n",
        "print(f\"The optimal booking limit is: {opt_book_lim:.2f}\")"
      ]
    },
    {
      "cell_type": "markdown",
      "metadata": {
        "id": "h3ba6QrPvk23"
      },
      "source": [
        "# Q6"
      ]
    },
    {
      "cell_type": "markdown",
      "metadata": {
        "id": "JglCCVIUvk23"
      },
      "source": [
        "Here, we must model the number of SS customers who buy up using a Binomial Random variable."
      ]
    },
    {
      "cell_type": "code",
      "execution_count": null,
      "metadata": {
        "id": "5tJA8H8Yvk23"
      },
      "outputs": [],
      "source": [
        "# the probability that an SS customer who is turned away \"buys up\"\n",
        "probBuyUp = 0.3"
      ]
    },
    {
      "cell_type": "markdown",
      "metadata": {
        "id": "5bF-6Abxvk23"
      },
      "source": [
        "Here, we write a function similar to the last one in **Q5** but we embed all the necessary calculations (including generating the demand samples via Monte-Carlo) inside it. The reason is that in order to generate a sample for the number of SS customers who buy-up, we need to know how many SS customers are turned away! So the calculation must be done for each sample."
      ]
    },
    {
      "cell_type": "code",
      "execution_count": null,
      "metadata": {
        "id": "O-qJr9tdvk23",
        "outputId": "cf59d37e-25b2-4b75-9484-720b596a46b5"
      },
      "outputs": [
        {
          "name": "stdout",
          "output_type": "stream",
          "text": [
            "The mean revenue is: 86,665.98\n"
          ]
        }
      ],
      "source": [
        "# booking limit\n",
        "Booking_Limit_SS = 141\n",
        "\n",
        "# reset the seed for the random number generator to 12345\n",
        "rng = np.random.default_rng(seed=12345)\n",
        "\n",
        "# array to store the revenue calculation for each sample\n",
        "revenue_values = np.zeros(num_trials)\n",
        "\n",
        "# inner for loop that generates all the demand samples\n",
        "for i in range(num_trials):\n",
        "\n",
        "    Demand_SS = np.round(max(0,rng.normal(mean_SS, stdev_SS)))\n",
        "    Demand_FF = np.round(max(0,rng.normal(mean_FF, stdev_FF)))\n",
        "\n",
        "    # calculate the sales/bookings for SS\n",
        "    Sales_SS = min(Demand_SS, Booking_Limit_SS)\n",
        "\n",
        "    # determine if there are any customers who buy up\n",
        "    if Demand_SS > Booking_Limit_SS :\n",
        "        # some customers were turned away\n",
        "        Buy_Up_Demand = rng.binomial(Demand_SS - Sales_SS, probBuyUp)   # sample from a binomial random variable\n",
        "    else :\n",
        "        Buy_Up_Demand = 0\n",
        "\n",
        "    # calculate sales for FF, including the new demand stream from buy-ups\n",
        "    Sales_FF = min(Demand_FF + Buy_Up_Demand, Capacity - Sales_SS)\n",
        "\n",
        "    # record the value for the revenue\n",
        "    revenue_values[i] = Sales_SS*Price_SS + Sales_FF*Price_FF\n",
        "\n",
        "# calculate the **mean** revenue and print it\n",
        "print(f\"The mean revenue is: {np.mean(revenue_values):,.2f}\")"
      ]
    },
    {
      "cell_type": "markdown",
      "metadata": {
        "id": "7GADDgr_vk24"
      },
      "source": [
        "# Q7"
      ]
    },
    {
      "cell_type": "markdown",
      "metadata": {
        "id": "H2vryR9fvk24"
      },
      "source": [
        "The new parameters/data."
      ]
    },
    {
      "cell_type": "code",
      "execution_count": null,
      "metadata": {
        "id": "EKi9YDtYvk24"
      },
      "outputs": [],
      "source": [
        "# the probability that SS customer shows up\n",
        "prob_show_up = 0.90\n",
        "\n",
        "# the coupon given to super savers who are denied boarding\n",
        "coupon = 300\n",
        "\n",
        "## VIRTUAL CAPACITY: we fix this to 225 for now\n",
        "virtual_cap = 220"
      ]
    },
    {
      "cell_type": "markdown",
      "metadata": {
        "id": "WnmSwQ0Yvk24"
      },
      "source": [
        "We model overbooking by including a virtual capacity, which is a new **decision** that the airline makes corresponding to how many tickets to sell in total. As before, the booking limit still corresponds to the maximum number of SS tickets sold. But now, the total bookings can exceed the plan capacity and go up to the **virtual capacity**."
      ]
    },
    {
      "cell_type": "code",
      "execution_count": null,
      "metadata": {
        "id": "kFFrpfBivk24"
      },
      "outputs": [],
      "source": [
        "# we write a function that takes as input the booking limit\n",
        "def examine_Q7(Booking_Limit_SS=141, virtual_cap=220):\n",
        "\n",
        "    # reset the seed for the random number generator to 12345\n",
        "    rng = np.random.default_rng(seed=12345)\n",
        "\n",
        "    # array to store the revenue calculation for each sample\n",
        "    net_revenue_values = np.zeros(num_trials)\n",
        "\n",
        "    # inner for loop that generates all the demand samples\n",
        "    for t in range(num_trials):\n",
        "\n",
        "        Demand_SS = np.round(max(0,rng.normal(mean_SS, stdev_SS)))\n",
        "        Demand_FF = np.round(max(0,rng.normal(mean_FF, stdev_FF)))\n",
        "\n",
        "        # calculate the sales/bookings for SS\n",
        "        Sales_SS = min(Demand_SS, Booking_Limit_SS)\n",
        "\n",
        "        # calculate how many SS customers show up\n",
        "        if Sales_SS > 0:\n",
        "            SS_show_up = rng.binomial(Sales_SS, prob_show_up)\n",
        "\n",
        "        # calculate sales for FF: note that here, we use the VIRTUAL CAPACITY rather than the real capacity!\n",
        "        Sales_FF = min(Demand_FF, virtual_cap - Sales_SS)\n",
        "\n",
        "        ## determine whether any SS customers must be denied boarding\n",
        "        # IMPORTANT: here, we use the actual plane capacity\n",
        "        SS_denied = max( SS_show_up + Sales_FF - Capacity, 0)\n",
        "\n",
        "        # calculate the revenue for tickets but subtract the coupons\n",
        "        net_revenue_values[t] = Sales_SS*Price_SS + Sales_FF*Price_FF - SS_denied*coupon\n",
        "\n",
        "    # calculate the **mean** revenue and print it\n",
        "    #print(f\"The revenue net of coupon costs is: {np.mean(net_revenue_values):,.2f}\")\n",
        "    return np.mean(net_revenue_values)"
      ]
    },
    {
      "cell_type": "markdown",
      "metadata": {
        "id": "zH-7eyA9vk24"
      },
      "source": [
        "Now check what happens with Booking Limit of 141 (optimal in Q5) versus a bit larger (we try 145)"
      ]
    },
    {
      "cell_type": "code",
      "execution_count": null,
      "metadata": {
        "id": "4X65293Evk24",
        "outputId": "78583ef1-1437-40ca-ac2e-ee4b10cda86d"
      },
      "outputs": [
        {
          "name": "stdout",
          "output_type": "stream",
          "text": [
            "The optimal revenue net of coupon costs with booking limit 141 is: 87,157.23\n",
            "The optimal revenue net of coupon costs with booking limit 145 is: 87,492.51\n"
          ]
        }
      ],
      "source": [
        "# calculate the **mean** revenue and print it\n",
        "print(f\"The optimal revenue net of coupon costs with booking limit 141 is: {examine_Q7(Booking_Limit_SS=141):,.2f}\")\n",
        "print(f\"The optimal revenue net of coupon costs with booking limit 145 is: {examine_Q7(Booking_Limit_SS=145):,.2f}\")"
      ]
    },
    {
      "cell_type": "markdown",
      "metadata": {
        "id": "0YIj1p45vk24"
      },
      "source": [
        "## Optimize the virtual capacity"
      ]
    },
    {
      "cell_type": "markdown",
      "metadata": {
        "id": "ZXWN8Lpbvk25"
      },
      "source": [
        "The following is not required in the case, but we can even optimize over the virtual capacity."
      ]
    },
    {
      "cell_type": "code",
      "execution_count": null,
      "metadata": {
        "id": "Kp-LG2ULvk25",
        "outputId": "d4aafe21-003a-43e0-f948-96d9f8d84ad1"
      },
      "outputs": [
        {
          "name": "stdout",
          "output_type": "stream",
          "text": [
            "The optimal revenue is: 87,470.30\n",
            "The optimal virtual capacity is: 270.00\n"
          ]
        }
      ],
      "source": [
        "## VIRTUAL CAPACITY: this is a decision for the airline\n",
        "virtual_cap_values = np.arange(220,290,1)\n",
        "\n",
        "# mean revenue values (one for every virtual capacity)\n",
        "mean_net_revenues = np.zeros(len(virtual_cap_values))\n",
        "\n",
        "## For loop over different virtual capacity values\n",
        "for i in range(len(virtual_cap_values)):\n",
        "    # assign the virtual capacity\n",
        "    virtual_cap = virtual_cap_values[i]\n",
        "\n",
        "    # calculate the **mean** revenue and store it\n",
        "    mean_net_revenues[i] = examine_Q7(Booking_Limit_SS=141, virtual_cap=virtual_cap)\n",
        "\n",
        "## Calculate the optimal virtual capacity and resulting revenue\n",
        "optimal_revenue = np.max(mean_net_revenues)\n",
        "optimal_virtual_cap = virtual_cap_values[np.argmax(mean_net_revenues)]\n",
        "print(f\"The optimal revenue is: {optimal_revenue:,.2f}\")\n",
        "print(f\"The optimal virtual capacity is: {optimal_virtual_cap:.2f}\")"
      ]
    },
    {
      "cell_type": "markdown",
      "metadata": {
        "id": "TkRghHV9vk25"
      },
      "source": [
        "## Optimize the virtual capacity AND the booking limit"
      ]
    },
    {
      "cell_type": "markdown",
      "metadata": {
        "id": "llCpRoYbvk25"
      },
      "source": [
        "Now let's optimize over both booking limit AND virtual capacity."
      ]
    },
    {
      "cell_type": "code",
      "execution_count": null,
      "metadata": {
        "id": "79WMOr4vvk25",
        "outputId": "6515b617-f85f-48eb-a967-d7b378f77142"
      },
      "outputs": [
        {
          "name": "stdout",
          "output_type": "stream",
          "text": [
            "The optimal revenue is: 89,998.21\n",
            "The optimal virtual capacity is: 285.00\n",
            "The optimal booking limit is: 210.00\n"
          ]
        }
      ],
      "source": [
        "## VIRTUAL CAPACITY: this is a decision for the airline\n",
        "virtual_cap_values = np.arange(270,290,5)\n",
        "\n",
        "## BOOKING LIMIT values\n",
        "booking_lim_values = np.arange(140,220,5)\n",
        "\n",
        "# mean revenue values (one for every virtual capacity)\n",
        "mean_net_revenues = np.zeros((len(virtual_cap_values),len(booking_lim_values)))\n",
        "\n",
        "## For loop over different virtual capacity values\n",
        "for i in range(len(virtual_cap_values)):\n",
        "    # assign the virtual capacity\n",
        "    virtual_cap = virtual_cap_values[i]\n",
        "\n",
        "    for j in range(len(booking_lim_values)):\n",
        "        book_lim_val = booking_lim_values[j]\n",
        "\n",
        "        # calculate the **mean** revenue and store it\n",
        "        mean_net_revenues[i,j] = examine_Q7(Booking_Limit_SS=book_lim_val, virtual_cap=virtual_cap)\n",
        "\n",
        "## Calculate the optimal virtual capacity and resulting revenue\n",
        "optimal_revenue = np.max(mean_net_revenues)\n",
        "\n",
        "max_index_flat = np.argmax(mean_net_revenues)\n",
        "max_index = np.unravel_index(max_index_flat, mean_net_revenues.shape)\n",
        "\n",
        "optimal_virtual_cap = virtual_cap_values[max_index[0]]\n",
        "optimal_booking_lim = booking_lim_values[max_index[1]]\n",
        "print(f\"The optimal revenue is: {optimal_revenue:,.2f}\")\n",
        "print(f\"The optimal virtual capacity is: {optimal_virtual_cap:.2f}\")\n",
        "print(f\"The optimal booking limit is: {optimal_booking_lim:.2f}\")"
      ]
    },
    {
      "cell_type": "code",
      "execution_count": null,
      "metadata": {
        "id": "WLJOJbsvvk25"
      },
      "outputs": [],
      "source": []
    }
  ],
  "metadata": {
    "kernelspec": {
      "display_name": "Python 3 (ipykernel)",
      "language": "python",
      "name": "python3"
    },
    "language_info": {
      "codemirror_mode": {
        "name": "ipython",
        "version": 3
      },
      "file_extension": ".py",
      "mimetype": "text/x-python",
      "name": "python",
      "nbconvert_exporter": "python",
      "pygments_lexer": "ipython3",
      "version": "3.11.8"
    },
    "colab": {
      "provenance": [],
      "include_colab_link": true
    }
  },
  "nbformat": 4,
  "nbformat_minor": 0
}