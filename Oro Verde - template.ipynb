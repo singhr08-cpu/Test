{
 "cells": [
  {
   "cell_type": "markdown",
   "metadata": {
    "id": "-fF41kJzaTX_"
   },
   "source": [
    "# Oro Verde Carbon Offset Project\n",
    "\n",
    "This notebook is a good starting point for the Oro Verde mini-case."
   ]
  },
  {
   "cell_type": "code",
   "execution_count": 1,
   "metadata": {},
   "outputs": [],
   "source": [
    "# let's import the pandas module to read files\n",
    "import pandas as pd\n",
    "\n",
    "# Data available from the case, stored as a dictionary\n",
    "# 500,000 sq feet of land, 150,000 gallons of water annually, $0,000 budget for initial payments\n",
    "available = { \"Land\" : 500000, \"Water\" : 150000, \"Cost\" : 3000 }"
   ]
  },
  {
   "attachments": {},
   "cell_type": "markdown",
   "metadata": {
    "id": "HmshoF0PaTYZ"
   },
   "source": [
    "# Q1.\n"
   ]
  },
  {
   "attachments": {},
   "cell_type": "markdown",
   "metadata": {
    "id": "HmshoF0PaTYZ"
   },
   "source": [
    "# Q2.\n"
   ]
  },
  {
   "attachments": {},
   "cell_type": "markdown",
   "metadata": {
    "id": "HmshoF0PaTYZ"
   },
   "source": [
    "# Q3.\n"
   ]
  },
  {
   "attachments": {},
   "cell_type": "markdown",
   "metadata": {
    "id": "HmshoF0PaTYZ"
   },
   "source": [
    "# Q4.\n"
   ]
  },
  {
   "attachments": {},
   "cell_type": "markdown",
   "metadata": {
    "id": "HmshoF0PaTYZ"
   },
   "source": [
    "# Q5.\n"
   ]
  },
  {
   "attachments": {},
   "cell_type": "markdown",
   "metadata": {
    "id": "6UFxI7n4aTYe"
   },
   "source": [
    "# Q6. \n"
   ]
  },
  {
   "cell_type": "code",
   "execution_count": null,
   "metadata": {},
   "outputs": [],
   "source": []
  }
 ],
 "metadata": {
  "colab": {
   "collapsed_sections": [],
   "include_colab_link": true,
   "name": "S09-10_AIRM_Starbux.ipynb",
   "provenance": [],
   "toc_visible": true
  },
  "kernelspec": {
   "display_name": "Python 3 (ipykernel)",
   "language": "python",
   "name": "python3"
  },
  "language_info": {
   "codemirror_mode": {
    "name": "ipython",
    "version": 3
   },
   "file_extension": ".py",
   "mimetype": "text/x-python",
   "name": "python",
   "nbconvert_exporter": "python",
   "pygments_lexer": "ipython3",
   "version": "3.11.8"
  }
 },
 "nbformat": 4,
 "nbformat_minor": 4
}
